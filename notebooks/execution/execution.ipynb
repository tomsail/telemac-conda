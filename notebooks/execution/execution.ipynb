{
 "cells": [
  {
   "cell_type": "markdown",
   "metadata": {},
   "source": [
    "# Execution of a steering file"
   ]
  },
  {
   "cell_type": "markdown",
   "metadata": {},
   "source": [
    "To run a steering file the main sctip is runcode.py.  \n",
    "But wrapper over it for each module exists:\n",
    "- telemac2d.py = runcode.py telemac2d\n",
    "- tomawac.py = runcode.py tomawac\n",
    "- ..."
   ]
  },
  {
   "cell_type": "markdown",
   "metadata": {},
   "source": [
    "## runcode.py"
   ]
  },
  {
   "cell_type": "code",
   "execution_count": 1,
   "metadata": {
    "execution": {
     "iopub.execute_input": "2022-12-01T13:28:37.333804Z",
     "iopub.status.busy": "2022-12-01T13:28:37.332938Z",
     "iopub.status.idle": "2022-12-01T13:28:37.866565Z",
     "shell.execute_reply": "2022-12-01T13:28:37.865074Z"
    },
    "scrolled": true
   },
   "outputs": [
    {
     "name": "stdout",
     "output_type": "stream",
     "text": [
      "\r\n",
      "\r\n",
      "Loading Options and Configurations\r\n",
      "~~~~~~~~~~~~~~~~~~~~~~~~~~~~~~~~~~~~~~~~~~~~~~~~~~~~~~~~~~~~~~~~~~~~~~~~\r\n",
      "\r\n",
      "usage:  (--help for help)\r\n",
      "---------\r\n",
      "        =>  runcode.py module [options] casfile(s)\r\n",
      "---------\r\n",
      "\r\n",
      "runcode is the execution launcher for all TELEMAC modules.\r\n",
      "\r\n",
      "where module can be:\r\n",
      "\r\n",
      "    mascaret     the 1D hydrodyanmic / tracer / water quality solver\r\n",
      "    telemac2d    the 2D hydrodyanmic / tracer / water quality solver\r\n",
      "    telemac3d    the 3D hydrodynamic / tracer / water quality solver\r\n",
      "    artemis      the phase resolving wave solver\r\n",
      "    tomawac      the 3rd generation wave transformation solver\r\n",
      "    stbtel       a pre-processor for the modules\r\n",
      "    postel3d     a post-processor for telemac3d\r\n",
      "            \r\n",
      "\r\n",
      "positional arguments:\r\n",
      "  {telemac2d,telemac3d,artemis,tomawac,stbtel,postel3d,mascaret}\r\n",
      "  cas file(s)\r\n",
      "\r\n",
      "optional arguments:\r\n",
      "  -h, --help            show this help message and exit\r\n",
      "  -c config name, --configname config name\r\n",
      "                        specify configuration name, default is randomly found\r\n",
      "                        in the configuration file\r\n",
      "  -f config file, --configfile config file\r\n",
      "                        specify configuration file, default is systel.cfg\r\n",
      "  -r TELEMAC root, --rootdir TELEMAC root\r\n",
      "                        specify the root, default is taken from config file\r\n",
      "  -s, --sortiefile      specify whether there is a sortie file, default is no\r\n",
      "  -t, --tmpdirectory    specify whether the temporary directory is removed,\r\n",
      "                        default is yes\r\n",
      "  -w W_DIR, --workdirectory W_DIR\r\n",
      "                        specify whether to re-run within a defined\r\n",
      "                        subdirectory\r\n",
      "  --nozip               specify whether to zip the extra sortie file if\r\n",
      "                        simulation in parallel\r\n",
      "  --jobname JOBNAME     specify a jobname for HPC queue tracking\r\n",
      "  --queue HPC_QUEUE     set the partition to use for HPC queue tracking\r\n",
      "  --walltime WALLTIME   set the limit on the total run time of the job\r\n",
      "                        allocation\r\n",
      "  --email EMAIL         specify an e-mail adress to warn when HPC job is\r\n",
      "                        finished\r\n",
      "  --project PROJECT     specify the name of the project to be used for the job\r\n",
      "  --hosts HOSTS         specify the list of hosts available for parallel mode,\r\n",
      "                        ';' delimited\r\n",
      "  --ncsize NCSIZE       the number of processors forced in parallel mode\r\n",
      "  --nctile NCTILE       the number of core per node. ncsize/nctile is the\r\n",
      "                        number of compute nodes\r\n",
      "  --ncnode NCNODE       the number of of nodes. ncsize = ncnode*nctile is the\r\n",
      "                        total number of compute nodes\r\n",
      "  --sequential          if present, imposes that multiple CAS files are\r\n",
      "                        launched one after the other\r\n",
      "  --mpi                 make sure the mpi command is executed, ignoring any\r\n",
      "                        hpc command\r\n",
      "  --split               will only do the trace (and the split in parallel) if\r\n",
      "                        option there\r\n",
      "  --run                 will only run the simulation if option there\r\n",
      "  -x, --compileonly     specify whether to only create an executable but not\r\n",
      "                        run, default is no\r\n",
      "  --merge               will only do the output copying (and recollection in\r\n",
      "                        parallel) if option there\r\n",
      "  --use-link            Will use link instead of copy in the temporary folder\r\n",
      "                        (Unix system only)\r\n",
      "  --gretel-method GRETEL_METHOD\r\n",
      "                        Set the gretel method to be used for merging data,\r\n",
      "                        default is 1\r\n",
      "  --masc-cas            option to indicate the Mascaret steering file is in\r\n",
      "                        Damocles format (with keywords and needing a dico file\r\n",
      "                        to be parsed). Without this option, extension of the\r\n",
      "                        parameter file is used to detect the format (Damocles\r\n",
      "                        if .cas, xml xcas otherwise)\r\n",
      "\r\n",
      "examples:\r\n",
      "---------\r\n",
      "1:     => runcode.py telemac2d -s t2d.cas\r\n",
      "---------\r\n"
     ]
    }
   ],
   "source": [
    "!runcode.py -h"
   ]
  },
  {
   "cell_type": "markdown",
   "metadata": {},
   "source": [
    "For example to run the steering file t2d_gouttedo.cas here are a couple of examples\n",
    "\n",
    "`runcode.py telemac2d t2d_gouttedo.cas`  \n",
    "`telemac2d.py t2d_gouttedo.cas`"
   ]
  },
  {
   "cell_type": "code",
   "execution_count": 2,
   "metadata": {
    "execution": {
     "iopub.execute_input": "2022-12-01T13:28:37.872731Z",
     "iopub.status.busy": "2022-12-01T13:28:37.872273Z",
     "iopub.status.idle": "2022-12-01T13:28:42.928789Z",
     "shell.execute_reply": "2022-12-01T13:28:42.927263Z"
    },
    "scrolled": true
   },
   "outputs": [
    {
     "name": "stdout",
     "output_type": "stream",
     "text": [
      "\r\n",
      "\r\n",
      "Loading Options and Configurations\r\n",
      "~~~~~~~~~~~~~~~~~~~~~~~~~~~~~~~~~~~~~~~~~~~~~~~~~~~~~~~~~~~~~~~~~~~~~~~~\r\n",
      "\r\n",
      "          ___          _  _   \r\n",
      "         / _ \\        | || |  \r\n",
      " __   __| (_) | _ __  | || |_ \r\n",
      " \\ \\ / / > _ < | '_ \\ |__   _|\r\n",
      "  \\ V / | (_) || |_) |   | |  \r\n",
      "   \\_/   \\___/ | .__/    |_|  \r\n",
      "               | |            \r\n",
      "               |_|            \r\n",
      "\r\n",
      "\r\n",
      "Running your CAS file(s) for:\r\n",
      "~~~~~~~~~~~~~~~~~~~~~~~~~~~~~~~~~~~~~~~~~~~~~~~~~~~~~~~~~~~~~~~~~~~~~~~~\r\n",
      "\r\n",
      "\r\n",
      "\r\n",
      "~~~~~~~~~~~~~~~~~~~~~~~~~~~~~~~~~~~~~~~~~~~~~~~~~~~~~~~~~~~~~~~~~~~~~~~~\r\n",
      "\r\n",
      "S10.gfortran.dyn: \r\n",
      "    \r\n",
      "\r\n",
      "    +> Scibian 10 dynamic build using GFortran 8.3.0 and Open MPI.\r\n",
      "\r\n",
      "    +> root:    /home/d60881/telemac-mascaret\r\n",
      "    +> module: ad / api / artemis / bief\r\n",
      "               damocles  / gaia  / gretel  / hermes\r\n",
      "               identify_liq_bnd  / khione  / mascaret  / nestor\r\n",
      "               parallel  / partel  / postel3d  / sisyphe\r\n",
      "               special  / stbtel  / telemac2d  / telemac3d\r\n",
      "               tomawac / waqtel\r\n",
      "\r\n",
      "\r\n",
      "~~~~~~~~~~~~~~~~~~~~~~~~~~~~~~~~~~~~~~~~~~~~~~~~~~~~~~~~~~~~~~~~~~~~~~~~\r\n",
      "\r\n",
      "\r\n",
      "... processing the steering file\r\n"
     ]
    },
    {
     "name": "stdout",
     "output_type": "stream",
     "text": [
      "  ~> Checking keyword/rubrique coherence\r\n",
      "\r\n",
      "... checking parallelisation\r\n",
      "\r\n",
      "... handling temporary directories\r\n",
      "         copying: t2d_gouttedo.cas -> <root>/examples/telemac2d/gouttedo/t2d_gouttedo.cas_2022-12-01-14h28min41s/T2DCAS\r\n",
      "         copying: telemac2d.dico -> <root>/examples/telemac2d/gouttedo/t2d_gouttedo.cas_2022-12-01-14h28min41s/T2DDICO\r\n",
      "         copying: geo_gouttedo.cli -> <root>/examples/telemac2d/gouttedo/t2d_gouttedo.cas_2022-12-01-14h28min41s/T2DCLI\r\n",
      "         copying: geo_gouttedo.slf -> <root>/examples/telemac2d/gouttedo/t2d_gouttedo.cas_2022-12-01-14h28min41s/T2DGEO\r\n",
      "[                                                                ]   0%  | ---s\r",
      "[\\\\\\\\\\\\\\\\\\\\\\\\\\\\\\\\\\\\\\\\\\\\                                            ]  33%  | 1s\r",
      "                                                                               \r",
      "[                                                                ]   0%  | ---s\r",
      "                                                                               \r",
      "[                                                                ]   0%  | ---s\r",
      "[\\\\\\\\\\\\\\\\\\\\\\\\\\\\\\\\                                                  ]  25%  | 1s\r",
      "[\\\\\\\\\\\\\\\\\\\\\\\\\\\\\\\\\\\\\\\\\\\\\\\\\\\\\\\\\\\\\\\\\\                                 ]  50%  | 1s\r",
      "                                                                               \r",
      "\r\n",
      "... checking the executable\r\n",
      "  > compiling objs\r\n",
      "         compiling: user_condin_h.f"
     ]
    },
    {
     "name": "stdout",
     "output_type": "stream",
     "text": [
      " ... completed\r\n",
      "         compiling: user_condin_trac.f"
     ]
    },
    {
     "name": "stdout",
     "output_type": "stream",
     "text": [
      " ... completed\r\n"
     ]
    },
    {
     "name": "stdout",
     "output_type": "stream",
     "text": [
      "         created: out_user_fortran\r\n",
      "\r\n",
      "\r\n",
      "Running your simulation(s) :\r\n",
      "~~~~~~~~~~~~~~~~~~~~~~~~~~~~~~~~~~~~~~~~~~~~~~~~~~~~~~~~~~~~~~~~~~~~~~~~\r\n",
      "\r\n",
      "\r\n",
      "\r\n",
      "In /home/d60881/telemac-mascaret/examples/telemac2d/gouttedo/t2d_gouttedo.cas_2022-12-01-14h28min41s:\r\n",
      "mpirun -np 1 /home/d60881/telemac-mascaret/examples/telemac2d/gouttedo/t2d_gouttedo.cas_2022-12-01-14h28min41s/out_user_fortran\r\n",
      "\r\n",
      "\r\n"
     ]
    },
    {
     "name": "stdout",
     "output_type": "stream",
     "text": [
      " MASTER PROCESSOR NUMBER            0  OF THE GROUP OF            1\r\n",
      " EXECUTABLE FILE: /home/d60881/telemac-mascaret/examples/telemac2d/gouttedo/t2d_gouttedo.cas_2022-12-01-14h28min41s/A.EXE\r\n",
      " LISTING OF TELEMAC2D------------------------------------------------------------------------------\r\n",
      "\r\n",
      "                TTTTT  EEEEE  L      EEEEE  M   M  AAAAA  CCCCC\r\n",
      "                  T    E      L      E      MM MM  A   A  C\r\n",
      "                  T    EEE    L      EEE    M M M  AAAAA  C\r\n",
      "                  T    E      L      E      M   M  A   A  C\r\n",
      "                  T    EEEEE  LLLLL  EEEEE  M   M  A   A  CCCCC\r\n",
      "\r\n",
      "                        2D    VERSION V8P4   FORTRAN 2003\r\n",
      "\r\n",
      "                        ~^~^~^~^~^~^~^~^~^~^~^^~^~^~^~^~^~\r\n",
      "                          ~                            ~\r\n",
      "                               \\   '    o      '\r\n",
      "                               /\\ o       \\  o\r\n",
      "                             >=)'>    '   /\\ '\r\n",
      "                               \\/   \\   >=)'>        ~\r\n",
      "                               /    /\\    \\/\r\n",
      "                        ~         >=)'>   /     .\r\n",
      "                                    \\/                   )\r\n",
      "                                    /                   (\r\n",
      "                                          ~          )   )\r\n",
      "                          }     ~              (    (   (\r\n",
      "                         {                      )    )   )\r\n",
      "                          }  }         .       (    (   (\r\n",
      "                         {  {               /^^^^^^^^^^^^\r\n",
      "                        ^^^^^^^^^\\         /\r\n",
      "                                  ^^^^^^^^^\r\n",
      "\r\n",
      " DIFFERENT NUMBER OF PARALLEL PROCESSORS:\r\n",
      " DECLARED BEFORE (CASE OF COUPLING ?):           1\r\n",
      " TELEMAC-2D :           0\r\n",
      " VALUE            1  IS KEPT\r\n",
      "\r\n",
      "                   ********************************************\r\n",
      "                   *               LECDON:                    *\r\n",
      "                   *        AFTER CALLING DAMOCLES            *\r\n",
      "                   *        CHECKING OF DATA  READ            *\r\n",
      "                   *         IN THE STEERING FILE             *\r\n",
      "                   ********************************************\r\n",
      "\r\n",
      " EXITING LECDON. NAME OF THE STUDY:\r\n",
      " TELEMAC 2D: DROPLET IN A BASIN\r\n",
      "\r\n",
      " OPENING FILES FOR TELEMAC2D\r\n",
      " OPENING: T2DGEO-geo_gouttedo.slf\r\n",
      " OPENING: T2DCLI-geo_gouttedo.cli\r\n",
      " OPENING: T2DRES-r2d_gouttedo_v1p0.slf\r\n",
      "\r\n",
      "                          *****************************\r\n",
      "                          *    MEMORY ORGANIZATION    *\r\n",
      "                          *****************************\r\n",
      "\r\n",
      " READ_MESH_INFO: TITLE= TELEMAC 2D : GOUTTE D'EAU DANS UN BASSIN$\r\n",
      "            NUMBER OF ELEMENTS:     8978\r\n",
      "            NUMBER OF POINTS:     4624\r\n",
      "\r\n",
      "            TYPE OF ELEMENT: TRIANGLE\r\n",
      "            TYPE OF BND ELEMENT: POINT\r\n",
      "\r\n",
      "            SINGLE PRECISION FORMAT (R4)\r\n",
      "\r\n",
      " MXPTEL (BIEF) : MAXIMUM NUMBER OF ELEMENTS AROUND A POINT:   7\r\n",
      "                 MAXIMUM NUMBER OF POINTS AROUND A POINT:   7\r\n",
      " USER_CORRXY (BIEF):NO MODIFICATION OF COORDINATES\r\n",
      "\r\n",
      " MESH: MESH   ALLOCATED\r\n",
      "\r\n",
      "                     *************************************\r\n",
      "                     *    END OF MEMORY ORGANIZATION:    *\r\n",
      "                     *************************************\r\n",
      "\r\n",
      " INITIALIZING TELEMAC2D FOR\r\n",
      " INBIEF (BIEF): NOT A VECTOR MACHINE (ACCORDING TO YOUR DATA)\r\n",
      "\r\n",
      " FONSTR (BIEF): NO BATHYMETRY IN THE GEOMETRY FILE\r\n",
      "                AND NO BATHYMETRY FILE. THE BOTTOM\r\n",
      "                LEVEL IS FIXED TO ZERO BUT STILL\r\n",
      "                CAN BE MODIFIED IN CORFON.\r\n",
      "\r\n",
      " STRCHE (BIEF): NO MODIFICATION OF FRICTION\r\n",
      "\r\n",
      " THERE IS     1 SOLID BOUNDARIES:\r\n",
      "\r\n",
      " BOUNDARY    1 :\r\n",
      "  BEGINS AT BOUNDARY POINT:        1 , WITH GLOBAL NUMBER:         1\r\n",
      "  AND COORDINATES:     0.000000           0.000000\r\n",
      "  ENDS AT BOUNDARY POINT:        1 , WITH GLOBAL NUMBER:         1\r\n",
      "  AND COORDINATES:     0.000000           0.000000\r\n",
      "\r\n",
      " CORFON (TELEMAC2D): NO MODIFICATION OF BOTTOM\r\n",
      "\r\n",
      "================================================================================\r\n",
      " ITERATION        0    TIME:   0.0000 S\r\n",
      " TELEMAC2D INITIALIZED\r\n"
     ]
    },
    {
     "name": "stdout",
     "output_type": "stream",
     "text": [
      "\r\n",
      "================================================================================\r\n",
      " ITERATION       10    TIME:   0.4000 S\r\n",
      "--------------------------------------------------------------------------------\r\n",
      "                    DIFFUSION-PROPAGATION STEP\r\n",
      " GMRES (BIEF) :        2 ITERATIONS, RELATIVE PRECISION:   0.7376143E-04\r\n",
      "--------------------------------------------------------------------------------\r\n",
      "                       BALANCE OF WATER VOLUME\r\n",
      "     VOLUME IN THE DOMAIN :    999.7839     M3\r\n",
      "     RELATIVE ERROR IN VOLUME AT T =       0.4000     S :   -0.3411342E-14\r\n"
     ]
    },
    {
     "name": "stdout",
     "output_type": "stream",
     "text": [
      "\r\n",
      "================================================================================\r\n",
      " ITERATION       20    TIME:   0.8000 S\r\n",
      "--------------------------------------------------------------------------------\r\n",
      "                    DIFFUSION-PROPAGATION STEP\r\n",
      " GMRES (BIEF) :        3 ITERATIONS, RELATIVE PRECISION:   0.3467233E-04\r\n",
      "--------------------------------------------------------------------------------\r\n",
      "                       BALANCE OF WATER VOLUME\r\n",
      "     VOLUME IN THE DOMAIN :    999.7839     M3\r\n",
      "     RELATIVE ERROR IN VOLUME AT T =       0.8000     S :   -0.3411342E-14\r\n"
     ]
    },
    {
     "name": "stdout",
     "output_type": "stream",
     "text": [
      "\r\n",
      "================================================================================\r\n",
      " ITERATION       30    TIME:   1.2000 S\r\n",
      "--------------------------------------------------------------------------------\r\n",
      "                    DIFFUSION-PROPAGATION STEP\r\n",
      " GMRES (BIEF) :        3 ITERATIONS, RELATIVE PRECISION:   0.4931321E-04\r\n",
      "--------------------------------------------------------------------------------\r\n",
      "                       BALANCE OF WATER VOLUME\r\n",
      "     VOLUME IN THE DOMAIN :    999.7839     M3\r\n",
      "     RELATIVE ERROR IN VOLUME AT T =        1.200     S :    0.1137114E-14\r\n"
     ]
    },
    {
     "name": "stdout",
     "output_type": "stream",
     "text": [
      "\r\n",
      "================================================================================\r\n",
      " ITERATION       40    TIME:   1.6000 S\r\n",
      "--------------------------------------------------------------------------------\r\n",
      "                    DIFFUSION-PROPAGATION STEP\r\n",
      " GMRES (BIEF) :        4 ITERATIONS, RELATIVE PRECISION:   0.5109728E-04\r\n",
      "--------------------------------------------------------------------------------\r\n",
      "                       BALANCE OF WATER VOLUME\r\n",
      "     VOLUME IN THE DOMAIN :    999.7839     M3\r\n",
      "     RELATIVE ERROR IN VOLUME AT T =        1.600     S :   -0.6595262E-14\r\n"
     ]
    },
    {
     "name": "stdout",
     "output_type": "stream",
     "text": [
      "\r\n",
      "================================================================================\r\n",
      " ITERATION       50    TIME:   2.0000 S\r\n",
      "--------------------------------------------------------------------------------\r\n",
      "                    DIFFUSION-PROPAGATION STEP\r\n",
      " GMRES (BIEF) :        4 ITERATIONS, RELATIVE PRECISION:   0.4805594E-04\r\n",
      "--------------------------------------------------------------------------------\r\n",
      "                       BALANCE OF WATER VOLUME\r\n",
      "     VOLUME IN THE DOMAIN :    999.7839     M3\r\n",
      "     RELATIVE ERROR IN VOLUME AT T =        2.000     S :   -0.1705671E-14\r\n"
     ]
    },
    {
     "name": "stdout",
     "output_type": "stream",
     "text": [
      "\r\n",
      "================================================================================\r\n",
      " ITERATION       60    TIME:   2.4000 S\r\n",
      "--------------------------------------------------------------------------------\r\n",
      "                    DIFFUSION-PROPAGATION STEP\r\n",
      " GMRES (BIEF) :        4 ITERATIONS, RELATIVE PRECISION:   0.4478320E-04\r\n",
      "--------------------------------------------------------------------------------\r\n",
      "                       BALANCE OF WATER VOLUME\r\n",
      "     VOLUME IN THE DOMAIN :    999.7839     M3\r\n",
      "     RELATIVE ERROR IN VOLUME AT T =        2.400     S :   -0.1591960E-14\r\n"
     ]
    },
    {
     "name": "stdout",
     "output_type": "stream",
     "text": [
      "\r\n",
      "================================================================================\r\n",
      " ITERATION       70    TIME:   2.8000 S\r\n",
      "--------------------------------------------------------------------------------\r\n",
      "                    DIFFUSION-PROPAGATION STEP\r\n",
      " GMRES (BIEF) :        4 ITERATIONS, RELATIVE PRECISION:   0.2772181E-04\r\n",
      "--------------------------------------------------------------------------------\r\n",
      "                       BALANCE OF WATER VOLUME\r\n",
      "     VOLUME IN THE DOMAIN :    999.7839     M3\r\n",
      "     RELATIVE ERROR IN VOLUME AT T =        2.800     S :   -0.2387940E-14\r\n"
     ]
    },
    {
     "name": "stdout",
     "output_type": "stream",
     "text": [
      "\r\n",
      "================================================================================\r\n",
      " ITERATION       80    TIME:   3.2000 S\r\n",
      "--------------------------------------------------------------------------------\r\n",
      "                    DIFFUSION-PROPAGATION STEP\r\n",
      " GMRES (BIEF) :        3 ITERATIONS, RELATIVE PRECISION:   0.8156297E-04\r\n",
      "--------------------------------------------------------------------------------\r\n",
      "                       BALANCE OF WATER VOLUME\r\n",
      "     VOLUME IN THE DOMAIN :    999.7839     M3\r\n",
      "     RELATIVE ERROR IN VOLUME AT T =        3.200     S :    0.1819383E-14\r\n"
     ]
    },
    {
     "name": "stdout",
     "output_type": "stream",
     "text": [
      "\r\n",
      "================================================================================\r\n",
      " ITERATION       90    TIME:   3.6000 S\r\n",
      "--------------------------------------------------------------------------------\r\n",
      "                    DIFFUSION-PROPAGATION STEP\r\n",
      " GMRES (BIEF) :        4 ITERATIONS, RELATIVE PRECISION:   0.2693434E-04\r\n",
      "--------------------------------------------------------------------------------\r\n",
      "                       BALANCE OF WATER VOLUME\r\n",
      "     VOLUME IN THE DOMAIN :    999.7839     M3\r\n",
      "     RELATIVE ERROR IN VOLUME AT T =        3.600     S :   -0.2274228E-14\r\n"
     ]
    },
    {
     "name": "stdout",
     "output_type": "stream",
     "text": [
      "\r\n",
      "================================================================================\r\n",
      " ITERATION      100    TIME:   4.0000 S\r\n",
      "--------------------------------------------------------------------------------\r\n",
      "                    DIFFUSION-PROPAGATION STEP\r\n",
      " GMRES (BIEF) :        4 ITERATIONS, RELATIVE PRECISION:   0.3799682E-04\r\n",
      "--------------------------------------------------------------------------------\r\n",
      "                       BALANCE OF WATER VOLUME\r\n",
      "     VOLUME IN THE DOMAIN :    999.7839     M3\r\n",
      "     RELATIVE ERROR IN VOLUME AT T =        4.000     S :    0.2729074E-14\r\n",
      "--------------------------------------------------------------------------------\r\n",
      "                   FINAL BALANCE OF WATER VOLUME\r\n",
      "\r\n",
      "     RELATIVE ERROR CUMULATED ON VOLUME:    0.1819383E-14\r\n",
      "\r\n",
      "     INITIAL VOLUME              :     999.7839     M3\r\n",
      "     FINAL VOLUME                :     999.7839     M3\r\n",
      "     TOTAL VOLUME LOST             :    0.1818989E-11 M3\r\n",
      "\r\n",
      " END OF TIME LOOP\r\n",
      "\r\n",
      " EXITING MPI\r\n",
      "\r\n"
     ]
    },
    {
     "name": "stdout",
     "output_type": "stream",
     "text": [
      "STOP 0\r\n",
      "                     *************************************\r\n",
      "                     *    END OF MEMORY ORGANIZATION:    *\r\n",
      "                     *************************************\r\n",
      "\r\n",
      " CORRECT END OF RUN\r\n",
      "\r\n",
      " ELAPSE TIME :\r\n",
      "                              0  SECONDS\r\n",
      "... merging separated result files\r\n",
      "\r\n",
      "... handling result files\r\n",
      "\r\n",
      "        moving: r2d_gouttedo_v1p0.slf\r\n",
      "... deleting working dir\r\n",
      "\r\n",
      "\r\n",
      "\r\n",
      "My work is done\r\n",
      "\r\n",
      "\r\n"
     ]
    }
   ],
   "source": [
    "HOMETEL = %env HOMETEL\n",
    "%cd -q {HOMETEL}/examples/telemac2d/gouttedo\n",
    "!runcode.py telemac2d t2d_gouttedo.cas"
   ]
  },
  {
   "cell_type": "markdown",
   "metadata": {},
   "source": [
    "## Parallel run\n",
    "\n",
    "If your configuration is allowing parallel run you have two ways to run in paralell:\n",
    "- Adding PARALLEL PROCESSORS = x in your steering file\n",
    "- Adding the option --ncsize=x to runcode.py\n",
    "\n",
    "Here is an examples for the second option\n",
    "\n",
    "`telemac2d.py t2d_gouttedo.cas --ncsize=4`"
   ]
  },
  {
   "cell_type": "markdown",
   "metadata": {},
   "source": [
    "## Segmented run\n",
    "\n",
    "Instead of doing all the step in one go we can segment the full run of the steering file. The step are those:\n",
    "1. Creation of the temporary folder  + splitting of input meshes\n",
    "2. Generation of the executable and compilation of user Fortran if necessaye\n",
    "3. Execution of the main function\n",
    "4. Merging of partitionned files and cleanup of study (copying back result files and removing temporay folder)\n",
    "\n",
    "To make those step separatly first the option -w will mandatory to specify the name of the temporary folder. Then each step is associated with an option:\n",
    "1. --split\n",
    "2. -x/--compile-only\n",
    "3. --run\n",
    "4. --merge\n",
    "\n",
    "Below is an example for running gouttedo segmented:\n",
    "\n",
    "`telemac2d.py t2d_gouttedo.cas -w tmp_dir --split`  \n",
    "`telemac2d.py t2d_gouttedo.cas -w tmp_dir -x`  \n",
    "`telemac2d.py t2d_gouttedo.cas -w tmp_dir --run`  \n",
    "`telemac2d.py t2d_gouttedo.cas -w tmp_dir --merge`"
   ]
  },
  {
   "cell_type": "markdown",
   "metadata": {},
   "source": [
    "## Cluster run\n",
    "\n",
    "If your configuration is set in cluster mode.  \n",
    "Launching a run will need more information to give to the scheduler.  \n",
    "\n",
    "We have two configuration on a cluster:\n",
    "- **full on node** A runcode.py is launch on the node so it will do a full execution (partitionning, execution, merging) on the node\n",
    "- **Minimal execution on node** Only the execution step will be done on the node. The rest will be done on logon node."
   ]
  },
  {
   "cell_type": "markdown",
   "metadata": {},
   "source": [
    "### Full on node"
   ]
  },
  {
   "cell_type": "markdown",
   "metadata": {},
   "source": [
    "`runcode.py module fichier.cas --nctile=nctile --ncnode=ncnode --queue=queue --walltime=walltime --jobname=jobname`\n",
    "\n",
    "Where:\n",
    "- *module* is the module you want to launch.\n",
    "- Core repartion (ncsize = nctile x ncnode):\n",
    "  - *nctile* is the number of cores per node.\n",
    "  - *ncnode* is the number of nodes.\n",
    "  - *ncsize* is the number of cores.\n",
    "- *queue* is the queue on whoch the job is to be submitted\n",
    "- *walltime* is the time after which the job will be killed (for the scheduler to work best it should as close as possible to the real computation time) in format (HH:MM:SS ou J-HH:MM:SS) where:\n",
    "  - *J* nombre de jours.\n",
    "  - *HH* nombre d'heures.\n",
    "  - *MM* nombre de minutes.\n",
    "  - *SS* nombre de secondes.\n",
    "- *jobname* is the name of the job.\n",
    "- *email* is the email to which a mail will be sent at the end of the execution.\n",
    "\n",
    "Below is an example to run a telemac2d example on 56 cores for 2 hours on the queue cn: \n",
    "\n",
    "`telemac2d.py t2d_malpasset.cas --nctile=28 --ncnode=2 --queue=cn --walltime=02:00:00 --jobname=Test`"
   ]
  },
  {
   "cell_type": "markdown",
   "metadata": {},
   "source": [
    "### Minimal execution on node\n",
    "\n",
    "It is the same options as **Full on node** but you need to run two commands:\n",
    "- One that will do the split, compilation on the login node and execution on the compute node.\n",
    "- When the first one is done running on the cluster, one that will do the merging.\n",
    "\n",
    "Here are the commands for the same example as before:\n",
    "\n",
    "`telemac2d.py t2d_malpasset.cas --nctile=28 --ncnode=2 --queue=cn --walltime=02:00:00 --jobname=Test -w tmp_dir`\n",
    "\n",
    "And when the scheduler tells us that the job is done:\n",
    "\n",
    "`telemac2d.py t2d_malpasset.cas --nctile=28 --ncnode=2 --queue=cn --walltime=02:00:00 --jobname=Test -w tmp_dir`"
   ]
  }
 ],
 "metadata": {
  "kernelspec": {
   "display_name": "Python 3",
   "language": "python",
   "name": "python3"
  },
  "language_info": {
   "codemirror_mode": {
    "name": "ipython",
    "version": 3
   },
   "file_extension": ".py",
   "mimetype": "text/x-python",
   "name": "python",
   "nbconvert_exporter": "python",
   "pygments_lexer": "ipython3",
   "version": "3.7.13"
  }
 },
 "nbformat": 4,
 "nbformat_minor": 1
}
