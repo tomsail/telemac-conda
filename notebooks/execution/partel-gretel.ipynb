{
 "cells": [
  {
   "cell_type": "markdown",
   "metadata": {},
   "source": [
    "# Manual run of partel\n",
    "\n",
    "The script **partel.py** can be used to run manually partel (the splitting part of an execution)."
   ]
  },
  {
   "cell_type": "code",
   "execution_count": 1,
   "metadata": {
    "execution": {
     "iopub.execute_input": "2022-12-01T13:28:43.908437Z",
     "iopub.status.busy": "2022-12-01T13:28:43.907572Z",
     "iopub.status.idle": "2022-12-01T13:28:44.436288Z",
     "shell.execute_reply": "2022-12-01T13:28:44.433424Z"
    }
   },
   "outputs": [
    {
     "name": "stdout",
     "output_type": "stream",
     "text": [
      "\r\n",
      "\r\n",
      "Loading Options and Configurations\r\n",
      "~~~~~~~~~~~~~~~~~~~~~~~~~~~~~~~~~~~~~~~~~~~~~~~~~~~~~~~~~~~~~~~~~~~~~~~~\r\n",
      "\r\n",
      "usage: partel.py [-h] [-c config name] [-f config file] [-r TELEMAC root]\r\n",
      "                 [--input-file INPUT_FILE] [--file GEO_FILE]\r\n",
      "                 [--file-format GEO_FILE_FMT] [--bnd-file BND_FILE]\r\n",
      "                 [--ncsize NCSIZE] [--section-name SECTION_FILE]\r\n",
      "                 [--zone-name ZONE_FILE] [--weir-name WEIR_FILE]\r\n",
      "                 [--partitioning-method PART_METHOD] [--concat] [--mpi]\r\n",
      "\r\n",
      "Run the partitionning step (partel)\r\n",
      "\r\n",
      "optional arguments:\r\n",
      "  -h, --help            show this help message and exit\r\n",
      "  -c config name, --configname config name\r\n",
      "                        specify configuration name, default is randomly found\r\n",
      "                        in the configuration file\r\n",
      "  -f config file, --configfile config file\r\n",
      "                        specify configuration file, default is systel.cfg\r\n",
      "  -r TELEMAC root, --rootdir TELEMAC root\r\n",
      "                        specify the root, default is taken from config file\r\n",
      "  --input-file INPUT_FILE\r\n",
      "                        Name of partel parameter file (PARTEL.PAR). This\r\n",
      "                        option will surcharge all the others\r\n",
      "  --file GEO_FILE       Name of the file to be partitionned\r\n",
      "  --file-format GEO_FILE_FMT\r\n",
      "                        Format of the geometry file(SERAFIN,SERAFIND or MED),\r\n",
      "                        default is SERAFIN\r\n",
      "  --bnd-file BND_FILE   Name of the boundary file associated to the mesh file,\r\n",
      "                        default is T2DCLI\r\n",
      "  --ncsize NCSIZE       Number of partitions (should be equal to number of\r\n",
      "                        parallel processors), default is 8\r\n",
      "  --section-name SECTION_FILE\r\n",
      "                        Name of the section file, default no section file\r\n",
      "  --zone-name ZONE_FILE\r\n",
      "                        Name of the zone file, default no zone file\r\n",
      "  --weir-name WEIR_FILE\r\n",
      "                        Name of the weir file, default no weir file\r\n",
      "  --partitioning-method PART_METHOD\r\n",
      "                        Method used for the partitionning (1:metis, 2:scotch)\r\n",
      "  --concat              If true concatenate partel output\r\n",
      "  --mpi                 Run partel as executable (note using command given in\r\n",
      "                        systel.cfg)\r\n"
     ]
    }
   ],
   "source": [
    "!partel.py -h"
   ]
  },
  {
   "cell_type": "markdown",
   "metadata": {},
   "source": [
    "We have two way to run the script:\n",
    "  * giving all the options in the command\n",
    "  * using an input file (This is how it is run within Telemac-Mascaret)\n",
    "  \n",
    "## Run with all options"
   ]
  },
  {
   "cell_type": "code",
   "execution_count": 2,
   "metadata": {
    "execution": {
     "iopub.execute_input": "2022-12-01T13:28:44.443522Z",
     "iopub.status.busy": "2022-12-01T13:28:44.443353Z",
     "iopub.status.idle": "2022-12-01T13:28:45.143581Z",
     "shell.execute_reply": "2022-12-01T13:28:45.141778Z"
    }
   },
   "outputs": [
    {
     "name": "stdout",
     "output_type": "stream",
     "text": [
      "\r\n",
      "\r\n",
      "Loading Options and Configurations\r\n",
      "~~~~~~~~~~~~~~~~~~~~~~~~~~~~~~~~~~~~~~~~~~~~~~~~~~~~~~~~~~~~~~~~~~~~~~~~\r\n",
      "\r\n"
     ]
    },
    {
     "name": "stdout",
     "output_type": "stream",
     "text": [
      "[                                                                ]   0%  | ---s\r",
      "[\\\\\\\\\\                                                             ]   8%  | 1s\r",
      "[\\\\\\\\\\\\\\\\\\\\\\                                                       ]  16%  | 1s\r",
      "[\\\\\\\\\\\\\\\\\\\\\\\\\\\\\\\\                                                  ]  25%  | 1s\r",
      "[\\\\\\\\\\\\\\\\\\\\\\\\\\\\\\\\\\\\\\\\\\\\                                            ]  33%  | 1s\r",
      "[\\\\\\\\\\\\\\\\\\\\\\\\\\\\\\\\\\\\\\\\\\\\\\\\\\\\\\                                       ]  41%  | 1s\r",
      "[\\\\\\\\\\\\\\\\\\\\\\\\\\\\\\\\\\\\\\\\\\\\\\\\\\\\\\\\\\\\\\\\\\                                 ]  50%  | 1s\r",
      "[\\\\\\\\\\\\\\\\\\\\\\\\\\\\\\\\\\\\\\\\\\\\\\\\\\\\\\\\\\\\\\\\\\\\\\\\\\\\                            ]  58%  | 1s\r",
      "[\\\\\\\\\\\\\\\\\\\\\\\\\\\\\\\\\\\\\\\\\\\\\\\\\\\\\\\\\\\\\\\\\\\\\\\\\\\\\\\\\\\\\\\\                      ]  66%  | 1s\r",
      "[\\\\\\\\\\\\\\\\\\\\\\\\\\\\\\\\\\\\\\\\\\\\\\\\\\\\\\\\\\\\\\\\\\\\\\\\\\\\\\\\\\\\\\\\\\\\\\\\\\                 ]  75%  | 1s\r",
      "[\\\\\\\\\\\\\\\\\\\\\\\\\\\\\\\\\\\\\\\\\\\\\\\\\\\\\\\\\\\\\\\\\\\\\\\\\\\\\\\\\\\\\\\\\\\\\\\\\\\\\\\\\\\\\\           ]  83%  | 1s\r",
      "                                                                               \r",
      "     +> /home/d60881/telemac-mascaret/builds/S10.gfortran.dyn/bin/partel < partel_geo_gouttedo.slf.par >> partel_geo_gouttedo.slf.log\r\n",
      "STOP 0\r\n",
      "\r\n",
      "\r\n",
      "My work is done\r\n",
      "\r\n",
      "\r\n"
     ]
    }
   ],
   "source": [
    "HOMETEL = %env HOMETEL\n",
    "%cd -q {HOMETEL}/examples/python3/partel-gretel\n",
    "!partel.py --file geo_gouttedo.slf --ncsize=4 --file-format=SERAFIN --bnd-file geo_gouttedo.cli"
   ]
  },
  {
   "cell_type": "markdown",
   "metadata": {},
   "source": [
    "## Run with input file"
   ]
  },
  {
   "cell_type": "code",
   "execution_count": 3,
   "metadata": {
    "execution": {
     "iopub.execute_input": "2022-12-01T13:28:45.152448Z",
     "iopub.status.busy": "2022-12-01T13:28:45.151662Z",
     "iopub.status.idle": "2022-12-01T13:28:45.726182Z",
     "shell.execute_reply": "2022-12-01T13:28:45.723265Z"
    }
   },
   "outputs": [
    {
     "name": "stdout",
     "output_type": "stream",
     "text": [
      "\r\n",
      "\r\n",
      "Loading Options and Configurations\r\n",
      "~~~~~~~~~~~~~~~~~~~~~~~~~~~~~~~~~~~~~~~~~~~~~~~~~~~~~~~~~~~~~~~~~~~~~~~~\r\n",
      "\r\n"
     ]
    },
    {
     "name": "stdout",
     "output_type": "stream",
     "text": [
      "[                                                                ]   0%  | ---s\r",
      "[\\\\\\\\\\                                                             ]   8%  | 1s\r",
      "[\\\\\\\\\\\\\\\\\\\\\\                                                       ]  16%  | 1s\r",
      "[\\\\\\\\\\\\\\\\\\\\\\\\\\\\\\\\                                                  ]  25%  | 1s\r",
      "[\\\\\\\\\\\\\\\\\\\\\\\\\\\\\\\\\\\\\\\\\\\\                                            ]  33%  | 1s\r",
      "[\\\\\\\\\\\\\\\\\\\\\\\\\\\\\\\\\\\\\\\\\\\\\\\\\\\\\\                                       ]  41%  | 1s\r",
      "[\\\\\\\\\\\\\\\\\\\\\\\\\\\\\\\\\\\\\\\\\\\\\\\\\\\\\\\\\\\\\\\\\\                                 ]  50%  | 1s\r",
      "[\\\\\\\\\\\\\\\\\\\\\\\\\\\\\\\\\\\\\\\\\\\\\\\\\\\\\\\\\\\\\\\\\\\\\\\\\\\\                            ]  58%  | 1s\r",
      "[\\\\\\\\\\\\\\\\\\\\\\\\\\\\\\\\\\\\\\\\\\\\\\\\\\\\\\\\\\\\\\\\\\\\\\\\\\\\\\\\\\\\\\\\                      ]  66%  | 1s\r",
      "[\\\\\\\\\\\\\\\\\\\\\\\\\\\\\\\\\\\\\\\\\\\\\\\\\\\\\\\\\\\\\\\\\\\\\\\\\\\\\\\\\\\\\\\\\\\\\\\\\\                 ]  75%  | 1s\r",
      "[\\\\\\\\\\\\\\\\\\\\\\\\\\\\\\\\\\\\\\\\\\\\\\\\\\\\\\\\\\\\\\\\\\\\\\\\\\\\\\\\\\\\\\\\\\\\\\\\\\\\\\\\\\\\\\           ]  83%  | 1s\r",
      "                                                                               \r",
      "     +> /home/d60881/telemac-mascaret/builds/S10.gfortran.dyn/bin/partel < partel_geo_gouttedo.slf.par >> partel_geo_gouttedo.slf.log\r\n"
     ]
    },
    {
     "name": "stdout",
     "output_type": "stream",
     "text": [
      "STOP 0\r\n",
      "\r\n",
      "\r\n",
      "My work is done\r\n",
      "\r\n",
      "\r\n"
     ]
    }
   ],
   "source": [
    "!partel.py --input partel.par"
   ]
  },
  {
   "cell_type": "markdown",
   "metadata": {},
   "source": [
    "# Manual run of gretel\n",
    "\n",
    "Same as partel it can be run either by:\n",
    "  * giving all the options in the command\n",
    "  * using an input file (this is how it is run within Telemac-Mascaret)\n",
    "  \n",
    "Also if the files are in serafin format and the run crashed gretel can be run to salvage the results.\n",
    "\n",
    "He will try to concatenate the files and will crash at some point but if you are lucky you should get a valid file out of it.\n",
    "\n",
    "## Run with options"
   ]
  },
  {
   "cell_type": "code",
   "execution_count": 4,
   "metadata": {
    "execution": {
     "iopub.execute_input": "2022-12-01T13:28:45.734116Z",
     "iopub.status.busy": "2022-12-01T13:28:45.733913Z",
     "iopub.status.idle": "2022-12-01T13:28:46.290282Z",
     "shell.execute_reply": "2022-12-01T13:28:46.287354Z"
    }
   },
   "outputs": [
    {
     "name": "stdout",
     "output_type": "stream",
     "text": [
      "\r\n",
      "\r\n",
      "Loading Options and Configurations\r\n",
      "~~~~~~~~~~~~~~~~~~~~~~~~~~~~~~~~~~~~~~~~~~~~~~~~~~~~~~~~~~~~~~~~~~~~~~~~\r\n",
      "\r\n",
      "[                                                                ]   0%  | ---s\r",
      "[\\\\\\\\\\\\\\\\                                                          ]  12%  | 1s\r",
      "[\\\\\\\\\\\\\\\\\\\\\\\\\\\\\\\\                                                  ]  25%  | 1s\r",
      "[\\\\\\\\\\\\\\\\\\\\\\\\\\\\\\\\\\\\\\\\\\\\\\\\                                          ]  37%  | 1s\r",
      "[\\\\\\\\\\\\\\\\\\\\\\\\\\\\\\\\\\\\\\\\\\\\\\\\\\\\\\\\\\\\\\\\\\                                 ]  50%  | 1s\r",
      "[\\\\\\\\\\\\\\\\\\\\\\\\\\\\\\\\\\\\\\\\\\\\\\\\\\\\\\\\\\\\\\\\\\\\\\\\\\\\\\\\\\                         ]  62%  | 1s\r",
      "[\\\\\\\\\\\\\\\\\\\\\\\\\\\\\\\\\\\\\\\\\\\\\\\\\\\\\\\\\\\\\\\\\\\\\\\\\\\\\\\\\\\\\\\\\\\\\\\\\\                 ]  75%  | 1s\r",
      "                                                                               \r",
      "     +> /home/d60881/telemac-mascaret/builds/S10.gfortran.dyn/bin/gretel < gretel_mesh.par >> gretel_mesh.log\r\n",
      "STOP 0\r\n",
      "\r\n",
      "\r\n",
      "My work is done\r\n",
      "\r\n",
      "\r\n"
     ]
    }
   ],
   "source": [
    "!gretel.py --geo-file geo_gouttedo.slf --geo-file-format SERAFIN --res-file mesh --res-file-format SERAFIN --ncsize 4 --bnd-file geo_gouttedo.cli"
   ]
  },
  {
   "cell_type": "markdown",
   "metadata": {},
   "source": [
    "## Run with input file"
   ]
  },
  {
   "cell_type": "code",
   "execution_count": 5,
   "metadata": {
    "execution": {
     "iopub.execute_input": "2022-12-01T13:28:46.297361Z",
     "iopub.status.busy": "2022-12-01T13:28:46.297146Z",
     "iopub.status.idle": "2022-12-01T13:28:46.851913Z",
     "shell.execute_reply": "2022-12-01T13:28:46.849029Z"
    }
   },
   "outputs": [
    {
     "name": "stdout",
     "output_type": "stream",
     "text": [
      "\r\n",
      "\r\n",
      "Loading Options and Configurations\r\n",
      "~~~~~~~~~~~~~~~~~~~~~~~~~~~~~~~~~~~~~~~~~~~~~~~~~~~~~~~~~~~~~~~~~~~~~~~~\r\n",
      "\r\n",
      "[                                                                ]   0%  | ---s\r",
      "[\\\\\\\\\\\\\\\\                                                          ]  12%  | 1s\r",
      "[\\\\\\\\\\\\\\\\\\\\\\\\\\\\\\\\                                                  ]  25%  | 1s\r",
      "[\\\\\\\\\\\\\\\\\\\\\\\\\\\\\\\\\\\\\\\\\\\\\\\\                                          ]  37%  | 1s\r",
      "[\\\\\\\\\\\\\\\\\\\\\\\\\\\\\\\\\\\\\\\\\\\\\\\\\\\\\\\\\\\\\\\\\\                                 ]  50%  | 1s\r",
      "[\\\\\\\\\\\\\\\\\\\\\\\\\\\\\\\\\\\\\\\\\\\\\\\\\\\\\\\\\\\\\\\\\\\\\\\\\\\\\\\\\\                         ]  62%  | 1s\r",
      "[\\\\\\\\\\\\\\\\\\\\\\\\\\\\\\\\\\\\\\\\\\\\\\\\\\\\\\\\\\\\\\\\\\\\\\\\\\\\\\\\\\\\\\\\\\\\\\\\\\                 ]  75%  | 1s\r",
      "                                                                               \r",
      "     +> /home/d60881/telemac-mascaret/builds/S10.gfortran.dyn/bin/gretel < gretel_mesh.par >> gretel_mesh.log\r\n",
      "STOP 0\r\n",
      "\r\n",
      "\r\n",
      "My work is done\r\n",
      "\r\n",
      "\r\n"
     ]
    }
   ],
   "source": [
    "!gretel.py --input-file gretel.par"
   ]
  }
 ],
 "metadata": {
  "kernelspec": {
   "display_name": "Python 3",
   "language": "python",
   "name": "python3"
  },
  "language_info": {
   "codemirror_mode": {
    "name": "ipython",
    "version": 3
   },
   "file_extension": ".py",
   "mimetype": "text/x-python",
   "name": "python",
   "nbconvert_exporter": "python",
   "pygments_lexer": "ipython3",
   "version": "3.7.13"
  }
 },
 "nbformat": 4,
 "nbformat_minor": 1
}
