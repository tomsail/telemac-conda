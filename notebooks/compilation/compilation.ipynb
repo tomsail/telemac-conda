{
 "cells": [
  {
   "cell_type": "markdown",
   "metadata": {},
   "source": [
    "# Compilation scripts"
   ]
  },
  {
   "cell_type": "markdown",
   "metadata": {},
   "source": [
    "This will describe how the commands for compilation works\n",
    "\n",
    "We will describe two scripts:\n",
    "- config.py that display information on your actual configuration\n",
    "- compile_telemac.py that runs the compilation of the system\n",
    "\n",
    "Most the telemac scripts have the following options to define your configuration:\n",
    "-  -c config name, --configname config name\n",
    " specify configuration name, default is randomly found in the configuration file\n",
    "-  -f config file, --configfile config file\n",
    " specify configuration file, default is systel.cfg\n",
    "-  -r TELEMAC root, --rootdir TELEMAC root\n",
    " specify the root, default is taken from config file\n",
    "\n",
    "They are not mandatory and can be replace by a environment variable:\n",
    "- \\$USETELCFG for the configuration name\n",
    "- \\$SYSTELCFG for the configuration file\n",
    "- \\$HOMETEL for the path to the system installation\n"
   ]
  },
  {
   "cell_type": "markdown",
   "metadata": {},
   "source": [
    "# config.py"
   ]
  },
  {
   "cell_type": "code",
   "execution_count": 1,
   "metadata": {
    "execution": {
     "iopub.execute_input": "2022-12-01T13:27:10.177712Z",
     "iopub.status.busy": "2022-12-01T13:27:10.175682Z",
     "iopub.status.idle": "2022-12-01T13:27:10.399491Z",
     "shell.execute_reply": "2022-12-01T13:27:10.397913Z"
    }
   },
   "outputs": [
    {
     "name": "stdout",
     "output_type": "stream",
     "text": [
      "\r\n",
      "\r\n",
      "Loading Options and Configurations\r\n",
      "~~~~~~~~~~~~~~~~~~~~~~~~~~~~~~~~~~~~~~~~~~~~~~~~~~~~~~~~~~~~~~~~~~~~~~~~\r\n",
      "\r\n",
      "          ___          _  _   \r\n",
      "         / _ \\        | || |  \r\n",
      " __   __| (_) | _ __  | || |_ \r\n",
      " \\ \\ / / > _ < | '_ \\ |__   _|\r\n",
      "  \\ V / | (_) || |_) |   | |  \r\n",
      "   \\_/   \\___/ | .__/    |_|  \r\n",
      "               | |            \r\n",
      "               |_|            \r\n",
      "\r\n",
      "\r\n",
      "~~~~~~~~~~~~~~~~~~~~~~~~~~~~~~~~~~~~~~~~~~~~~~~~~~~~~~~~~~~~~~~~~~~~~~~~\r\n",
      "\r\n",
      "S10.gfortran.dyn: \r\n",
      "    \r\n",
      "\r\n",
      "    +> Scibian 10 dynamic build using GFortran 8.3.0 and Open MPI.\r\n",
      "\r\n",
      "    +> root:    /home/d60881/telemac-mascaret\r\n",
      "    +> module: ad / api / artemis / bief\r\n",
      "               damocles  / gaia  / gretel  / hermes\r\n",
      "               identify_liq_bnd  / khione  / mascaret  / nestor\r\n",
      "               parallel  / partel  / postel3d  / sisyphe\r\n",
      "               special  / stbtel  / telemac2d  / telemac3d\r\n",
      "               tomawac / waqtel\r\n",
      "\r\n",
      "\r\n",
      "~~~~~~~~~~~~~~~~~~~~~~~~~~~~~~~~~~~~~~~~~~~~~~~~~~~~~~~~~~~~~~~~~~~~~~~~\r\n",
      "\r\n",
      "\r\n",
      "\r\n",
      "My work is done\r\n",
      "\r\n",
      "\r\n"
     ]
    }
   ],
   "source": [
    "!config.py"
   ]
  },
  {
   "cell_type": "markdown",
   "metadata": {},
   "source": [
    "# compile_telemac.py"
   ]
  },
  {
   "cell_type": "markdown",
   "metadata": {},
   "source": [
    "To see its options like all of the script just -h or --help at the end"
   ]
  },
  {
   "cell_type": "code",
   "execution_count": 2,
   "metadata": {
    "execution": {
     "iopub.execute_input": "2022-12-01T13:27:10.406562Z",
     "iopub.status.busy": "2022-12-01T13:27:10.406336Z",
     "iopub.status.idle": "2022-12-01T13:27:10.592150Z",
     "shell.execute_reply": "2022-12-01T13:27:10.590594Z"
    }
   },
   "outputs": [
    {
     "name": "stdout",
     "output_type": "stream",
     "text": [
      "\r\n",
      "\r\n",
      "Loading Options and Configurations\r\n",
      "~~~~~~~~~~~~~~~~~~~~~~~~~~~~~~~~~~~~~~~~~~~~~~~~~~~~~~~~~~~~~~~~~~~~~~~~\r\n",
      "\r\n",
      "usage: compile_telemac.py [-h] [-c config name] [-f config file]\r\n",
      "                          [-r TELEMAC root] [-m modules] [-b] [--rescan]\r\n",
      "                          [--clean] [-j NCSIZE] [-v]\r\n",
      "\r\n",
      "Compile the TELEMAC system:\r\n",
      "\r\n",
      "1. rescan the tree dependencies if necessary\r\n",
      "2. check which files need re-compilation\r\n",
      "3. create object files, libraries, executable, and other binaries\r\n",
      "    depending on your configuration settings\r\n",
      "Work with all active configurations.\r\n",
      "        \r\n",
      "\r\n",
      "optional arguments:\r\n",
      "  -h, --help            show this help message and exit\r\n",
      "  -c config name, --configname config name\r\n",
      "                        specify configuration name, default is randomly found\r\n",
      "                        in the configuration file\r\n",
      "  -f config file, --configfile config file\r\n",
      "                        specify configuration file, default is systel.cfg\r\n",
      "  -r TELEMAC root, --rootdir TELEMAC root\r\n",
      "                        specify the root, default is taken from config file\r\n",
      "  -m modules, --modules modules\r\n",
      "                        specify the list modules . separated, default is taken\r\n",
      "                        from config file\r\n",
      "  -b, --bypass          will bypass execution failures and try to carry on\r\n",
      "                        (final report at the end)\r\n",
      "  --rescan              will redo the scan of sources for an update of all the\r\n",
      "                        cmdf files\r\n",
      "  --clean               will erase all object, executable libraries from\r\n",
      "                        folder on the selected configs/modules\r\n",
      "  -j NCSIZE             set the number of core used for the parallel\r\n",
      "                        compilation of objects\r\n",
      "  -v, --verbose         If given will print every command\r\n"
     ]
    }
   ],
   "source": [
    "!compile_telemac.py -h"
   ]
  },
  {
   "cell_type": "markdown",
   "metadata": {},
   "source": [
    "## To simply compile:"
   ]
  },
  {
   "cell_type": "markdown",
   "metadata": {},
   "source": [
    "`compile_telemac.py`"
   ]
  },
  {
   "cell_type": "markdown",
   "metadata": {},
   "source": [
    "## To recompile everything"
   ]
  },
  {
   "cell_type": "markdown",
   "metadata": {},
   "source": [
    "`compile_telemac.py --clean`"
   ]
  },
  {
   "cell_type": "markdown",
   "metadata": {},
   "source": [
    "## To update the cmdf"
   ]
  },
  {
   "cell_type": "markdown",
   "metadata": {},
   "source": [
    "This will only add new files to the cmdf.\n",
    "If you remove/add new files it is recommend to [regenerate the cmdf](#To regenerate the cmdf giles) instead."
   ]
  },
  {
   "cell_type": "markdown",
   "metadata": {},
   "source": [
    "`compile_telemac.py --rescan`"
   ]
  },
  {
   "cell_type": "markdown",
   "metadata": {},
   "source": [
    "## To regenerate the cmdf files"
   ]
  },
  {
   "cell_type": "markdown",
   "metadata": {},
   "source": [
    "Delete the cmdf files.  \n",
    "Run the scan of the sources files.  \n",
    "Generate the cmdf.  \n",
    "Recompiles everythings.  "
   ]
  },
  {
   "cell_type": "markdown",
   "metadata": {},
   "source": [
    "`compile_telemac.py --clean --rescan`"
   ]
  }
 ],
 "metadata": {
  "kernelspec": {
   "display_name": "Python 3",
   "language": "python",
   "name": "python3"
  },
  "language_info": {
   "codemirror_mode": {
    "name": "ipython",
    "version": 3
   },
   "file_extension": ".py",
   "mimetype": "text/x-python",
   "name": "python",
   "nbconvert_exporter": "python",
   "pygments_lexer": "ipython3",
   "version": "3.7.13"
  }
 },
 "nbformat": 4,
 "nbformat_minor": 1
}
