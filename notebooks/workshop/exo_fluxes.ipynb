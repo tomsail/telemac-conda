{
 "cells": [
  {
   "cell_type": "markdown",
   "metadata": {},
   "source": [
    "# Test case to test data_manip/computation\n",
    "   A test case to use all the computation action or maybe change some of the previous test casse and do them there\n",
    "   \n",
    "## Exo 1: How to compute the wet area over a polygonal chain\n",
    "\n",
    "Bosse-t2d example of SISYPHE, compute the wet area both over the bump and the channel."
   ]
  },
  {
   "cell_type": "code",
   "execution_count": 1,
   "metadata": {
    "collapsed": true,
    "execution": {
     "iopub.execute_input": "2022-12-01T13:53:32.039462Z",
     "iopub.status.busy": "2022-12-01T13:53:32.039214Z",
     "iopub.status.idle": "2022-12-01T13:53:32.572440Z",
     "shell.execute_reply": "2022-12-01T13:53:32.571853Z"
    }
   },
   "outputs": [],
   "source": [
    "from os import environ, path\n",
    "from data_manip.computation.polyline_integrals import wet_area_2d\n",
    "from data_manip.extraction.telemac_file import TelemacFile\n",
    "import numpy as np\n",
    "from utils.geometry import get_norm2\n",
    "from utils.exceptions import TelemacException\n",
    "from postel.plot2d import *\n",
    "\n",
    "# File we are going to use\n",
    "file_name = path.join(environ['HOMETEL'],\n",
    "                      'notebooks',\n",
    "                      'workshop',\n",
    "                      'data',\n",
    "                      'r2d_bosse-t2d.slf')\n",
    "\n",
    "# Setting the coordinates of the lines in which we compute the wet area\n",
    "poly_points_bump = np.array([[6., -0.5], [6., 0.5]])\n",
    "poly_points_channel = np.array([[12., -0.5], [12., 0.5]])\n",
    "\n",
    "# Discretization of the lines, number of points\n",
    "poly_number =[10]"
   ]
  },
  {
   "cell_type": "markdown",
   "metadata": {},
   "source": [
    "First plot the water depth at time step 0 with the two polylines (poly_points_bump, poly_points_channel) over it to see where we will be computing the wet area."
   ]
  },
  {
   "cell_type": "code",
   "execution_count": null,
   "metadata": {
    "collapsed": false
   },
   "outputs": [],
   "source": []
  },
  {
   "cell_type": "markdown",
   "metadata": {},
   "source": [
    "Now lets compute the wet area for our two polyline."
   ]
  },
  {
   "cell_type": "code",
   "execution_count": null,
   "metadata": {
    "collapsed": false
   },
   "outputs": [],
   "source": []
  },
  {
   "cell_type": "markdown",
   "metadata": {},
   "source": [
    "## Exo 2: How to compute the flow rate through a polygonal chain\n",
    "\n",
    "Compute the liquid discharge at the outlet of the Confluence test case and in the two tributaries."
   ]
  },
  {
   "cell_type": "code",
   "execution_count": 2,
   "metadata": {
    "collapsed": true,
    "execution": {
     "iopub.execute_input": "2022-12-01T13:53:32.575668Z",
     "iopub.status.busy": "2022-12-01T13:53:32.575423Z",
     "iopub.status.idle": "2022-12-01T13:53:32.580454Z",
     "shell.execute_reply": "2022-12-01T13:53:32.580022Z"
    }
   },
   "outputs": [],
   "source": [
    "from data_manip.computation.polyline_integrals import flux_2d\n",
    "from os import chdir, environ, path\n",
    "from data_manip.extraction.telemac_file import TelemacFile\n",
    "import numpy as np\n",
    "import matplotlib.pyplot as plt\n",
    "from postel.plot2d import plot2d_scalar_map\n",
    "\n",
    "# File we are going to use\n",
    "file_name = path.join(environ['HOMETEL'], \n",
    "                          'examples', \n",
    "                          'telemac2d', \n",
    "                          'confluence',\n",
    "                          'f2d_confluence.slf')\n",
    "\n",
    "# Coordinates of the lines in which we want to compute the fluxes\n",
    "line1 = np.array([[-10., 0.0], [-10., 0.8]])\n",
    "line2 = np.array([[-7.5871568214477882, 2.7718446471440905], \n",
    "                  [-7.1535131343706952, 3.0167019187627968]])\n",
    "line3 = np.array([[-1.0, 0.0], [-1.0, 0.8]])\n",
    "\n",
    "# Discretization of the lines, number of points\n",
    "line1_num = [20]\n",
    "line2_num = [20]\n",
    "line3_num = [20]"
   ]
  },
  {
   "cell_type": "markdown",
   "metadata": {},
   "source": [
    "First same as before we display for the record 1 and the polylines (line1, line2, line3)."
   ]
  },
  {
   "cell_type": "code",
   "execution_count": null,
   "metadata": {
    "collapsed": false
   },
   "outputs": [],
   "source": []
  },
  {
   "cell_type": "markdown",
   "metadata": {},
   "source": [
    "Now we will need to extract the water depth, velocity u and v over our lines and compute the flux for each line."
   ]
  },
  {
   "cell_type": "code",
   "execution_count": null,
   "metadata": {
    "collapsed": false
   },
   "outputs": [],
   "source": []
  },
  {
   "cell_type": "markdown",
   "metadata": {},
   "source": [
    "## Exo 3: How to compute the solid discharge through a polygonal chain\n",
    "\n",
    "Uses the result file of the SISYPHE test case bosse-t2d to compute the solid discharge over time at the outlet of the channel"
   ]
  },
  {
   "cell_type": "code",
   "execution_count": 3,
   "metadata": {
    "collapsed": true,
    "execution": {
     "iopub.execute_input": "2022-12-01T13:53:32.582748Z",
     "iopub.status.busy": "2022-12-01T13:53:32.582563Z",
     "iopub.status.idle": "2022-12-01T13:53:32.586876Z",
     "shell.execute_reply": "2022-12-01T13:53:32.586462Z"
    }
   },
   "outputs": [],
   "source": [
    "from os import chdir, environ, path\n",
    "from data_manip.extraction.telemac_file import TelemacFile\n",
    "import numpy as np\n",
    "from utils.geometry import get_norm2\n",
    "from utils.exceptions import TelemacException\n",
    "from data_manip.computation.polyline_integrals import flux_2d\n",
    "import matplotlib.pyplot as plt\n",
    "from postel.plot2d import plot2d_scalar_map\n",
    "from postel.plot1d import plot1d\n",
    "\n",
    "# File we are going to use\n",
    "file_name = path.join(environ['HOMETEL'],\n",
    "                      'notebooks',\n",
    "                      'workshop',\n",
    "                      'data',\n",
    "                      'sis_bosse-t2d.slf')\n",
    "\n",
    "# Coordinates of the lines in which we want to compute the fluxes\n",
    "line = np.array([[9., -1], [9., 1]])\n",
    "\n",
    "# Discretization of the lines, number of points\n",
    "line_num = [10]"
   ]
  },
  {
   "cell_type": "markdown",
   "metadata": {},
   "source": [
    "First we will display the bottom at record 0 with the polyline (line)."
   ]
  },
  {
   "cell_type": "code",
   "execution_count": null,
   "metadata": {
    "collapsed": false
   },
   "outputs": [],
   "source": []
  },
  {
   "cell_type": "markdown",
   "metadata": {},
   "source": [
    "Now we compute the solid discharge and plot its evolution over time."
   ]
  },
  {
   "cell_type": "code",
   "execution_count": null,
   "metadata": {
    "collapsed": false
   },
   "outputs": [],
   "source": []
  }
 ],
 "metadata": {
  "kernelspec": {
   "display_name": "Python 3",
   "language": "python",
   "name": "python3"
  },
  "language_info": {
   "codemirror_mode": {
    "name": "ipython",
    "version": 3
   },
   "file_extension": ".py",
   "mimetype": "text/x-python",
   "name": "python",
   "nbconvert_exporter": "python",
   "pygments_lexer": "ipython3",
   "version": "3.7.13"
  }
 },
 "nbformat": 4,
 "nbformat_minor": 2
}
