{
 "cells": [
  {
   "cell_type": "markdown",
   "metadata": {},
   "source": [
    "# Tomawac example\n",
    "\n",
    "Dingeman test case representing waves over a deep sea.\n",
    "This example shows energy transfer between frequencies.\n",
    "\n",
    "  * data/geo_.slf contains the geometry\n",
    "  * data/tom_dingeman.spe contains the spectrums\n",
    "  "
   ]
  },
  {
   "cell_type": "code",
   "execution_count": 1,
   "metadata": {
    "collapsed": false,
    "execution": {
     "iopub.execute_input": "2022-12-01T13:53:38.375188Z",
     "iopub.status.busy": "2022-12-01T13:53:38.374322Z",
     "iopub.status.idle": "2022-12-01T13:53:38.904699Z",
     "shell.execute_reply": "2022-12-01T13:53:38.904033Z"
    }
   },
   "outputs": [],
   "source": [
    "from os import path, environ\n",
    "from data_manip.extraction.telemac_file import TelemacFile\n",
    "from postel.plot1d import *\n",
    "from postel.plot2d import *\n",
    "import matplotlib.pyplot as plt\n",
    "\n",
    "\n",
    "geo_file = path.join(environ['HOMETEL'], 'notebooks', 'workshop', 'data', 'geo_dinge.slf')\n",
    "bnd_file = path.join(environ['HOMETEL'], 'notebooks', 'workshop', 'data', 'geo_dinge.cli')\n",
    "spe_file = path.join(environ['HOMETEL'], 'notebooks', 'workshop', 'data', 'tom_dingetr2.spe')"
   ]
  },
  {
   "cell_type": "markdown",
   "metadata": {},
   "source": [
    "# Exo0\n",
    "\n",
    "Lets have a look at the mesh of the problem we are going to work with in the exercies below.\n",
    "\n",
    "Plot the mesh ('geo_file') with the liquid boundary."
   ]
  },
  {
   "cell_type": "code",
   "execution_count": null,
   "metadata": {
    "collapsed": false
   },
   "outputs": [],
   "source": []
  },
  {
   "cell_type": "markdown",
   "metadata": {},
   "source": [
    "  \n",
    "# Exo1\n",
    "\n",
    "Display value of the energy associated over spectrum crossed direction on point 3043 over a quandrangle mesh."
   ]
  },
  {
   "cell_type": "code",
   "execution_count": null,
   "metadata": {
    "collapsed": false
   },
   "outputs": [],
   "source": []
  },
  {
   "cell_type": "markdown",
   "metadata": {},
   "source": [
    "# Exo2\n",
    "Display the spectrum (integrated over directions) for all the points recorded in the result file. "
   ]
  },
  {
   "cell_type": "code",
   "execution_count": null,
   "metadata": {
    "collapsed": false
   },
   "outputs": [],
   "source": []
  },
  {
   "cell_type": "markdown",
   "metadata": {},
   "source": [
    "# Exo3\n",
    "\n",
    "Display the energy over directions (integrated over frequencies).\n",
    "\n",
    "What can we conclude from the graph ?"
   ]
  },
  {
   "cell_type": "code",
   "execution_count": null,
   "metadata": {
    "collapsed": false
   },
   "outputs": [],
   "source": []
  }
 ],
 "metadata": {
  "kernelspec": {
   "display_name": "Python 3",
   "language": "python",
   "name": "python3"
  },
  "language_info": {
   "codemirror_mode": {
    "name": "ipython",
    "version": 3
   },
   "file_extension": ".py",
   "mimetype": "text/x-python",
   "name": "python",
   "nbconvert_exporter": "python",
   "pygments_lexer": "ipython3",
   "version": "3.7.13"
  }
 },
 "nbformat": 4,
 "nbformat_minor": 2
}
