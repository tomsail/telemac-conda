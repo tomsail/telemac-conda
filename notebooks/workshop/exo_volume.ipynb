{
 "cells": [
  {
   "cell_type": "markdown",
   "metadata": {},
   "source": [
    "# Example of volume calculations\n",
    "\n",
    "A volume is computed through the whole domain between 2 surfaces, called upper and lower values in this document.\n",
    "\n",
    "Typical calculations involve the following variables:\n",
    "\n",
    "<table>\n",
    "\t<tr>\n",
    "\t\t<th>Upper values</th>\n",
    "\t\t<th>Lower values</th>\n",
    "\t\t<th>Interpretation</th>\n",
    "\t</tr>\n",
    "\t<tr>\n",
    "\t\t<td>WATER DEPTH</td>\n",
    "\t\t<td>0</td>\n",
    "\t\t<td rowspan=\"2\">Liquid volume</td>\n",
    "\t</tr>\n",
    "\t<tr>\n",
    "\t\t<td>FREE SURFACE</td>\n",
    "\t\t<td>BOTTOM</td>\n",
    "\t</tr>\n",
    "\t<tr>\n",
    "\t\t<td>BOTTOM</td>\n",
    "\t\t<td>RIGID BED</td>\n",
    "\t\t<td>Solid volume</td>\n",
    "\t</tr>\n",
    "\t<tr>\n",
    "\t\t<td>BOTTOM</td>\n",
    "\t\t<td>initial values</td>\n",
    "\t\t<td>Solid volume from beginning</td>\n",
    "\t</tr>\n",
    "\t<tr>\n",
    "\t\t<td>BED SHEAR STRESS</td>\n",
    "\t\t<td>0</td>\n",
    "\t\t<td>Bottom friction force (approx.)</td>\n",
    "\t</tr>\n",
    "</table>"
   ]
  },
  {
   "cell_type": "markdown",
   "metadata": {},
   "source": [
    "Below are the data and imports you will need for the exercices."
   ]
  },
  {
   "cell_type": "code",
   "execution_count": 1,
   "metadata": {
    "collapsed": true,
    "execution": {
     "iopub.execute_input": "2022-12-01T13:53:39.983261Z",
     "iopub.status.busy": "2022-12-01T13:53:39.982368Z",
     "iopub.status.idle": "2022-12-01T13:53:40.551161Z",
     "shell.execute_reply": "2022-12-01T13:53:40.550562Z"
    }
   },
   "outputs": [],
   "source": [
    "from os import environ, path\n",
    "import matplotlib.pyplot as plt\n",
    "import numpy as np\n",
    "\n",
    "from data_manip.extraction.telemac_file import TelemacFile\n",
    "from postel.plot1d import plot1d\n",
    "\n",
    "# Path to result file\n",
    "res_path = path.join(environ['HOMETEL'], 'notebooks', 'workshop', 'data', 'r2d_tide-ES_VE95.slf')\n",
    "sis_path = path.join(environ['HOMETEL'], 'notebooks', 'workshop', 'data', 'sis_bosse-t2d.slf')"
   ]
  },
  {
   "cell_type": "markdown",
   "metadata": {},
   "source": [
    "## Exo1 : Initial liquid volume\n",
    "\n",
    "Compute initial liquid volume for the example file `r2d_tide-ES_VE95.slf`."
   ]
  },
  {
   "cell_type": "code",
   "execution_count": null,
   "metadata": {
    "collapsed": false
   },
   "outputs": [],
   "source": []
  },
  {
   "cell_type": "markdown",
   "metadata": {},
   "source": [
    "## Exo2 : Temporal evolution of liquid volume\n",
    "\n",
    "Plot temporal evolution of liquid volume for the example file `r2d_tide-ES_VE95.slf`.\n",
    "\n",
    "The variable is called `HAUTEUR D'EAU`. Recommended units are hours for time and Mm³ for volume."
   ]
  },
  {
   "cell_type": "code",
   "execution_count": null,
   "metadata": {
    "collapsed": false,
    "scrolled": true
   },
   "outputs": [],
   "source": []
  },
  {
   "cell_type": "markdown",
   "metadata": {},
   "source": [
    "## Exo3 : Temporal evolution of solid volume\n",
    "\n",
    "Plot temporal evolution of solid volume for the example file `sis_bosse-t2d.slf`.\n",
    "\n",
    "The variable is called `BOTTOM`. Recommended units are minutes for time and m³ for volume."
   ]
  },
  {
   "cell_type": "code",
   "execution_count": null,
   "metadata": {
    "collapsed": true
   },
   "outputs": [],
   "source": []
  }
 ],
 "metadata": {
  "kernelspec": {
   "display_name": "Python 3",
   "language": "python",
   "name": "python3"
  },
  "language_info": {
   "codemirror_mode": {
    "name": "ipython",
    "version": 3
   },
   "file_extension": ".py",
   "mimetype": "text/x-python",
   "name": "python",
   "nbconvert_exporter": "python",
   "pygments_lexer": "ipython3",
   "version": "3.7.13"
  }
 },
 "nbformat": 4,
 "nbformat_minor": 2
}
