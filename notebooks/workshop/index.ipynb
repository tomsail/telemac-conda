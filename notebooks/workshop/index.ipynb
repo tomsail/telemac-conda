{
 "cells": [
  {
   "cell_type": "markdown",
   "metadata": {},
   "source": [
    "# Workshop Postel\n",
    "\n",
    "\n",
    "# Live Demonstration\n",
    "I will give you a live demo of how to use postel.\n",
    "In which you will see the following things:\n",
    "- How to use a notebook (Shit+Tab shortcut, create a cell, run a cell...).\n",
    "- How to use TelemacFile.\n",
    "- Examples of postel usage.\n",
    "\n",
    "The following exercises will make you use the function from postel.\n",
    "\n",
    "# Exo Telemac2d\n",
    "Exercises of post-treatment from a telemac2d results file.\n",
    "\n",
    "[exo_telemac2d](exo_telemac2d.ipynb)\n",
    "\n",
    "# Exo Telemac3d\n",
    "Exercises of post-treatment from a telemac3d results file.\n",
    "\n",
    "[exo_telemac3d](exo_telemac3d.ipynb)\n",
    "\n",
    "# Exo Fluxes\n",
    "Exercise on how to compute fluxes.\n",
    "\n",
    "[exo_fluxes](exo_fluxes.ipynb)\n",
    "\n",
    "# Exo volumes\n",
    "Exercise on how to compute volumes.\n",
    "\n",
    "[exo_volume](exo_volume.ipynb)\n",
    "# Exo Tomawac\n",
    "Exercises of post-treatment from a tomawac spectrum file.\n",
    "\n",
    "[exo_tomawac](exo_tomawac.ipynb)\n",
    "\n",
    "# Exo Mascaret\n",
    "Exercises of post-treatment from a mascaret result file.\n",
    "\n",
    "[exercice_mascaret](exo_mascaret.ipynb)"
   ]
  },
  {
   "cell_type": "code",
   "execution_count": null,
   "metadata": {
    "collapsed": true
   },
   "outputs": [],
   "source": []
  }
 ],
 "metadata": {
  "kernelspec": {
   "display_name": "Python 3",
   "language": "python",
   "name": "python3"
  },
  "language_info": {
   "codemirror_mode": {
    "name": "ipython",
    "version": 3
   },
   "file_extension": ".py",
   "mimetype": "text/x-python",
   "name": "python",
   "nbconvert_exporter": "python",
   "pygments_lexer": "ipython3",
   "version": "3.5.3"
  }
 },
 "nbformat": 4,
 "nbformat_minor": 2
}
