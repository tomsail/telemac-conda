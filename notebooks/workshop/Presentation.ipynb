{
 "cells": [
  {
   "cell_type": "markdown",
   "metadata": {
    "slideshow": {
     "slide_type": "slide"
    }
   },
   "source": [
    "# What is a notebook ?\n",
    "\n",
    "An interactive IPyhon session."
   ]
  },
  {
   "cell_type": "code",
   "execution_count": 1,
   "metadata": {
    "collapsed": false,
    "execution": {
     "iopub.execute_input": "2022-12-01T13:53:27.701168Z",
     "iopub.status.busy": "2022-12-01T13:53:27.700384Z",
     "iopub.status.idle": "2022-12-01T13:53:27.722867Z",
     "shell.execute_reply": "2022-12-01T13:53:27.720838Z"
    },
    "slideshow": {
     "slide_type": "-"
    }
   },
   "outputs": [
    {
     "name": "stdout",
     "output_type": "stream",
     "text": [
      "45\n"
     ]
    }
   ],
   "source": [
    "test = 30 + 15\n",
    "print(test)"
   ]
  },
  {
   "cell_type": "code",
   "execution_count": 2,
   "metadata": {
    "collapsed": false,
    "execution": {
     "iopub.execute_input": "2022-12-01T13:53:27.730755Z",
     "iopub.status.busy": "2022-12-01T13:53:27.730148Z",
     "iopub.status.idle": "2022-12-01T13:53:27.756423Z",
     "shell.execute_reply": "2022-12-01T13:53:27.755239Z"
    },
    "slideshow": {
     "slide_type": "-"
    }
   },
   "outputs": [
    {
     "data": {
      "text/plain": [
       "'/home/d60881/telemac-mascaret'"
      ]
     },
     "execution_count": 2,
     "metadata": {},
     "output_type": "execute_result"
    }
   ],
   "source": [
    "%env HOMETEL"
   ]
  },
  {
   "cell_type": "markdown",
   "metadata": {
    "slideshow": {
     "slide_type": "subslide"
    }
   },
   "source": [
    "# TELEMAC-MASCARET notebooks\n",
    "\n",
    "[telemac-mascare notebooks](../index.ipynb)"
   ]
  },
  {
   "cell_type": "markdown",
   "metadata": {
    "slideshow": {
     "slide_type": "subslide"
    }
   },
   "source": [
    "Shortcuts:\n",
    "   \n",
    "   * **Ctrl + m h** To display shortcut help\n",
    "   * **Tab** for auto completion\n",
    "   * **Shift** + Tab for function help\n",
    "   * **Shift + Enter** Run cell and pass to the next one\n",
    "   * **Ctrl + Enter** Run cell "
   ]
  },
  {
   "cell_type": "markdown",
   "metadata": {
    "slideshow": {
     "slide_type": "slide"
    }
   },
   "source": [
    "# TELEMAC-MACARET Python scripts\n",
    "\n",
    "TELEMAC-MASCARET contains a few scripts:"
   ]
  },
  {
   "cell_type": "code",
   "execution_count": 3,
   "metadata": {
    "collapsed": false,
    "execution": {
     "iopub.execute_input": "2022-12-01T13:53:27.761209Z",
     "iopub.status.busy": "2022-12-01T13:53:27.760871Z",
     "iopub.status.idle": "2022-12-01T13:53:27.882800Z",
     "shell.execute_reply": "2022-12-01T13:53:27.880084Z"
    },
    "slideshow": {
     "slide_type": "-"
    }
   },
   "outputs": [
    {
     "name": "stdout",
     "output_type": "stream",
     "text": [
      "\u001b[0m\u001b[01;32martemis.py\u001b[0m*          \u001b[01;34mdata_manip\u001b[0m/      \u001b[01;34mpostel\u001b[0m/          \u001b[01;34mtelapy\u001b[0m/\r\n",
      "\u001b[01;32mcheck_mesh.py\u001b[0m*       \u001b[01;32mdoc_telemac.py\u001b[0m*  \u001b[01;32mpostel3d.py\u001b[0m*     \u001b[01;32mtelemac2d.py\u001b[0m*\r\n",
      "\u001b[01;32mcompact_telemac.py\u001b[0m*  \u001b[01;34mexecution\u001b[0m/       \u001b[01;34mpretel\u001b[0m/          \u001b[01;32mtelemac3d.py\u001b[0m*\r\n",
      "\u001b[01;34mcompilation\u001b[0m/         \u001b[01;32mextract.py\u001b[0m*      \u001b[01;34m__pycache__\u001b[0m/     \u001b[01;32mtemplate.py\u001b[0m*\r\n",
      "\u001b[01;32mcompile_telemac.py\u001b[0m*  \u001b[01;32mgretel.py\u001b[0m*       \u001b[01;32mruncode.py\u001b[0m*      \u001b[01;32mtomawac.py\u001b[0m*\r\n",
      "\u001b[01;32mconfig.py\u001b[0m*           \u001b[01;32mmanip_cas.py\u001b[0m*    \u001b[01;32mrun_cpl.py\u001b[0m*      \u001b[01;34mutils\u001b[0m/\r\n",
      "\u001b[01;34mconfiguration\u001b[0m/       \u001b[01;32mmascaret.py\u001b[0m*     \u001b[01;32mrun_telfile.py\u001b[0m*  \u001b[01;32mvalidate_telemac.py\u001b[0m*\r\n",
      "\u001b[01;32mconverter.py\u001b[0m*        \u001b[01;32mpartel.py\u001b[0m*       \u001b[01;32msisyphe.py\u001b[0m*      \u001b[01;34mvvytel\u001b[0m/\r\n",
      "\u001b[01;32mdamocles.py\u001b[0m*         \u001b[01;32mplot.py\u001b[0m*         \u001b[01;32mstbtel.py\u001b[0m*\r\n"
     ]
    }
   ],
   "source": [
    "HOMETEL = %env HOMETEL\n",
    "%ls \"{HOMETEL}/scripts/python3\""
   ]
  },
  {
   "cell_type": "markdown",
   "metadata": {
    "slideshow": {
     "slide_type": "slide"
    }
   },
   "source": [
    "## compilation\n",
    "\n",
    "Contains all the scripts used to compile TELEMAC-MASCARET:\n",
    "\n",
    "See [compilation notebook](../compilation/compilation.ipynb)\n",
    "\n",
    "Main script **compile_telemac.py**"
   ]
  },
  {
   "cell_type": "code",
   "execution_count": 4,
   "metadata": {
    "collapsed": false,
    "execution": {
     "iopub.execute_input": "2022-12-01T13:53:27.892077Z",
     "iopub.status.busy": "2022-12-01T13:53:27.891380Z",
     "iopub.status.idle": "2022-12-01T13:53:28.116541Z",
     "shell.execute_reply": "2022-12-01T13:53:28.113633Z"
    },
    "slideshow": {
     "slide_type": "-"
    }
   },
   "outputs": [
    {
     "name": "stdout",
     "output_type": "stream",
     "text": [
      "\r\n",
      "\r\n",
      "Loading Options and Configurations\r\n",
      "~~~~~~~~~~~~~~~~~~~~~~~~~~~~~~~~~~~~~~~~~~~~~~~~~~~~~~~~~~~~~~~~~~~~~~~~\r\n",
      "\r\n",
      "usage: compile_telemac.py [-h] [-c config name] [-f config file]\r\n",
      "                          [-r TELEMAC root] [-m modules] [-b] [--rescan]\r\n",
      "                          [--clean] [-j NCSIZE] [-v]\r\n",
      "\r\n",
      "Compile the TELEMAC system:\r\n",
      "\r\n",
      "1. rescan the tree dependencies if necessary\r\n",
      "2. check which files need re-compilation\r\n",
      "3. create object files, libraries, executable, and other binaries\r\n",
      "    depending on your configuration settings\r\n",
      "Work with all active configurations.\r\n",
      "        \r\n",
      "\r\n",
      "optional arguments:\r\n",
      "  -h, --help            show this help message and exit\r\n",
      "  -c config name, --configname config name\r\n",
      "                        specify configuration name, default is randomly found\r\n",
      "                        in the configuration file\r\n",
      "  -f config file, --configfile config file\r\n",
      "                        specify configuration file, default is systel.cfg\r\n",
      "  -r TELEMAC root, --rootdir TELEMAC root\r\n",
      "                        specify the root, default is taken from config file\r\n",
      "  -m modules, --modules modules\r\n",
      "                        specify the list modules . separated, default is taken\r\n",
      "                        from config file\r\n",
      "  -b, --bypass          will bypass execution failures and try to carry on\r\n",
      "                        (final report at the end)\r\n",
      "  --rescan              will redo the scan of sources for an update of all the\r\n",
      "                        cmdf files\r\n",
      "  --clean               will erase all object, executable libraries from\r\n",
      "                        folder on the selected configs/modules\r\n",
      "  -j NCSIZE             set the number of core used for the parallel\r\n",
      "                        compilation of objects\r\n",
      "  -v, --verbose         If given will print every command\r\n"
     ]
    }
   ],
   "source": [
    "!compile_telemac.py -h"
   ]
  },
  {
   "cell_type": "markdown",
   "metadata": {
    "slideshow": {
     "slide_type": "slide"
    }
   },
   "source": [
    "## configuration\n",
    "\n",
    "Defines the configuration of the your installation.\n",
    "\n",
    "Main script **config.py**"
   ]
  },
  {
   "cell_type": "code",
   "execution_count": 5,
   "metadata": {
    "collapsed": false,
    "execution": {
     "iopub.execute_input": "2022-12-01T13:53:28.123847Z",
     "iopub.status.busy": "2022-12-01T13:53:28.123628Z",
     "iopub.status.idle": "2022-12-01T13:53:28.333408Z",
     "shell.execute_reply": "2022-12-01T13:53:28.330404Z"
    },
    "slideshow": {
     "slide_type": "-"
    }
   },
   "outputs": [
    {
     "name": "stdout",
     "output_type": "stream",
     "text": [
      "\r\n",
      "\r\n",
      "Loading Options and Configurations\r\n",
      "~~~~~~~~~~~~~~~~~~~~~~~~~~~~~~~~~~~~~~~~~~~~~~~~~~~~~~~~~~~~~~~~~~~~~~~~\r\n",
      "\r\n",
      "          ___          _  _   \r\n",
      "         / _ \\        | || |  \r\n",
      " __   __| (_) | _ __  | || |_ \r\n",
      " \\ \\ / / > _ < | '_ \\ |__   _|\r\n",
      "  \\ V / | (_) || |_) |   | |  \r\n",
      "   \\_/   \\___/ | .__/    |_|  \r\n",
      "               | |            \r\n",
      "               |_|            \r\n",
      "\r\n",
      "\r\n",
      "~~~~~~~~~~~~~~~~~~~~~~~~~~~~~~~~~~~~~~~~~~~~~~~~~~~~~~~~~~~~~~~~~~~~~~~~\r\n",
      "\r\n",
      "S10.gfortran.dyn: \r\n",
      "    \r\n",
      "\r\n",
      "    +> Scibian 10 dynamic build using GFortran 8.3.0 and Open MPI.\r\n",
      "\r\n",
      "    +> root:    /home/d60881/telemac-mascaret\r\n",
      "    +> module: ad / api / artemis / bief\r\n",
      "               damocles  / gaia  / gretel  / hermes\r\n",
      "               identify_liq_bnd  / khione  / mascaret  / nestor\r\n",
      "               parallel  / partel  / postel3d  / sisyphe\r\n",
      "               special  / stbtel  / telemac2d  / telemac3d\r\n",
      "               tomawac / waqtel\r\n",
      "\r\n",
      "\r\n",
      "~~~~~~~~~~~~~~~~~~~~~~~~~~~~~~~~~~~~~~~~~~~~~~~~~~~~~~~~~~~~~~~~~~~~~~~~\r\n",
      "\r\n",
      "\r\n",
      "\r\n",
      "My work is done\r\n",
      "\r\n",
      "\r\n"
     ]
    }
   ],
   "source": [
    "!config.py"
   ]
  },
  {
   "cell_type": "markdown",
   "metadata": {
    "slideshow": {
     "slide_type": "slide"
    }
   },
   "source": [
    "## execution\n",
    "\n",
    "This contains the class Study that can be used to run a case (build the temporary folder, run partel, run gretel...).\n",
    "\n",
    "See [Execution chapter in the index](../index.ipynb#Execution)\n",
    "\n",
    "Main script run_code.py (and a dedicated code for each module telemac2d.py...)"
   ]
  },
  {
   "cell_type": "code",
   "execution_count": 6,
   "metadata": {
    "collapsed": false,
    "execution": {
     "iopub.execute_input": "2022-12-01T13:53:28.343352Z",
     "iopub.status.busy": "2022-12-01T13:53:28.342613Z",
     "iopub.status.idle": "2022-12-01T13:53:28.849984Z",
     "shell.execute_reply": "2022-12-01T13:53:28.848864Z"
    },
    "slideshow": {
     "slide_type": "-"
    }
   },
   "outputs": [
    {
     "name": "stdout",
     "output_type": "stream",
     "text": [
      "\r\n",
      "\r\n",
      "Loading Options and Configurations\r\n",
      "~~~~~~~~~~~~~~~~~~~~~~~~~~~~~~~~~~~~~~~~~~~~~~~~~~~~~~~~~~~~~~~~~~~~~~~~\r\n",
      "\r\n",
      "usage:  (--help for help)\r\n",
      "---------\r\n",
      "        =>  runcode.py module [options] casfile(s)\r\n",
      "---------\r\n",
      "\r\n",
      "runcode is the execution launcher for all TELEMAC modules.\r\n",
      "\r\n",
      "where module can be:\r\n",
      "\r\n",
      "    mascaret     the 1D hydrodyanmic / tracer / water quality solver\r\n",
      "    telemac2d    the 2D hydrodyanmic / tracer / water quality solver\r\n",
      "    telemac3d    the 3D hydrodynamic / tracer / water quality solver\r\n",
      "    artemis      the phase resolving wave solver\r\n",
      "    tomawac      the 3rd generation wave transformation solver\r\n",
      "    stbtel       a pre-processor for the modules\r\n",
      "    postel3d     a post-processor for telemac3d\r\n",
      "            \r\n",
      "\r\n",
      "positional arguments:\r\n",
      "  {telemac2d,telemac3d,artemis,tomawac,stbtel,postel3d,mascaret}\r\n",
      "  cas file(s)\r\n",
      "\r\n",
      "optional arguments:\r\n",
      "  -h, --help            show this help message and exit\r\n",
      "  -c config name, --configname config name\r\n",
      "                        specify configuration name, default is randomly found\r\n",
      "                        in the configuration file\r\n",
      "  -f config file, --configfile config file\r\n",
      "                        specify configuration file, default is systel.cfg\r\n",
      "  -r TELEMAC root, --rootdir TELEMAC root\r\n",
      "                        specify the root, default is taken from config file\r\n",
      "  -s, --sortiefile      specify whether there is a sortie file, default is no\r\n",
      "  -t, --tmpdirectory    specify whether the temporary directory is removed,\r\n",
      "                        default is yes\r\n",
      "  -w W_DIR, --workdirectory W_DIR\r\n",
      "                        specify whether to re-run within a defined\r\n",
      "                        subdirectory\r\n",
      "  --nozip               specify whether to zip the extra sortie file if\r\n",
      "                        simulation in parallel\r\n",
      "  --jobname JOBNAME     specify a jobname for HPC queue tracking\r\n",
      "  --queue HPC_QUEUE     set the partition to use for HPC queue tracking\r\n",
      "  --walltime WALLTIME   set the limit on the total run time of the job\r\n",
      "                        allocation\r\n",
      "  --email EMAIL         specify an e-mail adress to warn when HPC job is\r\n",
      "                        finished\r\n",
      "  --project PROJECT     specify the name of the project to be used for the job\r\n",
      "  --hosts HOSTS         specify the list of hosts available for parallel mode,\r\n",
      "                        ';' delimited\r\n",
      "  --ncsize NCSIZE       the number of processors forced in parallel mode\r\n",
      "  --nctile NCTILE       the number of core per node. ncsize/nctile is the\r\n",
      "                        number of compute nodes\r\n",
      "  --ncnode NCNODE       the number of of nodes. ncsize = ncnode*nctile is the\r\n",
      "                        total number of compute nodes\r\n",
      "  --sequential          if present, imposes that multiple CAS files are\r\n",
      "                        launched one after the other\r\n",
      "  --mpi                 make sure the mpi command is executed, ignoring any\r\n",
      "                        hpc command\r\n",
      "  --split               will only do the trace (and the split in parallel) if\r\n",
      "                        option there\r\n",
      "  --run                 will only run the simulation if option there\r\n",
      "  -x, --compileonly     specify whether to only create an executable but not\r\n",
      "                        run, default is no\r\n",
      "  --merge               will only do the output copying (and recollection in\r\n",
      "                        parallel) if option there\r\n",
      "  --use-link            Will use link instead of copy in the temporary folder\r\n",
      "                        (Unix system only)\r\n",
      "  --gretel-method GRETEL_METHOD\r\n",
      "                        Set the gretel method to be used for merging data,\r\n",
      "                        default is 1\r\n",
      "  --masc-cas            option to indicate the Mascaret steering file is in\r\n",
      "                        Damocles format (with keywords and needing a dico file\r\n",
      "                        to be parsed). Without this option, extension of the\r\n",
      "                        parameter file is used to detect the format (Damocles\r\n",
      "                        if .cas, xml xcas otherwise)\r\n",
      "\r\n",
      "examples:\r\n",
      "---------\r\n",
      "1:     => runcode.py telemac2d -s t2d.cas\r\n",
      "---------\r\n"
     ]
    }
   ],
   "source": [
    "!runcode.py -h"
   ]
  },
  {
   "cell_type": "code",
   "execution_count": 7,
   "metadata": {
    "collapsed": false,
    "execution": {
     "iopub.execute_input": "2022-12-01T13:53:28.854395Z",
     "iopub.status.busy": "2022-12-01T13:53:28.854061Z",
     "iopub.status.idle": "2022-12-01T13:53:29.167186Z",
     "shell.execute_reply": "2022-12-01T13:53:29.166600Z"
    },
    "scrolled": true,
    "slideshow": {
     "slide_type": "subslide"
    }
   },
   "outputs": [
    {
     "name": "stdout",
     "output_type": "stream",
     "text": [
      "Help on class Study in module execution.study:\n",
      "\n",
      "class Study(builtins.object)\n",
      " |  Study(steering_file, code_name, working_dir, mascaret_cas=False)\n",
      " |  \n",
      " |  Define a study it can them be split, compiled, run, merge\n",
      " |  \n",
      " |  Methods defined here:\n",
      " |  \n",
      " |  __init__(self, steering_file, code_name, working_dir, mascaret_cas=False)\n",
      " |      Init function\n",
      " |      \n",
      " |      @param steering_file (string) Name of the steering file to run\n",
      " |      @param code_name (string) Name of the module used\n",
      " |      @param working_dir (string) If not empty will be the name of the\n",
      " |                                       working directory\n",
      " |  \n",
      " |  build_mpi_cmd(self, hosts)\n",
      " |      Set the mpi command string\n",
      " |      \n",
      " |      @param hosts (string) Name of the host on which to run the mpi command\n",
      " |  \n",
      " |  compile_exe(self)\n",
      " |      Compile the executable\n",
      " |  \n",
      " |  copy_files(self, dir_path, verbose=False, copy_cas_file=True)\n",
      " |      Will copy all input files into a directory\n",
      " |      \n",
      " |      @param dir_path (str) Directory in which to copy the files\n",
      " |      @param verbose (bool) If True print info for each copy\n",
      " |      @param copy_cas_file (bool) If True copies the steerings files as well\n",
      " |  \n",
      " |  create_working_dir(self)\n",
      " |      Creates the working_dir for the study\n",
      " |  \n",
      " |  delete_working_dir(self)\n",
      " |      Delete the working dir\n",
      " |  \n",
      " |  fill_hpc_stdin(self, stdin, options)\n",
      " |      Replacing tags in file with the one given in options\n",
      " |      \n",
      " |      @param stdin (string) The content of HPC_STDIN\n",
      " |      @param options (Values) Options of the script runcode.py\n",
      " |      \n",
      " |      @return (stdin, sortie) The update content of HPC_STDIN and sortie\n",
      " |  \n",
      " |  fill_working_dir(self, use_link=False)\n",
      " |      Filling temporary folder copying files\n",
      " |      \n",
      " |      @param use_link (boolean) If True making link instead of copy\n",
      " |  \n",
      " |  gather(self, sortie_file, nozip)\n",
      " |      Gather back output files\n",
      " |      \n",
      " |      @param sortie_file (boolean) If True copying log from working_dir\n",
      " |      @param nozip (boolean) If False log files are zipped together\n",
      " |  \n",
      " |  generate_mpi_files(self)\n",
      " |      Generate the PARAL and HOSTFILE files need by telemac-mascaret\n",
      " |  \n",
      " |  merge(self, method)\n",
      " |      Run gretel on file that need it\n",
      " |      \n",
      " |      @param method (int) the method to be used for merging data\"\n",
      " |  \n",
      " |  partionning(self, use_link)\n",
      " |      Running partionning of the input files\n",
      " |  \n",
      " |  run(self, options)\n",
      " |      Running the study\n",
      " |      \n",
      " |      @param options (Values) options of runcode.py\n",
      " |  \n",
      " |  run_hpc_exe(self, options, job_id='')\n",
      " |      Run only the execution of telemac-mascaret executable in job scheduler\n",
      " |      \n",
      " |      @return job_id (integer) Id of the job that was launched\n",
      " |  \n",
      " |  run_hpc_full(self, options, job_id='')\n",
      " |      Rerun whole script in jobscheduler\n",
      " |      \n",
      " |      @return job_id (integer) Id of the job that was launched\n",
      " |  \n",
      " |  run_local(self)\n",
      " |      Local run of the study (sequential or parallel)\n",
      " |  \n",
      " |  set_exe(self)\n",
      " |      Set the name of the executable of the study\n",
      " |  \n",
      " |  set_ncsize(self, ncsize, ncnode, nctile)\n",
      " |      Overwrite the number of parallel processor in the steering file\n",
      " |      \n",
      " |      @param ncsize (int) The total number of cores\n",
      " |      @param nctile (int): number of cores per node given by user\n",
      " |      @param ncnode (int): number of nodes given by user\n",
      " |  \n",
      " |  set_sortie(self, sortie_file, merge)\n",
      " |      Defining name of 'sortie' files\n",
      " |  \n",
      " |  set_working_dir(self, working_dir_name='')\n",
      " |      Set the working directory for the study by default:\n",
      " |      steering_cas_YYYY-MM-HHh-MMm-SSs/\n",
      " |      \n",
      " |      @param working_dir_name (string) If not empty will be the name of the\n",
      " |                                       working directory\n",
      " |  \n",
      " |  ----------------------------------------------------------------------\n",
      " |  Data descriptors defined here:\n",
      " |  \n",
      " |  __dict__\n",
      " |      dictionary for instance variables (if defined)\n",
      " |  \n",
      " |  __weakref__\n",
      " |      list of weak references to the object (if defined)\n",
      "\n"
     ]
    }
   ],
   "source": [
    "from execution.study import Study\n",
    "\n",
    "help(Study)"
   ]
  },
  {
   "cell_type": "code",
   "execution_count": 8,
   "metadata": {
    "collapsed": false,
    "execution": {
     "iopub.execute_input": "2022-12-01T13:53:29.169302Z",
     "iopub.status.busy": "2022-12-01T13:53:29.169074Z",
     "iopub.status.idle": "2022-12-01T13:53:29.172907Z",
     "shell.execute_reply": "2022-12-01T13:53:29.172503Z"
    },
    "slideshow": {
     "slide_type": "subslide"
    }
   },
   "outputs": [
    {
     "name": "stdout",
     "output_type": "stream",
     "text": [
      "Help on class TelemacCas in module execution.telemac_cas:\n",
      "\n",
      "class TelemacCas(builtins.object)\n",
      " |  TelemacCas(file_name, dico_file, access='r', check_files=True)\n",
      " |  \n",
      " |  Class to hanlde a Telemac-mascaret steering file\n",
      " |  \n",
      " |  Methods defined here:\n",
      " |  \n",
      " |  __init__(self, file_name, dico_file, access='r', check_files=True)\n",
      " |      Init of the class\n",
      " |      \n",
      " |      @param file_name (string) Name of the steering file\n",
      " |      @param dico_file (string) Name of the dictionary to use\n",
      " |      @param access (string) r (read) or w (write)\n",
      " |      @param check_files (bool) If true checking that input files exist\n",
      " |  \n",
      " |  __str__(self)\n",
      " |      str function\n",
      " |  \n",
      " |  copy_cas_files(self, dir_path, verbose=False, copy_cas_file=True)\n",
      " |      Will copy all input files and the steering file into a directory\n",
      " |      \n",
      " |      @param dir_path (str) Directory in which to copy the files\n",
      " |      @param verbose (bool) If true makes a print for each copy\n",
      " |      @param copy_cas_file (boole) If True also copies the steering file\n",
      " |  \n",
      " |  get(self, key, default=None)\n",
      " |      Return value for a given keyword.\n",
      " |      key can be in any language.\n",
      " |      \n",
      " |      @param key (string) Name of the keyword (french or english)\n",
      " |      @param default (list/int/float/boolean/string) if not None, Value\n",
      " |      returned if key not in case\n",
      " |  \n",
      " |  get_file_from_submit(self, submit)\n",
      " |      Returns the value of the keyword associated to the temporary file name\n",
      " |      (for example T2DGEO, T3DHYD, T3DRES...)\n",
      " |      If the file asked for is a outfile file and a PARAL\n",
      " |      Returning list of values instead\n",
      " |      \n",
      " |      @param submit (str) Name in the temporary folder\n",
      " |      \n",
      " |      @returns (str) value of the key word\n",
      " |  \n",
      " |  remove(self, key)\n",
      " |      Remove a keyword from the steering file if it is in otherwise does\n",
      " |      nothing\n",
      " |      \n",
      " |      @param key (str) keyword to remove\n",
      " |  \n",
      " |  set(self, key, val, convert=False)\n",
      " |      Set value of key in steering file\n",
      " |      \n",
      " |      @param key (string) Name of the keyword\n",
      " |      @param val (list/int/boolean/float) Value to set the keyword to\n",
      " |      @param convert (boolean) If true val in string and need to be converted\n",
      " |  \n",
      " |  write(self, cas_file, keep_comments=False)\n",
      " |      Write content of class in ascii for into a file\n",
      " |  \n",
      " |  write_fr_gb(self, output_dir='')\n",
      " |      Write an english and french version of the steering file\n",
      " |      \n",
      " |      @param output_dir (string) If given translated steering files are\n",
      " |      written into it otherwise they are written next to the steering file\n",
      " |  \n",
      " |  ----------------------------------------------------------------------\n",
      " |  Data descriptors defined here:\n",
      " |  \n",
      " |  __dict__\n",
      " |      dictionary for instance variables (if defined)\n",
      " |  \n",
      " |  __weakref__\n",
      " |      list of weak references to the object (if defined)\n",
      "\n"
     ]
    }
   ],
   "source": [
    "from execution.telemac_cas import TelemacCas\n",
    "\n",
    "help(TelemacCas)"
   ]
  },
  {
   "cell_type": "code",
   "execution_count": 9,
   "metadata": {
    "collapsed": false,
    "execution": {
     "iopub.execute_input": "2022-12-01T13:53:29.174773Z",
     "iopub.status.busy": "2022-12-01T13:53:29.174595Z",
     "iopub.status.idle": "2022-12-01T13:53:29.177880Z",
     "shell.execute_reply": "2022-12-01T13:53:29.177472Z"
    },
    "slideshow": {
     "slide_type": "subslide"
    }
   },
   "outputs": [
    {
     "name": "stdout",
     "output_type": "stream",
     "text": [
      "Help on class TelemacDico in module execution.telemac_dico:\n",
      "\n",
      "class TelemacDico(builtins.object)\n",
      " |  TelemacDico(file_name)\n",
      " |  \n",
      " |  Class to manipulation a Telemac-Mascaret dictionary\n",
      " |  \n",
      " |  Methods defined here:\n",
      " |  \n",
      " |  __init__(self, file_name)\n",
      " |      Init function\n",
      " |      \n",
      " |      @param file_name (string) Name of the dictionary\n",
      " |  \n",
      " |  __str__(self)\n",
      " |      Ascii representation of a dictionnary\n",
      " |  \n",
      " |  ----------------------------------------------------------------------\n",
      " |  Data descriptors defined here:\n",
      " |  \n",
      " |  __dict__\n",
      " |      dictionary for instance variables (if defined)\n",
      " |  \n",
      " |  __weakref__\n",
      " |      list of weak references to the object (if defined)\n",
      "\n"
     ]
    }
   ],
   "source": [
    "from execution.telemac_dico import TelemacDico\n",
    "\n",
    "help(TelemacDico)"
   ]
  },
  {
   "cell_type": "markdown",
   "metadata": {
    "slideshow": {
     "slide_type": "slide"
    }
   },
   "source": [
    "## vvytel\n",
    "\n",
    "Contains script for validation of TELEMAC-MASCARET. \n",
    "\n",
    "Comparaison between two files, running studies... \n",
    "\n",
    "Main script validate_telemac.py"
   ]
  },
  {
   "cell_type": "code",
   "execution_count": 10,
   "metadata": {
    "collapsed": false,
    "execution": {
     "iopub.execute_input": "2022-12-01T13:53:29.179829Z",
     "iopub.status.busy": "2022-12-01T13:53:29.179648Z",
     "iopub.status.idle": "2022-12-01T13:53:29.693950Z",
     "shell.execute_reply": "2022-12-01T13:53:29.690955Z"
    },
    "slideshow": {
     "slide_type": "-"
    }
   },
   "outputs": [
    {
     "name": "stdout",
     "output_type": "stream",
     "text": [
      "\r\n",
      "\r\n",
      "Loading Options and Configurations\r\n",
      "~~~~~~~~~~~~~~~~~~~~~~~~~~~~~~~~~~~~~~~~~~~~~~~~~~~~~~~~~~~~~~~~~~~~~~~~\r\n",
      "\r\n",
      "usage: validate_telemac.py [-h] [-c config name] [-f config file]\r\n",
      "                           [-r TELEMAC root] [-s] [-t] [-w W_DIR] [--nozip]\r\n",
      "                           [--jobname JOBNAME] [--queue HPC_QUEUE]\r\n",
      "                           [--walltime WALLTIME] [--email EMAIL]\r\n",
      "                           [--project PROJECT] [--hosts HOSTS]\r\n",
      "                           [--ncsize NCSIZE] [--nctile NCTILE]\r\n",
      "                           [--ncnode NCNODE] [--sequential] [--mpi]\r\n",
      "                           [--split | --run | -x | --merge] [--use-link]\r\n",
      "                           [--gretel-method GRETEL_METHOD] [--masc-cas] [-b]\r\n",
      "                           [-k RANK] [--tags TAGS] [--valrootdir VAL_ROOT]\r\n",
      "                           [--vnv-mode {mpi,slurm}] [--id-log ID_LOG]\r\n",
      "                           [--vnv-pre] [--vnv-run] [--vnv-check] [--vnv-post]\r\n",
      "                           [--report-name REPORT_NAME] [--clean]\r\n",
      "                           [--full-clean] [--notebook]\r\n",
      "                           [--notebook-timeout NB_TIMEOUT] [--notebook-update]\r\n",
      "                           [--notebook-exclude NB_EXCLUDE] [--verbose] [--api]\r\n",
      "                           [Python files) [Python file(s ...]]\r\n",
      "\r\n",
      "Used to validate the TELEMAC system against a benchmark of test cases for a\r\n",
      "certain rank, and a certain tag\r\n",
      "\r\n",
      "positional arguments:\r\n",
      "  Python file(s)\r\n",
      "\r\n",
      "optional arguments:\r\n",
      "  -h, --help            show this help message and exit\r\n",
      "  -c config name, --configname config name\r\n",
      "                        specify configuration name, default is randomly found\r\n",
      "                        in the configuration file\r\n",
      "  -f config file, --configfile config file\r\n",
      "                        specify configuration file, default is systel.cfg\r\n",
      "  -r TELEMAC root, --rootdir TELEMAC root\r\n",
      "                        specify the root, default is taken from config file\r\n",
      "  -s, --sortiefile      specify whether there is a sortie file, default is no\r\n",
      "  -t, --tmpdirectory    specify whether the temporary directory is removed,\r\n",
      "                        default is yes\r\n",
      "  -w W_DIR, --workdirectory W_DIR\r\n",
      "                        specify whether to re-run within a defined\r\n",
      "                        subdirectory\r\n",
      "  --nozip               specify whether to zip the extra sortie file if\r\n",
      "                        simulation in parallel\r\n",
      "  --jobname JOBNAME     specify a jobname for HPC queue tracking\r\n",
      "  --queue HPC_QUEUE     set the partition to use for HPC queue tracking\r\n",
      "  --walltime WALLTIME   set the limit on the total run time of the job\r\n",
      "                        allocation\r\n",
      "  --email EMAIL         specify an e-mail adress to warn when HPC job is\r\n",
      "                        finished\r\n",
      "  --project PROJECT     specify the name of the project to be used for the job\r\n",
      "  --hosts HOSTS         specify the list of hosts available for parallel mode,\r\n",
      "                        ';' delimited\r\n",
      "  --ncsize NCSIZE       the number of processors forced in parallel mode\r\n",
      "  --nctile NCTILE       the number of core per node. ncsize/nctile is the\r\n",
      "                        number of compute nodes\r\n",
      "  --ncnode NCNODE       the number of of nodes. ncsize = ncnode*nctile is the\r\n",
      "                        total number of compute nodes\r\n",
      "  --sequential          if present, imposes that multiple CAS files are\r\n",
      "                        launched one after the other\r\n",
      "  --mpi                 make sure the mpi command is executed, ignoring any\r\n",
      "                        hpc command\r\n",
      "  --split               will only do the trace (and the split in parallel) if\r\n",
      "                        option there\r\n",
      "  --run                 will only run the simulation if option there\r\n",
      "  -x, --compileonly     specify whether to only create an executable but not\r\n",
      "                        run, default is no\r\n",
      "  --merge               will only do the output copying (and recollection in\r\n",
      "                        parallel) if option there\r\n",
      "  --use-link            Will use link instead of copy in the temporary folder\r\n",
      "                        (Unix system only)\r\n",
      "  --gretel-method GRETEL_METHOD\r\n",
      "                        Set the gretel method to be used for merging data,\r\n",
      "                        default is 1\r\n",
      "  --masc-cas            option to indicate the Mascaret steering file is in\r\n",
      "                        Damocles format (with keywords and needing a dico file\r\n",
      "                        to be parsed). Without this option, extension of the\r\n",
      "                        parameter file is used to detect the format (Damocles\r\n",
      "                        if .cas, xml xcas otherwise)\r\n",
      "  -b, --bypass          will bypass execution failures and try to carry on\r\n",
      "                        (final report at the end)\r\n",
      "  -k RANK, --rank RANK  specify the ranks to be validated all rank lower or\r\n",
      "                        equal to the value will be run\r\n",
      "  --tags TAGS           specify tags (, separated) to run '-tag' will do the\r\n",
      "                        opposite and tag1+tag2 will run cases that has both\r\n",
      "                        tag1 and tag2), default is all of them\r\n",
      "  --valrootdir VAL_ROOT\r\n",
      "                        specify the directory in which to search the\r\n",
      "                        validation cases, default is taken from config file\r\n",
      "  --vnv-mode {mpi,slurm}\r\n",
      "                        Defines validation execution mode (does not work for\r\n",
      "                        notebooks): - mpi: Normal sequential run of all the\r\n",
      "                        validation Python files. - slurm: Will run validation\r\n",
      "                        in 'cluster' mode. This means that first valdiation\r\n",
      "                        will be run with --vnv-run to submit all the jobs to\r\n",
      "                        the scheduler. Then we will wait for them to be\r\n",
      "                        finished. Then we run the second validation with\r\n",
      "                        --vnv-check and --vnv-post.\r\n",
      "  --id-log ID_LOG       File containing id of submitted jobs (--vnv-\r\n",
      "                        mode=slurm)\r\n",
      "  --vnv-pre             Only do pre-treatment\r\n",
      "  --vnv-run             Only do execution for each study\r\n",
      "  --vnv-check           Only do check of results (epsilons)\r\n",
      "  --vnv-post            Only do post-treatment\r\n",
      "  --report-name REPORT_NAME\r\n",
      "                        will create a csv containing information on the\r\n",
      "                        validation such as execution time, rank, if it\r\n",
      "                        passed...\r\n",
      "  --clean               will erase all object, executable, result files from\r\n",
      "                        subfolders for the actual configuration\r\n",
      "  --full-clean          will erase all vnv study folders regarding of\r\n",
      "                        configurations\r\n",
      "  --notebook            Run validation of notebook\r\n",
      "  --notebook-timeout NB_TIMEOUT\r\n",
      "                        Time after whihc the notebook will be killed if still\r\n",
      "                        running\r\n",
      "  --notebook-update     Update notebook file with the runned one\r\n",
      "  --notebook-exclude NB_EXCLUDE\r\n",
      "                        ,separated list of notebook (name without extension\r\n",
      "                        for example index,) to exclude\r\n",
      "  --verbose             More verbose validation\r\n",
      "  --api                 Run validation of api\r\n"
     ]
    }
   ],
   "source": [
    "!validate_telemac.py -h"
   ]
  },
  {
   "cell_type": "markdown",
   "metadata": {
    "slideshow": {
     "slide_type": "slide"
    }
   },
   "source": [
    "## pretel\n",
    "\n",
    "Contains script for pret-treatment (see dedicated notebook)\n",
    "\n",
    "Convertion between file formats, refining mesh, editing a file...\n",
    "\n",
    "Main script converter.py"
   ]
  },
  {
   "cell_type": "code",
   "execution_count": 11,
   "metadata": {
    "collapsed": false,
    "execution": {
     "iopub.execute_input": "2022-12-01T13:53:29.701801Z",
     "iopub.status.busy": "2022-12-01T13:53:29.701581Z",
     "iopub.status.idle": "2022-12-01T13:53:30.217509Z",
     "shell.execute_reply": "2022-12-01T13:53:30.214498Z"
    },
    "slideshow": {
     "slide_type": "-"
    }
   },
   "outputs": [
    {
     "name": "stdout",
     "output_type": "stream",
     "text": [
      "usage: converter.py [-h] [-c config name] [-f config file] [-r TELEMAC root]\r\n",
      "                    {ecmwf2srf,gebco2srf,hycom2srf,kenue2shp,dat2vtu,generate_atm,generate_bnd,srf2med,srf2vtk,med2srf,med2srfd,refine,sis2gaia,xml2py,extract_ptravers_res_to_geoc,convert_listing_courlis,report2xls,shp2i2s,shp2txt,txt2shp}\r\n",
      "                    ...\r\n",
      "\r\n",
      "positional arguments:\r\n",
      "  {ecmwf2srf,gebco2srf,hycom2srf,kenue2shp,dat2vtu,generate_atm,generate_bnd,srf2med,srf2vtk,med2srf,med2srfd,refine,sis2gaia,xml2py,extract_ptravers_res_to_geoc,convert_listing_courlis,report2xls,shp2i2s,shp2txt,txt2shp}\r\n",
      "                        converter command to do\r\n",
      "    ecmwf2srf           extracting ECMWF data into a serafin-format file\r\n",
      "    gebco2srf           Extracting GEBCO data into a serafin-format file\r\n",
      "    hycom2srf           Extracting HYCOM data into a serafin-format file\r\n",
      "    kenue2shp           Convert a Kenue file into a shapefile\r\n",
      "    dat2vtu             Convert a drogues file (output of telemac) into a VTU\r\n",
      "                        file (Paraview)\r\n",
      "    generate_atm        Map weather type data (varying in space and time)\r\n",
      "                        containedinto a SELAFIN, onto a SELAFIN file of your\r\n",
      "                        choosing(your MESH)\r\n",
      "    generate_bnd        A script to map 2D or 3D outter model results, stored\r\n",
      "                        asSELAFIN files, onto the spatially and time varying\r\n",
      "                        boundary of a spatially contained SELAFIN file of your\r\n",
      "                        choosing (your MESH)\r\n",
      "    srf2med             Conversion from serafin (single or double precision)\r\n",
      "                        to MED\r\n",
      "    srf2vtk             Conversion from serafin (single or double precision)\r\n",
      "                        to ascii VTK\r\n",
      "    med2srf             Conversion from MED to serafin single precision\r\n",
      "    med2srfd            Conversion from MED to serafin double precision\r\n",
      "    refine              Refinment of the mesh using stbtel\r\n",
      "    sis2gaia            Conversion of the steering file from SISYPHE to GAIA\r\n",
      "    xml2py              Convert a xml for validation into a Python for\r\n",
      "                        validation\r\n",
      "    extract_ptravers_res_to_geoc\r\n",
      "                        Extract from ptravers Courlis res file to Courlis\r\n",
      "                        geometryfile at a given record\r\n",
      "    convert_listing_courlis\r\n",
      "                        convert binary listing Courlis file into ASCII Opthyca\r\n",
      "                        file with sediment budget file\r\n",
      "    report2xls          Converting validation report csvinto Xls file\r\n",
      "    shp2i2s             Converting Shape file into i2s (BlueKenue polygon\r\n",
      "                        format)\r\n",
      "    shp2txt             Converting Shape file into txt (Telemac in_poly\r\n",
      "                        format)\r\n",
      "    txt2shp             Converting txt (Telemac in_poly format) into shape\r\n",
      "                        file\r\n",
      "\r\n",
      "optional arguments:\r\n",
      "  -h, --help            show this help message and exit\r\n",
      "  -c config name, --configname config name\r\n",
      "                        specify configuration name, default is randomly found\r\n",
      "                        in the configuration file\r\n",
      "  -f config file, --configfile config file\r\n",
      "                        specify configuration file, default is systel.cfg\r\n",
      "  -r TELEMAC root, --rootdir TELEMAC root\r\n",
      "                        specify the root, default is taken from config file\r\n"
     ]
    }
   ],
   "source": [
    "!converter.py -h"
   ]
  },
  {
   "cell_type": "markdown",
   "metadata": {
    "slideshow": {
     "slide_type": "slide"
    }
   },
   "source": [
    "## data_manip\n",
    "\n",
    "contain script to extract and manipulate data. It contains all the file format reader/writer...\n",
    "\n",
    "See [Chapter data manipulation in the index](../index.ipynb#Data-manipulation)\n",
    "\n",
    "No main script."
   ]
  },
  {
   "cell_type": "markdown",
   "metadata": {
    "slideshow": {
     "slide_type": "slide"
    }
   },
   "source": [
    "## postel\n",
    "\n",
    "Contains script to make plots. which will the main focus of this workshop.\n",
    "\n",
    "See [Postel chapter](../index.ipynb#Post-treatement) in the index.\n",
    "\n",
    "No main script."
   ]
  },
  {
   "cell_type": "markdown",
   "metadata": {
    "slideshow": {
     "slide_type": "slide"
    }
   },
   "source": [
    "# Extraction\n",
    "\n",
    "Now we are going to play with TelemacFile."
   ]
  },
  {
   "cell_type": "code",
   "execution_count": null,
   "metadata": {
    "collapsed": true,
    "slideshow": {
     "slide_type": "-"
    }
   },
   "outputs": [],
   "source": []
  },
  {
   "cell_type": "markdown",
   "metadata": {
    "slideshow": {
     "slide_type": "notes"
    }
   },
   "source": [
    "Show: \n",
    "\n",
    "   * How to open a file (with/without boundary file)\n",
    "   * Get times, list of variable, value at a given record , x, y...\n",
    "   * Show other extraction functions"
   ]
  },
  {
   "cell_type": "markdown",
   "metadata": {
    "slideshow": {
     "slide_type": "slide"
    }
   },
   "source": [
    "# Postel\n",
    "\n",
    "Based on matplotlib, numpy and scipy."
   ]
  },
  {
   "cell_type": "markdown",
   "metadata": {
    "slideshow": {
     "slide_type": "subslide"
    }
   },
   "source": [
    "## Usage\n",
    "\n",
    "Three ways to use postel:\n",
    "\n",
    "   * The Python script (not mush control over the plot but one line command).\n",
    "   * The generic function (A bit more control but not everything is handled).\n",
    "   * The do it yourself (full use of the library)."
   ]
  },
  {
   "cell_type": "markdown",
   "metadata": {
    "slideshow": {
     "slide_type": "subslide"
    }
   },
   "source": [
    "## plot.py\n",
    "\n",
    "This script can make some of the actions available from postel.\n",
    "\n",
    "See [One line command to plot](postel/plot.ipynb)"
   ]
  },
  {
   "cell_type": "code",
   "execution_count": 12,
   "metadata": {
    "collapsed": false,
    "execution": {
     "iopub.execute_input": "2022-12-01T13:53:30.225509Z",
     "iopub.status.busy": "2022-12-01T13:53:30.225290Z",
     "iopub.status.idle": "2022-12-01T13:53:30.976354Z",
     "shell.execute_reply": "2022-12-01T13:53:30.974529Z"
    },
    "slideshow": {
     "slide_type": "-"
    }
   },
   "outputs": [
    {
     "name": "stdout",
     "output_type": "stream",
     "text": [
      "usage: plot.py [-h]\r\n",
      "               {mesh2d,var,3d_scalar_map,v_slice,h_slice,time_poly,history,spec,spec-freq,spec-ang,report,poly}\r\n",
      "               ...\r\n",
      "\r\n",
      "positional arguments:\r\n",
      "  {mesh2d,var,3d_scalar_map,v_slice,h_slice,time_poly,history,spec,spec-freq,spec-ang,report,poly}\r\n",
      "                        plot command to do\r\n",
      "    mesh2d              Plot a 2d mesh can add boundary or liquid boundary\r\n",
      "                        info\r\n",
      "    var                 Plot a scalar map for a given variable and time/record\r\n",
      "    3d_scalar_map       Plot a 3d representation of a 2D variable using\r\n",
      "                        variable values as Z coordinates\r\n",
      "    v_slice             Plot a vertical slice of a 3d mesh along a polyline\r\n",
      "    h_slice             Plot a horizontal slice of a 3d mesh along a plane\r\n",
      "                        number\r\n",
      "    time_poly           Plot a timeseries on a polyline\r\n",
      "    history             Plot history for a list of points\r\n",
      "    spec                Plot the spectrum of a given point over quandrangle\r\n",
      "                        mesh\r\n",
      "    spec-freq           Plot the frequency of the spectrum of given points\r\n",
      "    spec-ang            Plot the angular dispersion of the spectrum of given\r\n",
      "                        points\r\n",
      "    report              Plot data from validation report\r\n",
      "    poly                Plot history for a list of points\r\n",
      "\r\n",
      "optional arguments:\r\n",
      "  -h, --help            show this help message and exit\r\n"
     ]
    }
   ],
   "source": [
    "!plot.py -h"
   ]
  },
  {
   "cell_type": "markdown",
   "metadata": {
    "slideshow": {
     "slide_type": "subslide"
    }
   },
   "source": [
    "## Generic plot functions\n",
    "\n",
    "Can be found in postel.plot_vnv\n",
    "\n",
    "Are used in validation test cases.\n",
    "\n",
    "Take as input a TelemacFile."
   ]
  },
  {
   "cell_type": "code",
   "execution_count": null,
   "metadata": {
    "collapsed": true,
    "slideshow": {
     "slide_type": "-"
    }
   },
   "outputs": [],
   "source": []
  },
  {
   "cell_type": "markdown",
   "metadata": {
    "slideshow": {
     "slide_type": "notes"
    }
   },
   "source": [
    "Example of vnv_plot2d for a mesh and vector ?"
   ]
  },
  {
   "cell_type": "markdown",
   "metadata": {
    "slideshow": {
     "slide_type": "subslide"
    }
   },
   "source": [
    "## Do it yourself\n",
    "\n",
    "Here is the core of postel.\n",
    "\n",
    "The code is usually divided in 5 parts:\n",
    "\n",
    "* Imports\n",
    "* Extraction\n",
    "* Init plot\n",
    "* plottting\n",
    "* Closing"
   ]
  },
  {
   "cell_type": "code",
   "execution_count": null,
   "metadata": {
    "collapsed": true,
    "slideshow": {
     "slide_type": "-"
    }
   },
   "outputs": [],
   "source": []
  },
  {
   "cell_type": "code",
   "execution_count": null,
   "metadata": {
    "collapsed": true,
    "slideshow": {
     "slide_type": "-"
    }
   },
   "outputs": [],
   "source": []
  },
  {
   "cell_type": "code",
   "execution_count": null,
   "metadata": {
    "collapsed": true,
    "slideshow": {
     "slide_type": "-"
    }
   },
   "outputs": [],
   "source": []
  },
  {
   "cell_type": "code",
   "execution_count": null,
   "metadata": {
    "collapsed": true,
    "slideshow": {
     "slide_type": "-"
    }
   },
   "outputs": [],
   "source": []
  },
  {
   "cell_type": "code",
   "execution_count": null,
   "metadata": {
    "collapsed": true,
    "slideshow": {
     "slide_type": "-"
    }
   },
   "outputs": [],
   "source": []
  },
  {
   "cell_type": "markdown",
   "metadata": {
    "slideshow": {
     "slide_type": "notes"
    }
   },
   "source": [
    "Show examples for mesh, mesh + liquid boundary plot on points plot on polyline, scallar map "
   ]
  },
  {
   "cell_type": "markdown",
   "metadata": {
    "slideshow": {
     "slide_type": "slide"
    }
   },
   "source": [
    "# Your turn to work\n",
    "\n",
    "[exercises](index.ipynb)"
   ]
  }
 ],
 "metadata": {
  "celltoolbar": "Slideshow",
  "kernelspec": {
   "display_name": "Python 3",
   "language": "python",
   "name": "python3"
  },
  "language_info": {
   "codemirror_mode": {
    "name": "ipython",
    "version": 3
   },
   "file_extension": ".py",
   "mimetype": "text/x-python",
   "name": "python",
   "nbconvert_exporter": "python",
   "pygments_lexer": "ipython3",
   "version": "3.7.13"
  }
 },
 "nbformat": 4,
 "nbformat_minor": 2
}
