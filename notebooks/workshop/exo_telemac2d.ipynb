{
 "cells": [
  {
   "cell_type": "markdown",
   "metadata": {},
   "source": [
    "# Modelling tide with TELEMAC-2D: Normandy beach from Pointe du Hoc to Villers sur mer\n",
    "\n",
    "\n",
    "Below is the file you will use and the import you will need."
   ]
  },
  {
   "cell_type": "code",
   "execution_count": 1,
   "metadata": {
    "collapsed": true,
    "execution": {
     "iopub.execute_input": "2022-12-01T13:53:34.840153Z",
     "iopub.status.busy": "2022-12-01T13:53:34.839249Z",
     "iopub.status.idle": "2022-12-01T13:53:35.407120Z",
     "shell.execute_reply": "2022-12-01T13:53:35.406558Z"
    }
   },
   "outputs": [],
   "source": [
    "from os import environ, path\n",
    "import matplotlib.pyplot as plt\n",
    "from data_manip.extraction.telemac_file import TelemacFile\n",
    "from postel.plot2d import *\n",
    "from postel.plot1d import *\n",
    "\n",
    "# Path to result file\n",
    "geo_file = path.join(environ['HOMETEL'],'notebooks','workshop','data','r2d_tide-ES_VE95.slf')\n",
    "bnd_file = path.join(environ['HOMETEL'],'notebooks','workshop','data','geo_plages_Caen_light.cli')"
   ]
  },
  {
   "cell_type": "markdown",
   "metadata": {},
   "source": [
    "The aim of this example is to plot some results from tide propagation computation."
   ]
  },
  {
   "cell_type": "markdown",
   "metadata": {},
   "source": [
    "## Exo 1\n",
    "\n",
    "First, display the computation model (mesh with liquid boundary information)."
   ]
  },
  {
   "cell_type": "code",
   "execution_count": null,
   "metadata": {
    "collapsed": false
   },
   "outputs": [],
   "source": []
  },
  {
   "cell_type": "markdown",
   "metadata": {
    "collapsed": true
   },
   "source": [
    "Then, plot the boundary conditions on mesh instead of the liquid boundary information."
   ]
  },
  {
   "cell_type": "code",
   "execution_count": null,
   "metadata": {
    "collapsed": false
   },
   "outputs": [],
   "source": []
  },
  {
   "cell_type": "markdown",
   "metadata": {},
   "source": [
    "## Exo 2\n",
    "\n",
    "Now, from the result file, the free surface elevation is displayed at different time steps.\n",
    "Plot them all on the same figure (using subplots arguments).\n",
    "\n",
    "You can see the list of time steps in the file with \"res.times\".\n",
    "\n",
    "And \"res.varnames\" to get the list of variables in the file.\n",
    "\n",
    "Use a loop to simplify your code."
   ]
  },
  {
   "cell_type": "code",
   "execution_count": null,
   "metadata": {
    "collapsed": false
   },
   "outputs": [],
   "source": []
  },
  {
   "cell_type": "markdown",
   "metadata": {},
   "source": [
    "## Exo 4\n",
    "\n",
    "Now, plot the velocity field (as vectors) on top of the free surface elevation graph."
   ]
  },
  {
   "cell_type": "code",
   "execution_count": null,
   "metadata": {
    "collapsed": false
   },
   "outputs": [],
   "source": []
  },
  {
   "cell_type": "markdown",
   "metadata": {},
   "source": [
    "## Exo 5\n",
    "\n",
    "Now we would like to extract the timeseries and plot it for the points:\n",
    "\n",
    " (448372, 6927804) and (464500, 6916000)"
   ]
  },
  {
   "cell_type": "code",
   "execution_count": null,
   "metadata": {
    "collapsed": false
   },
   "outputs": [],
   "source": []
  }
 ],
 "metadata": {
  "kernelspec": {
   "display_name": "Python 3",
   "language": "python",
   "name": "python3"
  },
  "language_info": {
   "codemirror_mode": {
    "name": "ipython",
    "version": 3
   },
   "file_extension": ".py",
   "mimetype": "text/x-python",
   "name": "python",
   "nbconvert_exporter": "python",
   "pygments_lexer": "ipython3",
   "version": "3.7.13"
  }
 },
 "nbformat": 4,
 "nbformat_minor": 2
}
