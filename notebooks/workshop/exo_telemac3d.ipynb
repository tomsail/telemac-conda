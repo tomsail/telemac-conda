{
 "cells": [
  {
   "cell_type": "markdown",
   "metadata": {},
   "source": [
    "# Telemac3d exercise\n",
    "\n",
    "\n",
    "We are going to work with the telemac3d test case source.git a"
   ]
  },
  {
   "cell_type": "code",
   "execution_count": 1,
   "metadata": {
    "collapsed": false,
    "execution": {
     "iopub.execute_input": "2022-12-01T13:53:36.534332Z",
     "iopub.status.busy": "2022-12-01T13:53:36.533475Z",
     "iopub.status.idle": "2022-12-01T13:53:37.102454Z",
     "shell.execute_reply": "2022-12-01T13:53:37.101845Z"
    }
   },
   "outputs": [],
   "source": [
    "from data_manip.extraction.telemac_file import TelemacFile\n",
    "from data_manip.computation.triangulation import\\\n",
    "                triangulation_from_data\n",
    "from postel.plot2d import plot2d_vectors, plot2d_scalar_filled_contour\n",
    "import matplotlib.pyplot as plt\n",
    "import numpy as np\n",
    "from os import path, environ\n",
    "\n",
    "file_name = path.join(environ['HOMETEL'], \n",
    "                      'notebooks',\n",
    "                      'workshop',\n",
    "                      'data', \n",
    "                      'r3d_source.slf')"
   ]
  },
  {
   "cell_type": "markdown",
   "metadata": {},
   "source": [
    "## Exo1\n",
    "\n",
    "Plot the value of norm of the velocity in s scalar filled contour and on top of that plot the vectors for the file \"file_name\".\n",
    "\n",
    "For the third plane and record 5."
   ]
  },
  {
   "cell_type": "code",
   "execution_count": null,
   "metadata": {
    "collapsed": false
   },
   "outputs": [],
   "source": []
  },
  {
   "cell_type": "markdown",
   "metadata": {},
   "source": [
    "## Exo 2\n",
    "\n",
    "Plot the value of the three tracers in the file at the last record for the first plane."
   ]
  },
  {
   "cell_type": "code",
   "execution_count": null,
   "metadata": {
    "collapsed": false
   },
   "outputs": [],
   "source": []
  },
  {
   "cell_type": "markdown",
   "metadata": {},
   "source": [
    "## Exo3"
   ]
  },
  {
   "cell_type": "code",
   "execution_count": 2,
   "metadata": {
    "collapsed": true,
    "execution": {
     "iopub.execute_input": "2022-12-01T13:53:37.105778Z",
     "iopub.status.busy": "2022-12-01T13:53:37.105531Z",
     "iopub.status.idle": "2022-12-01T13:53:37.108270Z",
     "shell.execute_reply": "2022-12-01T13:53:37.107869Z"
    }
   },
   "outputs": [],
   "source": [
    "poly = [[-50, 0], [50, 0]]"
   ]
  },
  {
   "cell_type": "markdown",
   "metadata": {},
   "source": [
    "Plot a vertical slice for each tracer at the last record.\n",
    "\n",
    "Discretize the polyline using a TelemacFile function."
   ]
  },
  {
   "cell_type": "code",
   "execution_count": null,
   "metadata": {
    "collapsed": false
   },
   "outputs": [],
   "source": []
  }
 ],
 "metadata": {
  "kernelspec": {
   "display_name": "Python 3",
   "language": "python",
   "name": "python3"
  },
  "language_info": {
   "codemirror_mode": {
    "name": "ipython",
    "version": 3
   },
   "file_extension": ".py",
   "mimetype": "text/x-python",
   "name": "python",
   "nbconvert_exporter": "python",
   "pygments_lexer": "ipython3",
   "version": "3.7.13"
  }
 },
 "nbformat": 4,
 "nbformat_minor": 2
}
