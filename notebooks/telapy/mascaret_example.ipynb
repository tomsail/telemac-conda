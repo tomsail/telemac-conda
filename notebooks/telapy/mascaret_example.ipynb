{
 "cells": [
  {
   "cell_type": "markdown",
   "metadata": {},
   "source": [
    "This is intended for people who want an example showing how to run Mascaret in an interactive mode with the help of the Python programming language."
   ]
  },
  {
   "cell_type": "markdown",
   "metadata": {},
   "source": [
    "# Import Mascaret as a Python module"
   ]
  },
  {
   "cell_type": "code",
   "execution_count": 1,
   "metadata": {
    "execution": {
     "iopub.execute_input": "2022-12-01T13:52:36.198681Z",
     "iopub.status.busy": "2022-12-01T13:52:36.197804Z",
     "iopub.status.idle": "2022-12-01T13:52:36.291738Z",
     "shell.execute_reply": "2022-12-01T13:52:36.291171Z"
    }
   },
   "outputs": [],
   "source": [
    "import telapy.api.masc"
   ]
  },
  {
   "cell_type": "markdown",
   "metadata": {},
   "source": [
    "The module 'telapy.api.masc' is located in the '$HOMETEL/scripts/python3/telapy/api' directory. If an error occurs while attempting to import, check the value of the environment variable PYTHONPATH."
   ]
  },
  {
   "cell_type": "markdown",
   "metadata": {},
   "source": [
    "# Creation of a model (instantiation)"
   ]
  },
  {
   "cell_type": "markdown",
   "metadata": {},
   "source": [
    "The creation of a model consists in the creation of an instance and the Fortran memory allocation\n",
    "The argument \"iprint\" indicates if listing file will be writing (iprint = 1) or not (iprint = 0)"
   ]
  },
  {
   "cell_type": "code",
   "execution_count": 2,
   "metadata": {
    "execution": {
     "iopub.execute_input": "2022-12-01T13:52:36.294357Z",
     "iopub.status.busy": "2022-12-01T13:52:36.294132Z",
     "iopub.status.idle": "2022-12-01T13:52:36.305500Z",
     "shell.execute_reply": "2022-12-01T13:52:36.305042Z"
    }
   },
   "outputs": [
    {
     "name": "stderr",
     "output_type": "stream",
     "text": [
      "INFO:telapy.api.masc:Using MascaretApi\n"
     ]
    },
    {
     "name": "stderr",
     "output_type": "stream",
     "text": [
      "INFO:telapy.api.masc:Loading libmascaret.so...\n"
     ]
    },
    {
     "name": "stderr",
     "output_type": "stream",
     "text": [
      "INFO:telapy.api.masc:Library loaded.\n"
     ]
    },
    {
     "name": "stderr",
     "output_type": "stream",
     "text": [
      "INFO:telapy.api.masc:Using MascaretApi\n"
     ]
    },
    {
     "name": "stderr",
     "output_type": "stream",
     "text": [
      "INFO:telapy.api.masc:Loading libmascaret.so...\n"
     ]
    },
    {
     "name": "stderr",
     "output_type": "stream",
     "text": [
      "INFO:telapy.api.masc:Library loaded.\n"
     ]
    },
    {
     "name": "stdout",
     "output_type": "stream",
     "text": [
      "Instance # 1\n",
      "Instance # 2\n"
     ]
    }
   ],
   "source": [
    "from telapy.api.masc import Mascaret\n",
    "\n",
    "# Creation of a model in the instance 1\n",
    "masc = Mascaret()\n",
    "masc.create_mascaret(iprint=1)\n",
    "print('Instance #', masc.id_masc.value)\n",
    "\n",
    "# Creation of another model in the instance 2\n",
    "masc_2 = Mascaret()\n",
    "masc_2.create_mascaret(iprint=0)\n",
    "print('Instance #', masc_2.id_masc.value)"
   ]
  },
  {
   "cell_type": "markdown",
   "metadata": {},
   "source": [
    "# Prepare path and files for simulation"
   ]
  },
  {
   "cell_type": "code",
   "execution_count": 3,
   "metadata": {
    "execution": {
     "iopub.execute_input": "2022-12-01T13:52:36.307593Z",
     "iopub.status.busy": "2022-12-01T13:52:36.307408Z",
     "iopub.status.idle": "2022-12-01T13:52:36.311763Z",
     "shell.execute_reply": "2022-12-01T13:52:36.311278Z"
    }
   },
   "outputs": [],
   "source": [
    "# Changing of directory : 'examples' directory of the Telemac sources\n",
    "import os\n",
    "HOMETEL = os.environ.get('HOMETEL')\n",
    "os.chdir(HOMETEL + '/examples/mascaret/2_Singular_Headloss')\n",
    "\n",
    "# Mascaret files:\n",
    "#  - files_name : list of file names needed for the simulation\n",
    "#  - files_type : list of the extension of files (with same index)\n",
    "# Warning : for listin file the extension is 'listing'\n",
    "files_name = ['mascaret.xcas', 'geometrie', 'hydrogramme.loi',\n",
    "              'limnigramme.loi', 'mascaret0.lis', 'mascaret0.opt',\n",
    "              'init.lig']\n",
    "files_type = ['xcas', 'geo', 'loi', 'loi', 'listing', 'res', 'lig']\n",
    "\n",
    "# The two lists can be encapsulated in a single one\n",
    "study_files = [files_name, files_type]\n",
    "\n",
    "#  Mascaret files & import for second instance\n",
    "files_name_2 = ['sarap.xcas', 'geometrie', 'hydrogramme.loi',\n",
    "              'limnigramme.loi', 'mascaret0.lis', 'mascaret0.opt']\n",
    "files_type_2 = ['xcas', 'geo', 'loi', 'loi', 'listing', 'res']\n",
    "study_files_2 = [files_name_2, files_type_2]\n"
   ]
  },
  {
   "cell_type": "markdown",
   "metadata": {},
   "source": [
    "# Import model from existing files"
   ]
  },
  {
   "cell_type": "markdown",
   "metadata": {},
   "source": [
    "The method \"import_model\" reads the steering case and open input and output files"
   ]
  },
  {
   "cell_type": "code",
   "execution_count": 4,
   "metadata": {
    "execution": {
     "iopub.execute_input": "2022-12-01T13:52:36.313819Z",
     "iopub.status.busy": "2022-12-01T13:52:36.313636Z",
     "iopub.status.idle": "2022-12-01T13:52:36.447962Z",
     "shell.execute_reply": "2022-12-01T13:52:36.447509Z"
    }
   },
   "outputs": [
    {
     "name": "stderr",
     "output_type": "stream",
     "text": [
      "INFO:telapy.api.masc:Model imported with:\n",
      "-> file_name: [b'mascaret.xcas', b'geometrie', b'hydrogramme.loi', b'limnigramme.loi', b'mascaret0.lis', b'mascaret0.opt', b'init.lig']\n",
      "-> file_type: [b'xcas', b'geo', b'loi', b'loi', b'listing', b'res', b'lig'].\n"
     ]
    },
    {
     "name": "stderr",
     "output_type": "stream",
     "text": [
      "INFO:telapy.api.masc:Model imported with:\n",
      "-> file_name: [b'sarap.xcas', b'geometrie', b'hydrogramme.loi', b'limnigramme.loi', b'mascaret0.lis', b'mascaret0.opt']\n",
      "-> file_type: [b'xcas', b'geo', b'loi', b'loi', b'listing', b'res'].\n"
     ]
    }
   ],
   "source": [
    "# import model 1\n",
    "masc.import_model(study_files[0], study_files[1])\n",
    "\n",
    "# import model 2\n",
    "masc_2.import_model(study_files_2[0], study_files_2[1])"
   ]
  },
  {
   "cell_type": "markdown",
   "metadata": {},
   "source": [
    "# Initialization of the model"
   ]
  },
  {
   "cell_type": "markdown",
   "metadata": {},
   "source": [
    "A Mascaret model in Python can be initialize : \n",
    " - from Lidop file (.lig) with \"init_hydro_from_file\" method \n",
    " - with lists for Q (discharge) and Z (free surface elevation) at T=0 with \"init_hydro\" method\n",
    "\n",
    "This second way to initialize the model is the occasion to introduce the method \"get_var_size\" which is returning the size of a variable for every dimension of the variable (max 3 dimensions)."
   ]
  },
  {
   "cell_type": "code",
   "execution_count": 5,
   "metadata": {
    "execution": {
     "iopub.execute_input": "2022-12-01T13:52:36.450090Z",
     "iopub.status.busy": "2022-12-01T13:52:36.449906Z",
     "iopub.status.idle": "2022-12-01T13:52:36.454852Z",
     "shell.execute_reply": "2022-12-01T13:52:36.454314Z"
    }
   },
   "outputs": [
    {
     "name": "stdout",
     "output_type": "stream",
     "text": [
      "500\n",
      "Number of sections in model #2 : 500 \n",
      "\n",
      "Help on method get_var_size in module telapy.api.masc:\n",
      "\n",
      "get_var_size(var_name, index=0) method of telapy.api.masc.Mascaret instance\n",
      "    Get the size(s) of a Mascaret variable\n",
      "    \n",
      "    Use Mascaret Api :meth:`C_GET_TAILLE_VAR_MASCARET`\n",
      "    \n",
      "    @param var_name (str) name of the Mascaret variable\n",
      "    @param index (int) only for cross-sections, graphs, weirs,\n",
      "                      junctions, storage areas\n",
      "    @return (int, int, int) sizes\n",
      "\n",
      "Help on method init_hydro in module telapy.api.masc:\n",
      "\n",
      "init_hydro(z_val, q_val) method of telapy.api.masc.Mascaret instance\n",
      "    Initialize the model from hydraulic values\n",
      "    \n",
      "    Mascaret Api :meth:`C_INIT_LIGNE_MASCARET`\n",
      "    \n",
      "    @param z_val (list or array) water levels (m)\n",
      "    @param q_val (list or array) discharges (m3/s)\n",
      "\n"
     ]
    }
   ],
   "source": [
    "# Initialization with init_hydro_from_file\n",
    "masc.init_hydro_from_file('init.lig')\n",
    "\n",
    "# Initialization of the second instance with init_hydro\n",
    "npoin_2 = masc_2.get_var_size('Model.X')[0]\n",
    "print(npoin_2)\n",
    "print(\"Number of sections in model #2 :\", npoin_2, \"\\n\")\n",
    "help(masc_2.get_var_size)\n",
    "\n",
    "z_val = [0.]*npoin_2\n",
    "q_val = [0.]*npoin_2\n",
    "masc_2.init_hydro(z_val, q_val)\n",
    "\n",
    "help(masc_2.init_hydro)"
   ]
  },
  {
   "cell_type": "markdown",
   "metadata": {},
   "source": [
    "# Get the number of time steps"
   ]
  },
  {
   "cell_type": "code",
   "execution_count": 6,
   "metadata": {
    "execution": {
     "iopub.execute_input": "2022-12-01T13:52:36.456925Z",
     "iopub.status.busy": "2022-12-01T13:52:36.456742Z",
     "iopub.status.idle": "2022-12-01T13:52:36.459993Z",
     "shell.execute_reply": "2022-12-01T13:52:36.459507Z"
    }
   },
   "outputs": [
    {
     "name": "stdout",
     "output_type": "stream",
     "text": [
      "Help on method get in module telapy.api.masc:\n",
      "\n",
      "get(varname, i=0, j=0, k=0) method of telapy.api.masc.Mascaret instance\n",
      "    Get the value of a variable of Mascaret\n",
      "    \n",
      "    @param varname (str) Name of the variable\n",
      "    @param i (int) index on first dimension\n",
      "    @param j (int) index on second dimension\n",
      "    @param k (int) index on third dimension\n",
      "    \n",
      "    @return scalar value\n",
      "\n"
     ]
    }
   ],
   "source": [
    "help(masc.get)"
   ]
  },
  {
   "cell_type": "code",
   "execution_count": 7,
   "metadata": {
    "execution": {
     "iopub.execute_input": "2022-12-01T13:52:36.461838Z",
     "iopub.status.busy": "2022-12-01T13:52:36.461657Z",
     "iopub.status.idle": "2022-12-01T13:52:36.465099Z",
     "shell.execute_reply": "2022-12-01T13:52:36.464663Z"
    }
   },
   "outputs": [
    {
     "name": "stdout",
     "output_type": "stream",
     "text": [
      "Number of time steps in model #1 : 2000\n"
     ]
    }
   ],
   "source": [
    "number_of_time_steps = masc.get('Model.MaxNbTimeStep', 1, 0, 0)\n",
    "print(\"Number of time steps in model #1 :\", number_of_time_steps)"
   ]
  },
  {
   "cell_type": "markdown",
   "metadata": {},
   "source": [
    "# Simulation and extract results\n",
    "\n",
    "## 1.1 model #2 : Steady state computation with one step"
   ]
  },
  {
   "cell_type": "code",
   "execution_count": 8,
   "metadata": {
    "execution": {
     "iopub.execute_input": "2022-12-01T13:52:36.467005Z",
     "iopub.status.busy": "2022-12-01T13:52:36.466810Z",
     "iopub.status.idle": "2022-12-01T13:52:36.478883Z",
     "shell.execute_reply": "2022-12-01T13:52:36.478339Z"
    }
   },
   "outputs": [],
   "source": [
    "masc_2.compute(0., 1., 1.)"
   ]
  },
  {
   "cell_type": "markdown",
   "metadata": {},
   "source": [
    "## 1.2 model #2 : Get some results and draw them in a graph"
   ]
  },
  {
   "cell_type": "code",
   "execution_count": 9,
   "metadata": {
    "execution": {
     "iopub.execute_input": "2022-12-01T13:52:36.481095Z",
     "iopub.status.busy": "2022-12-01T13:52:36.480912Z",
     "iopub.status.idle": "2022-12-01T13:52:36.493675Z",
     "shell.execute_reply": "2022-12-01T13:52:36.493160Z"
    }
   },
   "outputs": [],
   "source": [
    "z_res, q_res = masc_2.get_hydro()\n",
    "\n",
    "x_2 = []\n",
    "\n",
    "for i in range(npoin_2):\n",
    "    x_2.append(masc.get('Model.X', i, 1, 0))\n"
   ]
  },
  {
   "cell_type": "code",
   "execution_count": 10,
   "metadata": {
    "execution": {
     "iopub.execute_input": "2022-12-01T13:52:36.495684Z",
     "iopub.status.busy": "2022-12-01T13:52:36.495502Z",
     "iopub.status.idle": "2022-12-01T13:52:37.109099Z",
     "shell.execute_reply": "2022-12-01T13:52:37.108605Z"
    }
   },
   "outputs": [
    {
     "data": {
      "image/png": "[encoded data removed]",
      "text/plain": [
       "<Figure size 720x720 with 2 Axes>"
      ]
     },
     "metadata": {
      "needs_background": "light"
     },
     "output_type": "display_data"
    }
   ],
   "source": [
    "%matplotlib inline\n",
    "from matplotlib import pyplot as plt\n",
    "from postel.plot1d import plot1d\n",
    "\n",
    "#Initialising figure\n",
    "fig, (ax1,ax2) = plt.subplots(2,1,figsize=(10,10))\n",
    "\n",
    "plot1d(ax1, x_2, z_res, \n",
    "       x_label='abscissa (m)',\n",
    "       y_label='free surface elevation (m)', \n",
    "       plot_label='Model #2 - Permanent Kernel (Sarap)')\n",
    "\n",
    "plot1d(ax2, x_2, q_res, \n",
    "       x_label='abscissa (m)',\n",
    "       y_label='discharge (m3/s)', \n",
    "       plot_label='Model #2 - Permanent Kernel (Sarap)')\n",
    "\n",
    "ax1.set_ylim(min(z_res), max(z_res))\n",
    "\n",
    "# Displaying legend\n",
    "ax1.legend()\n",
    "ax2.legend()\n",
    "\n",
    "# Showing figure\n",
    "plt.show()\n",
    "\n",
    "del(masc_2)"
   ]
  },
  {
   "cell_type": "markdown",
   "metadata": {},
   "source": [
    "## 2. model #1 : Computation with loop and dynamic extraction"
   ]
  },
  {
   "cell_type": "code",
   "execution_count": 11,
   "metadata": {
    "execution": {
     "iopub.execute_input": "2022-12-01T13:52:37.111282Z",
     "iopub.status.busy": "2022-12-01T13:52:37.111062Z",
     "iopub.status.idle": "2022-12-01T13:52:37.678574Z",
     "shell.execute_reply": "2022-12-01T13:52:37.678003Z"
    }
   },
   "outputs": [
    {
     "data": {
      "image/png": "[encoded data removed]",
      "text/plain": [
       "<Figure size 720x360 with 1 Axes>"
      ]
     },
     "metadata": {
      "needs_background": "light"
     },
     "output_type": "display_data"
    }
   ],
   "source": [
    "# Steady state computation with one step\n",
    "output_freq = 1000\n",
    "T_init = 0\n",
    "T_end = output_freq\n",
    "\n",
    "npoin = masc.get_var_size('Model.X')[0]\n",
    "\n",
    "X_1 = []\n",
    "for i in range(npoin):\n",
    "    X_1.append(masc.get('Model.X', i, 1, 0))\n",
    "\n",
    "\n",
    "long_profiles = []\n",
    "times = []\n",
    "for i in range(0, number_of_time_steps + 1, output_freq):\n",
    "    long_profile = []\n",
    "    masc.compute(T_init, T_end, 1.)\n",
    "    for j in range(npoin):\n",
    "        long_profile.append(masc.get('State.Z', j, 1, 0))\n",
    "    T_init = T_end\n",
    "    T_end += output_freq\n",
    "    long_profiles.append(long_profile)\n",
    "    times.append(i)\n",
    "\n",
    "#Initialising figure\n",
    "fig, ax = plt.subplots(figsize=(10,5))\n",
    "    \n",
    "for i, profile in enumerate(long_profiles):\n",
    "    plot1d(ax, X_1, profile, \n",
    "           x_label='abscisa (m)',\n",
    "           y_label='free surface elevation (m)', \n",
    "           plot_label='T = {}s'.format(times[i]))\n",
    "\n",
    "# Displaying legend\n",
    "ax.legend()\n",
    "\n",
    "# Showing figure\n",
    "plt.show()\n",
    "\n",
    "del(plt)\n",
    "del(masc)"
   ]
  }
 ],
 "metadata": {
  "kernelspec": {
   "display_name": "Python 3",
   "language": "python",
   "name": "python3"
  },
  "language_info": {
   "codemirror_mode": {
    "name": "ipython",
    "version": 3
   },
   "file_extension": ".py",
   "mimetype": "text/x-python",
   "name": "python",
   "nbconvert_exporter": "python",
   "pygments_lexer": "ipython3",
   "version": "3.7.13"
  }
 },
 "nbformat": 4,
 "nbformat_minor": 1
}
