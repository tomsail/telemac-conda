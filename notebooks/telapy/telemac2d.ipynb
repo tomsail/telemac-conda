{
 "cells": [
  {
   "cell_type": "markdown",
   "metadata": {},
   "source": [
    "<span style=\"float:left;\">Licence CC BY-SA</span><span style=\"float:right;\">Fabrice Zaoui&nbsp;</span><br/>\n",
    "___"
   ]
  },
  {
   "cell_type": "markdown",
   "metadata": {},
   "source": [
    "This tutorial is intended for people who want to run Telemac 2D in an interactive mode with the help of the Python programming language. The interactive mode means that communication with Telemac becomes possible throughout the simulation without having to stop it. One can easily set or get the value of any variables at each time step with the help of special communication functions: the [Application Programming Interfaces](https://en.wikipedia.org/wiki/Application_programming_interface) (API).\n",
    "\n",
    "By using the APIs, research and engineering with Telemac is encouraged in every fields where communication is crucial: optimization, code coupling, control system, sensitivity analysis and so on."
   ]
  },
  {
   "cell_type": "markdown",
   "metadata": {},
   "source": [
    "# Telemac 2D as a Python module"
   ]
  },
  {
   "cell_type": "markdown",
   "metadata": {},
   "source": [
    "## Building the interface"
   ]
  },
  {
   "cell_type": "markdown",
   "metadata": {},
   "source": [
    "When using Telemac in a classic way (i.e. without API), you first have to compile all the Fortran sources of Telemac with (for example) the following command:"
   ]
  },
  {
   "cell_type": "code",
   "execution_count": 1,
   "metadata": {
    "execution": {
     "iopub.execute_input": "2022-12-01T13:52:38.733220Z",
     "iopub.status.busy": "2022-12-01T13:52:38.732430Z",
     "iopub.status.idle": "2022-12-01T13:53:11.737153Z",
     "shell.execute_reply": "2022-12-01T13:53:11.734763Z"
    }
   },
   "outputs": [
    {
     "name": "stdout",
     "output_type": "stream",
     "text": [
      "\r\n",
      "\r\n",
      "Loading Options and Configurations\r\n",
      "~~~~~~~~~~~~~~~~~~~~~~~~~~~~~~~~~~~~~~~~~~~~~~~~~~~~~~~~~~~~~~~~~~~~~~~~\r\n",
      "\r\n",
      "          ___          _  _   \r\n",
      "         / _ \\        | || |  \r\n",
      " __   __| (_) | _ __  | || |_ \r\n",
      " \\ \\ / / > _ < | '_ \\ |__   _|\r\n",
      "  \\ V / | (_) || |_) |   | |  \r\n",
      "   \\_/   \\___/ | .__/    |_|  \r\n",
      "               | |            \r\n",
      "               |_|            \r\n",
      "\r\n",
      "   _____  __   ___              __               _                               _               \r\n",
      "  / ____|/_ | / _ \\            / _|             | |                             | |              \r\n",
      " | (___   | || | | |     __ _ | |_   ___   _ __ | |_  _ __   __ _  _ __       __| | _   _  _ __  \r\n",
      "  \\___ \\  | || | | |    / _` ||  _| / _ \\ | '__|| __|| '__| / _` || '_ \\     / _` || | | || '_ \\ \r\n",
      "  ____) | | || |_| | _ | (_| || |  | (_) || |   | |_ | |   | (_| || | | | _ | (_| || |_| || | | |\r\n",
      " |_____/  |_| \\___/ (_) \\__, ||_|   \\___/ |_|    \\__||_|    \\__,_||_| |_|(_) \\__,_| \\__, ||_| |_|\r\n",
      "                         __/ |                                                       __/ |       \r\n",
      "                        |___/                                                       |___/        \r\n",
      "\r\n",
      "Scanning the source code for:\r\n",
      "~~~~~~~~~~~~~~~~~~~~~~~~~~~~~~~~~~~~~~~~~~~~~~~~~~~~~~~~~~~~~~~~~~~~~~~~\r\n",
      "\r\n",
      "\r\n",
      "\r\n",
      "~~~~~~~~~~~~~~~~~~~~~~~~~~~~~~~~~~~~~~~~~~~~~~~~~~~~~~~~~~~~~~~~~~~~~~~~\r\n",
      "\r\n",
      "S10.gfortran.dyn: \r\n",
      "    \r\n",
      "\r\n",
      "    +> Scibian 10 dynamic build using GFortran 8.3.0 and Open MPI.\r\n",
      "\r\n",
      "    +> root:    /home/d60881/telemac-mascaret\r\n",
      "    +> module: ad / api / artemis / bief\r\n",
      "               damocles  / gaia  / gretel  / hermes\r\n",
      "               identify_liq_bnd  / khione  / mascaret  / nestor\r\n",
      "               parallel  / partel  / postel3d  / sisyphe\r\n",
      "               special  / stbtel  / telemac2d  / telemac3d\r\n",
      "               tomawac / waqtel\r\n"
     ]
    },
    {
     "name": "stdout",
     "output_type": "stream",
     "text": [
      "\r\n",
      "\r\n",
      "Compiling from the tree top api plus dependents\r\n",
      "~~~~~~~~~~~~~~~~~~~~~~~~~~~~~~~~~~~~~~~~~~~~~~~~~~~~~~~~~~~~~~~~~~~~~~~~\r\n",
      "\r\n"
     ]
    },
    {
     "name": "stdout",
     "output_type": "stream",
     "text": [
      "        +> Compile / Assemble / Link\r\n",
      "[                                                                ]   0%  | ---s\r",
      "                                                                               \r",
      "    - completed: .../telemac-mascaret/sources/utils/special/declarations_special.F\r\n",
      "[                                                                ]   0%  | ---s\r",
      "[\\\\\\                                                               ]   5%  | 1s\r"
     ]
    },
    {
     "name": "stdout",
     "output_type": "stream",
     "text": [
      "                                                                               \r",
      "    - completed: .../telemac-mascaret/sources/tomawac/declarations_tomawac.f\r\n",
      "[\\\\\\                                                               ]   5%  | 2s\r",
      "[\\\\\\\\\\\\                                                            ]  10%  | 1s\r"
     ]
    },
    {
     "name": "stdout",
     "output_type": "stream",
     "text": [
      "                                                                               \r",
      "    - completed: .../telemac-mascaret/sources/khione/declarations_khione.f\r\n",
      "[\\\\\\\\\\\\                                                            ]  10%  | 5s\r",
      "[\\\\\\\\\\\\\\\\\\\\                                                        ]  15%  | 3s\r",
      "                                                                               \r",
      "    - completed: .../telemac-mascaret/sources/tomawac/wac_init.F\r\n",
      "[\\\\\\\\\\\\\\\\\\\\                                                        ]  15%  | 3s\r",
      "[\\\\\\\\\\\\\\\\\\\\\\\\\\                                                     ]  21%  | 2s\r",
      "                                                                               \r",
      "    - completed: .../telemac-mascaret/sources/tomawac/semimp.f\r\n",
      "[\\\\\\\\\\\\\\\\\\\\\\\\\\                                                     ]  21%  | 2s\r",
      "[\\\\\\\\\\\\\\\\\\\\\\\\\\\\\\\\\\                                                 ]  26%  | 2s\r"
     ]
    },
    {
     "name": "stdout",
     "output_type": "stream",
     "text": [
      "                                                                               \r",
      "    - completed: .../telemac-mascaret/sources/khione/freezeup_khione.f\r\n",
      "[\\\\\\\\\\\\\\\\\\\\\\\\\\\\\\\\\\                                                 ]  26%  | 4s\r",
      "[\\\\\\\\\\\\\\\\\\\\\\\\\\\\\\\\\\\\\\\\                                              ]  31%  | 3s\r",
      "                                                                               \r",
      "    - completed: .../telemac-mascaret/sources/khione/border_icover.f\r\n",
      "[\\\\\\\\\\\\\\\\\\\\\\\\\\\\\\\\\\\\\\\\                                              ]  31%  | 3s\r",
      "[\\\\\\\\\\\\\\\\\\\\\\\\\\\\\\\\\\\\\\\\\\\\\\\\                                          ]  36%  | 3s\r"
     ]
    },
    {
     "name": "stdout",
     "output_type": "stream",
     "text": [
      "                                                                               \r",
      "    - completed: .../telemac-mascaret/sources/khione/thermal_khione.f\r\n",
      "[\\\\\\\\\\\\\\\\\\\\\\\\\\\\\\\\\\\\\\\\\\\\\\\\                                          ]  36%  | 3s\r",
      "[\\\\\\\\\\\\\\\\\\\\\\\\\\\\\\\\\\\\\\\\\\\\\\\\\\\\\\                                       ]  42%  | 2s\r"
     ]
    },
    {
     "name": "stdout",
     "output_type": "stream",
     "text": [
      "                                                                               \r",
      "    - completed: .../telemac-mascaret/sources/telemac3d/interface_telemac3d.f\r\n",
      "[\\\\\\\\\\\\\\\\\\\\\\\\\\\\\\\\\\\\\\\\\\\\\\\\\\\\\\                                       ]  42%  | 4s\r",
      "[\\\\\\\\\\\\\\\\\\\\\\\\\\\\\\\\\\\\\\\\\\\\\\\\\\\\\\\\\\\\\\                                   ]  47%  | 3s\r",
      "                                                                               \r",
      "    - completed: .../telemac-mascaret/sources/khione/condice.f\r\n",
      "[\\\\\\\\\\\\\\\\\\\\\\\\\\\\\\\\\\\\\\\\\\\\\\\\\\\\\\\\\\\\\\                                   ]  47%  | 3s\r",
      "[\\\\\\\\\\\\\\\\\\\\\\\\\\\\\\\\\\\\\\\\\\\\\\\\\\\\\\\\\\\\\\\\\\\\                                ]  52%  | 3s\r",
      "                                                                               \r",
      "    - completed: .../telemac-mascaret/sources/khione/source_thermal.f\r\n",
      "[\\\\\\\\\\\\\\\\\\\\\\\\\\\\\\\\\\\\\\\\\\\\\\\\\\\\\\\\\\\\\\\\\\\\                                ]  52%  | 3s\r",
      "[\\\\\\\\\\\\\\\\\\\\\\\\\\\\\\\\\\\\\\\\\\\\\\\\\\\\\\\\\\\\\\\\\\\\\\\\\\\\                            ]  57%  | 2s\r",
      "                                                                               \r",
      "    - completed: .../telemac-mascaret/sources/khione/source_icover.f\r\n",
      "[\\\\\\\\\\\\\\\\\\\\\\\\\\\\\\\\\\\\\\\\\\\\\\\\\\\\\\\\\\\\\\\\\\\\\\\\\\\\                            ]  57%  | 2s\r",
      "[\\\\\\\\\\\\\\\\\\\\\\\\\\\\\\\\\\\\\\\\\\\\\\\\\\\\\\\\\\\\\\\\\\\\\\\\\\\\\\\\\\                         ]  63%  | 2s\r",
      "                                                                               \r",
      "    - completed: .../telemac-mascaret/sources/khione/source_frazil.f\r\n",
      "[\\\\\\\\\\\\\\\\\\\\\\\\\\\\\\\\\\\\\\\\\\\\\\\\\\\\\\\\\\\\\\\\\\\\\\\\\\\\\\\\\\                         ]  63%  | 2s\r",
      "[\\\\\\\\\\\\\\\\\\\\\\\\\\\\\\\\\\\\\\\\\\\\\\\\\\\\\\\\\\\\\\\\\\\\\\\\\\\\\\\\\\\\\\\\\\                     ]  68%  | 2s\r"
     ]
    },
    {
     "name": "stdout",
     "output_type": "stream",
     "text": [
      "                                                                               \r",
      "    - completed: .../telemac-mascaret/sources/api/api_instance_wac.f\r\n",
      "[\\\\\\\\\\\\\\\\\\\\\\\\\\\\\\\\\\\\\\\\\\\\\\\\\\\\\\\\\\\\\\\\\\\\\\\\\\\\\\\\\\\\\\\\\\                     ]  68%  | 3s\r",
      "[\\\\\\\\\\\\\\\\\\\\\\\\\\\\\\\\\\\\\\\\\\\\\\\\\\\\\\\\\\\\\\\\\\\\\\\\\\\\\\\\\\\\\\\\\\\\\\\\                  ]  73%  | 2s\r",
      "                                                                               \r",
      "    - completed: .../telemac-mascaret/sources/telemac3d/telemac3d.F\r\n",
      "[\\\\\\\\\\\\\\\\\\\\\\\\\\\\\\\\\\\\\\\\\\\\\\\\\\\\\\\\\\\\\\\\\\\\\\\\\\\\\\\\\\\\\\\\\\\\\\\\                  ]  73%  | 2s\r",
      "[\\\\\\\\\\\\\\\\\\\\\\\\\\\\\\\\\\\\\\\\\\\\\\\\\\\\\\\\\\\\\\\\\\\\\\\\\\\\\\\\\\\\\\\\\\\\\\\\\\\\\\\\              ]  78%  | 2s\r",
      "                                                                               \r",
      "    - completed: .../telemac-mascaret/sources/telemac3d/cvdf3d.f\r\n",
      "[\\\\\\\\\\\\\\\\\\\\\\\\\\\\\\\\\\\\\\\\\\\\\\\\\\\\\\\\\\\\\\\\\\\\\\\\\\\\\\\\\\\\\\\\\\\\\\\\\\\\\\\\              ]  78%  | 2s\r",
      "[\\\\\\\\\\\\\\\\\\\\\\\\\\\\\\\\\\\\\\\\\\\\\\\\\\\\\\\\\\\\\\\\\\\\\\\\\\\\\\\\\\\\\\\\\\\\\\\\\\\\\\\\\\\\\\           ]  84%  | 1s\r",
      "                                                                               \r",
      "    - completed: .../telemac-mascaret/sources/telemac3d/diff3d.F\r\n",
      "[\\\\\\\\\\\\\\\\\\\\\\\\\\\\\\\\\\\\\\\\\\\\\\\\\\\\\\\\\\\\\\\\\\\\\\\\\\\\\\\\\\\\\\\\\\\\\\\\\\\\\\\\\\\\\\           ]  84%  | 1s\r",
      "[\\\\\\\\\\\\\\\\\\\\\\\\\\\\\\\\\\\\\\\\\\\\\\\\\\\\\\\\\\\\\\\\\\\\\\\\\\\\\\\\\\\\\\\\\\\\\\\\\\\\\\\\\\\\\\\\\\\\\\       ]  89%  | 1s\r",
      "                                                                               \r",
      "    - completed: .../telemac-mascaret/sources/telemac3d/lecdon_telemac3d.F\r\n",
      "[\\\\\\\\\\\\\\\\\\\\\\\\\\\\\\\\\\\\\\\\\\\\\\\\\\\\\\\\\\\\\\\\\\\\\\\\\\\\\\\\\\\\\\\\\\\\\\\\\\\\\\\\\\\\\\\\\\\\\\       ]  89%  | 1s\r",
      "[\\\\\\\\\\\\\\\\\\\\\\\\\\\\\\\\\\\\\\\\\\\\\\\\\\\\\\\\\\\\\\\\\\\\\\\\\\\\\\\\\\\\\\\\\\\\\\\\\\\\\\\\\\\\\\\\\\\\\\\\\\\\    ]  94%  | 1s\r"
     ]
    },
    {
     "name": "stdout",
     "output_type": "stream",
     "text": [
      "                                                                               \r",
      "    - completed: .../telemac-mascaret/sources/api/api_handle_var_wac.f\r\n",
      "[\\\\\\\\\\\\\\\\\\\\\\\\\\\\\\\\\\\\\\\\\\\\\\\\\\\\\\\\\\\\\\\\\\\\\\\\\\\\\\\\\\\\\\\\\\\\\\\\\\\\\\\\\\\\\\\\\\\\\\\\\\\\    ]  94%  | 1s\r",
      "                                                                               \r"
     ]
    },
    {
     "name": "stdout",
     "output_type": "stream",
     "text": [
      "    - completed: .../telemac-mascaret/builds/S10.gfortran.dyn/lib/libspecial4api.so\r\n"
     ]
    },
    {
     "name": "stdout",
     "output_type": "stream",
     "text": [
      "    - completed: .../telemac-mascaret/builds/S10.gfortran.dyn/lib/libtomawac4api.so\r\n"
     ]
    },
    {
     "name": "stdout",
     "output_type": "stream",
     "text": [
      "    - completed: .../telemac-mascaret/builds/S10.gfortran.dyn/lib/libkhione4api.so\r\n"
     ]
    },
    {
     "name": "stdout",
     "output_type": "stream",
     "text": [
      "    - completed: .../telemac-mascaret/builds/S10.gfortran.dyn/lib/libtelemac3d4api.so\r\n"
     ]
    },
    {
     "name": "stdout",
     "output_type": "stream",
     "text": [
      "    - completed: .../telemac-mascaret/builds/S10.gfortran.dyn/lib/libapi.so\r\n"
     ]
    },
    {
     "name": "stdout",
     "output_type": "stream",
     "text": [
      "    - created .../telemac-mascaret/builds/S10.gfortran.dyn/bin/api\r\n",
      "[                                                                ]   0%  | ---s\r",
      "                                                                               \r",
      "[                                                                ]   0%  | ---s\r",
      "                                                                               \r",
      "\r\n",
      "\r\n",
      "Compiling from the tree top artemis plus dependents\r\n",
      "~~~~~~~~~~~~~~~~~~~~~~~~~~~~~~~~~~~~~~~~~~~~~~~~~~~~~~~~~~~~~~~~~~~~~~~~\r\n",
      "\r\n",
      "        +> There is no need to compile any object\r\n"
     ]
    },
    {
     "name": "stdout",
     "output_type": "stream",
     "text": [
      "    - completed: .../telemac-mascaret/builds/S10.gfortran.dyn/lib/libspecial4artemis.so\r\n"
     ]
    },
    {
     "name": "stdout",
     "output_type": "stream",
     "text": [
      "        +> There is no need to create the associate executable\r\n",
      "\r\n",
      "\r\n",
      "Compiling from the tree top damocles plus dependents\r\n",
      "~~~~~~~~~~~~~~~~~~~~~~~~~~~~~~~~~~~~~~~~~~~~~~~~~~~~~~~~~~~~~~~~~~~~~~~~\r\n",
      "\r\n",
      "        +> There is no need to compile any object\r\n",
      "    - completed: .../telemac-mascaret/builds/S10.gfortran.dyn/lib/libspecial4damocles.so\r\n"
     ]
    },
    {
     "name": "stdout",
     "output_type": "stream",
     "text": [
      "        +> There is no need to create the associate executable\r\n",
      "\r\n",
      "\r\n",
      "Compiling from the tree top gredelhyd_autop plus dependents\r\n",
      "~~~~~~~~~~~~~~~~~~~~~~~~~~~~~~~~~~~~~~~~~~~~~~~~~~~~~~~~~~~~~~~~~~~~~~~~\r\n",
      "\r\n",
      "        +> There is no need to compile any object\r\n",
      "    - completed: .../telemac-mascaret/builds/S10.gfortran.dyn/lib/libspecial4gredelhyd_autop.so\r\n"
     ]
    },
    {
     "name": "stdout",
     "output_type": "stream",
     "text": [
      "        +> There is no need to create the associate executable\r\n",
      "\r\n",
      "\r\n",
      "Compiling from the tree top gredelmet_autop plus dependents\r\n",
      "~~~~~~~~~~~~~~~~~~~~~~~~~~~~~~~~~~~~~~~~~~~~~~~~~~~~~~~~~~~~~~~~~~~~~~~~\r\n",
      "\r\n",
      "        +> There is no need to compile any object\r\n",
      "    - completed: .../telemac-mascaret/builds/S10.gfortran.dyn/lib/libspecial4gredelmet_autop.so\r\n"
     ]
    },
    {
     "name": "stdout",
     "output_type": "stream",
     "text": [
      "        +> There is no need to create the associate executable\r\n",
      "\r\n",
      "\r\n",
      "Compiling from the tree top gredelpts_autop plus dependents\r\n",
      "~~~~~~~~~~~~~~~~~~~~~~~~~~~~~~~~~~~~~~~~~~~~~~~~~~~~~~~~~~~~~~~~~~~~~~~~\r\n",
      "\r\n",
      "        +> There is no need to compile any object\r\n"
     ]
    },
    {
     "name": "stdout",
     "output_type": "stream",
     "text": [
      "    - completed: .../telemac-mascaret/builds/S10.gfortran.dyn/lib/libspecial4gredelpts_autop.so\r\n"
     ]
    },
    {
     "name": "stdout",
     "output_type": "stream",
     "text": [
      "        +> There is no need to create the associate executable\r\n",
      "\r\n",
      "\r\n",
      "Compiling from the tree top gredelseg_autop plus dependents\r\n",
      "~~~~~~~~~~~~~~~~~~~~~~~~~~~~~~~~~~~~~~~~~~~~~~~~~~~~~~~~~~~~~~~~~~~~~~~~\r\n",
      "\r\n"
     ]
    },
    {
     "name": "stdout",
     "output_type": "stream",
     "text": [
      "        +> There is no need to compile any object\r\n",
      "    - completed: .../telemac-mascaret/builds/S10.gfortran.dyn/lib/libspecial4gredelseg_autop.so\r\n"
     ]
    },
    {
     "name": "stdout",
     "output_type": "stream",
     "text": [
      "        +> There is no need to create the associate executable\r\n",
      "\r\n",
      "\r\n",
      "Compiling from the tree top gretel plus dependents\r\n",
      "~~~~~~~~~~~~~~~~~~~~~~~~~~~~~~~~~~~~~~~~~~~~~~~~~~~~~~~~~~~~~~~~~~~~~~~~\r\n",
      "\r\n"
     ]
    },
    {
     "name": "stdout",
     "output_type": "stream",
     "text": [
      "        +> There is no need to compile any object\r\n",
      "    - completed: .../telemac-mascaret/builds/S10.gfortran.dyn/lib/libspecial4gretel.so\r\n"
     ]
    },
    {
     "name": "stdout",
     "output_type": "stream",
     "text": [
      "        +> There is no need to create the associate executable\r\n",
      "\r\n",
      "\r\n",
      "Compiling from the tree top identify_liq_bnd plus dependents\r\n",
      "~~~~~~~~~~~~~~~~~~~~~~~~~~~~~~~~~~~~~~~~~~~~~~~~~~~~~~~~~~~~~~~~~~~~~~~~\r\n",
      "\r\n",
      "        +> There is no need to compile any object\r\n",
      "    - completed: .../telemac-mascaret/builds/S10.gfortran.dyn/lib/libspecial4identify_liq_bnd.so\r\n"
     ]
    },
    {
     "name": "stdout",
     "output_type": "stream",
     "text": [
      "        +> There is no need to create the associate executable\r\n",
      "\r\n",
      "\r\n",
      "Compiling from the tree top HOMERE_MASCARET plus dependents\r\n",
      "~~~~~~~~~~~~~~~~~~~~~~~~~~~~~~~~~~~~~~~~~~~~~~~~~~~~~~~~~~~~~~~~~~~~~~~~\r\n",
      "\r\n",
      "        +> There is no need to compile any object\r\n",
      "        +> There is no need to compile C object\r\n",
      "        +> There is no need to compile C object\r\n"
     ]
    },
    {
     "name": "stdout",
     "output_type": "stream",
     "text": [
      "    - completed: .../telemac-mascaret/builds/S10.gfortran.dyn/lib/libmascaret.so\r\n"
     ]
    },
    {
     "name": "stdout",
     "output_type": "stream",
     "text": [
      "        +> There is no need to create the associate executable\r\n",
      "\r\n",
      "\r\n",
      "Compiling from the tree top partel plus dependents\r\n",
      "~~~~~~~~~~~~~~~~~~~~~~~~~~~~~~~~~~~~~~~~~~~~~~~~~~~~~~~~~~~~~~~~~~~~~~~~\r\n",
      "\r\n",
      "        +> There is no need to compile any object\r\n"
     ]
    },
    {
     "name": "stdout",
     "output_type": "stream",
     "text": [
      "    - completed: .../telemac-mascaret/builds/S10.gfortran.dyn/lib/libspecial4partel.so\r\n"
     ]
    },
    {
     "name": "stdout",
     "output_type": "stream",
     "text": [
      "        +> There is no need to create the associate executable\r\n",
      "\r\n",
      "\r\n",
      "Compiling from the tree top partel_para plus dependents\r\n",
      "~~~~~~~~~~~~~~~~~~~~~~~~~~~~~~~~~~~~~~~~~~~~~~~~~~~~~~~~~~~~~~~~~~~~~~~~\r\n",
      "\r\n",
      "        +> There is no need to compile any object\r\n"
     ]
    },
    {
     "name": "stdout",
     "output_type": "stream",
     "text": [
      "    - completed: .../telemac-mascaret/builds/S10.gfortran.dyn/lib/libspecial4partel_para.so\r\n"
     ]
    },
    {
     "name": "stdout",
     "output_type": "stream",
     "text": [
      "        +> There is no need to create the associate executable\r\n",
      "\r\n",
      "\r\n",
      "Compiling from the tree top partel_prelim plus dependents\r\n",
      "~~~~~~~~~~~~~~~~~~~~~~~~~~~~~~~~~~~~~~~~~~~~~~~~~~~~~~~~~~~~~~~~~~~~~~~~\r\n",
      "\r\n",
      "        +> There is no need to compile any object\r\n"
     ]
    },
    {
     "name": "stdout",
     "output_type": "stream",
     "text": [
      "    - completed: .../telemac-mascaret/builds/S10.gfortran.dyn/lib/libspecial4partel_prelim.so\r\n"
     ]
    },
    {
     "name": "stdout",
     "output_type": "stream",
     "text": [
      "        +> There is no need to create the associate executable\r\n",
      "\r\n",
      "\r\n",
      "Compiling from the tree top postel3d plus dependents\r\n",
      "~~~~~~~~~~~~~~~~~~~~~~~~~~~~~~~~~~~~~~~~~~~~~~~~~~~~~~~~~~~~~~~~~~~~~~~~\r\n",
      "\r\n",
      "        +> There is no need to compile any object\r\n"
     ]
    },
    {
     "name": "stdout",
     "output_type": "stream",
     "text": [
      "    - completed: .../telemac-mascaret/builds/S10.gfortran.dyn/lib/libspecial4postel3d.so\r\n"
     ]
    },
    {
     "name": "stdout",
     "output_type": "stream",
     "text": [
      "        +> There is no need to create the associate executable\r\n"
     ]
    },
    {
     "name": "stdout",
     "output_type": "stream",
     "text": [
      "\r\n",
      "\r\n",
      "Compiling from the tree top sisyphe plus dependents\r\n",
      "~~~~~~~~~~~~~~~~~~~~~~~~~~~~~~~~~~~~~~~~~~~~~~~~~~~~~~~~~~~~~~~~~~~~~~~~\r\n",
      "\r\n",
      "        +> There is no need to compile any object\r\n"
     ]
    },
    {
     "name": "stdout",
     "output_type": "stream",
     "text": [
      "    - completed: .../telemac-mascaret/builds/S10.gfortran.dyn/lib/libspecial4sisyphe.so\r\n"
     ]
    },
    {
     "name": "stdout",
     "output_type": "stream",
     "text": [
      "        +> There is no need to create the associate executable\r\n",
      "\r\n",
      "\r\n",
      "Compiling from the tree top stbtel plus dependents\r\n",
      "~~~~~~~~~~~~~~~~~~~~~~~~~~~~~~~~~~~~~~~~~~~~~~~~~~~~~~~~~~~~~~~~~~~~~~~~\r\n",
      "\r\n",
      "        +> There is no need to compile any object\r\n"
     ]
    },
    {
     "name": "stdout",
     "output_type": "stream",
     "text": [
      "    - completed: .../telemac-mascaret/builds/S10.gfortran.dyn/lib/libspecial4stbtel.so\r\n"
     ]
    },
    {
     "name": "stdout",
     "output_type": "stream",
     "text": [
      "        +> There is no need to create the associate executable\r\n",
      "\r\n",
      "\r\n",
      "Compiling from the tree top telemac2d plus dependents\r\n",
      "~~~~~~~~~~~~~~~~~~~~~~~~~~~~~~~~~~~~~~~~~~~~~~~~~~~~~~~~~~~~~~~~~~~~~~~~\r\n",
      "\r\n",
      "        +> Compile / Assemble / Link\r\n",
      "[                                                                ]   0%  | ---s\r"
     ]
    },
    {
     "name": "stdout",
     "output_type": "stream",
     "text": [
      "                                                                               \r",
      "    - completed: .../telemac-mascaret/sources/khione/point_khione.f\r\n",
      "[                                                                ]   0%  | ---s\r",
      "[\\\\\\\\\\\\\\\\\\\\\\\\\\\\\\\\\\\\\\\\\\\\\\\\\\\\\\\\\\\\\\\\\\                                 ]  50%  | 1s\r",
      "                                                                               \r",
      "    - completed: .../telemac-mascaret/sources/khione/lecdon_khione.f\r\n",
      "[\\\\\\\\\\\\\\\\\\\\\\\\\\\\\\\\\\\\\\\\\\\\\\\\\\\\\\\\\\\\\\\\\\                                 ]  50%  | 1s\r",
      "                                                                               \r"
     ]
    },
    {
     "name": "stdout",
     "output_type": "stream",
     "text": [
      "    - completed: .../telemac-mascaret/builds/S10.gfortran.dyn/lib/libspecial4telemac2d.so\r\n"
     ]
    },
    {
     "name": "stdout",
     "output_type": "stream",
     "text": [
      "    - completed: .../telemac-mascaret/builds/S10.gfortran.dyn/lib/libtomawac4telemac2d.so\r\n"
     ]
    },
    {
     "name": "stdout",
     "output_type": "stream",
     "text": [
      "    - completed: .../telemac-mascaret/builds/S10.gfortran.dyn/lib/libkhione4telemac2d.so\r\n"
     ]
    },
    {
     "name": "stdout",
     "output_type": "stream",
     "text": [
      "        +> There is no need to create the associate executable\r\n",
      "\r\n",
      "\r\n",
      "Compiling from the tree top telemac3d plus dependents\r\n",
      "~~~~~~~~~~~~~~~~~~~~~~~~~~~~~~~~~~~~~~~~~~~~~~~~~~~~~~~~~~~~~~~~~~~~~~~~\r\n",
      "\r\n"
     ]
    },
    {
     "name": "stdout",
     "output_type": "stream",
     "text": [
      "        +> There is no need to compile any object\r\n"
     ]
    },
    {
     "name": "stdout",
     "output_type": "stream",
     "text": [
      "    - completed: .../telemac-mascaret/builds/S10.gfortran.dyn/lib/libspecial4telemac3d.so\r\n"
     ]
    },
    {
     "name": "stdout",
     "output_type": "stream",
     "text": [
      "    - completed: .../telemac-mascaret/builds/S10.gfortran.dyn/lib/libtomawac4telemac3d.so\r\n"
     ]
    },
    {
     "name": "stdout",
     "output_type": "stream",
     "text": [
      "    - completed: .../telemac-mascaret/builds/S10.gfortran.dyn/lib/libkhione4telemac3d.so\r\n"
     ]
    },
    {
     "name": "stdout",
     "output_type": "stream",
     "text": [
      "    - completed: .../telemac-mascaret/builds/S10.gfortran.dyn/lib/libtelemac3d.so\r\n"
     ]
    },
    {
     "name": "stdout",
     "output_type": "stream",
     "text": [
      "    - created .../telemac-mascaret/builds/S10.gfortran.dyn/bin/telemac3d\r\n",
      "[                                                                ]   0%  | ---s\r",
      "                                                                               \r",
      "[                                                                ]   0%  | ---s\r",
      "                                                                               \r",
      "\r\n",
      "\r\n",
      "Compiling from the tree top tomawac plus dependents\r\n",
      "~~~~~~~~~~~~~~~~~~~~~~~~~~~~~~~~~~~~~~~~~~~~~~~~~~~~~~~~~~~~~~~~~~~~~~~~\r\n",
      "\r\n"
     ]
    },
    {
     "name": "stdout",
     "output_type": "stream",
     "text": [
      "        +> There is no need to compile any object\r\n"
     ]
    },
    {
     "name": "stdout",
     "output_type": "stream",
     "text": [
      "    - completed: .../telemac-mascaret/builds/S10.gfortran.dyn/lib/libspecial4tomawac.so\r\n"
     ]
    },
    {
     "name": "stdout",
     "output_type": "stream",
     "text": [
      "    - completed: .../telemac-mascaret/builds/S10.gfortran.dyn/lib/libtomawac.so\r\n"
     ]
    },
    {
     "name": "stdout",
     "output_type": "stream",
     "text": [
      "    - created .../telemac-mascaret/builds/S10.gfortran.dyn/bin/tomawac\r\n",
      "[                                                                ]   0%  | ---s\r",
      "                                                                               \r",
      "[                                                                ]   0%  | ---s\r",
      "                                                                               \r",
      "\r\n",
      "Building the Python API \r\n",
      "~~~~~~~~~~~~~~~~~~~~~~~~~~~~~~~~~~~~~~~~~~~~~~~~~~~~~~~~~~~~~~~~~~~~~~~~\r\n",
      "\r\n"
     ]
    },
    {
     "name": "stdout",
     "output_type": "stream",
     "text": [
      "    ~> Wrap_api built\r\n",
      "    ~> Compiling Modules api\r\n"
     ]
    },
    {
     "name": "stdout",
     "output_type": "stream",
     "text": [
      "    ~> First part of f2py for api passed\r\n"
     ]
    },
    {
     "name": "stdout",
     "output_type": "stream",
     "text": [
      "    ~> Second part of f2py of api passed\r\n",
      "    ~> Compiling hermes api\r\n"
     ]
    },
    {
     "name": "stdout",
     "output_type": "stream",
     "text": [
      "    ~> First part of f2py for hermes passed\r\n"
     ]
    },
    {
     "name": "stdout",
     "output_type": "stream",
     "text": [
      "    ~> Second part of f2py of hermes passed\r\n",
      "\r\n",
      "\r\n",
      "My work is done\r\n",
      "\r\n",
      "\r\n"
     ]
    }
   ],
   "source": [
    "!compile_telemac.py"
   ]
  },
  {
   "cell_type": "markdown",
   "metadata": {
    "collapsed": true
   },
   "source": [
    "*Note: if an error occurs, check for the environment variables HOMETEL and SYSTELCFG before running the previous command.*"
   ]
  },
  {
   "cell_type": "markdown",
   "metadata": {},
   "source": [
    "If the compilation is successful, you will then run Telemac on your test case providing a steering file:"
   ]
  },
  {
   "cell_type": "code",
   "execution_count": 2,
   "metadata": {
    "execution": {
     "iopub.execute_input": "2022-12-01T13:53:11.746456Z",
     "iopub.status.busy": "2022-12-01T13:53:11.745834Z",
     "iopub.status.idle": "2022-12-01T13:53:12.261882Z",
     "shell.execute_reply": "2022-12-01T13:53:12.260438Z"
    }
   },
   "outputs": [
    {
     "name": "stdout",
     "output_type": "stream",
     "text": [
      "\r\n",
      "\r\n",
      "Loading Options and Configurations\r\n",
      "~~~~~~~~~~~~~~~~~~~~~~~~~~~~~~~~~~~~~~~~~~~~~~~~~~~~~~~~~~~~~~~~~~~~~~~~\r\n",
      "\r\n",
      "usage: telemac2d.py [-h] [-c config name] [-f config file] [-r TELEMAC root]\r\n",
      "                    [-s] [-t] [-w W_DIR] [--nozip] [--jobname JOBNAME]\r\n",
      "                    [--queue HPC_QUEUE] [--walltime WALLTIME] [--email EMAIL]\r\n",
      "                    [--project PROJECT] [--hosts HOSTS] [--ncsize NCSIZE]\r\n",
      "                    [--nctile NCTILE] [--ncnode NCNODE] [--sequential] [--mpi]\r\n",
      "                    [--split | --run | -x | --merge] [--use-link]\r\n",
      "                    [--gretel-method GRETEL_METHOD]\r\n",
      "                    cas files) [cas file(s ...]\r\n",
      "\r\n",
      "telemac2d.py is one of the execution launcher for the TELEMAC system.\r\n",
      "            \r\n",
      "\r\n",
      "positional arguments:\r\n",
      "  cas file(s)\r\n",
      "\r\n",
      "optional arguments:\r\n",
      "  -h, --help            show this help message and exit\r\n",
      "  -c config name, --configname config name\r\n",
      "                        specify configuration name, default is randomly found\r\n",
      "                        in the configuration file\r\n",
      "  -f config file, --configfile config file\r\n",
      "                        specify configuration file, default is systel.cfg\r\n",
      "  -r TELEMAC root, --rootdir TELEMAC root\r\n",
      "                        specify the root, default is taken from config file\r\n",
      "  -s, --sortiefile      specify whether there is a sortie file, default is no\r\n",
      "  -t, --tmpdirectory    specify whether the temporary directory is removed,\r\n",
      "                        default is yes\r\n",
      "  -w W_DIR, --workdirectory W_DIR\r\n",
      "                        specify whether to re-run within a defined\r\n",
      "                        subdirectory\r\n",
      "  --nozip               specify whether to zip the extra sortie file if\r\n",
      "                        simulation in parallel\r\n",
      "  --jobname JOBNAME     specify a jobname for HPC queue tracking\r\n",
      "  --queue HPC_QUEUE     set the partition to use for HPC queue tracking\r\n",
      "  --walltime WALLTIME   set the limit on the total run time of the job\r\n",
      "                        allocation\r\n",
      "  --email EMAIL         specify an e-mail adress to warn when HPC job is\r\n",
      "                        finished\r\n",
      "  --project PROJECT     specify the name of the project to be used for the job\r\n",
      "  --hosts HOSTS         specify the list of hosts available for parallel mode,\r\n",
      "                        ';' delimited\r\n",
      "  --ncsize NCSIZE       the number of processors forced in parallel mode\r\n",
      "  --nctile NCTILE       the number of core per node. ncsize/nctile is the\r\n",
      "                        number of compute nodes\r\n",
      "  --ncnode NCNODE       the number of of nodes. ncsize = ncnode*nctile is the\r\n",
      "                        total number of compute nodes\r\n",
      "  --sequential          if present, imposes that multiple CAS files are\r\n",
      "                        launched one after the other\r\n",
      "  --mpi                 make sure the mpi command is executed, ignoring any\r\n",
      "                        hpc command\r\n",
      "  --split               will only do the trace (and the split in parallel) if\r\n",
      "                        option there\r\n",
      "  --run                 will only run the simulation if option there\r\n",
      "  -x, --compileonly     specify whether to only create an executable but not\r\n",
      "                        run, default is no\r\n",
      "  --merge               will only do the output copying (and recollection in\r\n",
      "                        parallel) if option there\r\n",
      "  --use-link            Will use link instead of copy in the temporary folder\r\n",
      "                        (Unix system only)\r\n",
      "  --gretel-method GRETEL_METHOD\r\n",
      "                        Set the gretel method to be used for merging data,\r\n",
      "                        default is 1\r\n",
      "\r\n",
      "examples:\r\n",
      "---------\r\n",
      "1:     => telemac2d.py -s t2d.cas\r\n",
      "---------\r\n"
     ]
    }
   ],
   "source": [
    "!telemac2d.py -h"
   ]
  },
  {
   "cell_type": "markdown",
   "metadata": {},
   "source": [
    "*Note: as the name of the steering file here is fictive, no computation is done*"
   ]
  },
  {
   "cell_type": "markdown",
   "metadata": {},
   "source": [
    "The previous command requires all the static librairies to be linked with the Fortran user file in an executable. When using the API with Python, it is the dynamic libraries of the Telemac system that are used."
   ]
  },
  {
   "cell_type": "markdown",
   "metadata": {},
   "source": [
    "The interface between the Telemac libraries and the Python language is automatically created using [f2py](http://docs.scipy.org/doc/numpy-dev/f2py/). This corresponds to the compilation of the Telemac API for Python. It has to be done by adding :\n",
    "options: api\n",
    "in the configuration file (systel.cfg)"
   ]
  },
  {
   "cell_type": "markdown",
   "metadata": {},
   "source": [
    "## Using the interface"
   ]
  },
  {
   "cell_type": "markdown",
   "metadata": {},
   "source": [
    "Telemac/Python is now ready to be used as a hydrodynamic 2D solver with the import system:"
   ]
  },
  {
   "cell_type": "code",
   "execution_count": 3,
   "metadata": {
    "execution": {
     "iopub.execute_input": "2022-12-01T13:53:12.268518Z",
     "iopub.status.busy": "2022-12-01T13:53:12.268042Z",
     "iopub.status.idle": "2022-12-01T13:53:12.323912Z",
     "shell.execute_reply": "2022-12-01T13:53:12.323280Z"
    }
   },
   "outputs": [],
   "source": [
    "import telapy.api.t2d"
   ]
  },
  {
   "cell_type": "markdown",
   "metadata": {},
   "source": [
    "The module 'TelApy.api.t2d' is located in the '$HOMETEL/scripts/python3/telapy/api' directory. If an error occurs while attempting to import, check the value of the environment variable PYTHONPATH. Alternatively you can also work with the file 'apiT2d.py' listed in your working directory.\n"
   ]
  },
  {
   "cell_type": "code",
   "execution_count": 4,
   "metadata": {
    "execution": {
     "iopub.execute_input": "2022-12-01T13:53:12.326423Z",
     "iopub.status.busy": "2022-12-01T13:53:12.326167Z",
     "iopub.status.idle": "2022-12-01T13:53:12.333637Z",
     "shell.execute_reply": "2022-12-01T13:53:12.333201Z"
    }
   },
   "outputs": [
    {
     "data": {
      "text/plain": [
       "'/home/d60881/telemac-mascaret/builds/S10.gfortran.dyn/wrap_api/lib:/home/d60881/telemac-mascaret/scripts/python3:'"
      ]
     },
     "execution_count": 4,
     "metadata": {},
     "output_type": "execute_result"
    }
   ],
   "source": [
    "%env PYTHONPATH"
   ]
  },
  {
   "cell_type": "markdown",
   "metadata": {},
   "source": [
    "The module 'TelApy.api.t2d' defines a class named 'Telemac2d'. The user will have to instantiate an object from this class in order to run Telemac with all the facilities offered by the API."
   ]
  },
  {
   "cell_type": "code",
   "execution_count": 5,
   "metadata": {
    "execution": {
     "iopub.execute_input": "2022-12-01T13:53:12.335657Z",
     "iopub.status.busy": "2022-12-01T13:53:12.335480Z",
     "iopub.status.idle": "2022-12-01T13:53:15.902987Z",
     "shell.execute_reply": "2022-12-01T13:53:15.902515Z"
    }
   },
   "outputs": [
    {
     "name": "stdout",
     "output_type": "stream",
     "text": [
      "  ~> Checking keyword/rubrique coherence\n"
     ]
    },
    {
     "data": {
      "text/plain": [
       "<telapy.api.t2d.Telemac2d at 0x7f760402a590>"
      ]
     },
     "execution_count": 5,
     "metadata": {},
     "output_type": "execute_result"
    }
   ],
   "source": [
    "# Changing of directory : 'examples' directory of the Telemac sources\n",
    "import os\n",
    "HOMETEL = os.environ.get('HOMETEL')\n",
    "os.chdir(HOMETEL + '/examples/telemac2d/breach')\n",
    "\n",
    "# Instantiation of a Telemac2d object from the test case named 'breach'\n",
    "# - steering file : 't2d_breach.cas'\n",
    "# - language : french (1) or english (2: default)\n",
    "from telapy.api.t2d import Telemac2d\n",
    "from mpi4py import MPI\n",
    "my_case = Telemac2d('t2d_breach.cas', lang=1, comm=MPI.COMM_WORLD)\n",
    "my_case"
   ]
  },
  {
   "cell_type": "markdown",
   "metadata": {},
   "source": [
    "An object 'my_case' is now created. This object offers some useful methods to communicate with the Telemac computational kernel. These (non exaustive) methods are seen with:"
   ]
  },
  {
   "cell_type": "code",
   "execution_count": 6,
   "metadata": {
    "execution": {
     "iopub.execute_input": "2022-12-01T13:53:15.905135Z",
     "iopub.status.busy": "2022-12-01T13:53:15.904926Z",
     "iopub.status.idle": "2022-12-01T13:53:15.909911Z",
     "shell.execute_reply": "2022-12-01T13:53:15.909369Z"
    }
   },
   "outputs": [
    {
     "data": {
      "text/plain": [
       "['__class__',\n",
       " '__del__',\n",
       " '__delattr__',\n",
       " '__dict__',\n",
       " '__dir__',\n",
       " '__doc__',\n",
       " '__eq__',\n",
       " '__format__',\n",
       " '__ge__',\n",
       " '__getattribute__',\n",
       " '__gt__',\n",
       " '__hash__',\n",
       " '__init__',\n",
       " '__init_subclass__',\n",
       " '__le__',\n",
       " '__lt__',\n",
       " '__module__',\n",
       " '__ne__',\n",
       " '__new__',\n",
       " '__reduce__',\n",
       " '__reduce_ex__',\n",
       " '__repr__',\n",
       " '__setattr__',\n",
       " '__sizeof__',\n",
       " '__str__',\n",
       " '__subclasshook__',\n",
       " '__weakref__',\n",
       " '_api',\n",
       " '_error',\n",
       " '_get_var_info',\n",
       " '_initstate',\n",
       " '_instanciated',\n",
       " '_knolg',\n",
       " '_mod_handle_var',\n",
       " '_nachb',\n",
       " '_run_allocation',\n",
       " '_run_finalize',\n",
       " '_run_init',\n",
       " '_run_read_case',\n",
       " '_run_set_config',\n",
       " '_run_timestep',\n",
       " '_run_timestep_compute',\n",
       " '_run_timestep_res',\n",
       " '_set_parallel_array',\n",
       " '_variables',\n",
       " 'aksave',\n",
       " 'api_handle_error',\n",
       " 'api_inter',\n",
       " 'bottom',\n",
       " 'cas',\n",
       " 'casfile',\n",
       " 'cleanup',\n",
       " 'code',\n",
       " 'comm',\n",
       " 'concatenation_step',\n",
       " 'coordx',\n",
       " 'coordy',\n",
       " 'depth',\n",
       " 'dicofile',\n",
       " 'dump_var_info',\n",
       " 'epsave',\n",
       " 'error',\n",
       " 'fcomm',\n",
       " 'finalize',\n",
       " 'g2l',\n",
       " 'gaia_dico',\n",
       " 'gaia_file',\n",
       " 'generate_var_info',\n",
       " 'get',\n",
       " 'get_array',\n",
       " 'get_elem',\n",
       " 'get_error_message',\n",
       " 'get_mesh',\n",
       " 'get_node',\n",
       " 'get_on_polygon',\n",
       " 'get_on_range',\n",
       " 'get_state',\n",
       " 'get_var_ndim',\n",
       " 'get_var_pos',\n",
       " 'get_var_readonly',\n",
       " 'get_var_size',\n",
       " 'get_var_type',\n",
       " 'gretel_method',\n",
       " 'hsave',\n",
       " 'init_state_default',\n",
       " 'itrub',\n",
       " 'l2g',\n",
       " 'lang',\n",
       " 'list_variables',\n",
       " 'logger',\n",
       " 'mpi_get',\n",
       " 'mpi_get_array',\n",
       " 'mpi_get_npoin',\n",
       " 'mpi_set',\n",
       " 'mpi_set_array',\n",
       " 'my_id',\n",
       " 'name',\n",
       " 'nbTrac',\n",
       " 'nbnodes',\n",
       " 'ncsize',\n",
       " 'nelem',\n",
       " 'parallel_run',\n",
       " 'partitionning_step',\n",
       " 'rank',\n",
       " 'restore_state',\n",
       " 'run_all_time_steps',\n",
       " 'run_one_time_step',\n",
       " 'run_one_time_step_compute',\n",
       " 'run_one_time_step_res',\n",
       " 'save_state',\n",
       " 'set',\n",
       " 'set_array',\n",
       " 'set_bathy',\n",
       " 'set_case',\n",
       " 'set_on_polygon',\n",
       " 'set_on_range',\n",
       " 'set_state',\n",
       " 'show_mesh',\n",
       " 'show_state',\n",
       " 'stdout',\n",
       " 'tracsave',\n",
       " 'tri',\n",
       " 'u_vel',\n",
       " 'usave',\n",
       " 'user_fortran_lib',\n",
       " 'v_vel',\n",
       " 'variables',\n",
       " 'vsave',\n",
       " 'waqdico',\n",
       " 'waqfile']"
      ]
     },
     "execution_count": 6,
     "metadata": {},
     "output_type": "execute_result"
    }
   ],
   "source": [
    "dir(my_case)"
   ]
  },
  {
   "cell_type": "markdown",
   "metadata": {
    "collapsed": true
   },
   "source": [
    "# API description"
   ]
  },
  {
   "cell_type": "markdown",
   "metadata": {},
   "source": [
    "The methods listed above give access to the Fortran Telemac API and to some extra functionalities based on Python packages like 'numpy' or 'matplotlib'. The list is still uncomplete and will be improved in future."
   ]
  },
  {
   "cell_type": "markdown",
   "metadata": {},
   "source": [
    "### Get the value of a Telemac variable"
   ]
  },
  {
   "cell_type": "code",
   "execution_count": 7,
   "metadata": {
    "execution": {
     "iopub.execute_input": "2022-12-01T13:53:15.912043Z",
     "iopub.status.busy": "2022-12-01T13:53:15.911865Z",
     "iopub.status.idle": "2022-12-01T13:53:15.915525Z",
     "shell.execute_reply": "2022-12-01T13:53:15.915045Z"
    }
   },
   "outputs": [
    {
     "name": "stdout",
     "output_type": "stream",
     "text": [
      "Help on method get in module telapy.api.api_module:\n",
      "\n",
      "get(varname, i=-1, j=-1, k=-1) method of telapy.api.t2d.Telemac2d instance\n",
      "    Get the value of a variable of Telemac 2D\n",
      "    \n",
      "    @param varname Name of the variable\n",
      "    @param i index on first dimension\n",
      "    @param j index on second dimension\n",
      "    @param k index on third dimension\n",
      "    \n",
      "    @return variable value\n",
      "\n"
     ]
    }
   ],
   "source": [
    "help(my_case.get)"
   ]
  },
  {
   "cell_type": "markdown",
   "metadata": {},
   "source": [
    "### Get a node number"
   ]
  },
  {
   "cell_type": "code",
   "execution_count": 8,
   "metadata": {
    "execution": {
     "iopub.execute_input": "2022-12-01T13:53:15.917396Z",
     "iopub.status.busy": "2022-12-01T13:53:15.917202Z",
     "iopub.status.idle": "2022-12-01T13:53:15.920436Z",
     "shell.execute_reply": "2022-12-01T13:53:15.919898Z"
    }
   },
   "outputs": [
    {
     "name": "stdout",
     "output_type": "stream",
     "text": [
      "Help on method get_node in module telapy.api.api_module:\n",
      "\n",
      "get_node(xval, yval) method of telapy.api.t2d.Telemac2d instance\n",
      "    Get the nearest node number for the coordinates (xval, yval).\n",
      "    On local mesh\n",
      "    \n",
      "    @param xval X coordinate.\n",
      "    @param yval Y coordinate.\n",
      "    \n",
      "    @returns An integer value from 0 to (nbnode-1).\n",
      "\n"
     ]
    }
   ],
   "source": [
    "help(my_case.get_node)"
   ]
  },
  {
   "cell_type": "markdown",
   "metadata": {},
   "source": [
    "### Get an element number"
   ]
  },
  {
   "cell_type": "code",
   "execution_count": 9,
   "metadata": {
    "execution": {
     "iopub.execute_input": "2022-12-01T13:53:15.922355Z",
     "iopub.status.busy": "2022-12-01T13:53:15.922178Z",
     "iopub.status.idle": "2022-12-01T13:53:15.925345Z",
     "shell.execute_reply": "2022-12-01T13:53:15.924899Z"
    }
   },
   "outputs": [
    {
     "name": "stdout",
     "output_type": "stream",
     "text": [
      "Help on method get_elem in module telapy.api.api_module:\n",
      "\n",
      "get_elem(xval, yval) method of telapy.api.t2d.Telemac2d instance\n",
      "    Get the triangle where the point (xval, yval) is on the local mesh\n",
      "    \n",
      "    @param xval X coordinate\n",
      "    @param yval Y coordinate\n",
      "    \n",
      "    @return integer value from 0 to (nbtriangle-1)\n",
      "             (-1 if no triangle found)\n",
      "\n"
     ]
    }
   ],
   "source": [
    "help(my_case.get_elem)"
   ]
  },
  {
   "cell_type": "markdown",
   "metadata": {},
   "source": [
    "### Error message from Telemac"
   ]
  },
  {
   "cell_type": "code",
   "execution_count": 10,
   "metadata": {
    "execution": {
     "iopub.execute_input": "2022-12-01T13:53:15.927193Z",
     "iopub.status.busy": "2022-12-01T13:53:15.927015Z",
     "iopub.status.idle": "2022-12-01T13:53:15.930169Z",
     "shell.execute_reply": "2022-12-01T13:53:15.929686Z"
    }
   },
   "outputs": [
    {
     "name": "stdout",
     "output_type": "stream",
     "text": [
      "Help on method get_error_message in module telapy.api.api_module:\n",
      "\n",
      "get_error_message() method of telapy.api.t2d.Telemac2d instance\n",
      "    Get the error message from the Fortran sources of Telemac 2D\n",
      "    \n",
      "    @return character string of the error message\n",
      "\n"
     ]
    }
   ],
   "source": [
    "help(my_case.get_error_message)"
   ]
  },
  {
   "cell_type": "markdown",
   "metadata": {},
   "source": [
    "### Mesh coordinates and connectivity"
   ]
  },
  {
   "cell_type": "code",
   "execution_count": 11,
   "metadata": {
    "execution": {
     "iopub.execute_input": "2022-12-01T13:53:15.932148Z",
     "iopub.status.busy": "2022-12-01T13:53:15.931970Z",
     "iopub.status.idle": "2022-12-01T13:53:15.935181Z",
     "shell.execute_reply": "2022-12-01T13:53:15.934737Z"
    }
   },
   "outputs": [
    {
     "name": "stdout",
     "output_type": "stream",
     "text": [
      "Help on method get_mesh in module telapy.api.api_module:\n",
      "\n",
      "get_mesh() method of telapy.api.t2d.Telemac2d instance\n",
      "    Get the local 2D mesh of triangular cells\n",
      "    \n",
      "    @returns X, Y coordinates and connectivity\n",
      "\n"
     ]
    }
   ],
   "source": [
    "help(my_case.get_mesh)"
   ]
  },
  {
   "cell_type": "markdown",
   "metadata": {},
   "source": [
    "### Hydraulic state"
   ]
  },
  {
   "cell_type": "code",
   "execution_count": 12,
   "metadata": {
    "execution": {
     "iopub.execute_input": "2022-12-01T13:53:15.937178Z",
     "iopub.status.busy": "2022-12-01T13:53:15.936999Z",
     "iopub.status.idle": "2022-12-01T13:53:15.939995Z",
     "shell.execute_reply": "2022-12-01T13:53:15.939411Z"
    }
   },
   "outputs": [
    {
     "name": "stdout",
     "output_type": "stream",
     "text": [
      "Help on method get_state in module telapy.api.t2d:\n",
      "\n",
      "get_state() method of telapy.api.t2d.Telemac2d instance\n",
      "    Get the hydraulic state\n",
      "    \n",
      "    @returns the hydraulic state: depth (m) .. u_vel (m/s) .. v_vel (m/s)\n",
      "\n"
     ]
    }
   ],
   "source": [
    "help(my_case.get_state)"
   ]
  },
  {
   "cell_type": "code",
   "execution_count": 13,
   "metadata": {
    "execution": {
     "iopub.execute_input": "2022-12-01T13:53:15.941955Z",
     "iopub.status.busy": "2022-12-01T13:53:15.941775Z",
     "iopub.status.idle": "2022-12-01T13:53:15.945038Z",
     "shell.execute_reply": "2022-12-01T13:53:15.944596Z"
    }
   },
   "outputs": [
    {
     "name": "stdout",
     "output_type": "stream",
     "text": [
      "Help on method set_state in module telapy.api.t2d:\n",
      "\n",
      "set_state(hval, uval, vval) method of telapy.api.t2d.Telemac2d instance\n",
      "    Set the hydraulic state: hval (m) .. uval (m/s) .. vval (m/s)\n",
      "    \n",
      "    @param hval Water depth value\n",
      "    @param uval Velocity U value\n",
      "    @param vval Velocity V value\n",
      "\n"
     ]
    }
   ],
   "source": [
    "help(my_case.set_state)"
   ]
  },
  {
   "cell_type": "markdown",
   "metadata": {},
   "source": [
    "### Read the steering file"
   ]
  },
  {
   "cell_type": "code",
   "execution_count": 14,
   "metadata": {
    "execution": {
     "iopub.execute_input": "2022-12-01T13:53:15.946996Z",
     "iopub.status.busy": "2022-12-01T13:53:15.946819Z",
     "iopub.status.idle": "2022-12-01T13:53:15.950012Z",
     "shell.execute_reply": "2022-12-01T13:53:15.949591Z"
    }
   },
   "outputs": [
    {
     "name": "stdout",
     "output_type": "stream",
     "text": [
      "Help on method set_case in module telapy.api.api_module:\n",
      "\n",
      "set_case(init=True) method of telapy.api.t2d.Telemac2d instance\n",
      "    Read the steering file\n",
      "    \n",
      "    @param init (boolean) If true calling p_init\n",
      "\n"
     ]
    }
   ],
   "source": [
    "help(my_case.set_case)"
   ]
  },
  {
   "cell_type": "markdown",
   "metadata": {},
   "source": [
    "### State initialisation"
   ]
  },
  {
   "cell_type": "code",
   "execution_count": 15,
   "metadata": {
    "execution": {
     "iopub.execute_input": "2022-12-01T13:53:15.951949Z",
     "iopub.status.busy": "2022-12-01T13:53:15.951771Z",
     "iopub.status.idle": "2022-12-01T13:53:15.955056Z",
     "shell.execute_reply": "2022-12-01T13:53:15.954601Z"
    }
   },
   "outputs": [
    {
     "name": "stdout",
     "output_type": "stream",
     "text": [
      "Help on method init_state_default in module telapy.api.api_module:\n",
      "\n",
      "init_state_default() method of telapy.api.t2d.Telemac2d instance\n",
      "    Initialize the state of the model Telemac 2D with the values of\n",
      "    disharges and water levels as indicated by the steering file\n",
      "\n"
     ]
    }
   ],
   "source": [
    "help(my_case.init_state_default)"
   ]
  },
  {
   "cell_type": "markdown",
   "metadata": {},
   "source": [
    "### Save a state"
   ]
  },
  {
   "cell_type": "code",
   "execution_count": 16,
   "metadata": {
    "execution": {
     "iopub.execute_input": "2022-12-01T13:53:15.956920Z",
     "iopub.status.busy": "2022-12-01T13:53:15.956767Z",
     "iopub.status.idle": "2022-12-01T13:53:15.959926Z",
     "shell.execute_reply": "2022-12-01T13:53:15.959310Z"
    }
   },
   "outputs": [
    {
     "name": "stdout",
     "output_type": "stream",
     "text": [
      "Help on method save_state in module telapy.api.t2d:\n",
      "\n",
      "save_state() method of telapy.api.t2d.Telemac2d instance\n",
      "    Save the hydraulic state\n",
      "\n"
     ]
    }
   ],
   "source": [
    "help(my_case.save_state)"
   ]
  },
  {
   "cell_type": "markdown",
   "metadata": {},
   "source": [
    "### Back to a saved state"
   ]
  },
  {
   "cell_type": "code",
   "execution_count": 17,
   "metadata": {
    "execution": {
     "iopub.execute_input": "2022-12-01T13:53:15.961833Z",
     "iopub.status.busy": "2022-12-01T13:53:15.961679Z",
     "iopub.status.idle": "2022-12-01T13:53:15.964948Z",
     "shell.execute_reply": "2022-12-01T13:53:15.964473Z"
    }
   },
   "outputs": [
    {
     "name": "stdout",
     "output_type": "stream",
     "text": [
      "Help on method restore_state in module telapy.api.t2d:\n",
      "\n",
      "restore_state() method of telapy.api.t2d.Telemac2d instance\n",
      "    Restore the hydraulic state\n",
      "\n"
     ]
    }
   ],
   "source": [
    "help(my_case.restore_state)"
   ]
  },
  {
   "cell_type": "markdown",
   "metadata": {},
   "source": [
    "### Run Telemac for one time step"
   ]
  },
  {
   "cell_type": "code",
   "execution_count": 18,
   "metadata": {
    "execution": {
     "iopub.execute_input": "2022-12-01T13:53:15.966846Z",
     "iopub.status.busy": "2022-12-01T13:53:15.966655Z",
     "iopub.status.idle": "2022-12-01T13:53:15.969830Z",
     "shell.execute_reply": "2022-12-01T13:53:15.969389Z"
    }
   },
   "outputs": [
    {
     "name": "stdout",
     "output_type": "stream",
     "text": [
      "Help on method run_one_time_step in module telapy.api.api_module:\n",
      "\n",
      "run_one_time_step() method of telapy.api.t2d.Telemac2d instance\n",
      "    Run one time step\n",
      "\n"
     ]
    }
   ],
   "source": [
    "help(my_case.run_one_time_step)"
   ]
  },
  {
   "cell_type": "markdown",
   "metadata": {},
   "source": [
    "### Run Telemac for all the time steps"
   ]
  },
  {
   "cell_type": "code",
   "execution_count": 19,
   "metadata": {
    "execution": {
     "iopub.execute_input": "2022-12-01T13:53:15.971677Z",
     "iopub.status.busy": "2022-12-01T13:53:15.971520Z",
     "iopub.status.idle": "2022-12-01T13:53:15.974560Z",
     "shell.execute_reply": "2022-12-01T13:53:15.974054Z"
    }
   },
   "outputs": [
    {
     "name": "stdout",
     "output_type": "stream",
     "text": [
      "Help on method run_all_time_steps in module telapy.api.api_module:\n",
      "\n",
      "run_all_time_steps() method of telapy.api.t2d.Telemac2d instance\n",
      "    Run all the time steps\n",
      "    \n",
      "    @return the number of computed time steps\n",
      "\n"
     ]
    }
   ],
   "source": [
    "help(my_case.run_all_time_steps)"
   ]
  },
  {
   "cell_type": "markdown",
   "metadata": {},
   "source": [
    "### Change the value of a Telemac variable"
   ]
  },
  {
   "cell_type": "code",
   "execution_count": 20,
   "metadata": {
    "execution": {
     "iopub.execute_input": "2022-12-01T13:53:15.976611Z",
     "iopub.status.busy": "2022-12-01T13:53:15.976433Z",
     "iopub.status.idle": "2022-12-01T13:53:15.979853Z",
     "shell.execute_reply": "2022-12-01T13:53:15.979359Z"
    }
   },
   "outputs": [
    {
     "name": "stdout",
     "output_type": "stream",
     "text": [
      "Help on method set in module telapy.api.api_module:\n",
      "\n",
      "set(varname, value, i=-1, j=-1, k=-1) method of telapy.api.t2d.Telemac2d instance\n",
      "    Set the value of a variable of the telemac-mascare module\n",
      "    \n",
      "    @param varname (str) Name of the variable\n",
      "    @param value (int/bool/str/double) the value to set\n",
      "    @param i (int) index on first dimension\n",
      "    @param j (int) index on second dimension\n",
      "    @param k (int) index on third dimension\n",
      "    \n",
      "    @return variable value\n",
      "\n"
     ]
    }
   ],
   "source": [
    "help(my_case.set)"
   ]
  },
  {
   "cell_type": "markdown",
   "metadata": {},
   "source": [
    "### Plotting the mesh"
   ]
  },
  {
   "cell_type": "code",
   "execution_count": 21,
   "metadata": {
    "execution": {
     "iopub.execute_input": "2022-12-01T13:53:15.981881Z",
     "iopub.status.busy": "2022-12-01T13:53:15.981727Z",
     "iopub.status.idle": "2022-12-01T13:53:15.984822Z",
     "shell.execute_reply": "2022-12-01T13:53:15.984347Z"
    }
   },
   "outputs": [
    {
     "name": "stdout",
     "output_type": "stream",
     "text": [
      "Help on method show_mesh in module telapy.api.api_module:\n",
      "\n",
      "show_mesh(show=True, visu2d=True) method of telapy.api.t2d.Telemac2d instance\n",
      "    Show the local 2D mesh with topography\n",
      "    \n",
      "    @param show Display the graph (Default True)\n",
      "    @param visu2d 2d display (Default True)\n",
      "    \n",
      "    @return the figure object\n",
      "\n"
     ]
    }
   ],
   "source": [
    "help(my_case.show_mesh)"
   ]
  },
  {
   "cell_type": "markdown",
   "metadata": {},
   "source": [
    "### Plotting the state"
   ]
  },
  {
   "cell_type": "code",
   "execution_count": 22,
   "metadata": {
    "execution": {
     "iopub.execute_input": "2022-12-01T13:53:15.986773Z",
     "iopub.status.busy": "2022-12-01T13:53:15.986621Z",
     "iopub.status.idle": "2022-12-01T13:53:15.989678Z",
     "shell.execute_reply": "2022-12-01T13:53:15.989203Z"
    }
   },
   "outputs": [
    {
     "name": "stdout",
     "output_type": "stream",
     "text": [
      "Help on method show_state in module telapy.api.t2d:\n",
      "\n",
      "show_state(show=True) method of telapy.api.t2d.Telemac2d instance\n",
      "    Show the hydraulic state with matplotlib\n",
      "    \n",
      "    @param show Display the graph (Default True)\n",
      "    \n",
      "    @returns the figure object\n",
      "\n"
     ]
    }
   ],
   "source": [
    "help(my_case.show_state)"
   ]
  },
  {
   "cell_type": "markdown",
   "metadata": {},
   "source": [
    "# Telemac Variables"
   ]
  },
  {
   "cell_type": "markdown",
   "metadata": {},
   "source": [
    "All the variables and parameters available with the API to set or get a value can be seen with:"
   ]
  },
  {
   "cell_type": "code",
   "execution_count": 23,
   "metadata": {
    "execution": {
     "iopub.execute_input": "2022-12-01T13:53:15.991705Z",
     "iopub.status.busy": "2022-12-01T13:53:15.991553Z",
     "iopub.status.idle": "2022-12-01T13:53:15.996330Z",
     "shell.execute_reply": "2022-12-01T13:53:15.995833Z"
    }
   },
   "outputs": [],
   "source": [
    "varnames, varinfo = my_case.list_variables()"
   ]
  },
  {
   "cell_type": "code",
   "execution_count": 24,
   "metadata": {
    "execution": {
     "iopub.execute_input": "2022-12-01T13:53:15.998297Z",
     "iopub.status.busy": "2022-12-01T13:53:15.998110Z",
     "iopub.status.idle": "2022-12-01T13:53:16.001866Z",
     "shell.execute_reply": "2022-12-01T13:53:16.001378Z"
    }
   },
   "outputs": [
    {
     "name": "stdout",
     "output_type": "stream",
     "text": [
      "MODEL.AT: CURRENT TIME\n",
      "MODEL.DT: TIME STEP\n",
      "MODEL.TMAX: END TIME\n",
      "MODEL.BCFILE: BOUNDARY CONDITION FILE NAME\n",
      "MODEL.BND_TIDE: OPTION FOR TIDAL BOUNDARY CONDITIONS\n",
      "MODEL.BOTTOMELEVATION: LEVEL OF THE BOTTOM\n",
      "MODEL.CHESTR: ROUGHNESS COEFFICIENT ON POINT\n",
      "MODEL.FAIR: FAIR ON POINT\n",
      "MODEL.COTE: PRESCRIBED ELEVATION ON BOUNDARY\n",
      "MODEL.CPL_PERIOD: COUPLING PERIOD WITH SISYPHE\n",
      "MODEL.DEBIT: PRESCRIBED DISCHARGE ON BOUNDARY\n",
      "MODEL.DEBUG: ACTIVATING DEBUG MODE\n",
      "MODEL.FLUX_BOUNDARIES: FLUX AT BOUNDARIES\n",
      "MODEL.GEOMETRYFILE: NAME OF THE GEOMERY FILE\n",
      "MODEL.METEOFILE: NAME OF THE BINARY ATMOSPHERIC FILE\n",
      "MODEL.FO2FILE: NAME OF THE FORMATTED DATA FILE 2\n",
      "MODEL.LIQBCFILE: NAME OF THE LIQUID BOUNDARIES FILE\n",
      "MODEL.PREFILE: NAME OF THE PREVIOUS COMPUTATION FILE\n",
      "MODEL.GRAPH_PERIOD: GRAPHICAL OUTPUT PERIOD\n",
      "MODEL.HBOR: BOUNDARY VALUE ON H FOR EACH BOUNDARY POINT\n",
      "MODEL.IKLE: CONNECTIVITY TABLE BETWEEN ELEMENT AND NODES\n",
      "MODEL.ELTSEG: SEGMENTS FORMING AN ELEMENT\n",
      "MODEL.ORISEG: ORIENTATION OF SEGMENTS FORMING AN ELEMENT\n",
      "MODEL.GLOSEG: GLOBAL NUMBERS OF VERTICES OF SEGMENTS\n",
      "MODEL.NACHB: NUMBERS OF PROC CONTAINING A GIVEN POINT\n",
      "MODEL.KNOLG: GIVES THE INITIAL GLOBAL NUMBER OF A LOCAL POINT\n",
      "MODEL.INCWATERDEPTH: INCREASE IN THE DEPTH OF THE WATER\n",
      "MODEL.KP1BOR: POINTS FOLLOWING AND PRECEDING A BOUNDARY POINT\n",
      "MODEL.LIHBOR: BOUNDARY TYPE ON H FOR EACH BOUNDARY POINT\n",
      "MODEL.LISTIN_PERIOD: LISTING OUTPUT PERIOD\n",
      "MODEL.LIUBOR: BOUNDARY TYPE ON U FOR EACH BOUNDARY POINT\n",
      "MODEL.LIVBOR: BOUNDARY TYPE ON V FOR EACH BOUNDARY POINT\n",
      "MODEL.LT: CURRENT TIME STEP\n",
      "MODEL.NBMAXNSHARE: MAXIMUM GEOMETRICAL MULTIPLICITY OF A NODE\n",
      "MODEL.COMPLEO: GRAPHIC OUTPUT COUNTER\n",
      "MODEL.PTINIG: NUMBER OF FIRST TIME STEP FOR GRAPHIC PRINTOUTS\n",
      "MODEL.NPTIR: NUMBER OF INTERFACE POINTS OF THE SUB-DOMAIN\n",
      "MODEL.NBOR: GLOBAL NUMBER OF BOUNDARY POINTS\n",
      "MODEL.NELEM: NUMBER OF ELEMENT IN THE MESH\n",
      "MODEL.NELMAX: MAXIMUM NUMBER OF ELEMENTS ENVISAGED\n",
      "MODEL.NPOIN: NUMBER OF POINT IN THE MESH\n",
      "MODEL.NSEG: NUMBER OF SEGMENT IN THE MESH\n",
      "MODEL.NPTFR: NUMBER OF BOUNDARY POINTS\n",
      "MODEL.NTIMESTEPS: NUMBER OF TIME STEPS\n",
      "MODEL.NUMLIQ: LIQUID BOUNDARY NUMBERS\n",
      "MODEL.POROSITY: POROSITY\n",
      "MODEL.RESULTFILE: NAME OF THE RESULT FILE\n",
      "MODEL.SEALEVEL: COEFFICIENT TO CALIBRATE SEA LEVEL\n",
      "MODEL.TIDALRANGE: COEFFICIENT TO CALIBRATE TIDAL RANGE\n",
      "MODEL.VELOCITYRANGE: COEFFICIENT TO CALIBRATE TIDAL VELOCITY RANGE\n",
      "MODEL.UBOR: BOUNDARY VALUE ON U FOR EACH BOUNDARY POINT\n",
      "MODEL.VBOR: BOUNDARY VALUE ON V FOR EACH BOUNDARY POINT\n",
      "MODEL.VELOCITYU: VELOCITY ON U\n",
      "MODEL.VELOCITYV: VELOCITY ON V\n",
      "MODEL.WATERDEPTH: WATER DEPTH\n",
      "MODEL.X: X COORDINATES FOR EACH POINT OF THE MESH\n",
      "MODEL.XNEBOR: NORMAL X TO 1D BOUNDARY POINTS\n",
      "MODEL.Y: Y COORDINATES FOR EACH POINT OF THE MESH\n",
      "MODEL.YNEBOR: NORMAL Y TO 1D BOUNDARY POINTS\n",
      "MODEL.EQUATION: NAME OF THE EQUATION USED\n",
      "MODEL.AK: TURBULENT KINETIC ENERGY K\n",
      "MODEL.EP: TURBULENT DISSIPATION EPSILON\n",
      "MODEL.ITURB: TURBULENCE MODEL\n",
      "MODEL.INIT_DEPTH: INITIAL DEPTH\n",
      "MODEL.TRACER: TRACERS VALUE\n",
      "MODEL.NTRAC: NUMBER OF TRACERS\n",
      "MODEL.FLOWRATEQ: SOLID TRANSPORT FLOWRATE\n",
      "MODEL.DCLA: MEDIAN GRAIN SIZE\n",
      "MODEL.SHIELDS: CRITICAL SHIELDS PARAMETER\n",
      "MODEL.XWC: SETTLING VELOCITY\n",
      "MODEL.Z: FREE SURFACE ELEVATION\n",
      "MODEL.QBOR: BOUNDARY VALUE ON Q FOR EACH BOUNDARY POINT\n",
      "MODEL.EBOR: BOUNDARY VALUE ON E FOR EACH BOUNDARY POINT\n",
      "MODEL.FLBOR: BOUNDARY VALUE ON ZF FOR EACH BOUNDARY POINT\n",
      "MODEL.TOB: SHEAR STRESS\n",
      "MODEL.CLU: BOUNDARY TYPE ON U FOR EACH BOUNDARY POINT\n",
      "MODEL.CLV: BOUNDARY TYPE ON V FOR EACH BOUNDARY POINT\n",
      "MODEL.LIQBOR: BOUNDARY TYPE ON Q FOR EACH BOUNDARY POINT\n",
      "MODEL.LIEBOR: BOUNDARY TYPE ON E FOR EACH BOUNDARY POINT\n",
      "MODEL.NSICLA: NUMBER OF SIZE-CLASSES OF BED MATERIAL\n",
      "MODEL.NOMBLAY: NUMBER OF LAYER IN THE BED\n",
      "MODEL.CONCENTRATION: CONCENTRATION AT TIME N\n",
      "MODEL.EVOLUTION: EVOLUTION OF BED\n",
      "MODEL.PARTHENIADES: PARTHENIADES EROSION COEFFICIENT FOR EACH BED LAYER FOR EACH CLASS\n",
      "MODEL.MARDAT: A 1 DIMENSIONAL INTEGER ARRAY\n",
      "MODEL.MARTIM: A 1 DIMENSIONAL INTEGER ARRAY\n",
      "MODEL.RAZTIM: A SIMPLE BOOLEAN\n",
      "MODEL.START_RECORD: A SIMPLE INTEGER\n",
      "MODEL.VOLU2D: INTEGRAL OF BASES DOUBLE BIEF_OBJ\n",
      "MODEL.AM1D: DIAGONAL OF AM1 MATRIX\n",
      "MODEL.AM1X: EXTRA-DIAGONAL TERMS OF AM1 MATRIX\n",
      "MODEL.AM2D: DIAGONAL OF AM2 MATRIX\n",
      "MODEL.AM2X: EXTRA-DIAGONAL TERMS OF AM2 MATRIX\n",
      "MODEL.AM3D: DIAGONAL OF AM3 MATRIX\n",
      "MODEL.AM3X: EXTRA-DIAGONAL TERMS OF AM3 MATRIX\n",
      "MODEL.BM1D: DIAGONAL OF BM1 MATRIX\n",
      "MODEL.BM1X: EXTRA-DIAGONAL TERMS OF BM1 MATRIX\n",
      "MODEL.BM2D: DIAGONAL OF BM2 MATRIX\n",
      "MODEL.BM2X: EXTRA-DIAGONAL TERMS OF BM2 MATRIX\n",
      "MODEL.CM1D: DIAGONAL OF CM1 MATRIX\n",
      "MODEL.CM1X: EXTRA-DIAGONAL TERMS OF CM1 MATRIX\n",
      "MODEL.CM2D: DIAGONAL OF CM2 MATRIX\n",
      "MODEL.CM2X: EXTRA-DIAGONAL TERMS OF CM2 MATRIX\n",
      "MODEL.A32D: DIAGONAL OF A32 MATRIX\n",
      "MODEL.A32X: EXTRA-DIAGONAL TERMS OF A32 MATRIX\n",
      "MODEL.A23D: DIAGONAL OF A23 MATRIX\n",
      "MODEL.A23X: EXTRA-DIAGONAL TERMS OF A23 MATRIX\n",
      "MODEL.CV1: TERMS OF CV1 VECTOR\n",
      "MODEL.CV2: TERMS OF CV2 VECTOR\n",
      "MODEL.CV3: TERMS OF CV3 VECTOR\n",
      "MODEL.PROPNU: DIFFUSION COEFFICIENT OF VELOCITY\n",
      "MODEL.MPM: MEYER PETER MUELLER-COEFFICIENT\n",
      "MODEL.BETA2: PARAMETER FOR DEVIATION\n",
      "MODEL.PHISED: FRICTION ANGLE OF THE SEDIMENT\n",
      "MODEL.ALPHA: SECONDARY CURRENT ALPHA COEFFICIENT\n",
      "MODEL.XKV0: INITIAL POROSITY BY LAYERS\n",
      "MODEL.KSPRATIO: RATIO BETWEEN SKIN FRICTION AND MEAN DIAMETER\n",
      "MODEL.IORDRH: INITIAL GUESS FOR DEPTH\n",
      "MODEL.IORDRU: INITIAL GUESS FOR VELOCITY\n",
      "MODEL.INCVELOCITYU: INCREASE OF VELOCITY U\n",
      "MODEL.INCVELOCITYV: INCREASE OF VELOCITY V\n",
      "MODEL.INCWATERDEPTHN: INCREASE OF WATER DEPTH AT TN\n",
      "MODEL.VISCSA: VISCOSITY OF SPALART-ALLMARAS\n",
      "MODEL.RESTART_PERIOD: RESTART FILE PRINTOUT PERIOD\n",
      "MODEL.RESTART_RECORD: RECORD NUMBER IN RESTART FILE\n",
      "MODEL.SECCURRENTS: USE OF SECONDARY CURRENTS?\n",
      "MODEL.SEC_R: REVERSE OF LOCAL RADIUS\n",
      "MODEL.NESTOR: USE OF NESTOR?\n",
      "MODEL.ZREFLEVEL: REFERENCE LEVEL FOR NESTOR\n"
     ]
    }
   ],
   "source": [
    "for a, b in zip(varnames, varinfo):\n",
    "    print(a + ': ' + b)"
   ]
  },
  {
   "cell_type": "markdown",
   "metadata": {},
   "source": [
    "# Example of use"
   ]
  },
  {
   "cell_type": "markdown",
   "metadata": {},
   "source": [
    "Knowing now the API and the variables, a Telemac computation on the test example named 'breach' could be:"
   ]
  },
  {
   "cell_type": "markdown",
   "metadata": {},
   "source": [
    "## Read the steering file and do allocations"
   ]
  },
  {
   "cell_type": "code",
   "execution_count": 25,
   "metadata": {
    "execution": {
     "iopub.execute_input": "2022-12-01T13:53:16.004010Z",
     "iopub.status.busy": "2022-12-01T13:53:16.003857Z",
     "iopub.status.idle": "2022-12-01T13:53:16.016295Z",
     "shell.execute_reply": "2022-12-01T13:53:16.015736Z"
    }
   },
   "outputs": [
    {
     "name": "stdout",
     "output_type": "stream",
     "text": [
      " MASTER PROCESSOR NUMBER            0  OF THE GROUP OF            1\n",
      " READ_CONFIG: FILE CONFIG NOT FOUND: CONFIG\n",
      " DEFAULTS VALUES OF LU AND LNG:            6  AND            2\n",
      " LISTING OF TELEMAC2D------------------------------------------------------------------------------\n",
      "\n",
      "                TTTTT  EEEEE  L      EEEEE  M   M  AAAAA  CCCCC\n",
      "                  T    E      L      E      MM MM  A   A  C    \n",
      "                  T    EEE    L      EEE    M M M  AAAAA  C    \n",
      "                  T    E      L      E      M   M  A   A  C    \n",
      "                  T    EEEEE  LLLLL  EEEEE  M   M  A   A  CCCCC\n",
      "                                                               \n",
      "                        2D    VERSION V8P4   FORTRAN 2003       \n",
      "\n",
      "\n",
      "\n",
      "\n",
      "\n",
      "\n",
      "\n",
      "                        ~^~^~^~^~^~^~^~^~^~^~^^~^~^~^~^~^~     \n",
      "                          ~                            ~       \n",
      "                               \\   '    o      '               \n",
      "                               /\\ o       \\  o                 \n",
      "                             >=)'>    '   /\\ '                 \n",
      "                               \\/   \\   >=)'>        ~         \n",
      "                               /    /\\    \\/                   \n",
      "                        ~         >=)'>   /     .              \n",
      "                                    \\/                   )     \n",
      "                                    /                   (      \n",
      "                                          ~          )   )     \n",
      "                          }     ~              (    (   (      \n",
      "                         {                      )    )   )     \n",
      "                          }  }         .       (    (   (      \n",
      "                         {  {               /^^^^^^^^^^^^      \n",
      "                        ^^^^^^^^^\\         /                   \n",
      "                                  ^^^^^^^^^                    \n",
      "\n",
      "\n",
      "\n",
      "\n",
      "\n",
      "\n",
      "  \n",
      " DIFFERENT NUMBER OF PARALLEL PROCESSORS:\n",
      " DECLARED BEFORE (CASE OF COUPLING ?):           1\n",
      " TELEMAC-2D :           0\n",
      " VALUE            1  IS KEPT\n",
      "\n",
      "                   ********************************************\n",
      "                   *               LECDON:                    *\n",
      "                   *        AFTER CALLING DAMOCLES            *\n",
      "                   *        CHECKING OF DATA  READ            *\n",
      "                   *         IN THE STEERING FILE             *\n",
      "                   ********************************************\n",
      "\n",
      "\n",
      " EXITING LECDON. NAME OF THE STUDY:\n",
      " TELEMAC 2D : rupture digue  - Qinitial                                  \n",
      "\n"
     ]
    },
    {
     "data": {
      "text/plain": [
       "0"
      ]
     },
     "execution_count": 25,
     "metadata": {},
     "output_type": "execute_result"
    }
   ],
   "source": [
    "my_case.set_case()"
   ]
  },
  {
   "cell_type": "markdown",
   "metadata": {},
   "source": [
    "## Initialisation"
   ]
  },
  {
   "cell_type": "code",
   "execution_count": 26,
   "metadata": {
    "execution": {
     "iopub.execute_input": "2022-12-01T13:53:16.018334Z",
     "iopub.status.busy": "2022-12-01T13:53:16.018145Z",
     "iopub.status.idle": "2022-12-01T13:53:16.132365Z",
     "shell.execute_reply": "2022-12-01T13:53:16.130986Z"
    }
   },
   "outputs": [
    {
     "name": "stdout",
     "output_type": "stream",
     "text": [
      " OPENING FILES FOR TELEMAC2D               \n",
      " OPENING: T2DGEO-geo_breach.slf\n"
     ]
    },
    {
     "name": "stdout",
     "output_type": "stream",
     "text": [
      " OPENING: T2DCLI-geo_breach.cli\n",
      " OPENING: T2DPRE-ini_breach.slf\n",
      " OPENING: T2DRES-r2d_breach.slf\n",
      " OPENING: T2DIMP-t2d_breach.liq\n",
      " OPENING: T2DBRC-breach.txt\n",
      "\n",
      "\n",
      "\n",
      "                          *****************************\n",
      "                          *    MEMORY ORGANIZATION    *\n",
      "                          *****************************\n",
      "\n",
      "\n",
      "\n",
      " READ_MESH_INFO: TITLE= C:\\RuptureDigue2D\\Modele.MAT\u0000\u0000\u0000\u0000\u0000\u0000\u0000\u0000\u0000\u0000\u0000\u0000\u0000\u0000\u0000\u0000\u0000\u0000\u0000\u0000\u0000\u0000\u0000\u0000\u0000\u0000\u0000\u0000\u0000\u0000\u0000\u0000\u0000\u0000\u0000\u0000\u0000\u0000\u0000\u0000\u0000\u0000\u0000\u0000\n",
      "            NUMBER OF ELEMENTS:    26449\n",
      "            NUMBER OF POINTS:    13648\n",
      "\n",
      "            TYPE OF ELEMENT: TRIANGLE            \n",
      "            TYPE OF BND ELEMENT: POINT               \n",
      "\n",
      "            SINGLE PRECISION FORMAT (R4)\n",
      "  \n",
      " MXPTEL (BIEF) : MAXIMUM NUMBER OF ELEMENTS AROUND A POINT:   8\n",
      "                 MAXIMUM NUMBER OF POINTS AROUND A POINT:   8\n",
      " USER_CORRXY (BIEF):NO MODIFICATION OF COORDINATES\n",
      "\n",
      " MESH: MESH   ALLOCATED\n",
      "\n",
      "\n",
      "\n",
      "                     *************************************\n",
      "                     *    END OF MEMORY ORGANIZATION:    *\n",
      "                    "
     ]
    },
    {
     "name": "stdout",
     "output_type": "stream",
     "text": [
      " *************************************\n",
      "\n",
      " INITIALIZING TELEMAC2D FOR        \n",
      " INBIEF (BIEF): NOT A VECTOR MACHINE (ACCORDING TO YOUR DATA)\n",
      " STRCHE (BIEF): NO MODIFICATION OF FRICTION\n",
      "\n",
      "\n",
      " THERE IS     2 LIQUID BOUNDARIES:\n",
      "\n",
      " BOUNDARY    1 : \n",
      "  BEGINS AT BOUNDARY POINT:      534 , WITH GLOBAL NUMBER:        43\n",
      "  AND COORDINATES:     5000.000           0.000000    \n",
      "  ENDS AT BOUNDARY POINT:      544 , WITH GLOBAL NUMBER:       158\n",
      "  AND COORDINATES:     5000.000           26.00000    \n",
      "\n",
      " BOUNDARY    2 : \n",
      "  BEGINS AT BOUNDARY POINT:      836 , WITH GLOBAL NUMBER:         2\n",
      "  AND COORDINATES:     0.000000           26.00000    \n",
      "  ENDS AT BOUNDARY POINT:        1 , WITH GLOBAL NUMBER:        23\n",
      "  AND COORDINATES:     0.000000           0.000000    \n",
      "\n",
      " THERE IS     2 SOLID BOUNDARIES:\n",
      "\n",
      " BOUNDARY    1 : \n",
      "  BEGINS AT BOUNDARY POINT:        1 , WITH GLOBAL NUMBER:        23\n",
      "  AND COORDINATES:     0.000000           0.000000    \n",
      "  ENDS AT BOUNDARY POINT:      534 , WITH GLOBAL NUMBER:        43\n",
      "  AND COORDINATES:     5000.000           0.000000    \n",
      "\n",
      " BOUNDARY    2 : \n",
      "  BEGINS AT BOUNDARY POINT:      544 , WITH GLOBAL NUMBER:       158\n",
      "  AND COORDINATES:     5000.000           26.00000    \n",
      "  ENDS AT BOUNDARY POINT:      836 , WITH GLOBAL NUMBER:         2\n",
      "  AND COORDINATES:     0.000000           26.00000    \n",
      "\n",
      " CORFON (TELEMAC2D): NO MODIFICATION OF BOTTOM\n",
      "\n",
      "\n",
      "\n",
      " TITLE OF PREVIOUS COMPUTATION: maillage                                                                \n",
      "\n",
      " NAME: BOTTOM            UNIT: M               \n",
      " NAME: FREE SURFACE      UNIT: M               \n",
      " NAME: VELOCITY U        UNIT: M/S             \n",
      " NAME: VELOCITY V        UNIT: M/S             \n",
      "\n",
      " READ_DATASET : READ OF RECORD     1\n",
      "\n",
      "\n",
      " TIME OF RECORD:     15000.00     S\n",
      " ELAPSED TIME RESET TO ZERO\n",
      " RESCUE : WATER DEPTH COMPUTED WITH BATHYMETRY\n",
      "          AND SURFACE ELEVATION\n",
      " PRE READING THE BREACH FILE\n",
      "\n",
      " SOURCE POINT            1 PUT ON POINT\n",
      "   2099.5356445312500       AND    15.415499687194824     \n",
      " LOCATED AT   0.60201839479131225       METRES\n",
      "\n",
      " SOURCE POINT            2 PUT ON POINT\n",
      "   2096.8337402343750       AND    14.198300361633301     \n",
      " LOCATED AT    1.0867828861820146       METRES\n",
      "\n",
      " SOURCE POINT            3 PUT ON POINT\n",
      "   2091.9548339843750       AND    14.895099639892578     \n",
      " LOCATED AT    1.1400026177956499       METRES\n",
      "\n",
      " SOURCE POINT            4 PUT ON POINT\n",
      "   2089.3352050781250       AND    13.769100189208984     \n",
      " LOCATED AT    1.4438939428828785       METRES\n",
      "\n",
      " SOURCE POINT            5 PUT ON POINT\n",
      "   2087.3732910156250       AND    15.427800178527832     \n",
      " LOCATED AT   0.51309530526229385       METRES\n",
      "\n",
      " SOURCE POINT            6 PUT ON POINT\n",
      "   2084.7512207031250       AND    15.805800437927246     \n",
      " LOCATED AT    1.0487380884031334       METRES\n",
      "\n",
      " SOURCE POINT            7 PUT ON POINT\n",
      "   2080.0593261718750       AND    15.613900184631348     \n",
      " LOCATED AT    1.1910703170298538       METRES\n",
      "\n",
      " SOURCE POINT            8 PUT ON POINT\n",
      "   2077.6860351562500       AND    13.894100189208984     \n",
      " LOCATED AT    1.1739772951886713       METRES\n",
      "\n",
      " SOURCE POINT            9 PUT ON POINT\n",
      "   2075.9680175781250       AND    15.814000129699707     \n",
      " LOCATED AT    1.2046457695979591       METRES\n",
      "\n",
      " SOURCE POINT           10 PUT ON POINT\n",
      "   2071.4885253906250       AND    15.287199974060059     \n",
      " LOCATED AT   0.64853415210619214       METRES\n",
      "\n",
      " SOURCE POINT           11 PUT ON POINT\n",
      "   2068.9252929687500       AND    13.836199760437012     \n",
      " LOCATED AT    1.1727621764450391       METRES\n",
      "\n",
      " SOURCE POINT           12 PUT ON POINT\n",
      "   2066.4506835937500       AND    15.252200126647949     \n",
      " LOCATED AT   0.45664526980089482       METRES\n",
      "\n",
      " SOURCE POINT           13 PUT ON POINT\n",
      "   2063.8513183593750       AND    13.759099960327148     \n",
      " LOCATED AT    1.4717396693519247       METRES\n",
      "\n",
      " SOURCE POINT           14 PUT ON POINT\n",
      "   2061.3605957031250       AND    15.127400398254395     \n",
      " LOCATED AT    1.3068205861795770       METRES\n",
      "\n",
      " SOURCE POINT           15 PUT ON POINT\n",
      "   2056.0686035156250       AND    15.337499618530273     \n",
      " LOCATED AT    1.0472692976207607       METRES\n",
      "\n",
      " SOURCE POINT           16 PUT ON POINT\n",
      "   2053.5205078125000       AND    14.001799583435059     \n",
      " LOCATED AT    1.1299407277614832       METRES\n",
      "\n",
      " SOURCE POINT           17 PUT ON POINT\n",
      "   2050.9521484375000       AND    15.335499763488770     \n",
      " LOCATED AT   0.34947821045774413       METRES\n",
      "\n",
      " SOURCE POINT           18 PUT ON POINT\n",
      "   2048.4675292968750       AND    13.836799621582031     \n",
      " LOCATED AT    1.2358664305257610       METRES\n",
      "\n",
      " SOURCE POINT           19 PUT ON POINT\n",
      "   2045.9772949218750       AND    15.175800323486328     \n",
      " LOCATED AT   0.94381228317560284       METRES\n",
      "\n",
      " SOURCE POINT           20 PUT ON POINT\n",
      "   2040.7519531250000       AND    14.986399650573730     \n",
      " LOCATED AT    1.2881186753174914       METRES\n",
      "\n",
      " SOURCE POINT           21 PUT ON POINT\n",
      "   2038.1176757812500       AND    16.201700210571289     \n",
      " LOCATED AT    1.5148482962263288       METRES\n",
      "\n",
      " SOURCE POINT           22 PUT ON POINT\n",
      "   2035.5537109375000       AND    14.735300064086914     \n",
      " LOCATED AT   0.55366335293162150       METRES\n",
      "\n",
      " SOURCE POINT           23 PUT ON POINT\n",
      "   2032.9903564453125       AND    16.025199890136719     \n",
      " LOCATED AT    1.0259660940618842       METRES\n",
      "\n",
      " SOURCE POINT           24 PUT ON POINT\n",
      "   2030.2839355468750       AND    14.387900352478027     \n",
      " LOCATED AT   0.66268336365359459       METRES\n",
      "\n",
      " SOURCE POINT           25 PUT ON POINT\n",
      "   2027.5628662109375       AND    14.117699623107910     \n",
      " LOCATED AT    1.0307280697753607       METRES\n",
      "\n",
      " SOURCE POINT           26 PUT ON POINT\n",
      "   2025.2701416015625       AND    15.466600418090820     \n",
      " LOCATED AT    1.3343799961479588       METRES\n",
      "\n",
      " SOURCE POINT           27 PUT ON POINT\n",
      "   2020.2091064453125       AND    15.340000152587891     \n",
      " LOCATED AT   0.87928861063560293       METRES\n",
      "\n",
      " SOURCE POINT           28 PUT ON POINT\n",
      "   2017.9257812500000       AND    13.730099678039551     \n",
      " LOCATED AT    1.2733907493643934       METRES\n",
      "\n",
      " SOURCE POINT           29 PUT ON POINT\n",
      "   2015.2524414062500       AND    14.761899948120117     \n",
      " LOCATED AT   0.33274711425448739       METRES\n",
      "\n",
      " SOURCE POINT           30 PUT ON POINT\n",
      "   2012.6164550781250       AND    15.870100021362305     \n",
      " LOCATED AT    1.0605950258973942       METRES\n",
      "\n",
      " SOURCE POINT           31 PUT ON POINT\n",
      "   2010.2160644531250       AND    14.559900283813477     \n",
      " LOCATED AT    1.2838532724884046       METRES\n",
      "\n",
      " SOURCE POINT           32 PUT ON POINT\n",
      "   2004.9462890625000       AND    15.203900337219238     \n",
      " LOCATED AT    1.0830772392009855       METRES\n",
      "\n",
      " SOURCE POINT           33 PUT ON POINT\n",
      "   2002.4473876953125       AND    14.231699943542480     \n",
      " LOCATED AT   0.94639597211984061       METRES\n",
      "\n",
      " SOURCE POINT           34 PUT ON POINT\n",
      "   2000.0000000000000       AND    16.333299636840820     \n",
      " LOCATED AT    1.3332996368408203       METRES\n",
      "\n",
      "\n",
      " SOURCE POINT            1 PUT ON POINT\n",
      "   2000.0000000000000       AND    64.206199645996094     \n",
      " LOCATED AT   0.79380035400390625       METRES\n",
      "\n",
      " SOURCE POINT            2 PUT ON POINT\n",
      "   2005.8077392578125       AND    63.700000762939453     \n",
      " LOCATED AT    3.0940907802162969       METRES\n",
      "\n",
      " SOURCE POINT            3 PUT ON POINT\n",
      "   2005.8077392578125       AND    63.700000762939453     \n",
      " LOCATED AT    1.3156395494922759       METRES\n",
      "\n",
      " SOURCE POINT            4 PUT ON POINT\n",
      "   2005.8077392578125       AND    63.700000762939453     \n",
      " LOCATED AT    3.4560775276768871       METRES\n",
      "\n",
      " SOURCE POINT            5 PUT ON POINT\n",
      "   2012.8868408203125       AND    67.036201477050781     \n",
      " LOCATED AT    2.2169723226305957       METRES\n",
      "\n",
      " SOURCE POINT            6 PUT ON POINT\n",
      "   2012.8868408203125       AND    67.036201477050781     \n",
      " LOCATED AT    2.9489802544318184       METRES\n",
      "\n",
      " SOURCE POINT            7 PUT ON POINT\n",
      "   2019.8607177734375       AND    63.506500244140625     \n",
      " LOCATED AT    2.3703973173712432       METRES\n",
      "\n",
      " SOURCE POINT            8 PUT ON POINT\n",
      "   2019.8607177734375       AND    63.506500244140625     \n",
      " LOCATED AT    1.8906286789255256       METRES\n",
      "\n",
      " SOURCE POINT            9 PUT ON POINT\n",
      "   2026.1568603515625       AND    66.581901550292969     \n",
      " LOCATED AT    2.6586810032230619       METRES\n",
      "\n",
      " SOURCE POINT           10 PUT ON POINT\n",
      "   2026.1568603515625       AND    66.581901550292969     \n",
      " LOCATED AT    1.8068717055986048       METRES\n",
      "\n",
      " SOURCE POINT           11 PUT ON POINT\n",
      "   2026.1568603515625       AND    66.581901550292969     \n",
      " LOCATED AT    4.1837331715965878       METRES\n",
      "\n",
      " SOURCE POINT           12 PUT ON POINT\n",
      "   2033.6766357421875       AND    67.820602416992188     \n",
      " LOCATED AT    2.8937753502676369       METRES\n",
      "\n",
      " SOURCE POINT           13 PUT ON POINT\n",
      "   2033.6766357421875       AND    67.820602416992188     \n",
      " LOCATED AT    3.6798489928049527       METRES\n",
      "\n",
      " SOURCE POINT           14 PUT ON POINT\n",
      "   2040.1851806640625       AND    64.233703613281250     \n",
      " LOCATED AT    1.3779146946168053       METRES\n",
      "\n",
      " SOURCE POINT           15 PUT ON POINT\n",
      "   2040.1851806640625      "
     ]
    }
   ],
   "source": [
    "my_case.init_state_default()"
   ]
  },
  {
   "cell_type": "markdown",
   "metadata": {},
   "source": [
    "## Mesh view"
   ]
  },
  {
   "cell_type": "code",
   "execution_count": 27,
   "metadata": {
    "execution": {
     "iopub.execute_input": "2022-12-01T13:53:16.134955Z",
     "iopub.status.busy": "2022-12-01T13:53:16.134674Z",
     "iopub.status.idle": "2022-12-01T13:53:17.848467Z",
     "shell.execute_reply": "2022-12-01T13:53:17.847780Z"
    }
   },
   "outputs": [
    {
     "data": {
      "image/png": "[encoded data removed]",
      "text/plain": [
       "<Figure size 432x288 with 1 Axes>"
      ]
     },
     "metadata": {
      "needs_background": "light"
     },
     "output_type": "display_data"
    }
   ],
   "source": [
    "%matplotlib inline\n",
    "my_figure = my_case.show_mesh(visu2d=False)"
   ]
  },
  {
   "cell_type": "markdown",
   "metadata": {},
   "source": [
    "## Simulation"
   ]
  },
  {
   "cell_type": "code",
   "execution_count": 28,
   "metadata": {
    "execution": {
     "iopub.execute_input": "2022-12-01T13:53:17.850780Z",
     "iopub.status.busy": "2022-12-01T13:53:17.850550Z",
     "iopub.status.idle": "2022-12-01T13:53:18.014461Z",
     "shell.execute_reply": "2022-12-01T13:53:18.013882Z"
    }
   },
   "outputs": [
    {
     "name": "stdout",
     "output_type": "stream",
     "text": [
      " THE LIQUID BOUNDARIES FILE CONTAINS\n",
      "           3  LINES WITH:\n",
      " SL(1)    Q(2)     \n",
      " USING STREAMLINE VERSION V8P4 FOR CHARACTERISTICS\n"
     ]
    }
   ],
   "source": [
    "for i in range(10):\n",
    "    my_case.run_one_time_step()"
   ]
  },
  {
   "cell_type": "markdown",
   "metadata": {},
   "source": [
    "## Current state"
   ]
  },
  {
   "cell_type": "markdown",
   "metadata": {},
   "source": [
    "### Values"
   ]
  },
  {
   "cell_type": "code",
   "execution_count": 29,
   "metadata": {
    "execution": {
     "iopub.execute_input": "2022-12-01T13:53:18.016874Z",
     "iopub.status.busy": "2022-12-01T13:53:18.016664Z",
     "iopub.status.idle": "2022-12-01T13:53:18.020464Z",
     "shell.execute_reply": "2022-12-01T13:53:18.020041Z"
    }
   },
   "outputs": [
    {
     "name": "stdout",
     "output_type": "stream",
     "text": [
      "Mean water height (m) =  0.8729500479824129\n",
      "Max velocity (m/s) =  2.5593669153250427\n"
     ]
    }
   ],
   "source": [
    "import numpy as np\n",
    "\n",
    "h, u, v = my_case.get_state()\n",
    "\n",
    "print('Mean water height (m) = ', h.mean())\n",
    "print('Max velocity (m/s) = ', np.amax(np.sqrt(u * u + v * v)))"
   ]
  },
  {
   "cell_type": "markdown",
   "metadata": {},
   "source": [
    "### Graph"
   ]
  },
  {
   "cell_type": "code",
   "execution_count": 30,
   "metadata": {
    "execution": {
     "iopub.execute_input": "2022-12-01T13:53:18.022437Z",
     "iopub.status.busy": "2022-12-01T13:53:18.022241Z",
     "iopub.status.idle": "2022-12-01T13:53:18.494008Z",
     "shell.execute_reply": "2022-12-01T13:53:18.493451Z"
    }
   },
   "outputs": [
    {
     "data": {
      "image/png": "[encoded data removed]",
      "text/plain": [
       "<Figure size 432x288 with 4 Axes>"
      ]
     },
     "metadata": {
      "needs_background": "light"
     },
     "output_type": "display_data"
    }
   ],
   "source": [
    "my_new_figure = my_case.show_state(show=True)"
   ]
  },
  {
   "cell_type": "markdown",
   "metadata": {},
   "source": [
    "### Save"
   ]
  },
  {
   "cell_type": "code",
   "execution_count": 31,
   "metadata": {
    "execution": {
     "iopub.execute_input": "2022-12-01T13:53:18.496256Z",
     "iopub.status.busy": "2022-12-01T13:53:18.496055Z",
     "iopub.status.idle": "2022-12-01T13:53:18.500392Z",
     "shell.execute_reply": "2022-12-01T13:53:18.499870Z"
    }
   },
   "outputs": [
    {
     "data": {
      "text/plain": [
       "array([ 7.27462337e-09,  0.00000000e+00,  5.91523647e-09, ...,\n",
       "       -3.78637998e-03, -7.20711679e-04,  8.35651178e-04])"
      ]
     },
     "execution_count": 31,
     "metadata": {},
     "output_type": "execute_result"
    }
   ],
   "source": [
    "my_case.save_state()\n",
    "my_case.hsave\n",
    "my_case.usave\n",
    "my_case.vsave"
   ]
  },
  {
   "cell_type": "markdown",
   "metadata": {},
   "source": [
    "### Change"
   ]
  },
  {
   "cell_type": "code",
   "execution_count": 32,
   "metadata": {
    "execution": {
     "iopub.execute_input": "2022-12-01T13:53:18.502429Z",
     "iopub.status.busy": "2022-12-01T13:53:18.502248Z",
     "iopub.status.idle": "2022-12-01T13:53:18.506452Z",
     "shell.execute_reply": "2022-12-01T13:53:18.506065Z"
    }
   },
   "outputs": [
    {
     "name": "stdout",
     "output_type": "stream",
     "text": [
      "Mean velocity (m/s) =  0.0\n"
     ]
    }
   ],
   "source": [
    "# to null velocity\n",
    "number_of_nodes = my_case.get('MODEL.NPOIN')\n",
    "value = np.zeros(number_of_nodes)\n",
    "my_case.set_array('MODEL.VELOCITYU', value)\n",
    "my_case.set_array('MODEL.VELOCITYV', value)\n",
    "   \n",
    "h, u, v = my_case.get_state()\n",
    "print('Mean velocity (m/s) = ', np.mean(np.sqrt(u * u + v * v)))"
   ]
  },
  {
   "cell_type": "markdown",
   "metadata": {},
   "source": [
    "### Restore"
   ]
  },
  {
   "cell_type": "code",
   "execution_count": 33,
   "metadata": {
    "execution": {
     "iopub.execute_input": "2022-12-01T13:53:18.508447Z",
     "iopub.status.busy": "2022-12-01T13:53:18.508237Z",
     "iopub.status.idle": "2022-12-01T13:53:18.511937Z",
     "shell.execute_reply": "2022-12-01T13:53:18.511441Z"
    }
   },
   "outputs": [
    {
     "name": "stdout",
     "output_type": "stream",
     "text": [
      "Max velocity (m/s) =  2.5593669153250427\n"
     ]
    }
   ],
   "source": [
    "err = my_case.restore_state()\n",
    "\n",
    "h, u, v = my_case.get_state()\n",
    "print('Max velocity (m/s) = ', np.amax(np.sqrt(u * u + v * v)))"
   ]
  },
  {
   "cell_type": "markdown",
   "metadata": {},
   "source": [
    "## Parameters"
   ]
  },
  {
   "cell_type": "code",
   "execution_count": 34,
   "metadata": {
    "execution": {
     "iopub.execute_input": "2022-12-01T13:53:18.513956Z",
     "iopub.status.busy": "2022-12-01T13:53:18.513748Z",
     "iopub.status.idle": "2022-12-01T13:53:18.517428Z",
     "shell.execute_reply": "2022-12-01T13:53:18.517047Z"
    }
   },
   "outputs": [
    {
     "data": {
      "text/plain": [
       "7.179999828338623"
      ]
     },
     "execution_count": 34,
     "metadata": {},
     "output_type": "execute_result"
    }
   ],
   "source": [
    "# bottom elevation at node no. 102\n",
    "my_case.get('MODEL.BOTTOMELEVATION', 102)"
   ]
  },
  {
   "cell_type": "code",
   "execution_count": 35,
   "metadata": {
    "execution": {
     "iopub.execute_input": "2022-12-01T13:53:18.519310Z",
     "iopub.status.busy": "2022-12-01T13:53:18.519146Z",
     "iopub.status.idle": "2022-12-01T13:53:18.522600Z",
     "shell.execute_reply": "2022-12-01T13:53:18.522225Z"
    }
   },
   "outputs": [
    {
     "data": {
      "text/plain": [
       "15.0"
      ]
     },
     "execution_count": 35,
     "metadata": {},
     "output_type": "execute_result"
    }
   ],
   "source": [
    "# friction coefficient (Strickler value) at node no. 500\n",
    "my_case.get('MODEL.CHESTR', 500)"
   ]
  },
  {
   "cell_type": "markdown",
   "metadata": {},
   "source": [
    "## Deletion"
   ]
  },
  {
   "cell_type": "code",
   "execution_count": 36,
   "metadata": {
    "execution": {
     "iopub.execute_input": "2022-12-01T13:53:18.524611Z",
     "iopub.status.busy": "2022-12-01T13:53:18.524425Z",
     "iopub.status.idle": "2022-12-01T13:53:18.528048Z",
     "shell.execute_reply": "2022-12-01T13:53:18.527635Z"
    }
   },
   "outputs": [
    {
     "name": "stdout",
     "output_type": "stream",
     "text": [
      "\n",
      "\n",
      "\n",
      "                     *************************************\n",
      "                     *    END OF MEMORY ORGANIZATION:    *\n",
      "                     *************************************\n",
      "\n",
      "\n",
      "\n",
      "\n",
      " CORRECT END OF RUN\n",
      "\n",
      "\n",
      "\n",
      " ELAPSE TIME : \n",
      "                              2  SECONDS\n"
     ]
    }
   ],
   "source": [
    "my_case.finalize()\n",
    "del my_case"
   ]
  }
 ],
 "metadata": {
  "anaconda-cloud": {},
  "kernelspec": {
   "display_name": "Python 3",
   "language": "python",
   "name": "python3"
  },
  "language_info": {
   "codemirror_mode": {
    "name": "ipython",
    "version": 3
   },
   "file_extension": ".py",
   "mimetype": "text/x-python",
   "name": "python",
   "nbconvert_exporter": "python",
   "pygments_lexer": "ipython3",
   "version": "3.7.13"
  }
 },
 "nbformat": 4,
 "nbformat_minor": 1
}
