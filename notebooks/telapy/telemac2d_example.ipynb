{
 "cells": [
  {
   "cell_type": "markdown",
   "metadata": {},
   "source": [
    "<span style=\"float:left;\">Licence CC BY-SA</span><span style=\"float:right;\">Fabrice Zaoui&nbsp;</span><br/>\n",
    "___"
   ]
  },
  {
   "cell_type": "markdown",
   "metadata": {},
   "source": [
    "This tutorial is intended for people who want an example showing how to run Telemac 2D in an interactive mode with the help of the Python programming language."
   ]
  },
  {
   "cell_type": "markdown",
   "metadata": {},
   "source": [
    "# Import Telemac2D as a Python module"
   ]
  },
  {
   "cell_type": "code",
   "execution_count": 1,
   "metadata": {
    "execution": {
     "iopub.execute_input": "2022-12-01T13:53:19.860365Z",
     "iopub.status.busy": "2022-12-01T13:53:19.860123Z",
     "iopub.status.idle": "2022-12-01T13:53:19.910211Z",
     "shell.execute_reply": "2022-12-01T13:53:19.909632Z"
    }
   },
   "outputs": [],
   "source": [
    "import telapy.api.t2d"
   ]
  },
  {
   "cell_type": "markdown",
   "metadata": {},
   "source": [
    "The module 'TelApy.api.t2d' is located in the '$HOMETEL/scripts/python3/telapy/api' directory. If an error occurs while attempting to import, check the value of the environment variable PYTHONPATH. Alternatively you can also work with the file 'apiT2d.py' listed in your working directory.\n"
   ]
  },
  {
   "cell_type": "markdown",
   "metadata": {
    "collapsed": true
   },
   "source": [
    "# Problem instantiation"
   ]
  },
  {
   "cell_type": "markdown",
   "metadata": {},
   "source": [
    "A problem is created from the \"breach\" example"
   ]
  },
  {
   "cell_type": "code",
   "execution_count": 2,
   "metadata": {
    "execution": {
     "iopub.execute_input": "2022-12-01T13:53:19.912982Z",
     "iopub.status.busy": "2022-12-01T13:53:19.912753Z",
     "iopub.status.idle": "2022-12-01T13:53:23.421334Z",
     "shell.execute_reply": "2022-12-01T13:53:23.420643Z"
    }
   },
   "outputs": [
    {
     "name": "stdout",
     "output_type": "stream",
     "text": [
      "  ~> Checking keyword/rubrique coherence\n"
     ]
    }
   ],
   "source": [
    "# Changing of directory : 'examples' directory of the Telemac sources\n",
    "import os, sys\n",
    "HOMETEL = os.environ.get('HOMETEL')\n",
    "os.chdir(HOMETEL + '/examples/telemac2d/breach')\n",
    "\n",
    "# Instantiation of a Telemac2d object from the test case named 'breach'\n",
    "# - steering file : 't2d_breach.cas'\n",
    "# - language : french (1) or english (2: default)\n",
    "from telapy.api.t2d import Telemac2d\n",
    "from mpi4py import MPI\n",
    "my_problem = Telemac2d('t2d_breach.cas', lang=1, comm=MPI.COMM_WORLD)"
   ]
  },
  {
   "cell_type": "markdown",
   "metadata": {},
   "source": [
    "An object 'my_problem' is now created."
   ]
  },
  {
   "cell_type": "markdown",
   "metadata": {},
   "source": [
    "# Read the steering file"
   ]
  },
  {
   "cell_type": "code",
   "execution_count": 3,
   "metadata": {
    "execution": {
     "iopub.execute_input": "2022-12-01T13:53:23.423654Z",
     "iopub.status.busy": "2022-12-01T13:53:23.423438Z",
     "iopub.status.idle": "2022-12-01T13:53:23.439487Z",
     "shell.execute_reply": "2022-12-01T13:53:23.439064Z"
    }
   },
   "outputs": [
    {
     "name": "stdout",
     "output_type": "stream",
     "text": [
      " MASTER PROCESSOR NUMBER            0  OF THE GROUP OF            1\n",
      " READ_CONFIG: FILE CONFIG NOT FOUND: CONFIG\n",
      " DEFAULTS VALUES OF LU AND LNG:            6  AND            2\n",
      " LISTING OF TELEMAC2D------------------------------------------------------------------------------\n",
      "\n",
      "                TTTTT  EEEEE  L      EEEEE  M   M  AAAAA  CCCCC\n",
      "                  T    E      L      E      MM MM  A   A  C    \n",
      "                  T    EEE    L      EEE    M M M  AAAAA  C    \n",
      "                  T    E      L      E      M   M  A   A  C    \n",
      "                  T    EEEEE  LLLLL  EEEEE  M   M  A   A  CCCCC\n",
      "                                                               \n",
      "                        2D    VERSION V8P4   FORTRAN 2003       \n",
      "\n",
      "\n",
      "\n",
      "\n",
      "\n",
      "\n",
      "\n",
      "                        ~^~^~^~^~^~^~^~^~^~^~^^~^~^~^~^~^~     \n",
      "                          ~                            ~       \n",
      "                               \\   '    o      '               \n",
      "                               /\\ o       \\  o                 \n",
      "                             >=)'>    '   /\\ '                 \n",
      "                               \\/   \\   >=)'>        ~         \n",
      "                               /    /\\    \\/                   \n",
      "                        ~         >=)'>   /     .              \n",
      "                                    \\/                   )     \n",
      "                                    /                   (      \n",
      "                                          ~          )   )     \n",
      "                          }     ~              (    (   (      \n",
      "                         {                      )    )   )     \n",
      "                          }  }         .       (    (   (      \n",
      "                         {  {               /^^^^^^^^^^^^      \n",
      "                        ^^^^^^^^^\\         /                   \n",
      "                                  ^^^^^^^^^                    \n",
      "\n",
      "\n",
      "\n",
      "\n",
      "\n",
      "\n",
      "  \n",
      " DIFFERENT NUMBER OF PARALLEL PROCESSORS:\n",
      " DECLARED BEFORE (CASE OF COUPLING ?):           1\n",
      " TELEMAC-2D :           0\n",
      " VALUE            1  IS KEPT\n",
      "\n",
      "                   ********************************************\n",
      "                   *               LECDON:                    *\n",
      "                   *        AFTER CALLING DAMOCLES            *\n",
      "                   *        CHECKING OF DATA  READ            *\n",
      "                   *         IN THE STEERING FILE             *\n",
      "                   ********************************************\n",
      "\n",
      "\n",
      " EXITING LECDON. NAME OF THE STUDY:\n",
      " TELEMAC 2D : rupture digue  - Qinitial                                  \n",
      "\n"
     ]
    },
    {
     "data": {
      "text/plain": [
       "0"
      ]
     },
     "execution_count": 3,
     "metadata": {},
     "output_type": "execute_result"
    }
   ],
   "source": [
    "my_problem.set_case()"
   ]
  },
  {
   "cell_type": "markdown",
   "metadata": {},
   "source": [
    "# State initialisation"
   ]
  },
  {
   "cell_type": "code",
   "execution_count": 4,
   "metadata": {
    "execution": {
     "iopub.execute_input": "2022-12-01T13:53:23.441486Z",
     "iopub.status.busy": "2022-12-01T13:53:23.441303Z",
     "iopub.status.idle": "2022-12-01T13:53:23.552418Z",
     "shell.execute_reply": "2022-12-01T13:53:23.551350Z"
    }
   },
   "outputs": [
    {
     "name": "stdout",
     "output_type": "stream",
     "text": [
      " OPENING FILES FOR TELEMAC2D               \n",
      " OPENING: T2DGEO-geo_breach.slf\n",
      " OPENING: T2DCLI-geo_breach.cli\n",
      " OPENING: T2DPRE-ini_breach.slf\n",
      " OPENING: T2DRES-r2d_breach.slf\n",
      " OPENING: T2DIMP-t2d_breach.liq\n",
      " OPENING: T2DBRC-breach.txt\n",
      "\n",
      "\n",
      "\n",
      "                          *****************************\n",
      "                          *    MEMORY ORGANIZATION    *\n",
      "                          *****************************\n",
      "\n",
      "\n",
      "\n",
      " READ_MESH_INFO: TITLE= C:\\RuptureDigue2D\\Modele.MAT\u0000\u0000\u0000\u0000\u0000\u0000\u0000\u0000\u0000\u0000\u0000\u0000\u0000\u0000\u0000\u0000\u0000\u0000\u0000\u0000\u0000\u0000\u0000\u0000\u0000\u0000\u0000\u0000\u0000\u0000\u0000\u0000\u0000\u0000\u0000\u0000\u0000\u0000\u0000\u0000\u0000\u0000\u0000\u0000\n",
      "            NUMBER OF ELEMENTS:    26449\n",
      "            NUMBER OF POINTS:    13648\n",
      "\n",
      "            TYPE OF ELEMENT: TRIANGLE            \n",
      "            TYPE OF BND ELEMENT: POINT               \n",
      "\n",
      "            SINGLE PRECISION FORMAT (R4)\n",
      "  \n",
      " MXPTEL (BIEF) : MAXIMUM NUMBER OF ELEMENTS AROUND A POINT:   8\n",
      "                 MAXIMUM NUMBER OF POINTS AROUND A POINT:   8\n",
      " USER_CORRXY (BIEF):NO MODIFICATION OF COORDINATES\n",
      "\n",
      " MESH: MESH   ALLOCATED\n",
      "\n",
      "\n",
      "\n",
      "                     *************************************\n",
      "                     *    END OF MEMORY ORGANIZATION:    *\n",
      "                     *************************************\n",
      "\n",
      " INITIALIZING TELEMAC2D FOR        \n",
      " INBIEF (BIEF): NOT A VECTOR MACHINE (ACCORDING TO YOUR DATA)\n",
      " STRCHE (BIEF): NO MODIFICATION OF FRICTION\n",
      "\n",
      "\n",
      " THERE IS     2 LIQUID BOUNDARIES:\n",
      "\n",
      " BOUNDARY    1 : \n",
      "  BEGINS AT BOUNDARY POINT:      534 , WITH GLOBAL NUMBER:        43\n",
      "  AND COORDINATES:     5000.000           0.000000    \n",
      "  ENDS AT BOUNDARY POINT:      544 , WITH GLOBAL NUMBER:       158\n",
      "  AND COORDINATES:     5000.000           26.00000    \n",
      "\n",
      " BOUNDARY    2 : \n",
      "  BEGINS AT BOUNDARY POINT:      836 , WITH GLOBAL NUMBER:         2\n",
      "  AND COORDINATES:     0.000000           26.00000    \n",
      "  ENDS AT BOUNDARY POINT:        1 , WITH GLOBAL NUMBER:        23\n",
      "  AND COORDINATES:     0.000000           0.000000    \n",
      "\n",
      " THERE IS     2 SOLID BOUNDARIES:\n",
      "\n",
      " BOUNDARY    1 : \n",
      "  BEGINS AT BOUNDARY POINT:        1 , WITH GLOBAL NUMBER:        23\n",
      "  AND COORDINATES:     0.000000           0.000000    \n",
      "  ENDS AT BOUNDARY POINT:      534 , WITH"
     ]
    },
    {
     "name": "stdout",
     "output_type": "stream",
     "text": [
      " GLOBAL NUMBER:        43\n",
      "  AND COORDINATES:     5000.000           0.000000    \n",
      "\n",
      " BOUNDARY    2 : \n",
      "  BEGINS AT BOUNDARY POINT:      544 , WITH GLOBAL NUMBER:       158\n",
      "  AND COORDINATES:     5000.000           26.00000    \n",
      "  ENDS AT BOUNDARY POINT:      836 , WITH GLOBAL NUMBER:         2\n",
      "  AND COORDINATES:     0.000000           26.00000    \n",
      "\n",
      " CORFON (TELEMAC2D): NO MODIFICATION OF BOTTOM\n",
      "\n",
      "\n",
      "\n",
      " TITLE OF PREVIOUS COMPUTATION: maillage                                                                \n",
      "\n",
      " NAME: BOTTOM            UNIT: M               \n",
      " NAME: FREE SURFACE      UNIT: M               \n",
      " NAME: VELOCITY U        UNIT: M/S             \n",
      " NAME: VELOCITY V        UNIT: M/S             \n",
      "\n",
      " READ_DATASET : READ OF RECORD     1\n",
      "\n",
      "\n",
      " TIME OF RECORD:     15000.00     S\n",
      " ELAPSED TIME RESET TO ZERO\n",
      " RESCUE : WATER DEPTH COMPUTED WITH BATHYMETRY\n",
      "          AND SURFACE ELEVATION\n",
      " PRE READING THE BREACH FILE\n",
      "\n",
      " SOURCE POINT            1 PUT ON POINT\n",
      "   2099.5356445312500       AND    15.415499687194824     \n",
      " LOCATED AT   0.60201839479131225       METRES\n",
      "\n",
      " SOURCE POINT            2 PUT ON POINT\n",
      "   2096.8337402343750       AND    14.198300361633301     \n",
      " LOCATED AT    1.0867828861820146       METRES\n",
      "\n",
      " SOURCE POINT            3 PUT ON POINT\n",
      "   2091.9548339843750       AND    14.895099639892578     \n",
      " LOCATED AT    1.1400026177956499       METRES\n",
      "\n",
      " SOURCE POINT            4 PUT ON POINT\n",
      "   2089.3352050781250       AND    13.769100189208984     \n",
      " LOCATED AT    1.4438939428828785       METRES\n",
      "\n",
      " SOURCE POINT            5 PUT ON POINT\n",
      "   2087.3732910156250       AND    15.427800178527832     \n",
      " LOCATED AT   0.51309530526229385       METRES\n",
      "\n",
      " SOURCE POINT            6 PUT ON POINT\n",
      "   2084.7512207031250       AND    15.805800437927246     \n",
      " LOCATED AT    1.0487380884031334       METRES\n",
      "\n",
      " SOURCE POINT            7 PUT ON POINT\n",
      "   2080.0593261718750       AND    15.613900184631348     \n",
      " LOCATED AT    1.1910703170298538       METRES\n",
      "\n",
      " SOURCE POINT            8 PUT ON POINT\n",
      "   2077.6860351562500       AND    13.894100189208984     \n",
      " LOCATED AT    1.1739772951886713       METRES\n",
      "\n",
      " SOURCE POINT            9 PUT ON POINT\n",
      "   2075.9680175781250       AND    15.814000129699707     \n",
      " LOCATED AT    1.2046457695979591       METRES\n",
      "\n",
      " SOURCE POINT           10 PUT ON POINT\n",
      "   2071.4885253906250       AND    15.287199974060059     \n",
      " LOCATED AT   0.64853415210619214       METRES\n",
      "\n",
      " SOURCE POINT           11 PUT ON POINT\n",
      "   2068.9252929687500       AND    13.836199760437012     \n",
      " LOCATED AT    1.1727621764450391       METRES\n",
      "\n",
      " SOURCE POINT           12 PUT ON POINT\n",
      "   2066.4506835937500       AND    15.252200126647949     \n",
      " LOCATED AT   0.45664526980089482       METRES\n",
      "\n",
      " SOURCE POINT           13 PUT ON POINT\n",
      "   2063.8513183593750       AND    13.759099960327148     \n",
      " LOCATED AT    1.4717396693519247       METRES\n",
      "\n",
      " SOURCE POINT           14 PUT ON POINT\n",
      "   2061.3605957031250       AND    15.127400398254395     \n",
      " LOCATED AT    1.3068205861795770       METRES\n",
      "\n",
      " SOURCE POINT           15 PUT ON POINT\n",
      "   2056.0686035156250       AND    15.337499618530273     \n",
      " LOCATED AT    1.0472692976207607       METRES\n",
      "\n",
      " SOURCE POINT           16 PUT ON POINT\n",
      "   2053.5205078125000       AND    14.001799583435059     \n",
      " LOCATED AT    1.1299407277614832       METRES\n",
      "\n",
      " SOURCE POINT           17 PUT ON POINT\n",
      "   2050.9521484375000       AND    15.335499763488770     \n",
      " LOCATED AT   0.34947821045774413       METRES\n",
      "\n",
      " SOURCE POINT           18 PUT ON POINT\n",
      "   2048.4675292968750       AND    13.836799621582031     \n",
      " LOCATED AT    1.2358664305257610       METRES\n",
      "\n",
      " SOURCE POINT           19 PUT ON POINT\n",
      "   2045.9772949218750       AND    15.175800323486328     \n",
      " LOCATED AT   0.94381228317560284       METRES\n",
      "\n",
      " SOURCE POINT           20 PUT ON POINT\n",
      "   2040.7519531250000       AND    14.986399650573730     \n",
      " LOCATED AT    1.2881186753174914       METRES\n",
      "\n",
      " SOURCE POINT           21 PUT ON POINT\n",
      "   2038.1176757812500       AND    16.201700210571289     \n",
      " LOCATED AT    1.5148482962263288       METRES\n",
      "\n",
      " SOURCE POINT           22 PUT ON POINT\n",
      "   2035.5537109375000       AND    14.735300064086914     \n",
      " LOCATED AT   0.55366335293162150       METRES\n",
      "\n",
      " SOURCE POINT           23 PUT ON POINT\n",
      "   2032.9903564453125       AND    16.025199890136719     \n",
      " LOCATED AT    1.0259660940618842       METRES\n",
      "\n",
      " SOURCE POINT           24 PUT ON POINT\n",
      "   2030.2839355468750       AND    14.387900352478027     \n",
      " LOCATED AT   0.66268336365359459       METRES\n",
      "\n",
      " SOURCE POINT           25 PUT ON POINT\n",
      "   2027.5628662109375       AND    14.117699623107910     \n",
      " LOCATED AT    1.0307280697753607       METRES\n",
      "\n",
      " SOURCE POINT           26 PUT ON POINT\n",
      "   2025.2701416015625       AND    15.466600418090820     \n",
      " LOCATED AT    1.3343799961479588       METRES\n",
      "\n",
      " SOURCE POINT           27 PUT ON POINT\n",
      "   2020.2091064453125       AND    15.340000152587891     \n",
      " LOCATED AT   0.87928861063560293       METRES\n",
      "\n",
      " SOURCE POINT           28 PUT ON POINT\n",
      "   2017.9257812500000       AND    13.730099678039551     \n",
      " LOCATED AT    1.2733907493643934       METRES\n",
      "\n",
      " SOURCE POINT           29 PUT ON POINT\n",
      "   2015.2524414062500       AND    14.761899948120117     \n",
      " LOCATED AT   0.33274711425448739       METRES\n",
      "\n",
      " SOURCE POINT           30 PUT ON POINT\n",
      "   2012.6164550781250       AND    15.870100021362305     \n",
      " LOCATED AT    1.0605950258973942       METRES\n",
      "\n",
      " SOURCE POINT           31 PUT ON POINT\n",
      "   2010.2160644531250       AND    14.559900283813477     \n",
      " LOCATED AT    1.2838532724884046       METRES\n",
      "\n",
      " SOURCE POINT           32 PUT ON POINT\n",
      "   2004.9462890625000       AND    15.203900337219238     \n",
      " LOCATED AT    1.0830772392009855       METRES\n",
      "\n",
      " SOURCE POINT           33 PUT ON POINT\n",
      "   2002.4473876953125       AND    14.231699943542480     \n",
      " LOCATED AT   0.94639597211984061       METRES\n",
      "\n",
      " SOURCE POINT           34 PUT ON POINT\n",
      "   2000.0000000000000       AND    16.333299636840820     \n",
      " LOCATED AT    1.3332996368408203       METRES\n",
      "\n",
      "\n",
      " SOURCE POINT            1 PUT ON POINT\n",
      "   2000.0000000000000       AND    64.206199645996094     \n",
      " LOCATED AT   0.79380035400390625       METRES\n",
      "\n",
      " SOURCE POINT            2 PUT ON POINT\n",
      "   2005.8077392578125       AND    63.700000762939453     \n",
      " LOCATED AT    3.0940907802162969       METRES\n",
      "\n",
      " SOURCE POINT            3 PUT ON POINT\n",
      "   2005.8077392578125       AND    63.700000762939453     \n",
      " LOCATED AT    1.3156395494922759       METRES\n",
      "\n",
      " SOURCE POINT            4 PUT ON POINT\n",
      "   2005.8077392578125       AND    63.700000762939453     \n",
      " LOCATED AT    3.4560775276768871       METRES\n",
      "\n",
      " SOURCE POINT            5 PUT ON POINT\n",
      "   2012.8868408203125       AND    67.036201477050781     \n",
      " LOCATED AT    2.2169723226305957       METRES\n",
      "\n",
      " SOURCE POINT            6 PUT ON POINT\n",
      "   2012.8868408203125       AND    67.036201477050781     \n",
      " LOCATED AT    2.9489802544318184       METRES\n",
      "\n",
      " SOURCE POINT            7 PUT ON POINT\n",
      "   2019.8607177734375       AND    63.506500244140625     \n",
      " LOCATED AT    2.3703973173712432       METRES\n",
      "\n",
      " SOURCE POINT            8 PUT ON POINT\n",
      "   2019.8607177734375       AND    63.506500244140625     \n",
      " LOCATED AT    1.8906286789255256       METRES\n",
      "\n",
      " SOURCE POINT            9 PUT ON POINT\n",
      "   2026.1568603515625       AND    66.581901550292969     \n",
      " LOCATED AT    2.6586810032230619       METRES\n",
      "\n",
      " SOURCE POINT           10 PUT ON POINT\n",
      "   2026.1568603515625       AND    66.581901550292969     \n",
      " LOCATED AT    1.8068717055986048       METRES\n",
      "\n",
      " SOURCE POINT           11 PUT ON POINT\n",
      "   2026.1568603515625       AND    66.581901550292969     \n",
      " LOCATED AT    4.1837331715965878       METRES\n",
      "\n",
      " SOURCE POINT           12 PUT ON POINT\n",
      "   2033.6766357421875       AND    67.820602416992188     \n",
      " LOCATED AT    2.8937753502676369       METRES\n",
      "\n",
      " SOURCE POINT           13 PUT ON POINT\n",
      "   2033.6766357421875       AND    67.820602416992188     \n",
      " LOCATED AT    3.6798489928049527       METRES\n",
      "\n",
      " SOURCE POINT           14 PUT ON POINT\n",
      "   2040.1851806640625       AND    64.233703613281250     \n",
      " LOCATED AT    1.3779146946168053       METRES\n",
      "\n",
      " SOURCE POINT           15 PUT ON POINT\n",
      "   2040.1851806640625       AND    64.233703613281250     \n",
      " LOCATED AT    2.0068793987845170       METRES\n",
      "\n",
      " SOURCE POINT           16 PUT ON POINT\n",
      "   2045.2197265625000       AND    67.343498229980469     \n",
      " LOCATED AT    2.3496363675981167       METRES\n",
      "\n",
      " SOURCE POINT           17 PUT ON POINT\n",
      "   2050.6433105468750       AND    67.534797668457031     \n",
      " LOCATED AT    3.6263561342685815       METRES\n",
      "\n",
      " SOURCE POINT           18 PUT ON POINT\n",
      "   2050.6433105468750       AND    67.534797668457031     \n",
      " LOCATED AT    2.5672155210068479       METRES\n",
      "\n",
      " SOURCE POINT           19 PUT ON POINT\n",
      "   2054.9541015625000       AND    63.286499023437500     \n",
      " LOCATED AT    1.9373913471457576       METRES\n",
      "\n",
      " SOURCE POINT           20 PUT ON POINT\n",
      "   2054.9541015625000       AND    63.286499023437500     \n",
      " LOCATED AT    2.7149390095811272       METRES\n",
      "\n",
      " SOURCE POINT           21 PUT ON POINT\n",
      "   2061.0778808593750       AND    65.272003173828125     \n",
      " LOCATED AT    1.0535972524900930       METRES\n",
      "\n",
      " SOURCE POINT           22 PUT ON POINT\n",
      "   2061.0778808593750       AND    65.272003173828125     \n",
      " LOCATED AT    2.0006953826618248       METRES\n",
      "\n",
      " SOURCE POINT           23 PUT ON POINT\n",
      "   2066.3630371093750       AND    67.107101440429688     \n",
      " LOCATED AT    2.1273803674311802       METRES\n",
      "\n",
      " SOURCE POINT           24 PUT ON POINT\n",
      "   2070.9624023437500       AND    65.742401123046875     \n",
      " LOCATED AT    2.0328172712103600       METRES\n",
      "\n",
      " SOURCE POINT           25 PUT ON POINT\n",
      "   2070.9624023437500       AND    65.742401123046875     \n",
      " LOCATED AT    1.3333911637745757       METRES\n",
      "\n",
      " SOURCE POINT           26 PUT ON POINT\n",
      "   2076.6047363281250       AND    66.048698425292969     \n",
      " LOCATED AT    1.8505645780453817       METRES\n",
      "\n",
      " SOURCE POINT           27 PUT ON POINT\n",
      "   2076.6047363281250       AND    66.048698425292969     \n",
      " LOCATED AT    1.8100196929221088       METRES\n",
      "\n",
      " SOURCE POINT           28 PUT ON POINT\n",
      "   2083.2854003906250       AND    64.867202758789062     \n",
      " LOCATED AT    2.2093949375886739       METRES\n",
      "\n",
      " SOURCE POINT           29 PUT ON POINT\n",
      "   2083.2854003906250       AND    64.867202758789062     \n",
      " LOCATED AT   0.80562003853679232       METRES\n",
      "\n",
      " SOURCE POINT           30 PUT ON POINT\n",
      "   2083.2854003906250       AND    64.867202758789062     \n",
      " LOCATED AT    3.8069165074809224       METRES\n",
      "\n",
      " SOURCE POINT           31 PUT ON POINT\n",
      "   2090.3112792968750       AND    62.958999633789062     \n",
      " LOCATED AT    2.0529605505461159       METRES\n",
      "\n",
      " SOURCE POINT           32 PUT ON POINT\n",
      "   2090.3112792968750       AND    62.958999633789062     \n",
      " LOCATED AT    3.4477487206653392       METRES\n",
      "\n",
      " SOURCE POINT           33 PUT ON POINT\n",
      "   2096.0986328125000       AND    67.325599670410156     \n",
      " LOCATED AT    2.3256000722853205       METRES\n",
      "\n",
      " SOURCE POINT           34 PUT ON POINT\n",
      "   2097.3137207031250       AND    62.186298370361328     \n",
      " LOCATED AT    3.3328232156949515       METRES\n",
      "\n",
      "\n",
      " SOURCE POINT            1 PUT ON POINT\n",
      "   2548.6906738281250       AND    9.2513999938964844     \n",
      " LOCATED AT    1.1396681266087239       METRES\n",
      "\n",
      " SOURCE POINT            2 PUT ON POINT\n",
      "   2546.2866210937500       AND    10.762599945068359     \n",
      " LOCATED AT   0.80680054813801827       METRES\n",
      "\n",
      " SOURCE POINT            3 PUT ON POINT\n",
      "   2543.4289550781250       AND    9.4558000564575195     \n",
      " LOCATED AT   0.55541385761057105       METRES\n",
      "\n",
      " SOURCE POINT            4 PUT ON POINT\n",
      "   2540.0644531250000       AND    8.6731996536254883     \n",
      " LOCATED AT    1.4094481152074223       METRES\n",
      "\n",
      " SOURCE POINT            5 PUT ON POINT\n",
      "   2537.6921386718750       AND    10.571399688720703     \n",
      " LOCATED AT   0.59130684060817051       METRES\n",
      "\n",
      " SOURCE POINT            6 PUT ON POINT\n",
      "   2533.2727050781250       AND    9.7323999404907227     \n",
      " LOCATED AT    1.2854572386596663       METRES\n",
      "\n",
      " SOURCE POINT            7 PUT ON POINT\n",
      "   2531.0122070312500       AND    11.421699523925781     \n",
      " LOCATED AT    1.5130562100655542       METRES\n",
      "\n",
      " SOURCE POINT            8 PUT ON POINT\n",
      "   2528.4816894531250       AND    11.085000038146973     \n",
      " LOCATED AT    1.0860750396350674       METRES\n",
      "\n",
      " SOURCE POINT            9 PUT ON POINT\n",
      "   2526.4663085937500       AND    9.7357997894287109     \n",
      " LOCATED AT   0.97286974153564942       METRES\n",
      "\n",
      " SOURCE POINT           10 PUT ON POINT\n",
      "   2523.2744140625000       AND    9.0629997253417969     \n",
      " LOCATED AT    1.2029588905724624       METRES\n",
      "\n",
      " SOURCE POINT           11 PUT ON POINT\n",
      "   2518.0764160156250       AND    9.5959997177124023     \n",
      " LOCATED AT    1.4990500151870871       METRES\n",
      "\n",
      " SOURCE POINT           12 PUT ON POINT\n",
      "   2515.5832519531250       AND    11.006400108337402     \n",
      " LOCATED AT    1.3748956619997128       METRES\n",
      "\n",
      " SOURCE POINT           13 PUT ON POINT\n",
      "   2512.8466796875000       AND    9.5557003021240234     \n",
      " LOCATED AT   0.79837087779306637       METRES\n",
      "\n",
      " SOURCE POINT           14 PUT ON POINT\n",
      "   2510.2209472656250       AND    11.485099792480469     \n",
      " LOCATED AT    1.5129682339280364       METRES\n",
      "\n",
      " SOURCE POINT           15 PUT ON POINT\n",
      "   2507.7011718750000       AND    9.7701997756958008     \n",
      " LOCATED AT   0.29892278079997925       METRES\n",
      "\n",
      " SOURCE POINT           16 PUT ON POINT\n",
      "   2505.0239257812500       AND    10.715999603271484     \n",
      " LOCATED AT   0.88721680334817032       METRES\n",
      "\n",
      " SOURCE POINT           17 PUT ON POINT\n",
      "   2502.6696777343750       AND    9.0767002105712891     \n",
      " LOCATED AT    1.4901773395981215       METRES\n",
      "\n",
      " SOURCE POINT           18 PUT ON POINT\n",
      "   2497.4541015625000       AND    9.1723003387451172     \n",
      " LOCATED AT    1.3337879407186095       METRES\n",
      "\n",
      " SOURCE POINT           19 PUT ON POINT\n",
      "   2494.5217285156250       AND    10.754400253295898     \n",
      " LOCATED AT    1.2353683010803627       METRES\n",
      "\n",
      " SOURCE POINT           20 PUT ON POINT\n",
      "   2491.8850097656250       AND    8.9149999618530273     \n",
      " LOCATED AT    1.2422714141715512       METRES\n",
      "\n",
      " SOURCE POINT           21 PUT ON POINT\n",
      "   2488.2736816406250       AND    9.8957996368408203     \n",
      " LOCATED AT    1.2207735527257566       METRES\n",
      "\n",
      " SOURCE POINT           22 PUT ON POINT\n",
      "   2485.3818359375000       AND    10.672200202941895     \n",
      " LOCATED AT    1.2961021187588362       METRES\n",
      "\n",
      " SOURCE POINT           23 PUT ON POINT\n",
      "   2482.8352050781250       AND    10.351400375366211     \n",
      " LOCATED AT   0.73433147493711914       METRES\n",
      "\n",
      " SOURCE POINT           24 PUT ON POINT\n",
      "   2479.7268066406250       AND    9.5390996932983398     \n",
      " LOCATED AT   0.88302283624168509       METRES\n",
      "\n",
      " SOURCE POINT           25 PUT ON POINT\n",
      "   2476.1975097656250       AND    9.9062004089355469     \n",
      " LOCATED AT    1.2859158466055032       METRES\n",
      "\n",
      " SOURCE POINT           26 PUT ON POINT\n",
      "   2473.8398437500000       AND    11.572299957275391     \n",
      " LOCATED AT    1.6938784062210621       METRES\n",
      "\n",
      " SOURCE POINT           27 PUT ON POINT\n",
      "   2472.6674804687500       AND    9.2382001876831055     \n",
      " LOCATED AT    1.4192598166242341       METRES\n",
      "\n",
      " SOURCE POINT           28 PUT ON POINT\n",
      "   2469.7209472656250       AND    10.523400306701660     \n",
      " LOCATED AT    1.3560298457005129       METRES\n",
      "\n",
      " SOURCE POINT           29 PUT ON POINT\n",
      "   2464.7631835937500       AND    10.517100334167480     \n",
      " LOCATED AT   0.87577519246665247       METRES\n",
      "\n",
      " SOURCE POINT           30 PUT ON POINT\n",
      "   2462.1293945312500       AND    9.4278001785278320     \n",
      " LOCATED AT   0.66084235008072245       METRES\n",
      "\n",
      " SOURCE POINT           31 PUT ON POINT\n",
      "   2459.3166503906250       AND    10.666099548339844     \n",
      " LOCATED AT   0.68134992390585869       METRES\n",
      "\n",
      " SOURCE POINT           32 PUT ON POINT\n",
      "   2456.7185058593750       AND    9.1527004241943359     \n",
      " LOCATED AT   0.88585656315887096       METRES\n",
      "\n",
      " SOURCE POINT           33 PUT ON POINT\n",
      "   2454.1411132812500       AND    10.661299705505371     \n",
      " LOCATED AT   0.95653273233166647       METRES\n",
      "\n",
      " SOURCE POINT           34 PUT ON POINT\n",
      "   2451.4675292968750       AND    9.1967000961303711     \n",
      " LOCATED AT    1.2964014060298827       METRES\n",
      "\n",
      "\n",
      " SOURCE POINT            1 PUT ON POINT\n",
      "   2447.8317871093750       AND    68.796302795410156     \n",
      " LOCATED AT    2.8816532929850132       METRES\n",
      "\n",
      " SOURCE POINT            2 PUT ON POINT\n",
      "   2452.1276855468750       AND    73.209999084472656     \n",
      " LOCATED AT    3.4716868573156301       METRES\n",
      "\n",
      " SOURCE POINT            3 PUT ON POINT\n",
      "   2459.3286132812500       AND    71.770896911621094     \n",
      " LOCATED AT    3.3712042401718723       METRES\n",
      "\n",
      " SOURCE POINT            4 PUT ON POINT\n",
      "   2459.3286132812500       AND    71.770896911621094     \n",
      " LOCATED AT    1.7757641570470526       METRES\n",
      "\n",
      " SOURCE POINT            5 PUT ON POINT\n",
      "   2459.3286132812500       AND    71.770896911621094     \n",
      " LOCATED AT    3.5974516888977464       METRES\n",
      "\n",
      " SOURCE POINT            6 PUT ON POINT\n",
      "   2466.6774902343750       AND    70.508102416992188     \n",
      " LOCATED AT    1.3100384468651209       METRES\n",
      "\n",
      " SOURCE POINT            7 PUT ON POINT\n",
      "   2466.6774902343750       AND    70.508102416992188     \n",
      " LOCATED AT    1.8631315911694424       METRES\n",
      "\n",
      " SOURCE POINT            8 PUT ON POINT\n",
      "   2473.1452636718750       AND    69.436401367187500     \n",
      " LOCATED AT    1.7675270264448284       METRES\n",
      "\n",
      " SOURCE POINT            9 PUT ON POINT\n",
      "   2473.1452636718750       AND    69.436401367187500     \n",
      " LOCATED AT    1.4396422326264593       METRES\n",
      "\n",
      " SOURCE POINT           10 PUT ON POINT\n",
      "   2479.0571289062500       AND    72.002899169921875     \n",
      " LOCATED AT    2.5493019969793691       METRES\n",
      "\n",
      " SOURCE POINT           11 PUT ON POINT\n",
      "   2479.0571289062500       AND    72.002899169921875     \n",
      " LOCATED AT    2.4568612566246206       METRES\n",
      "\n",
      " SOURCE POINT           12 PUT ON POINT\n",
      "   2486.9409179687500       AND    71.582901000976562     \n",
      " LOCATED AT    3.8057231593100806       METRES\n",
      "\n",
      " SOURCE POINT           13 PUT ON POINT\n",
      "   2486.9409179687500       AND    71.582901000976562     \n",
      " LOCATED AT    1.6458744160580496       METRES\n",
      "\n",
      " SOURCE POINT           14 PUT ON POINT\n",
      "   2486.9409179687500       AND    71.582901000976562     \n",
      " LOCATED AT    3.0005657434779058       METRES\n",
      "\n",
      " SOURCE POINT           15 PUT ON POINT\n",
      "   2493.8723144531250       AND    70.464996337890625     \n",
      " LOCATED AT    1.4584288949313104       METRES\n",
      "\n",
      " SOURCE POINT           16 PUT ON POINT\n",
      "   2493.8723144531250       AND    70.464996337890625     \n",
      " LOCATED AT    1.6928029518397762       METRES\n",
      "\n",
      " SOURCE POINT           17 PUT ON POINT\n",
      "   2500.1936035156250       AND    68.340400695800781     \n",
      " LOCATED AT    2.3711943654276615       METRES\n",
      "\n",
      " SOURCE POINT           18 PUT ON POINT\n",
      "   2500.1936035156250       AND    68.340400695800781     \n",
      " LOCATED AT    2.1120941325816638       METRES\n",
      "\n",
      " SOURCE POINT           19 PUT ON POINT\n",
      "   2504.7785644531250       AND    72.250099182128906     \n",
      " LOCATED AT    2.2672768873611364       METRES\n",
      "\n",
      " SOURCE POINT           20 PUT ON POINT\n",
      "   2509.8041992187500       AND    70.406898498535156     \n",
      " LOCATED AT    2.3300035286287173       METRES\n",
      "\n",
      " SOURCE POINT           21 PUT ON POINT\n",
      "   2509.8041992187500       AND    70.406898498535156     \n",
      " LOCATED AT   0.81469081922136766       METRES\n",
      "\n",
      " SOURCE POINT           22 PUT ON POINT\n",
      "   2514.8515625000000       AND    72.233596801757812     \n",
      " LOCATED AT    2.6055219466027135       METRES\n",
      "\n",
      " SOURCE POINT           23 PUT ON POINT\n",
      "   2514.8515625000000       AND    72.233596801757812     \n",
      " LOCATED AT    2.7879451867332179       METRES\n",
      "\n",
      " SOURCE POINT           24 PUT ON POINT\n",
      "   2518.7983398437500       AND    67.319602966308594     \n",
      " LOCATED AT    2.7758461123305156       METRES\n",
      "\n",
      " SOURCE POINT           25 PUT ON POINT\n",
      "   2525.2778320312500       AND    70.014396667480469     \n",
      " LOCATED AT    2.7578696083432126       METRES\n",
      "\n",
      " SOURCE POINT           26 PUT ON POINT\n",
      "   2525.2778320312500       AND    70.014396667480469     \n",
      " LOCATED AT   0.25257859865425075       METRES\n",
      "\n",
      " SOURCE POINT           27 PUT ON POINT\n",
      "   2531.7622070312500       AND    70.136100769042969     \n",
      " LOCATED AT    3.2350712066652769       METRES\n",
      "\n",
      " SOURCE POINT           28 PUT ON POINT\n",
      "   2531.7622070312500       AND    70.136100769042969     \n",
      " LOCATED AT   0.26915334791886403       METRES\n",
      "\n",
      " SOURCE POINT           29 PUT ON POINT\n",
      "   2531.7622070312500       AND    70.136100769042969     \n",
      " LOCATED AT    2.7711371920562025       METRES\n",
      "\n",
      " SOURCE POINT           30 PUT ON POINT\n",
      "   2537.1484375000000       AND    67.186302185058594     \n",
      " LOCATED AT    2.8408126628153898       METRES\n",
      "\n",
      " SOURCE POINT           31 PUT ON POINT\n",
      "   2543.1003417968750       AND    72.086196899414062     \n",
      " LOCATED AT    3.3026606879832716       METRES\n",
      "\n",
      " SOURCE POINT           32 PUT ON POINT\n",
      "   2543.1003417968750       AND    72.086196899414062     \n",
      " LOCATED AT    2.1320217725670436       METRES\n",
      "\n",
      " SOURCE POINT           33 PUT ON POINT\n",
      "   2549.8974609375000       AND    70.021003723144531     \n",
      " LOCATED AT    3.3475268310310962       METRES\n",
      "\n",
      " SOURCE POINT           34 PUT ON POINT\n",
      "   2549.8974609375000       AND    70.021003723144531     \n",
      " LOCATED AT   0.34809518737578754       METRES\n",
      "\n",
      "\n",
      " SOURCE POINT            1 PUT ON POINT\n",
      "   3000.0000000000000       AND    16.333299636840820     \n",
      " LOCATED AT    1.3332996368408203       METRES\n",
      "\n",
      " SOURCE POINT            2 PUT ON POINT\n",
      "   2997.8051757812500       AND    14.546099662780762     \n",
      " LOCATED AT   0.92430165792304309       METRES\n",
      "\n",
      " SOURCE POINT            3 PUT ON POINT\n",
      "   2993.4042968750000       AND    14.035799980163574     \n",
      " LOCATED AT    1.1281532825317107       METRES\n",
      "\n",
      " SOURCE POINT            4 PUT ON POINT\n",
      "   2990.8542480468750       AND    13.566300392150879     \n",
      " LOCATED AT    1.4401122033799716       METRES\n",
      "\n",
      " SOURCE POINT            5 PUT ON POINT\n",
      "   2988.1657714843750       AND    14.845199584960938     \n",
      " LOCATED AT   0.23421951928849483       METRES\n",
      "\n",
      " SOURCE POINT            6 PUT ON POINT\n",
      "   2985.5239257812500       AND    15.711099624633789     \n",
      " LOCATED AT   0.88923529846603122       METRES\n",
      "\n",
      " SOURCE POINT            7 PUT ON POINT\n",
      "   2981.1254882812500       AND    15.134599685668945     \n",
      " LOCATED AT   0.86504760150137927       METRES\n",
      "\n",
      " SOURCE POINT            8 PUT ON POINT\n",
      "   2978.7941894531250       AND    15.307600021362305     \n",
      " LOCATED AT   0.35936517982698829       METRES\n",
      "\n",
      " SOURCE POINT            9 PUT ON POINT\n",
      "   2975.7827148437500       AND    15.197799682617188     \n",
      " LOCATED AT   0.27936740561499690       METRES\n",
      "\n",
      " SOURCE POINT           10 PUT ON POINT\n",
      "   2972.9370117187500       AND    16.193500518798828     \n",
      " LOCATED AT    1.1939563287963626       METRES\n",
      "\n",
      " SOURCE POINT           11 PUT ON POINT\n",
      "   2970.2937011718750       AND    14.782400131225586     \n",
      " LOCATED AT   0.39004121777578848       METRES\n",
      "\n",
      " SOURCE POINT           12 PUT ON POINT\n",
      "   2967.7180175781250       AND    16.230499267578125     \n",
      " LOCATED AT    1.4400203973189378       METRES\n",
      "\n",
      " SOURCE POINT           13 PUT ON POINT\n",
      "   2964.8688964843750       AND    15.405699729919434     \n",
      " LOCATED AT   0.99533164832927412       METRES\n",
      "\n",
      " SOURCE POINT           14 PUT ON POINT\n",
      "   2961.9104003906250       AND    14.581500053405762     \n",
      " LOCATED AT    1.0384618952082276       METRES\n",
      "\n",
      " SOURCE POINT           15 PUT ON POINT\n",
      "   2958.6901855468750       AND    15.082799911499023     \n",
      " LOCATED AT   0.73486512926477587       METRES\n",
      "\n",
      " SOURCE POINT           16 PUT ON POINT\n",
      "   2955.4375000000000       AND    15.140600204467773     \n",
      " LOCATED AT   0.49776969322804793       METRES\n",
      "\n",
      " SOURCE POINT           17 PUT ON POINT\n",
      "   2952.4743652343750       AND    16.245500564575195     \n",
      " LOCATED AT    1.3513809808408841       METRES\n",
      "\n",
      " SOURCE POINT           18 PUT ON POINT\n",
      "   2949.8684082031250       AND    14.768199920654297     \n",
      " LOCATED AT   0.94720900774448913       METRES\n",
      "\n",
      " SOURCE POINT           19 PUT ON POINT\n",
      "   2944.6748046875000       AND    15.037500381469727     \n",
      " LOCATED AT    1.2757465906800942       METRES\n",
      "\n",
      " SOURCE POINT           20 PUT ON POINT\n",
      "   2942.0937500000000       AND    13.809900283813477     \n",
      " LOCATED AT    1.4603001051041995       METRES\n",
      "\n",
      " SOURCE POINT           21 PUT ON POINT\n",
      "   2939.5895996093750       AND    15.317899703979492     \n",
      " LOCATED AT   0.47311801439010920       METRES\n",
      "\n",
      " SOURCE POINT           22 PUT ON POINT\n",
      "   2936.9797363281250       AND    13.829299926757812     \n",
      " LOCATED AT    1.1713742515789376       METRES\n",
      "\n",
      " SOURCE POINT           23 PUT ON POINT\n",
      "   2934.4968261718750       AND    15.112899780273438     \n",
      " LOCATED AT   0.57796043939740649       METRES\n",
      "\n",
      " SOURCE POINT           24 PUT ON POINT\n",
      "   2929.3850097656250       AND    14.936800003051758     \n",
      " LOCATED AT    1.5462823364210914       METRES\n",
      "\n",
      " SOURCE POINT           25 PUT ON POINT\n",
      "   2929.3850097656250       AND    14.936800003051758     \n",
      " LOCATED AT    1.4563817005438005       METRES\n",
      "\n",
      " SOURCE POINT           26 PUT ON POINT\n",
      "   2924.3041992187500       AND    14.963600158691406     \n",
      " LOCATED AT   0.61687563627970488       METRES\n",
      "\n",
      " SOURCE POINT           27 PUT ON POINT\n",
      "   2921.7575683593750       AND    16.225900650024414     \n",
      " LOCATED AT    1.2366149124147072       METRES\n",
      "\n",
      " SOURCE POINT           28 PUT ON POINT\n",
      "   2919.2578125000000       AND    14.743000030517578     \n",
      " LOCATED AT   0.42445997393177914       METRES\n",
      "\n",
      " SOURCE POINT           29 PUT ON POINT\n",
      "   2916.7861328125000       AND    16.120500564575195     \n",
      " LOCATED AT    1.4162300533819940       METRES\n",
      "\n",
      " SOURCE POINT           30 PUT ON POINT\n",
      "   2914.1835937500000       AND    15.151599884033203     \n",
      " LOCATED AT    1.2825847203511798       METRES\n",
      "\n",
      " SOURCE POINT           31 PUT ON POINT\n",
      "   2908.5629882812500       AND    15.457500457763672     \n",
      " LOCATED AT    1.4225847037359169       METRES\n",
      "\n",
      " SOURCE POINT           32 PUT ON POINT\n",
      "   2905.9782714843750       AND    14.525099754333496     \n",
      " LOCATED AT    1.0457763958717945       METRES\n",
      "\n",
      " SOURCE POINT           33 PUT ON POINT\n",
      "   2902.8830566406250       AND    14.854700088500977     \n",
      " LOCATED AT    1.0272710744777735       METRES\n",
      "\n",
      " SOURCE POINT           34 PUT ON POINT\n",
      "   2900.3159179687500       AND    14.869199752807617     \n",
      " LOCATED AT   0.59854868130739425       METRES\n",
      "\n",
      "\n",
      " SOURCE POINT            1 PUT ON POINT\n",
      "   2902.5952148437500       AND    66.631896972656250     \n",
      " LOCATED AT    2.3530493186150312       METRES\n",
      "\n",
      " SOURCE POINT            2 PUT ON POINT\n",
      "   2902.5952148437500       AND    66.631896972656250     \n",
      " LOCATED AT    2.0893903496798312       METRES\n",
      "\n",
      " SOURCE POINT            3 PUT ON POINT\n",
      "   2910.0268554687500       AND    64.078002929687500     \n",
      " LOCATED AT    3.2503640735681474       METRES\n",
      "\n",
      " SOURCE POINT            4 PUT ON POINT\n",
      "   2910.0268554687500       AND    64.078002929687500     \n",
      " LOCATED AT   0.92937279831166208       METRES\n",
      "\n",
      " SOURCE POINT            5 PUT ON POINT\n",
      "   2910.0268554687500       AND    64.078002929687500     \n",
      " LOCATED AT    3.0269788545248835       METRES\n",
      "\n",
      " SOURCE POINT            6 PUT ON POINT\n",
      "   2917.8295898437500       AND    66.541702270507812     \n",
      " LOCATED AT    2.4542573748981211       METRES\n",
      "\n",
      " SOURCE POINT            7 PUT ON POINT\n",
      "   2917.8295898437500       AND    66.541702270507812     \n",
      " LOCATED AT    1.8883432420357937       METRES\n",
      "\n",
      " SOURCE POINT            8 PUT ON POINT\n",
      "   2923.2927246093750       AND    63.404800415039062     \n",
      " LOCATED AT    2.1045271604431943       METRES\n",
      "\n",
      " SOURCE POINT            9 PUT ON POINT\n",
      "   2925.3669433593750       AND    66.525703430175781     \n",
      " LOCATED AT    1.5898205318020930       METRES\n",
      "\n",
      " SOURCE POINT           10 PUT ON POINT\n",
      "   2928.6154785156250       AND    62.487701416015625     \n",
      " LOCATED AT    2.6041361274851922       METRES\n",
      "\n",
      " SOURCE POINT           11 PUT ON POINT\n",
      "   2932.3483886718750       AND    66.943298339843750     \n",
      " LOCATED AT    2.4058750720150175       METRES\n",
      "\n",
      " SOURCE POINT           12 PUT ON POINT\n",
      "   2932.3483886718750       AND    66.943298339843750     \n",
      " LOCATED AT    2.5055743514995288       METRES\n",
      "\n",
      " SOURCE POINT           13 PUT ON POINT\n",
      "   2938.9597167968750       AND    63.191101074218750     \n",
      " LOCATED AT    2.7113412295893982       METRES\n",
      "\n",
      " SOURCE POINT           14 PUT ON POINT\n",
      "   2938.9597167968750       AND    63.191101074218750     \n",
      " LOCATED AT    2.0574427044322952       METRES\n",
      "\n",
      " SOURCE POINT           15 PUT ON POINT\n",
      "   2945.2106933593750       AND    64.519699096679688     \n",
      " LOCATED AT    2.3209345725461077       METRES\n",
      "\n",
      " SOURCE POINT           16 PUT ON POINT\n",
      "   2945.2106933593750       AND    64.519699096679688     \n",
      " LOCATED AT   0.88162535501326300       METRES\n",
      "\n",
      " SOURCE POINT           17 PUT ON POINT\n",
      "   2951.5390625000000       AND    64.892700195312500     \n",
      " LOCATED AT    2.5912849856766367       METRES\n",
      "\n",
      " SOURCE POINT           18 PUT ON POINT\n",
      "   2951.5390625000000       AND    64.892700195312500     \n",
      " LOCATED AT   0.42471505387974667       METRES\n",
      "\n",
      " SOURCE POINT           19 PUT ON POINT\n",
      "   2956.8820800781250       AND    65.182502746582031     \n",
      " LOCATED AT    1.9307250138833472       METRES\n",
      "\n",
      " SOURCE POINT           20 PUT ON POINT\n",
      "   2956.8820800781250       AND    65.182502746582031     \n",
      " LOCATED AT    1.0932605409896901       METRES\n",
      "\n",
      " SOURCE POINT           21 PUT ON POINT\n",
      "   2961.6748046875000       AND    67.555397033691406     \n",
      " LOCATED AT    2.6534882213928817       METRES\n",
      "\n",
      " SOURCE PO"
     ]
    }
   ],
   "source": [
    "my_problem.init_state_default()"
   ]
  },
  {
   "cell_type": "markdown",
   "metadata": {},
   "source": [
    "# Mesh view"
   ]
  },
  {
   "cell_type": "code",
   "execution_count": 5,
   "metadata": {
    "execution": {
     "iopub.execute_input": "2022-12-01T13:53:23.555202Z",
     "iopub.status.busy": "2022-12-01T13:53:23.555004Z",
     "iopub.status.idle": "2022-12-01T13:53:24.332483Z",
     "shell.execute_reply": "2022-12-01T13:53:24.331841Z"
    }
   },
   "outputs": [
    {
     "name": "stdout",
     "output_type": "stream",
     "text": [
      "INT           22 PUT ON POINT\n",
      "   2966.7055664062500       AND    64.469100952148438     \n",
      " LOCATED AT    2.7964242686219909       METRES\n",
      "\n",
      " SOURCE POINT           23 PUT ON POINT\n",
      "   2966.7055664062500       AND    64.469100952148438     \n",
      " LOCATED AT   0.59310953837645364       METRES\n",
      "\n",
      " SOURCE POINT           24 PUT ON POINT\n",
      "   2966.7055664062500       AND    64.469100952148438     \n",
      " LOCATED AT    3.3073222532755908       METRES\n",
      "\n",
      " SOURCE POINT           25 PUT ON POINT\n",
      "   2972.6157226562500       AND    67.190597534179688     \n",
      " LOCATED AT    2.2190606104945716       METRES\n",
      "\n",
      " SOURCE POINT           26 PUT ON POINT\n",
      "   2977.2055664062500       AND    62.588100433349609     \n",
      " LOCATED AT    2.7054154090891176       METRES\n",
      "\n",
      " SOURCE POINT           27 PUT ON POINT\n",
      "   2977.2055664062500       AND    62.588100433349609     \n",
      " LOCATED AT    2.9943069478991204       METRES\n",
      "\n",
      " SOURCE POINT           28 PUT ON POINT\n",
      "   2982.4057617187500       AND    65.612899780273438     \n",
      " LOCATED AT   0.74627018017080560       METRES\n",
      "\n",
      " SOURCE POINT           29 PUT ON POINT\n",
      "   2982.4057617187500       AND    65.612899780273438     \n",
      " LOCATED AT    2.6559242524846325       METRES\n",
      "\n",
      " SOURCE POINT           30 PUT ON POINT\n",
      "   2988.5856933593750       AND    64.175498962402344     \n",
      " LOCATED AT    1.0171787155673997       METRES\n",
      "\n",
      " SOURCE POINT           31 PUT ON POINT\n",
      "   2988.5856933593750       AND    64.175498962402344     \n",
      " LOCATED AT    2.5417498663621556       METRES\n",
      "\n",
      " SOURCE POINT           32 PUT ON POINT\n",
      "   2995.0505371093750       AND    65.495498657226562     \n",
      " LOCATED AT    1.1705801466261379       METRES\n",
      "\n",
      " SOURCE POINT           33 PUT ON POINT\n",
      "   2995.0505371093750       AND    65.495498657226562     \n",
      " LOCATED AT    2.0114483541063906       METRES\n",
      "\n",
      " SOURCE POINT           34 PUT ON POINT\n",
      "   3000.0000000000000       AND    64.206199645996094     \n",
      " LOCATED AT   0.79380035400390625       METRES\n",
      "\n",
      " READING BREACH DATA = OK\n",
      "\n",
      "================================================================================\n",
      " ITERATION        0    TIME:   0.0000 S\n",
      " PRERES: MAXIMUM COURANT NUMBER:    0.2699380    \n",
      " TELEMAC2D INITIALIZED\n"
     ]
    },
    {
     "data": {
      "image/png": "[encoded data removed]",
      "text/plain": [
       "<Figure size 432x288 with 2 Axes>"
      ]
     },
     "metadata": {
      "needs_background": "light"
     },
     "output_type": "display_data"
    }
   ],
   "source": [
    "my_figure = my_problem.show_mesh()"
   ]
  },
  {
   "cell_type": "markdown",
   "metadata": {},
   "source": [
    "# State view"
   ]
  },
  {
   "cell_type": "code",
   "execution_count": 6,
   "metadata": {
    "execution": {
     "iopub.execute_input": "2022-12-01T13:53:24.334857Z",
     "iopub.status.busy": "2022-12-01T13:53:24.334617Z",
     "iopub.status.idle": "2022-12-01T13:53:24.772971Z",
     "shell.execute_reply": "2022-12-01T13:53:24.772344Z"
    }
   },
   "outputs": [
    {
     "data": {
      "image/png": "[encoded data removed]",
      "text/plain": [
       "<Figure size 432x288 with 4 Axes>"
      ]
     },
     "metadata": {
      "needs_background": "light"
     },
     "output_type": "display_data"
    }
   ],
   "source": [
    "my_new_figure = my_problem.show_state()"
   ]
  },
  {
   "cell_type": "markdown",
   "metadata": {},
   "source": [
    "# Get the number of time steps"
   ]
  },
  {
   "cell_type": "code",
   "execution_count": 7,
   "metadata": {
    "execution": {
     "iopub.execute_input": "2022-12-01T13:53:24.775281Z",
     "iopub.status.busy": "2022-12-01T13:53:24.775108Z",
     "iopub.status.idle": "2022-12-01T13:53:24.778757Z",
     "shell.execute_reply": "2022-12-01T13:53:24.778365Z"
    }
   },
   "outputs": [
    {
     "data": {
      "text/plain": [
       "5400"
      ]
     },
     "execution_count": 7,
     "metadata": {},
     "output_type": "execute_result"
    }
   ],
   "source": [
    "number_of_time_steps = my_problem.get('MODEL.NTIMESTEPS')\n",
    "number_of_time_steps"
   ]
  },
  {
   "cell_type": "markdown",
   "metadata": {},
   "source": [
    "# New array to save the value of a water depth"
   ]
  },
  {
   "cell_type": "code",
   "execution_count": 8,
   "metadata": {
    "execution": {
     "iopub.execute_input": "2022-12-01T13:53:24.780695Z",
     "iopub.status.busy": "2022-12-01T13:53:24.780497Z",
     "iopub.status.idle": "2022-12-01T13:53:24.783514Z",
     "shell.execute_reply": "2022-12-01T13:53:24.782877Z"
    }
   },
   "outputs": [],
   "source": [
    "import numpy as np\n",
    "\n",
    "H_save = np.zeros((number_of_time_steps,))"
   ]
  },
  {
   "cell_type": "markdown",
   "metadata": {},
   "source": [
    "# Get the node number corresponding to the coordinates (2030, 40)"
   ]
  },
  {
   "cell_type": "code",
   "execution_count": 9,
   "metadata": {
    "execution": {
     "iopub.execute_input": "2022-12-01T13:53:24.785490Z",
     "iopub.status.busy": "2022-12-01T13:53:24.785311Z",
     "iopub.status.idle": "2022-12-01T13:53:24.848128Z",
     "shell.execute_reply": "2022-12-01T13:53:24.847566Z"
    }
   },
   "outputs": [
    {
     "name": "stdout",
     "output_type": "stream",
     "text": [
      "8848\n"
     ]
    }
   ],
   "source": [
    "H_node = my_problem.get_node(2030., 40.)\n",
    "print(H_node)"
   ]
  },
  {
   "cell_type": "markdown",
   "metadata": {},
   "source": [
    "# Simulation and save the water depth"
   ]
  },
  {
   "cell_type": "code",
   "execution_count": 10,
   "metadata": {
    "execution": {
     "iopub.execute_input": "2022-12-01T13:53:24.850239Z",
     "iopub.status.busy": "2022-12-01T13:53:24.850033Z",
     "iopub.status.idle": "2022-12-01T13:53:26.473099Z",
     "shell.execute_reply": "2022-12-01T13:53:26.472527Z"
    }
   },
   "outputs": [
    {
     "name": "stdout",
     "output_type": "stream",
     "text": [
      "\r",
      "[                    ] 0%"
     ]
    },
    {
     "name": "stdout",
     "output_type": "stream",
     "text": [
      " THE LIQUID BOUNDARIES FILE CONTAINS\n",
      "           3  LINES WITH:\n",
      " SL(1)    Q(2)     \n",
      "\r",
      "[                    ] 1%"
     ]
    },
    {
     "name": "stdout",
     "output_type": "stream",
     "text": [
      " USING STREAMLINE VERSION V8P4 FOR CHARACTERISTICS\n",
      "\r",
      "[                    ] 2%"
     ]
    },
    {
     "name": "stdout",
     "output_type": "stream",
     "text": [
      "\r",
      "[                    ] 3%"
     ]
    },
    {
     "name": "stdout",
     "output_type": "stream",
     "text": [
      "\r",
      "[                    ] 4%"
     ]
    },
    {
     "name": "stdout",
     "output_type": "stream",
     "text": [
      "\r",
      "[=                   ] 5%"
     ]
    },
    {
     "name": "stdout",
     "output_type": "stream",
     "text": [
      "\r",
      "[=                   ] 6%"
     ]
    },
    {
     "name": "stdout",
     "output_type": "stream",
     "text": [
      "\r",
      "[=                   ] 7%"
     ]
    },
    {
     "name": "stdout",
     "output_type": "stream",
     "text": [
      "\r",
      "[=                   ] 8%"
     ]
    },
    {
     "name": "stdout",
     "output_type": "stream",
     "text": [
      "\r",
      "[=                   ] 9%"
     ]
    },
    {
     "name": "stdout",
     "output_type": "stream",
     "text": [
      "\r",
      "[==                  ] 10%"
     ]
    },
    {
     "name": "stdout",
     "output_type": "stream",
     "text": [
      "\r",
      "[==                  ] 11%"
     ]
    },
    {
     "name": "stdout",
     "output_type": "stream",
     "text": [
      "\r",
      "[==                  ] 12%"
     ]
    },
    {
     "name": "stdout",
     "output_type": "stream",
     "text": [
      "\r",
      "[==                  ] 13%"
     ]
    },
    {
     "name": "stdout",
     "output_type": "stream",
     "text": [
      "\r",
      "[==                  ] 14%"
     ]
    },
    {
     "name": "stdout",
     "output_type": "stream",
     "text": [
      "\r",
      "[===                 ] 15%"
     ]
    },
    {
     "name": "stdout",
     "output_type": "stream",
     "text": [
      "\r",
      "[===                 ] 16%"
     ]
    },
    {
     "name": "stdout",
     "output_type": "stream",
     "text": [
      "\r",
      "[===                 ] 17%"
     ]
    },
    {
     "name": "stdout",
     "output_type": "stream",
     "text": [
      "\r",
      "[===                 ] 18%"
     ]
    },
    {
     "name": "stdout",
     "output_type": "stream",
     "text": [
      "\r",
      "[===                 ] 19%"
     ]
    },
    {
     "name": "stdout",
     "output_type": "stream",
     "text": [
      "\r",
      "[====                ] 20%"
     ]
    },
    {
     "name": "stdout",
     "output_type": "stream",
     "text": [
      "\r",
      "[====                ] 21%"
     ]
    },
    {
     "name": "stdout",
     "output_type": "stream",
     "text": [
      "\r",
      "[====                ] 22%"
     ]
    },
    {
     "name": "stdout",
     "output_type": "stream",
     "text": [
      "\r",
      "[====                ] 23%"
     ]
    },
    {
     "name": "stdout",
     "output_type": "stream",
     "text": [
      "\r",
      "[====                ] 24%"
     ]
    },
    {
     "name": "stdout",
     "output_type": "stream",
     "text": [
      "\r",
      "[=====               ] 25%"
     ]
    },
    {
     "name": "stdout",
     "output_type": "stream",
     "text": [
      "\r",
      "[=====               ] 26%"
     ]
    },
    {
     "name": "stdout",
     "output_type": "stream",
     "text": [
      "\r",
      "[=====               ] 27%"
     ]
    },
    {
     "name": "stdout",
     "output_type": "stream",
     "text": [
      "\r",
      "[=====               ] 28%"
     ]
    },
    {
     "name": "stdout",
     "output_type": "stream",
     "text": [
      "\r",
      "[=====               ] 29%"
     ]
    },
    {
     "name": "stdout",
     "output_type": "stream",
     "text": [
      "\r",
      "[======              ] 30%"
     ]
    },
    {
     "name": "stdout",
     "output_type": "stream",
     "text": [
      "\r",
      "[======              ] 31%"
     ]
    },
    {
     "name": "stdout",
     "output_type": "stream",
     "text": [
      "\r",
      "[======              ] 32%"
     ]
    },
    {
     "name": "stdout",
     "output_type": "stream",
     "text": [
      "\r",
      "[======              ] 33%"
     ]
    },
    {
     "name": "stdout",
     "output_type": "stream",
     "text": [
      "\r",
      "[======              ] 34%"
     ]
    },
    {
     "name": "stdout",
     "output_type": "stream",
     "text": [
      "\r",
      "[=======             ] 35%"
     ]
    },
    {
     "name": "stdout",
     "output_type": "stream",
     "text": [
      "\r",
      "[=======             ] 36%"
     ]
    },
    {
     "name": "stdout",
     "output_type": "stream",
     "text": [
      "\r",
      "[=======             ] 37%"
     ]
    },
    {
     "name": "stdout",
     "output_type": "stream",
     "text": [
      "\r",
      "[=======             ] 38%"
     ]
    },
    {
     "name": "stdout",
     "output_type": "stream",
     "text": [
      "\r",
      "[=======             ] 39%"
     ]
    },
    {
     "name": "stdout",
     "output_type": "stream",
     "text": [
      "\r",
      "[========            ] 40%"
     ]
    },
    {
     "name": "stdout",
     "output_type": "stream",
     "text": [
      "\r",
      "[========            ] 41%"
     ]
    },
    {
     "name": "stdout",
     "output_type": "stream",
     "text": [
      "\r",
      "[========            ] 42%"
     ]
    },
    {
     "name": "stdout",
     "output_type": "stream",
     "text": [
      "\r",
      "[========            ] 43%"
     ]
    },
    {
     "name": "stdout",
     "output_type": "stream",
     "text": [
      "\r",
      "[========            ] 44%"
     ]
    },
    {
     "name": "stdout",
     "output_type": "stream",
     "text": [
      "\r",
      "[=========           ] 45%"
     ]
    },
    {
     "name": "stdout",
     "output_type": "stream",
     "text": [
      "\r",
      "[=========           ] 46%"
     ]
    },
    {
     "name": "stdout",
     "output_type": "stream",
     "text": [
      "\r",
      "[=========           ] 47%"
     ]
    },
    {
     "name": "stdout",
     "output_type": "stream",
     "text": [
      "\r",
      "[=========           ] 48%"
     ]
    },
    {
     "name": "stdout",
     "output_type": "stream",
     "text": [
      "\r",
      "[=========           ] 49%"
     ]
    },
    {
     "name": "stdout",
     "output_type": "stream",
     "text": [
      "\r",
      "[==========          ] 50%"
     ]
    },
    {
     "name": "stdout",
     "output_type": "stream",
     "text": [
      "\r",
      "[==========          ] 51%"
     ]
    },
    {
     "name": "stdout",
     "output_type": "stream",
     "text": [
      "\r",
      "[==========          ] 52%"
     ]
    },
    {
     "name": "stdout",
     "output_type": "stream",
     "text": [
      "\r",
      "[==========          ] 53%"
     ]
    },
    {
     "name": "stdout",
     "output_type": "stream",
     "text": [
      "\r",
      "[==========          ] 54%"
     ]
    },
    {
     "name": "stdout",
     "output_type": "stream",
     "text": [
      "\r",
      "[===========         ] 55%"
     ]
    },
    {
     "name": "stdout",
     "output_type": "stream",
     "text": [
      "\r",
      "[===========         ] 56%"
     ]
    },
    {
     "name": "stdout",
     "output_type": "stream",
     "text": [
      "\r",
      "[===========         ] 57%"
     ]
    },
    {
     "name": "stdout",
     "output_type": "stream",
     "text": [
      "\r",
      "[===========         ] 58%"
     ]
    },
    {
     "name": "stdout",
     "output_type": "stream",
     "text": [
      "\r",
      "[===========         ] 59%"
     ]
    },
    {
     "name": "stdout",
     "output_type": "stream",
     "text": [
      "\r",
      "[============        ] 60%"
     ]
    },
    {
     "name": "stdout",
     "output_type": "stream",
     "text": [
      "\r",
      "[============        ] 61%"
     ]
    },
    {
     "name": "stdout",
     "output_type": "stream",
     "text": [
      "\r",
      "[============        ] 62%"
     ]
    },
    {
     "name": "stdout",
     "output_type": "stream",
     "text": [
      "\r",
      "[============        ] 63%"
     ]
    },
    {
     "name": "stdout",
     "output_type": "stream",
     "text": [
      "\r",
      "[============        ] 64%"
     ]
    },
    {
     "name": "stdout",
     "output_type": "stream",
     "text": [
      "\r",
      "[=============       ] 65%"
     ]
    },
    {
     "name": "stdout",
     "output_type": "stream",
     "text": [
      "\r",
      "[=============       ] 66%"
     ]
    },
    {
     "name": "stdout",
     "output_type": "stream",
     "text": [
      "\r",
      "[=============       ] 67%"
     ]
    },
    {
     "name": "stdout",
     "output_type": "stream",
     "text": [
      "\r",
      "[=============       ] 68%"
     ]
    },
    {
     "name": "stdout",
     "output_type": "stream",
     "text": [
      "\r",
      "[=============       ] 69%"
     ]
    },
    {
     "name": "stdout",
     "output_type": "stream",
     "text": [
      "\r",
      "[==============      ] 70%"
     ]
    },
    {
     "name": "stdout",
     "output_type": "stream",
     "text": [
      "\r",
      "[==============      ] 71%"
     ]
    },
    {
     "name": "stdout",
     "output_type": "stream",
     "text": [
      "\r",
      "[==============      ] 72%"
     ]
    },
    {
     "name": "stdout",
     "output_type": "stream",
     "text": [
      "\r",
      "[==============      ] 73%"
     ]
    },
    {
     "name": "stdout",
     "output_type": "stream",
     "text": [
      "\r",
      "[==============      ] 74%"
     ]
    },
    {
     "name": "stdout",
     "output_type": "stream",
     "text": [
      "\r",
      "[===============     ] 75%"
     ]
    },
    {
     "name": "stdout",
     "output_type": "stream",
     "text": [
      "\r",
      "[===============     ] 76%"
     ]
    },
    {
     "name": "stdout",
     "output_type": "stream",
     "text": [
      "\r",
      "[===============     ] 77%"
     ]
    },
    {
     "name": "stdout",
     "output_type": "stream",
     "text": [
      "\r",
      "[===============     ] 78%"
     ]
    },
    {
     "name": "stdout",
     "output_type": "stream",
     "text": [
      "\r",
      "[===============     ] 79%"
     ]
    },
    {
     "name": "stdout",
     "output_type": "stream",
     "text": [
      "\r",
      "[================    ] 80%"
     ]
    },
    {
     "name": "stdout",
     "output_type": "stream",
     "text": [
      "\r",
      "[================    ] 81%"
     ]
    },
    {
     "name": "stdout",
     "output_type": "stream",
     "text": [
      "\r",
      "[================    ] 82%"
     ]
    },
    {
     "name": "stdout",
     "output_type": "stream",
     "text": [
      "\r",
      "[================    ] 83%"
     ]
    },
    {
     "name": "stdout",
     "output_type": "stream",
     "text": [
      "\r",
      "[================    ] 84%"
     ]
    },
    {
     "name": "stdout",
     "output_type": "stream",
     "text": [
      "\r",
      "[=================   ] 85%"
     ]
    },
    {
     "name": "stdout",
     "output_type": "stream",
     "text": [
      "\r",
      "[=================   ] 86%"
     ]
    },
    {
     "name": "stdout",
     "output_type": "stream",
     "text": [
      "\r",
      "[=================   ] 87%"
     ]
    },
    {
     "name": "stdout",
     "output_type": "stream",
     "text": [
      "\r",
      "[=================   ] 88%"
     ]
    },
    {
     "name": "stdout",
     "output_type": "stream",
     "text": [
      "\r",
      "[=================   ] 89%"
     ]
    },
    {
     "name": "stdout",
     "output_type": "stream",
     "text": [
      "\r",
      "[==================  ] 90%"
     ]
    },
    {
     "name": "stdout",
     "output_type": "stream",
     "text": [
      "\r",
      "[==================  ] 91%"
     ]
    },
    {
     "name": "stdout",
     "output_type": "stream",
     "text": [
      "\r",
      "[==================  ] 92%"
     ]
    },
    {
     "name": "stdout",
     "output_type": "stream",
     "text": [
      "\r",
      "[==================  ] 93%"
     ]
    },
    {
     "name": "stdout",
     "output_type": "stream",
     "text": [
      "\r",
      "[==================  ] 94%"
     ]
    },
    {
     "name": "stdout",
     "output_type": "stream",
     "text": [
      "\r",
      "[=================== ] 95%"
     ]
    },
    {
     "name": "stdout",
     "output_type": "stream",
     "text": [
      "\r",
      "[=================== ] 96%"
     ]
    },
    {
     "name": "stdout",
     "output_type": "stream",
     "text": [
      "\r",
      "[=================== ] 97%"
     ]
    },
    {
     "name": "stdout",
     "output_type": "stream",
     "text": [
      "\r",
      "[=================== ] 98%"
     ]
    },
    {
     "name": "stdout",
     "output_type": "stream",
     "text": [
      "\r",
      "[====================] 100%"
     ]
    }
   ],
   "source": [
    "# We will manually reduce the number of time steps to speed up the compuation\n",
    "# Delete the follwing line to run the full case\n",
    "number_of_time_steps = 100\n",
    "for i in range(number_of_time_steps):\n",
    "    sys.stdout.write('\\r')\n",
    "    # the exact output you're looking for:\n",
    "    percent = 100*i//(max(number_of_time_steps-1,1))\n",
    "    sys.stdout.write(\"[%-20s] %d%%\" % ('='*(percent//5), percent))\n",
    "    sys.stdout.flush()\n",
    "    \n",
    "    my_problem.run_one_time_step()\n",
    "    \n",
    "    H_save[i] = my_problem.get('MODEL.WATERDEPTH', i=H_node-1)"
   ]
  },
  {
   "cell_type": "markdown",
   "metadata": {},
   "source": [
    "# Plot the water depth vs time"
   ]
  },
  {
   "cell_type": "code",
   "execution_count": 11,
   "metadata": {
    "execution": {
     "iopub.execute_input": "2022-12-01T13:53:26.475428Z",
     "iopub.status.busy": "2022-12-01T13:53:26.475230Z",
     "iopub.status.idle": "2022-12-01T13:53:26.545281Z",
     "shell.execute_reply": "2022-12-01T13:53:26.544691Z"
    }
   },
   "outputs": [
    {
     "data": {
      "image/png": "[encoded data removed]",
      "text/plain": [
       "<Figure size 432x288 with 1 Axes>"
      ]
     },
     "metadata": {
      "needs_background": "light"
     },
     "output_type": "display_data"
    }
   ],
   "source": [
    "import matplotlib.pyplot as plt\n",
    "\n",
    "plt.plot(H_save)\n",
    "plt.grid()\n",
    "plt.xlabel(\"Number of time steps\")\n",
    "plt.ylabel(\"Water level (m)\")\n",
    "plt.show()"
   ]
  },
  {
   "cell_type": "markdown",
   "metadata": {},
   "source": [
    "# And finally, delete the case"
   ]
  },
  {
   "cell_type": "code",
   "execution_count": 12,
   "metadata": {
    "execution": {
     "iopub.execute_input": "2022-12-01T13:53:26.547641Z",
     "iopub.status.busy": "2022-12-01T13:53:26.547449Z",
     "iopub.status.idle": "2022-12-01T13:53:26.551629Z",
     "shell.execute_reply": "2022-12-01T13:53:26.551140Z"
    }
   },
   "outputs": [
    {
     "name": "stdout",
     "output_type": "stream",
     "text": [
      "\n",
      "\n",
      "\n",
      "                     *************************************\n",
      "                     *    END OF MEMORY ORGANIZATION:    *\n",
      "                     *************************************\n",
      "\n",
      "\n",
      "\n",
      "\n",
      " CORRECT END OF RUN\n",
      "\n",
      "\n",
      "\n",
      " ELAPSE TIME : \n",
      "                              3  SECONDS\n"
     ]
    }
   ],
   "source": [
    "ierr = my_problem.finalize()\n",
    "\n",
    "del my_problem"
   ]
  }
 ],
 "metadata": {
  "anaconda-cloud": {},
  "kernelspec": {
   "display_name": "Python 3",
   "language": "python",
   "name": "python3"
  },
  "language_info": {
   "codemirror_mode": {
    "name": "ipython",
    "version": 3
   },
   "file_extension": ".py",
   "mimetype": "text/x-python",
   "name": "python",
   "nbconvert_exporter": "python",
   "pygments_lexer": "ipython3",
   "version": "3.7.13"
  }
 },
 "nbformat": 4,
 "nbformat_minor": 1
}
