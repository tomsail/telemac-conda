{
 "cells": [
  {
   "cell_type": "markdown",
   "metadata": {},
   "source": [
    "# Extraction data into csv format\n",
    "\n",
    "Here we will extract a time serie and the list of times from a serafin file.\n",
    "Then we will write that in a csv file.\n",
    "\n",
    "First we import the the Python object to extract data and define our two files:\n",
    "  * file_name: The file from which to extract\n",
    "  * csv_file: The name of the ouput csv file"
   ]
  },
  {
   "cell_type": "code",
   "execution_count": 1,
   "metadata": {
    "execution": {
     "iopub.execute_input": "2022-12-01T13:28:09.724017Z",
     "iopub.status.busy": "2022-12-01T13:28:09.723138Z",
     "iopub.status.idle": "2022-12-01T13:28:10.061153Z",
     "shell.execute_reply": "2022-12-01T13:28:10.060373Z"
    }
   },
   "outputs": [],
   "source": [
    "from data_manip.extraction.telemac_file import TelemacFile\n",
    "import numpy as np\n",
    "from os import environ, path\n",
    "\n",
    "file_name = path.join(environ['HOMETEL'],\n",
    "                     'examples',\n",
    "                     'telemac2d',\n",
    "                     'gouttedo',\n",
    "                     'f2d_gouttedo.slf')\n",
    "\n",
    "csv_file = path.join(environ['HOMETEL'],\n",
    "                     'examples',\n",
    "                     'telemac2d',\n",
    "                     'gouttedo',\n",
    "                     'dump.csv')"
   ]
  },
  {
   "cell_type": "markdown",
   "metadata": {},
   "source": [
    "Extracting the time series on the points (5., 5.) and (10., 10.) (variable data).\n",
    "\n",
    "And the value of all the records (variable times)."
   ]
  },
  {
   "cell_type": "code",
   "execution_count": 2,
   "metadata": {
    "execution": {
     "iopub.execute_input": "2022-12-01T13:28:10.063896Z",
     "iopub.status.busy": "2022-12-01T13:28:10.063648Z",
     "iopub.status.idle": "2022-12-01T13:28:10.181476Z",
     "shell.execute_reply": "2022-12-01T13:28:10.178442Z"
    }
   },
   "outputs": [
    {
     "name": "stdout",
     "output_type": "stream",
     "text": [
      "[[0.         0.2        0.40000001 0.60000002 0.80000001 1.\n",
      "  1.20000005 1.39999998 1.60000002 1.79999995 2.         2.20000005\n",
      "  2.4000001  2.5999999  2.79999995 3.         3.20000005 3.4000001\n",
      "  3.5999999  3.79999995 4.        ]\n",
      " [2.40000852 2.40011946 2.4017477  2.41520952 2.50253924 2.79015412\n",
      "  2.67010909 2.51112976 2.39477512 2.3179657  2.27541004 2.26909599\n",
      "  2.34887584 2.74770854 2.74654766 2.60003764 2.48824062 2.42656478\n",
      "  2.44989452 2.38898823 2.32659854]\n",
      " [4.77315219 3.47892801 2.40437412 1.97610732 1.90833648 2.05433353\n",
      "  2.21320486 2.29043031 2.32601579 2.34588337 2.35845796 2.36702919\n",
      "  2.37355407 2.37812376 2.38053862 2.39345018 2.48714193 3.07159464\n",
      "  3.08172862 2.80347745 2.60476796]]\n"
     ]
    }
   ],
   "source": [
    "res = TelemacFile(file_name)\n",
    "# Getting data on points for water depth\n",
    "data = res.get_timeseries_on_points('WATER DEPTH', [(5., 5.), (10., 10.)])\n",
    "# Getting array of values\n",
    "times = res.times\n",
    "\n",
    "# Deleting object\n",
    "del res\n",
    "\n",
    "# Adding time values as the first column\n",
    "csv_data = np.vstack((times, data))\n",
    "\n",
    "print(csv_data)\n",
    "\n",
    "# Saving as csv file (using .T on array to have 21 lines and 3 columns)\n",
    "np.savetxt(csv_file, csv_data.T, delimiter=\",\", header='Time  value_p1 value_p2')"
   ]
  },
  {
   "cell_type": "code",
   "execution_count": 3,
   "metadata": {
    "execution": {
     "iopub.execute_input": "2022-12-01T13:28:10.189130Z",
     "iopub.status.busy": "2022-12-01T13:28:10.188917Z",
     "iopub.status.idle": "2022-12-01T13:28:10.192639Z",
     "shell.execute_reply": "2022-12-01T13:28:10.192203Z"
    }
   },
   "outputs": [
    {
     "name": "stdout",
     "output_type": "stream",
     "text": [
      "# Time  value_p1 value_p2\n",
      "0.000000000000000000e+00,2.400008519480959723e+00,4.773152192455907716e+00\n",
      "2.000000029802322388e-01,2.400119463482699000e+00,3.478928009696776069e+00\n",
      "4.000000059604644775e-01,2.401747702018232733e+00,2.404374122619628906e+00\n",
      "6.000000238418579102e-01,2.415209520211502703e+00,1.976107319193286305e+00\n",
      "8.000000119209289551e-01,2.502539244127643947e+00,1.908336480439124516e+00\n",
      "1.000000000000000000e+00,2.790154119748788020e+00,2.054333527871778031e+00\n",
      "1.200000047683715820e+00,2.670109093914371456e+00,2.213204860728941181e+00\n",
      "1.399999976158142090e+00,2.511129755137581299e+00,2.290430307354957229e+00\n",
      "1.600000023841857910e+00,2.394775117976851497e+00,2.326015790292432328e+00\n",
      "1.799999952316284180e+00,2.317965699146073533e+00,2.345883369379103911e+00\n",
      "2.000000000000000000e+00,2.275410037913324857e+00,2.358457962699706201e+00\n",
      "2.200000047683715820e+00,2.269095989328830942e+00,2.367029190105161884e+00\n",
      "2.400000095367431641e+00,2.348875842412880388e+00,2.373554070796166648e+00\n",
      "2.599999904632568359e+00,2.747708541455733844e+00,2.378123760165028688e+00\n",
      "2.799999952316284180e+00,2.746547660308982675e+00,2.380538622582712982e+00\n",
      "3.000000000000000000e+00,2.600037640171304787e+00,2.393450180742295874e+00\n",
      "3.200000047683715820e+00,2.488240616556812057e+00,2.487141927097228589e+00\n",
      "3.400000095367431641e+00,2.426564782497981465e+00,3.071594635581630595e+00\n",
      "3.599999904632568359e+00,2.449894517460146748e+00,3.081728617369714041e+00\n",
      "3.799999952316284180e+00,2.388988226495730949e+00,2.803477446249316163e+00\n",
      "4.000000000000000000e+00,2.326598544906485433e+00,2.604767958300928221e+00\n",
      "\n"
     ]
    }
   ],
   "source": [
    "with open(csv_file, 'r') as f:\n",
    "    print(f.read())"
   ]
  },
  {
   "cell_type": "markdown",
   "metadata": {},
   "source": [
    "# Importing data from csv file\n",
    "\n",
    "Example extracting data from a csv file.\n",
    "The two parameter delimiter and comments specify what is used for separating values and the comment character."
   ]
  },
  {
   "cell_type": "code",
   "execution_count": 4,
   "metadata": {
    "execution": {
     "iopub.execute_input": "2022-12-01T13:28:10.194687Z",
     "iopub.status.busy": "2022-12-01T13:28:10.194513Z",
     "iopub.status.idle": "2022-12-01T13:28:10.199170Z",
     "shell.execute_reply": "2022-12-01T13:28:10.198697Z"
    }
   },
   "outputs": [
    {
     "name": "stdout",
     "output_type": "stream",
     "text": [
      "(21, 3)\n",
      "[[0.         2.40000852 4.77315219]\n",
      " [0.2        2.40011946 3.47892801]\n",
      " [0.40000001 2.4017477  2.40437412]\n",
      " [0.60000002 2.41520952 1.97610732]\n",
      " [0.80000001 2.50253924 1.90833648]\n",
      " [1.         2.79015412 2.05433353]\n",
      " [1.20000005 2.67010909 2.21320486]\n",
      " [1.39999998 2.51112976 2.29043031]\n",
      " [1.60000002 2.39477512 2.32601579]\n",
      " [1.79999995 2.3179657  2.34588337]\n",
      " [2.         2.27541004 2.35845796]\n",
      " [2.20000005 2.26909599 2.36702919]\n",
      " [2.4000001  2.34887584 2.37355407]\n",
      " [2.5999999  2.74770854 2.37812376]\n",
      " [2.79999995 2.74654766 2.38053862]\n",
      " [3.         2.60003764 2.39345018]\n",
      " [3.20000005 2.48824062 2.48714193]\n",
      " [3.4000001  2.42656478 3.07159464]\n",
      " [3.5999999  2.44989452 3.08172862]\n",
      " [3.79999995 2.38898823 2.80347745]\n",
      " [4.         2.32659854 2.60476796]]\n"
     ]
    }
   ],
   "source": [
    "file_name = path.join(environ['HOMETEL'],\n",
    "                      'examples',\n",
    "                      'telemac2d',\n",
    "                      'gouttedo',\n",
    "                      'dump.csv')\n",
    "\n",
    "# dilimiter\n",
    "csv = np.loadtxt(file_name, delimiter=\",\", comments='#')\n",
    "\n",
    "print(csv.shape)\n",
    "print(csv)"
   ]
  },
  {
   "cell_type": "markdown",
   "metadata": {},
   "source": []
  }
 ],
 "metadata": {
  "kernelspec": {
   "display_name": "Python 3",
   "language": "python",
   "name": "python3"
  },
  "language_info": {
   "codemirror_mode": {
    "name": "ipython",
    "version": 3
   },
   "file_extension": ".py",
   "mimetype": "text/x-python",
   "name": "python",
   "nbconvert_exporter": "python",
   "pygments_lexer": "ipython3",
   "version": "3.7.13"
  }
 },
 "nbformat": 4,
 "nbformat_minor": 1
}
