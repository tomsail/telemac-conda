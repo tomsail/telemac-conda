{
 "cells": [
  {
   "cell_type": "markdown",
   "metadata": {},
   "source": [
    "# Get data of output file"
   ]
  },
  {
   "cell_type": "markdown",
   "metadata": {},
   "source": [
    "Note that the bump example must be ran."
   ]
  },
  {
   "cell_type": "code",
   "execution_count": 1,
   "metadata": {
    "execution": {
     "iopub.execute_input": "2022-12-01T13:28:17.868103Z",
     "iopub.status.busy": "2022-12-01T13:28:17.867234Z",
     "iopub.status.idle": "2022-12-01T13:28:24.514946Z",
     "shell.execute_reply": "2022-12-01T13:28:24.512398Z"
    }
   },
   "outputs": [
    {
     "name": "stdout",
     "output_type": "stream",
     "text": [
      "\r\n",
      "\r\n",
      "Loading Options and Configurations\r\n",
      "~~~~~~~~~~~~~~~~~~~~~~~~~~~~~~~~~~~~~~~~~~~~~~~~~~~~~~~~~~~~~~~~~~~~~~~~\r\n",
      "\r\n",
      "          ___          _  _   \r\n",
      "         / _ \\        | || |  \r\n",
      " __   __| (_) | _ __  | || |_ \r\n",
      " \\ \\ / / > _ < | '_ \\ |__   _|\r\n",
      "  \\ V / | (_) || |_) |   | |  \r\n",
      "   \\_/   \\___/ | .__/    |_|  \r\n",
      "               | |            \r\n",
      "               |_|            \r\n",
      "\r\n",
      "\r\n",
      "Running your CAS file(s) for:\r\n",
      "~~~~~~~~~~~~~~~~~~~~~~~~~~~~~~~~~~~~~~~~~~~~~~~~~~~~~~~~~~~~~~~~~~~~~~~~\r\n",
      "\r\n",
      "\r\n",
      "\r\n",
      "~~~~~~~~~~~~~~~~~~~~~~~~~~~~~~~~~~~~~~~~~~~~~~~~~~~~~~~~~~~~~~~~~~~~~~~~\r\n",
      "\r\n",
      "S10.gfortran.dyn: \r\n",
      "    \r\n",
      "\r\n",
      "    +> Scibian 10 dynamic build using GFortran 8.3.0 and Open MPI.\r\n",
      "\r\n",
      "    +> root:    /home/d60881/telemac-mascaret\r\n",
      "    +> module: ad / api / artemis / bief\r\n",
      "               damocles  / gaia  / gretel  / hermes\r\n",
      "               identify_liq_bnd  / khione  / mascaret  / nestor\r\n",
      "               parallel  / partel  / postel3d  / sisyphe\r\n",
      "               special  / stbtel  / telemac2d  / telemac3d\r\n",
      "               tomawac / waqtel\r\n",
      "\r\n",
      "\r\n",
      "~~~~~~~~~~~~~~~~~~~~~~~~~~~~~~~~~~~~~~~~~~~~~~~~~~~~~~~~~~~~~~~~~~~~~~~~\r\n",
      "\r\n",
      "\r\n",
      "... processing the steering file\r\n"
     ]
    },
    {
     "name": "stdout",
     "output_type": "stream",
     "text": [
      "  ~> Checking keyword/rubrique coherence\r\n",
      "\r\n",
      "... checking parallelisation\r\n",
      "\r\n",
      "... handling temporary directories\r\n",
      "         copying: t2d_bump_FE.cas -> <root>/examples/telemac2d/bump/t2d_bump_FE.cas_2022-12-01-14h28min21s/T2DCAS\r\n",
      "         copying: telemac2d.dico -> <root>/examples/telemac2d/bump/t2d_bump_FE.cas_2022-12-01-14h28min21s/T2DDICO\r\n",
      "         copying: geo_bump.slf -> <root>/examples/telemac2d/bump/t2d_bump_FE.cas_2022-12-01-14h28min21s/T2DGEO\r\n",
      "         copying: geo_bump_flu.cli -> <root>/examples/telemac2d/bump/t2d_bump_FE.cas_2022-12-01-14h28min21s/T2DCLI\r\n",
      "[                                                                ]   0%  | ---s\r",
      "[\\\\\\\\\\\\\\\\\\\\\\\\\\\\\\\\\\\\\\\\\\\\                                            ]  33%  | 1s\r",
      "                                                                               \r",
      "[                                                                ]   0%  | ---s\r",
      "                                                                               \r",
      "[                                                                ]   0%  | ---s\r",
      "[\\\\\\\\\\\\\\\\\\\\\\\\\\\\\\\\                                                  ]  25%  | 1s\r",
      "[\\\\\\\\\\\\\\\\\\\\\\\\\\\\\\\\\\\\\\\\\\\\\\\\\\\\\\\\\\\\\\\\\\                                 ]  50%  | 1s\r",
      "                                                                               \r",
      "\r\n",
      "... checking the executable\r\n",
      "  > compiling objs\r\n",
      "         compiling: user_condin_h.f"
     ]
    },
    {
     "name": "stdout",
     "output_type": "stream",
     "text": [
      " ... completed\r\n",
      "         compiling: user_corfon.f"
     ]
    },
    {
     "name": "stdout",
     "output_type": "stream",
     "text": [
      " ... completed\r\n",
      "         compiling: user_utimp_telemac2d.f"
     ]
    },
    {
     "name": "stdout",
     "output_type": "stream",
     "text": [
      " ... completed\r\n"
     ]
    },
    {
     "name": "stdout",
     "output_type": "stream",
     "text": [
      "         created: out_user_fortran\r\n",
      "\r\n",
      "\r\n",
      "Running your simulation(s) :\r\n",
      "~~~~~~~~~~~~~~~~~~~~~~~~~~~~~~~~~~~~~~~~~~~~~~~~~~~~~~~~~~~~~~~~~~~~~~~~\r\n",
      "\r\n",
      "\r\n",
      "\r\n",
      "In /home/d60881/telemac-mascaret/examples/telemac2d/bump/t2d_bump_FE.cas_2022-12-01-14h28min21s:\r\n",
      "mpirun -np 1 /home/d60881/telemac-mascaret/examples/telemac2d/bump/t2d_bump_FE.cas_2022-12-01-14h28min21s/out_user_fortran\r\n",
      "\r\n",
      "\r\n"
     ]
    },
    {
     "name": "stdout",
     "output_type": "stream",
     "text": [
      " MASTER PROCESSOR NUMBER            0  OF THE GROUP OF            1\r\n",
      " EXECUTABLE FILE: /home/d60881/telemac-mascaret/examples/telemac2d/bump/t2d_bump_FE.cas_2022-12-01-14h28min21s/A.EXE\r\n",
      " LISTING OF TELEMAC2D------------------------------------------------------------------------------\r\n",
      "\r\n",
      "                TTTTT  EEEEE  L      EEEEE  M   M  AAAAA  CCCCC\r\n",
      "                  T    E      L      E      MM MM  A   A  C\r\n",
      "                  T    EEE    L      EEE    M M M  AAAAA  C\r\n",
      "                  T    E      L      E      M   M  A   A  C\r\n",
      "                  T    EEEEE  LLLLL  EEEEE  M   M  A   A  CCCCC\r\n",
      "\r\n",
      "                        2D    VERSION V8P4   FORTRAN 2003\r\n",
      "\r\n",
      "                        ~^~^~^~^~^~^~^~^~^~^~^^~^~^~^~^~^~\r\n",
      "                          ~                            ~\r\n",
      "                               \\   '    o      '\r\n",
      "                               /\\ o       \\  o\r\n",
      "                             >=)'>    '   /\\ '\r\n",
      "                               \\/   \\   >=)'>        ~\r\n",
      "                               /    /\\    \\/\r\n",
      "                        ~         >=)'>   /     .\r\n",
      "                                    \\/                   )\r\n",
      "                                    /                   (\r\n",
      "                                          ~          )   )\r\n",
      "                          }     ~              (    (   (\r\n",
      "                         {                      )    )   )\r\n",
      "                          }  }         .       (    (   (\r\n",
      "                         {  {               /^^^^^^^^^^^^\r\n",
      "                        ^^^^^^^^^\\         /\r\n",
      "                                  ^^^^^^^^^\r\n",
      "\r\n",
      " DIFFERENT NUMBER OF PARALLEL PROCESSORS:\r\n",
      " DECLARED BEFORE (CASE OF COUPLING ?):           1\r\n",
      " TELEMAC-2D :           0\r\n",
      " VALUE            1  IS KEPT\r\n",
      "\r\n",
      "                   ********************************************\r\n",
      "                   *               LECDON:                    *\r\n",
      "                   *        AFTER CALLING DAMOCLES            *\r\n",
      "                   *        CHECKING OF DATA  READ            *\r\n",
      "                   *         IN THE STEERING FILE             *\r\n",
      "                   ********************************************\r\n",
      "\r\n",
      " EXITING LECDON. NAME OF THE STUDY:\r\n",
      " TELEMAC 2D: BUMP CASE FE\r\n",
      "\r\n",
      " OPENING FILES FOR TELEMAC2D\r\n",
      " OPENING: T2DGEO-geo_bump.slf\r\n",
      " OPENING: T2DCLI-geo_bump_flu.cli\r\n",
      " OPENING: T2DRES-r2d_bump.slf\r\n",
      " OPENING: T2DRFO-mass_matrix_tf.txt\r\n",
      "\r\n",
      "                          *****************************\r\n",
      "                          *    MEMORY ORGANIZATION    *\r\n",
      "                          *****************************\r\n",
      "\r\n",
      " READ_MESH_INFO: TITLE= mesh_bump0\r\n",
      "            NUMBER OF ELEMENTS:     1280\r\n",
      "            NUMBER OF POINTS:      729\r\n",
      "\r\n",
      "            TYPE OF ELEMENT: TRIANGLE\r\n",
      "            TYPE OF BND ELEMENT: POINT\r\n",
      "\r\n",
      "            SINGLE PRECISION FORMAT (R4)\r\n",
      "\r\n",
      " MXPTEL (BIEF) : MAXIMUM NUMBER OF ELEMENTS AROUND A POINT:   8\r\n",
      "                 MAXIMUM NUMBER OF POINTS AROUND A POINT:   8\r\n",
      " USER_CORRXY (BIEF):NO MODIFICATION OF COORDINATES\r\n",
      "\r\n",
      " MESH: MESH   ALLOCATED\r\n",
      "\r\n",
      "                     *************************************\r\n",
      "                     *    END OF MEMORY ORGANIZATION:    *\r\n",
      "                     *************************************\r\n",
      "\r\n",
      " INITIALIZING TELEMAC2D FOR\r\n",
      " INBIEF (BIEF): NOT A VECTOR MACHINE (ACCORDING TO YOUR DATA)\r\n",
      " STRCHE (BIEF): NO MODIFICATION OF FRICTION\r\n",
      "\r\n",
      " THERE IS     2 LIQUID BOUNDARIES:\r\n",
      "\r\n",
      " BOUNDARY    1 :\r\n",
      "  BEGINS AT BOUNDARY POINT:       81 , WITH GLOBAL NUMBER:        21\r\n",
      "  AND COORDINATES:     20.00000           0.000000\r\n",
      "  ENDS AT BOUNDARY POINT:       89 , WITH GLOBAL NUMBER:        63\r\n",
      "  AND COORDINATES:     20.00000           2.000000\r\n",
      "\r\n",
      " BOUNDARY    2 :\r\n",
      "  BEGINS AT BOUNDARY POINT:      169 , WITH GLOBAL NUMBER:        43\r\n",
      "  AND COORDINATES:     0.000000           2.000000\r\n",
      "  ENDS AT BOUNDARY POINT:        1 , WITH GLOBAL NUMBER:         1\r\n",
      "  AND COORDINATES:     0.000000           0.000000\r\n",
      "\r\n",
      " THERE IS     2 SOLID BOUNDARIES:\r\n",
      "\r\n",
      " BOUNDARY    1 :\r\n",
      "  BEGINS AT BOUNDARY POINT:        1 , WITH GLOBAL NUMBER:         1\r\n",
      "  AND COORDINATES:     0.000000           0.000000\r\n",
      "  ENDS AT BOUNDARY POINT:       81 , WITH GLOBAL NUMBER:        21\r\n",
      "  AND COORDINATES:     20.00000           0.000000\r\n",
      "\r\n",
      " BOUNDARY    2 :\r\n",
      "  BEGINS AT BOUNDARY POINT:       89 , WITH GLOBAL NUMBER:        63\r\n",
      "  AND COORDINATES:     20.00000           2.000000\r\n",
      "  ENDS AT BOUNDARY POINT:      169 , WITH GLOBAL NUMBER:        43\r\n",
      "  AND COORDINATES:     0.000000           2.000000\r\n",
      "\r\n",
      " CORFON (TELEMAC2D): NO MODIFICATION OF BOTTOM\r\n",
      "\r\n",
      " NO ANALYTIC SOLUTION DEFAULT INIT\r\n",
      "\r\n",
      "================================================================================\r\n",
      " ITERATION        0    TIME:   0.0000 S\r\n",
      " TELEMAC2D INITIALIZED\r\n",
      " USING STREAMLINE VERSION V8P4 FOR CHARACTERISTICS\r\n"
     ]
    },
    {
     "name": "stdout",
     "output_type": "stream",
     "text": [
      "\r\n",
      "================================================================================\r\n",
      " ITERATION     1000    TIME:  20.0000 S\r\n",
      "--------------------------------------------------------------------------------\r\n",
      "                          ADVECTION STEP\r\n",
      "--------------------------------------------------------------------------------\r\n",
      "                    DIFFUSION-PROPAGATION STEP\r\n",
      " GRACJG (BIEF) :        4 ITERATIONS, ABSOLUTE PRECISION:   0.9010239E-05\r\n",
      "--------------------------------------------------------------------------------\r\n",
      "                       BALANCE OF WATER VOLUME\r\n",
      "     VOLUME IN THE DOMAIN :    28.50519     M3\r\n",
      "     FLUX BOUNDARY    1:    -1.332113     M3/S  ( >0 : ENTERING  <0 : EXITING )\r\n",
      "     FLUX BOUNDARY    2:     1.500000     M3/S  ( >0 : ENTERING  <0 : EXITING )\r\n",
      "     RELATIVE ERROR IN VOLUME AT T =        20.00     S :    0.1838040E-07\r\n"
     ]
    },
    {
     "name": "stdout",
     "output_type": "stream",
     "text": [
      "\r\n",
      "================================================================================\r\n",
      " ITERATION     2000    TIME:  40.0000 S\r\n",
      "--------------------------------------------------------------------------------\r\n",
      "                          ADVECTION STEP\r\n",
      "--------------------------------------------------------------------------------\r\n",
      "                    DIFFUSION-PROPAGATION STEP\r\n",
      " GRACJG (BIEF) :        1 ITERATIONS, ABSOLUTE PRECISION:   0.3568567E-05\r\n",
      "--------------------------------------------------------------------------------\r\n",
      "                       BALANCE OF WATER VOLUME\r\n",
      "     VOLUME IN THE DOMAIN :    31.34269     M3\r\n",
      "     FLUX BOUNDARY    1:    -1.671341     M3/S  ( >0 : ENTERING  <0 : EXITING )\r\n",
      "     FLUX BOUNDARY    2:     1.500000     M3/S  ( >0 : ENTERING  <0 : EXITING )\r\n",
      "     RELATIVE ERROR IN VOLUME AT T =        40.00     S :    0.3899414E-07\r\n"
     ]
    },
    {
     "name": "stdout",
     "output_type": "stream",
     "text": [
      "\r\n",
      "================================================================================\r\n",
      " ITERATION     3000    TIME:  1 MN   0.0000 S   (       60.0000 S)\r\n",
      "--------------------------------------------------------------------------------\r\n",
      "                          ADVECTION STEP\r\n",
      "--------------------------------------------------------------------------------\r\n",
      "                    DIFFUSION-PROPAGATION STEP\r\n",
      " GRACJG (BIEF) :        1 ITERATIONS, ABSOLUTE PRECISION:   0.4958711E-06\r\n",
      "--------------------------------------------------------------------------------\r\n",
      "                       BALANCE OF WATER VOLUME\r\n",
      "     VOLUME IN THE DOMAIN :    30.36529     M3\r\n",
      "     FLUX BOUNDARY    1:    -1.445890     M3/S  ( >0 : ENTERING  <0 : EXITING )\r\n",
      "     FLUX BOUNDARY    2:     1.500000     M3/S  ( >0 : ENTERING  <0 : EXITING )\r\n",
      "     RELATIVE ERROR IN VOLUME AT T =        60.00     S :    0.1657565E-08\r\n"
     ]
    },
    {
     "name": "stdout",
     "output_type": "stream",
     "text": [
      "\r\n",
      "================================================================================\r\n",
      " ITERATION     4000    TIME:  1 MN  20.0000 S   (       80.0000 S)\r\n",
      "--------------------------------------------------------------------------------\r\n",
      "                          ADVECTION STEP\r\n",
      "--------------------------------------------------------------------------------\r\n",
      "                    DIFFUSION-PROPAGATION STEP\r\n",
      " GRACJG (BIEF) :        1 ITERATIONS, ABSOLUTE PRECISION:   0.2903331E-05\r\n",
      "--------------------------------------------------------------------------------\r\n",
      "                       BALANCE OF WATER VOLUME\r\n",
      "     VOLUME IN THE DOMAIN :    30.60944     M3\r\n",
      "     FLUX BOUNDARY    1:    -1.521253     M3/S  ( >0 : ENTERING  <0 : EXITING )\r\n",
      "     FLUX BOUNDARY    2:     1.500000     M3/S  ( >0 : ENTERING  <0 : EXITING )\r\n",
      "     RELATIVE ERROR IN VOLUME AT T =        80.00     S :   -0.1315471E-07\r\n"
     ]
    },
    {
     "name": "stdout",
     "output_type": "stream",
     "text": [
      "\r\n",
      "================================================================================\r\n",
      " ITERATION     5000    TIME:  1 MN  40.0000 S   (      100.0000 S)\r\n",
      "--------------------------------------------------------------------------------\r\n",
      "                          ADVECTION STEP\r\n",
      "--------------------------------------------------------------------------------\r\n",
      "                    DIFFUSION-PROPAGATION STEP\r\n",
      " GRACJG (BIEF) :        1 ITERATIONS, ABSOLUTE PRECISION:   0.2551537E-05\r\n",
      "--------------------------------------------------------------------------------\r\n",
      "                       BALANCE OF WATER VOLUME\r\n",
      "     VOLUME IN THE DOMAIN :    30.58250     M3\r\n",
      "     FLUX BOUNDARY    1:    -1.492047     M3/S  ( >0 : ENTERING  <0 : EXITING )\r\n",
      "     FLUX BOUNDARY    2:     1.500000     M3/S  ( >0 : ENTERING  <0 : EXITING )\r\n",
      "     RELATIVE ERROR IN VOLUME AT T =        100.0     S :    0.1209125E-07\r\n"
     ]
    },
    {
     "name": "stdout",
     "output_type": "stream",
     "text": [
      "\r\n",
      "================================================================================\r\n",
      " ITERATION     6000    TIME:  1 MN  60.0000 S   (      120.0000 S)\r\n",
      "--------------------------------------------------------------------------------\r\n",
      "                          ADVECTION STEP\r\n",
      "--------------------------------------------------------------------------------\r\n",
      "                    DIFFUSION-PROPAGATION STEP\r\n",
      " GRACJG (BIEF) :        1 ITERATIONS, ABSOLUTE PRECISION:   0.2098112E-05\r\n",
      "--------------------------------------------------------------------------------\r\n",
      "                       BALANCE OF WATER VOLUME\r\n",
      "     VOLUME IN THE DOMAIN :    30.56309     M3\r\n",
      "     FLUX BOUNDARY    1:    -1.502428     M3/S  ( >0 : ENTERING  <0 : EXITING )\r\n",
      "     FLUX BOUNDARY    2:     1.500000     M3/S  ( >0 : ENTERING  <0 : EXITING )\r\n",
      "     RELATIVE ERROR IN VOLUME AT T =        120.0     S :   -0.7749267E-08\r\n",
      "--------------------------------------------------------------------------------\r\n",
      "                   FINAL BALANCE OF WATER VOLUME\r\n",
      "\r\n",
      "     RELATIVE ERROR CUMULATED ON VOLUME:    0.3847378E-05\r\n",
      "\r\n",
      "     INITIAL VOLUME              :     38.74669     M3\r\n",
      "     FINAL VOLUME                :     30.56309     M3\r\n",
      "     VOLUME THAT ENTERED THE DOMAIN:    -8.183442     M3  ( IF <0 EXIT )\r\n",
      "     TOTAL VOLUME LOST             :    0.1490731E-03 M3\r\n",
      "\r\n",
      " END OF TIME LOOP\r\n",
      "\r\n",
      " EXITING MPI\r\n",
      "\r\n"
     ]
    },
    {
     "name": "stdout",
     "output_type": "stream",
     "text": [
      "STOP 0                     *************************************\r\n",
      "\r\n",
      "                     *    END OF MEMORY ORGANIZATION:    *\r\n",
      "                     *************************************\r\n",
      "\r\n",
      " CORRECT END OF RUN\r\n",
      "\r\n",
      " ELAPSE TIME :\r\n",
      "                              2  SECONDS\r\n",
      "... merging separated result files\r\n",
      "\r\n",
      "... handling result files\r\n",
      "\r\n",
      "        moving: r2d_bump.slf\r\n",
      "        moving: mass_matrix_tf.txt\r\n",
      "      copying: t2d_bump_FE.cas_2022-12-01-14h28min21s.sortie\r\n",
      "... deleting working dir\r\n",
      "\r\n",
      "\r\n",
      "\r\n",
      "My work is done\r\n",
      "\r\n",
      "\r\n"
     ]
    }
   ],
   "source": [
    "HOMETEL = %env HOMETEL\n",
    "%cd -q {HOMETEL}/examples/telemac2d/bump\n",
    "!runcode.py telemac2d t2d_bump_FE.cas -s"
   ]
  },
  {
   "cell_type": "markdown",
   "metadata": {},
   "source": [
    "Get the lastest output file:"
   ]
  },
  {
   "cell_type": "code",
   "execution_count": 2,
   "metadata": {
    "execution": {
     "iopub.execute_input": "2022-12-01T13:28:24.522639Z",
     "iopub.status.busy": "2022-12-01T13:28:24.522152Z",
     "iopub.status.idle": "2022-12-01T13:28:24.570462Z",
     "shell.execute_reply": "2022-12-01T13:28:24.569886Z"
    }
   },
   "outputs": [
    {
     "name": "stdout",
     "output_type": "stream",
     "text": [
      "/home/d60881/telemac-mascaret/examples/telemac2d/bump/t2d_bump_FE.cas_2022-12-01-14h28min21s.sortie\n"
     ]
    }
   ],
   "source": [
    "from postel.parser_output import get_latest_output_files\n",
    "import os\n",
    "import re\n",
    "from postel.parser_output import OutputFileData\n",
    "\n",
    "file_name = get_latest_output_files(os.path.join(os.environ['HOMETEL'],\n",
    "                                                 'examples',\n",
    "                                                 'telemac2d',\n",
    "                                                 'bump',\n",
    "                                                 't2d_bump_FE.cas'))\n",
    "if file_name:\n",
    "    file_name = file_name[0]\n",
    "    print(file_name)                    "
   ]
  },
  {
   "cell_type": "markdown",
   "metadata": {},
   "source": [
    "## Data extraction defines by user for the output file "
   ]
  },
  {
   "cell_type": "code",
   "execution_count": 3,
   "metadata": {
    "execution": {
     "iopub.execute_input": "2022-12-01T13:28:24.572864Z",
     "iopub.status.busy": "2022-12-01T13:28:24.572617Z",
     "iopub.status.idle": "2022-12-01T13:28:24.578327Z",
     "shell.execute_reply": "2022-12-01T13:28:24.577924Z"
    }
   },
   "outputs": [
    {
     "name": "stdout",
     "output_type": "stream",
     "text": [
      "ITERATION        0    TIME:   0.0000 S\n",
      "ITERATION     1000    TIME:  20.0000 S\n",
      "RELATIVE ERROR IN VOLUME AT T =        20.00     S :    0.1838040E-07\n",
      "ITERATION     2000    TIME:  40.0000 S\n",
      "RELATIVE ERROR IN VOLUME AT T =        40.00     S :    0.3899414E-07\n",
      "ITERATION     3000    TIME:  1 MN   0.0000 S   (       60.0000 S)\n",
      "RELATIVE ERROR IN VOLUME AT T =        60.00     S :    0.1657565E-08\n",
      "ITERATION     4000    TIME:  1 MN  20.0000 S   (       80.0000 S)\n",
      "RELATIVE ERROR IN VOLUME AT T =        80.00     S :   -0.1315471E-07\n",
      "ITERATION     5000    TIME:  1 MN  40.0000 S   (      100.0000 S)\n",
      "RELATIVE ERROR IN VOLUME AT T =        100.0     S :    0.1209125E-07\n",
      "ITERATION     6000    TIME:  1 MN  60.0000 S   (      120.0000 S)\n",
      "RELATIVE ERROR IN VOLUME AT T =        120.0     S :   -0.7749267E-08\n"
     ]
    }
   ],
   "source": [
    "# Example of regular expressions \n",
    "form = re.compile(r'\\s*(RELATIVE ERROR IN VOLUME AT T =)', re.I) # Search a term\n",
    "t_form = re.compile(r'\\s*ITERATION', re.I) # Search the time\n",
    "\n",
    "# extration data\n",
    "OuFile = OutputFileData(file_name)\n",
    "my_grep, line_num = OuFile.get_user_defined_output(form, line_num=True)\n",
    "my_grep_t, num_line_t = OuFile.get_user_defined_output(t_form, line_num=True)\n",
    "# print resutls\n",
    "tot = sorted(line_num + num_line_t)\n",
    "for idx in tot:\n",
    "    if idx in line_num:\n",
    "        print(my_grep[line_num.index(idx)])\n",
    "    elif idx in num_line_t:\n",
    "        print(my_grep_t[num_line_t.index(idx)])\n"
   ]
  },
  {
   "cell_type": "markdown",
   "metadata": {},
   "source": [
    "Note that the regular expression format can be found at https://docs.python.org/fr/3/library/re.html"
   ]
  },
  {
   "cell_type": "markdown",
   "metadata": {},
   "source": [
    "## Data predefined extraction for the output file"
   ]
  },
  {
   "cell_type": "code",
   "execution_count": 4,
   "metadata": {
    "execution": {
     "iopub.execute_input": "2022-12-01T13:28:24.580459Z",
     "iopub.status.busy": "2022-12-01T13:28:24.580265Z",
     "iopub.status.idle": "2022-12-01T13:28:24.584741Z",
     "shell.execute_reply": "2022-12-01T13:28:24.584333Z"
    }
   },
   "outputs": [
    {
     "name": "stdout",
     "output_type": "stream",
     "text": [
      "(('Iteration #', array([   0, 1000, 2000, 3000, 4000, 5000, 6000])), ('Time (s)', array([  0.,  20.,  40.,  60.,  80., 100., 120.])))\n"
     ]
    }
   ],
   "source": [
    "OutFile = OutputFileData(file_name)\n",
    "#Works on TELEMAC-*D outfile\n",
    "print(OutFile.get_time_profile())"
   ]
  },
  {
   "cell_type": "code",
   "execution_count": 5,
   "metadata": {
    "execution": {
     "iopub.execute_input": "2022-12-01T13:28:24.586650Z",
     "iopub.status.busy": "2022-12-01T13:28:24.586475Z",
     "iopub.status.idle": "2022-12-01T13:28:24.589977Z",
     "shell.execute_reply": "2022-12-01T13:28:24.589570Z"
    }
   },
   "outputs": [
    {
     "name": "stdout",
     "output_type": "stream",
     "text": [
      "TELEMAC 2D: BUMP CASE FE\n"
     ]
    }
   ],
   "source": [
    "#Works on TELEMAC-*D outfile\n",
    "print(OutFile.get_name_of_study())"
   ]
  },
  {
   "cell_type": "code",
   "execution_count": 6,
   "metadata": {
    "execution": {
     "iopub.execute_input": "2022-12-01T13:28:24.591973Z",
     "iopub.status.busy": "2022-12-01T13:28:24.591784Z",
     "iopub.status.idle": "2022-12-01T13:28:24.597632Z",
     "shell.execute_reply": "2022-12-01T13:28:24.597225Z"
    }
   },
   "outputs": [
    {
     "name": "stdout",
     "output_type": "stream",
     "text": [
      "(('Time (s)', array([  0.,  20.,  40.,  60.,  80., 100., 120.])), [('Volumes (m3/s)', [38.74669, 28.50519, 31.34269, 30.36529, 30.60944, 30.5825, 30.56309]), ('Fluxes (-)', ['Boundary 1', 'Boundary 2'], [[0.0, -1.332113, -1.671341, -1.44589, -1.521253, -1.492047, -1.502428], [0.0, 1.5, 1.5, 1.5, 1.5, 1.5, 1.5]]), ('Error (-)', [0.0, 1.83804e-08, 3.899414e-08, 1.657565e-09, -1.315471e-08, 1.209125e-08, -7.749267e-09])])\n"
     ]
    }
   ],
   "source": [
    "#Works on TELEMAC-2D outfile\n",
    "print(OutFile.get_value_history_output('voltotal;volfluxes;volerror'))"
   ]
  },
  {
   "cell_type": "code",
   "execution_count": 7,
   "metadata": {
    "execution": {
     "iopub.execute_input": "2022-12-01T13:28:24.599553Z",
     "iopub.status.busy": "2022-12-01T13:28:24.599352Z",
     "iopub.status.idle": "2022-12-01T13:28:24.602829Z",
     "shell.execute_reply": "2022-12-01T13:28:24.602376Z"
    }
   },
   "outputs": [
    {
     "name": "stdout",
     "output_type": "stream",
     "text": [
      "2.0\n"
     ]
    }
   ],
   "source": [
    "print(OutFile.get_exec_time())"
   ]
  }
 ],
 "metadata": {
  "kernelspec": {
   "display_name": "Python 3",
   "language": "python",
   "name": "python3"
  },
  "language_info": {
   "codemirror_mode": {
    "name": "ipython",
    "version": 3
   },
   "file_extension": ".py",
   "mimetype": "text/x-python",
   "name": "python",
   "nbconvert_exporter": "python",
   "pygments_lexer": "ipython3",
   "version": "3.7.13"
  }
 },
 "nbformat": 4,
 "nbformat_minor": 1
}
