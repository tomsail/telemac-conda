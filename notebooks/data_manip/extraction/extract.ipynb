{
 "cells": [
  {
   "cell_type": "markdown",
   "metadata": {},
   "source": [
    "# Usage of extract.py\n",
    "\n",
    "The aim of this script is to allow simple extraction in csv format using a one-line command\n",
    "\n",
    "  * [mesh2d](#Mesh2d-action)\n",
    "  * [timeseries](#Timeseries-action)\n",
    "  * [spectrum](#Spectrum-action)\n",
    "\n",
    "## The script\n",
    "\n",
    "The script follow the same behaviour as other Telemac-Mascaret script the first argument is an action and then the specific options of that actions"
   ]
  },
  {
   "cell_type": "code",
   "execution_count": 1,
   "metadata": {
    "execution": {
     "iopub.execute_input": "2022-12-01T13:28:12.238885Z",
     "iopub.status.busy": "2022-12-01T13:28:12.238674Z",
     "iopub.status.idle": "2022-12-01T13:28:12.717621Z",
     "shell.execute_reply": "2022-12-01T13:28:12.716355Z"
    }
   },
   "outputs": [
    {
     "name": "stdout",
     "output_type": "stream",
     "text": [
      "usage: extract.py [-h] {timeseries,mesh2d,spectrum} ...\r\n",
      "\r\n",
      "positional arguments:\r\n",
      "  {timeseries,mesh2d,spectrum}\r\n",
      "                        plot command to do\r\n",
      "    timeseries          Extract timeseries over points or nodes\r\n",
      "    mesh2d              Extract x y from file\r\n",
      "    spectrum            Extract spectrum of a given node at a given\r\n",
      "                        record/time\r\n",
      "\r\n",
      "optional arguments:\r\n",
      "  -h, --help            show this help message and exit\r\n"
     ]
    }
   ],
   "source": [
    "!extract.py -h"
   ]
  },
  {
   "cell_type": "markdown",
   "metadata": {},
   "source": [
    "## Mesh2d action\n",
    "\n",
    "Extract x, y from mesh file"
   ]
  },
  {
   "cell_type": "code",
   "execution_count": 2,
   "metadata": {
    "execution": {
     "iopub.execute_input": "2022-12-01T13:28:12.723070Z",
     "iopub.status.busy": "2022-12-01T13:28:12.722679Z",
     "iopub.status.idle": "2022-12-01T13:28:13.244354Z",
     "shell.execute_reply": "2022-12-01T13:28:13.243334Z"
    }
   },
   "outputs": [
    {
     "name": "stdout",
     "output_type": "stream",
     "text": [
      "usage: extract.py mesh2d [-h] [--delimiter DELIMITER] file_name csv_name\r\n",
      "\r\n",
      "positional arguments:\r\n",
      "  file_name             Telemac file to extract from\r\n",
      "  csv_name              Name of the output csv file\r\n",
      "\r\n",
      "optional arguments:\r\n",
      "  -h, --help            show this help message and exit\r\n",
      "  --delimiter DELIMITER\r\n",
      "                        Delimiter in the csv file\r\n"
     ]
    }
   ],
   "source": [
    "!extract.py mesh2d -h"
   ]
  },
  {
   "cell_type": "code",
   "execution_count": 3,
   "metadata": {
    "execution": {
     "iopub.execute_input": "2022-12-01T13:28:13.247891Z",
     "iopub.status.busy": "2022-12-01T13:28:13.247626Z",
     "iopub.status.idle": "2022-12-01T13:28:13.902467Z",
     "shell.execute_reply": "2022-12-01T13:28:13.899309Z"
    }
   },
   "outputs": [],
   "source": [
    "HOMETEL = %env HOMETEL\n",
    "%cd -q {HOMETEL}/examples/telemac2d/gouttedo\n",
    "!extract.py mesh2d f2d_gouttedo.slf mesh.csv"
   ]
  },
  {
   "cell_type": "code",
   "execution_count": 4,
   "metadata": {
    "execution": {
     "iopub.execute_input": "2022-12-01T13:28:13.910203Z",
     "iopub.status.busy": "2022-12-01T13:28:13.910019Z",
     "iopub.status.idle": "2022-12-01T13:28:14.071562Z",
     "shell.execute_reply": "2022-12-01T13:28:14.070944Z"
    }
   },
   "outputs": [
    {
     "name": "stdout",
     "output_type": "stream",
     "text": [
      "            # X          Y\n",
      "0      0.000000   0.000000\n",
      "1     19.800003   0.000000\n",
      "2     20.100006   0.000000\n",
      "3     20.100006   0.300000\n",
      "4      0.000000  19.800003\n",
      "...         ...        ...\n",
      "4619  19.199982  19.799988\n",
      "4620  19.499985  19.799988\n",
      "4621  19.799988  19.799988\n",
      "4622  19.799988   0.300000\n",
      "4623   0.300000  19.799988\n",
      "\n",
      "[4624 rows x 2 columns]\n"
     ]
    }
   ],
   "source": [
    "# Nice way to display csv file\n",
    "import pandas as pd\n",
    "df1 = pd.read_csv(\"mesh.csv\",delimiter=\";\")\n",
    "print(df1)"
   ]
  },
  {
   "cell_type": "markdown",
   "metadata": {},
   "source": [
    "## Timeseries action\n",
    "\n",
    "Extract a timeseries at given nodes/points for a given variable into a csv."
   ]
  },
  {
   "cell_type": "code",
   "execution_count": 5,
   "metadata": {
    "execution": {
     "iopub.execute_input": "2022-12-01T13:28:14.073910Z",
     "iopub.status.busy": "2022-12-01T13:28:14.073696Z",
     "iopub.status.idle": "2022-12-01T13:28:14.550240Z",
     "shell.execute_reply": "2022-12-01T13:28:14.548390Z"
    }
   },
   "outputs": [
    {
     "name": "stdout",
     "output_type": "stream",
     "text": [
      "usage: extract.py timeseries [-h] [-v VAR] [--points POINTS [POINTS ...] |\r\n",
      "                             --nodes NODES [NODES ...]]\r\n",
      "                             [--delimiter DELIMITER]\r\n",
      "                             file_name csv_name\r\n",
      "\r\n",
      "positional arguments:\r\n",
      "  file_name             Telemac file to extract from\r\n",
      "  csv_name              Name of the output csv file\r\n",
      "\r\n",
      "optional arguments:\r\n",
      "  -h, --help            show this help message and exit\r\n",
      "  -v VAR, --var VAR     List of names of the variable to display ','\r\n",
      "                        separated. If more than one is given csv_name will be\r\n",
      "                        appended the name of the variable\r\n",
      "  --points POINTS [POINTS ...]\r\n",
      "                        List of points for extraction x,y or x,y,z space\r\n",
      "                        separated\r\n",
      "  --nodes NODES [NODES ...]\r\n",
      "                        List of nodes for extraction nodes space separated\r\n",
      "  --delimiter DELIMITER\r\n",
      "                        Delimiter in the csv file\r\n"
     ]
    }
   ],
   "source": [
    "!extract.py timeseries -h"
   ]
  },
  {
   "cell_type": "code",
   "execution_count": 6,
   "metadata": {
    "execution": {
     "iopub.execute_input": "2022-12-01T13:28:14.557246Z",
     "iopub.status.busy": "2022-12-01T13:28:14.556638Z",
     "iopub.status.idle": "2022-12-01T13:28:15.126145Z",
     "shell.execute_reply": "2022-12-01T13:28:15.122552Z"
    }
   },
   "outputs": [],
   "source": [
    "!extract.py timeseries f2d_gouttedo.slf extract_nodes.csv --v \"WATER DEPTH\" --node 6 66 666"
   ]
  },
  {
   "cell_type": "code",
   "execution_count": 7,
   "metadata": {
    "execution": {
     "iopub.execute_input": "2022-12-01T13:28:15.134276Z",
     "iopub.status.busy": "2022-12-01T13:28:15.134059Z",
     "iopub.status.idle": "2022-12-01T13:28:15.142211Z",
     "shell.execute_reply": "2022-12-01T13:28:15.141660Z"
    }
   },
   "outputs": [
    {
     "name": "stdout",
     "output_type": "stream",
     "text": [
      "    # time (s)         6        66       666\n",
      "0          0.0  2.400000  2.400000  2.400000\n",
      "1          0.2  2.400000  2.400000  2.400000\n",
      "2          0.4  2.400000  2.400000  2.400000\n",
      "3          0.6  2.400000  2.400000  2.400000\n",
      "4          0.8  2.400000  2.400000  2.400001\n",
      "5          1.0  2.400000  2.400003  2.400016\n",
      "6          1.2  2.400002  2.400077  2.400265\n",
      "7          1.4  2.400037  2.401075  2.402868\n",
      "8          1.6  2.400602  2.410527  2.425672\n",
      "9          1.8  2.406572  2.500290  2.615281\n",
      "10         2.0  2.463837  2.979796  2.697838\n",
      "11         2.2  3.007748  2.800277  2.815541\n",
      "12         2.4  3.403445  2.689613  2.859059\n",
      "13         2.6  2.963299  2.878726  2.816173\n",
      "14         2.8  2.671156  2.721972  2.730161\n",
      "15         3.0  2.447778  2.496591  2.491754\n",
      "16         3.2  2.279944  2.333411  2.345749\n",
      "17         3.4  2.159925  2.228483  2.234284\n",
      "18         3.6  2.087530  2.181256  2.182404\n",
      "19         3.8  2.073202  2.181683  2.168199\n",
      "20         4.0  2.131447  2.190048  2.179203\n"
     ]
    }
   ],
   "source": [
    "# Nice way to display csv file\n",
    "import pandas as pd\n",
    "df1 = pd.read_csv(\"extract_nodes.csv\",delimiter=\";\")\n",
    "print(df1)"
   ]
  },
  {
   "cell_type": "code",
   "execution_count": 8,
   "metadata": {
    "execution": {
     "iopub.execute_input": "2022-12-01T13:28:15.144326Z",
     "iopub.status.busy": "2022-12-01T13:28:15.144149Z",
     "iopub.status.idle": "2022-12-01T13:28:15.682670Z",
     "shell.execute_reply": "2022-12-01T13:28:15.679949Z"
    }
   },
   "outputs": [],
   "source": [
    "!extract.py timeseries f2d_gouttedo.slf extract_points.csv --v \"WATER DEPTH\" --points 2.0,2.0 1.0,1.0"
   ]
  },
  {
   "cell_type": "code",
   "execution_count": 9,
   "metadata": {
    "execution": {
     "iopub.execute_input": "2022-12-01T13:28:15.690414Z",
     "iopub.status.busy": "2022-12-01T13:28:15.690197Z",
     "iopub.status.idle": "2022-12-01T13:28:15.698507Z",
     "shell.execute_reply": "2022-12-01T13:28:15.697869Z"
    }
   },
   "outputs": [
    {
     "name": "stdout",
     "output_type": "stream",
     "text": [
      "    # time (s)  (2.0, 2.0)  (1.0, 1.0)\n",
      "0          0.0    2.400000    2.400000\n",
      "1          0.2    2.400000    2.400000\n",
      "2          0.4    2.400000    2.400000\n",
      "3          0.6    2.400000    2.400000\n",
      "4          0.8    2.400004    2.400000\n",
      "5          1.0    2.400077    2.400001\n",
      "6          1.2    2.401012    2.400028\n",
      "7          1.4    2.409245    2.400407\n",
      "8          1.6    2.484275    2.404167\n",
      "9          1.8    2.708620    2.439934\n",
      "10         2.0    2.611298    2.663204\n",
      "11         2.2    2.666580    2.891539\n",
      "12         2.4    2.950481    3.127564\n",
      "13         2.6    2.735463    2.979948\n",
      "14         2.8    2.707753    2.685553\n",
      "15         3.0    2.518835    2.465570\n",
      "16         3.2    2.363940    2.297007\n",
      "17         3.4    2.269860    2.185104\n",
      "18         3.6    2.213318    2.121638\n",
      "19         3.8    2.181167    2.112655\n",
      "20         4.0    2.182562    2.151207\n"
     ]
    }
   ],
   "source": [
    "# Nice way to display csv file\n",
    "import pandas as pd\n",
    "df1 = pd.read_csv(\"extract_points.csv\",delimiter=\";\")\n",
    "print(df1)"
   ]
  },
  {
   "cell_type": "markdown",
   "metadata": {},
   "source": [
    "## Spectrum action\n",
    "\n",
    "Extract a timeseries at given nodes/points for a given variable into a csv."
   ]
  },
  {
   "cell_type": "code",
   "execution_count": 10,
   "metadata": {
    "execution": {
     "iopub.execute_input": "2022-12-01T13:28:15.700900Z",
     "iopub.status.busy": "2022-12-01T13:28:15.700716Z",
     "iopub.status.idle": "2022-12-01T13:28:16.190979Z",
     "shell.execute_reply": "2022-12-01T13:28:16.187966Z"
    }
   },
   "outputs": [
    {
     "name": "stdout",
     "output_type": "stream",
     "text": [
      "usage: extract.py spectrum [-h] [-p POINT] [--radian] [-r RECORD | -t TIME]\r\n",
      "                           [--delimiter DELIMITER]\r\n",
      "                           file_name csv_name\r\n",
      "\r\n",
      "positional arguments:\r\n",
      "  file_name             Telemac file to extract from\r\n",
      "  csv_name              Name of the output csv file\r\n",
      "\r\n",
      "optional arguments:\r\n",
      "  -h, --help            show this help message and exit\r\n",
      "  -p POINT, --point POINT\r\n",
      "                        Point of the spectrum to extract\r\n",
      "  --radian              If given theta is in radian instead of degree\r\n",
      "  -r RECORD, --record RECORD\r\n",
      "                        Record of the spectrum to extract\r\n",
      "  -t TIME, --time TIME  Time of the spectrum to extract\r\n",
      "  --delimiter DELIMITER\r\n",
      "                        Delimiter in the csv file\r\n"
     ]
    }
   ],
   "source": [
    "!extract.py spectrum -h"
   ]
  },
  {
   "cell_type": "code",
   "execution_count": 11,
   "metadata": {
    "execution": {
     "iopub.execute_input": "2022-12-01T13:28:16.198495Z",
     "iopub.status.busy": "2022-12-01T13:28:16.198282Z",
     "iopub.status.idle": "2022-12-01T13:28:16.733186Z",
     "shell.execute_reply": "2022-12-01T13:28:16.729876Z"
    }
   },
   "outputs": [],
   "source": [
    "HOMETEL = %env HOMETEL\n",
    "%cd -q {HOMETEL}/examples/tomawac/impose_spectra\n",
    "!extract.py spectrum tom_OceanicResults_dt10.spe spectrum_27.csv -p 27 --record=-1"
   ]
  },
  {
   "cell_type": "code",
   "execution_count": 12,
   "metadata": {
    "execution": {
     "iopub.execute_input": "2022-12-01T13:28:16.741462Z",
     "iopub.status.busy": "2022-12-01T13:28:16.741243Z",
     "iopub.status.idle": "2022-12-01T13:28:16.763786Z",
     "shell.execute_reply": "2022-12-01T13:28:16.763169Z"
    }
   },
   "outputs": [
    {
     "name": "stdout",
     "output_type": "stream",
     "text": [
      "     # theta           0.0          10.0          20.0      30.0      40.0  \\\n",
      "0   0.200000  3.928098e-18  4.995535e-08  7.418857e-07  0.000004  0.000012   \n",
      "1   0.211000  1.600910e-17  5.194262e-08  8.042622e-07  0.000004  0.000013   \n",
      "2   0.222605  3.802579e-17  5.488792e-08  9.063571e-07  0.000004  0.000013   \n",
      "3   0.234848  9.074461e-17  6.070277e-08  9.510352e-07  0.000005  0.000014   \n",
      "4   0.247765  2.170142e-16  6.394048e-08  1.002310e-06  0.000005  0.000015   \n",
      "5   0.261392  5.188042e-16  6.764245e-08  1.060945e-06  0.000005  0.000016   \n",
      "6   0.275769  1.237488e-15  7.184740e-08  1.127612e-06  0.000006  0.000017   \n",
      "7   0.290936  2.941852e-15  7.657282e-08  1.202624e-06  0.000006  0.000018   \n",
      "8   0.306937  6.969753e-15  8.180335e-08  1.285788e-06  0.000006  0.000019   \n",
      "9   0.323819  1.646729e-14  8.748228e-08  1.376272e-06  0.000007  0.000021   \n",
      "10  0.341629  3.883989e-14  9.351304e-08  1.472627e-06  0.000007  0.000022   \n",
      "11  0.360418  9.155389e-14  9.979292e-08  1.573054e-06  0.000008  0.000024   \n",
      "12  0.380241  2.159514e-13  1.062051e-07  1.675880e-06  0.000008  0.000026   \n",
      "13  0.401155  5.103989e-13  1.126709e-07  1.779959e-06  0.000009  0.000027   \n",
      "14  0.423218  1.207591e-12  1.191938e-07  1.885387e-06  0.000009  0.000029   \n",
      "15  0.446495  2.825816e-12  1.258181e-07  1.992925e-06  0.000010  0.000031   \n",
      "16  0.471052  6.488543e-12  1.326278e-07  2.103983e-06  0.000010  0.000033   \n",
      "17  0.496960  1.442389e-11  1.397248e-07  2.220251e-06  0.000011  0.000034   \n",
      "18  0.524293  3.017359e-11  1.472211e-07  2.343532e-06  0.000012  0.000037   \n",
      "19  0.553129  5.958436e-11  1.552460e-07  2.475442e-06  0.000012  0.000039   \n",
      "20  0.583551  1.154189e-10  1.639880e-07  2.617151e-06  0.000013  0.000041   \n",
      "21  0.615646  2.220492e-10  1.736504e-07  2.769693e-06  0.000014  0.000044   \n",
      "22  0.649507  4.061282e-10  1.841089e-07  2.934174e-06  0.000015  0.000047   \n",
      "23  0.685230  7.181306e-10  1.950314e-07  3.111252e-06  0.000016  0.000051   \n",
      "24  0.722917  1.224546e-09  2.066254e-07  3.302399e-06  0.000017  0.000055   \n",
      "25  0.762678  1.822702e-09  2.190301e-07  3.510861e-06  0.000018  0.000059   \n",
      "26  0.804625  2.051990e-09  2.314181e-07  3.738486e-06  0.000019  0.000064   \n",
      "27  0.848879  1.753907e-09  2.435145e-07  3.987282e-06  0.000021  0.000070   \n",
      "28  0.895568  1.502392e-09  2.567221e-07  4.264514e-06  0.000023  0.000077   \n",
      "29  0.944824  1.291224e-09  2.711493e-07  4.576041e-06  0.000025  0.000086   \n",
      "30  0.996789  1.115320e-09  2.868829e-07  4.928557e-06  0.000027  0.000089   \n",
      "31  1.051613  9.648030e-10  3.039010e-07  5.329756e-06  0.000030  0.000082   \n",
      "\n",
      "        50.0      60.0      70.0      80.0  ...         260.0  270.0  280.0  \\\n",
      "0   0.000029  0.000059  0.000116  0.000259  ...  0.000000e+00    0.0    0.0   \n",
      "1   0.000030  0.000062  0.000122  0.000272  ...  0.000000e+00    0.0    0.0   \n",
      "2   0.000032  0.000065  0.000128  0.000287  ...  0.000000e+00    0.0    0.0   \n",
      "3   0.000033  0.000068  0.000135  0.000305  ...  0.000000e+00    0.0    0.0   \n",
      "4   0.000035  0.000073  0.000144  0.000325  ...  0.000000e+00    0.0    0.0   \n",
      "5   0.000037  0.000077  0.000153  0.000348  ...  0.000000e+00    0.0    0.0   \n",
      "6   0.000040  0.000083  0.000164  0.000375  ...  0.000000e+00    0.0    0.0   \n",
      "7   0.000043  0.000089  0.000177  0.000407  ...  0.000000e+00    0.0    0.0   \n",
      "8   0.000046  0.000095  0.000191  0.000442  ...  0.000000e+00    0.0    0.0   \n",
      "9   0.000049  0.000103  0.000207  0.000482  ...  0.000000e+00    0.0    0.0   \n",
      "10  0.000053  0.000111  0.000224  0.000526  ...  0.000000e+00    0.0    0.0   \n",
      "11  0.000057  0.000119  0.000242  0.000573  ...  0.000000e+00    0.0    0.0   \n",
      "12  0.000061  0.000128  0.000262  0.000624  ...  0.000000e+00    0.0    0.0   \n",
      "13  0.000065  0.000137  0.000282  0.000676  ...  1.401298e-45    0.0    0.0   \n",
      "14  0.000070  0.000147  0.000304  0.000730  ...  1.121039e-44    0.0    0.0   \n",
      "15  0.000074  0.000157  0.000327  0.000787  ...  7.426882e-44    0.0    0.0   \n",
      "16  0.000079  0.000168  0.000353  0.000848  ...  2.326155e-43    0.0    0.0   \n",
      "17  0.000084  0.000180  0.000382  0.000916  ...  3.937649e-43    0.0    0.0   \n",
      "18  0.000089  0.000193  0.000414  0.000992  ...  4.988623e-43    0.0    0.0   \n",
      "19  0.000095  0.000208  0.000451  0.001077  ...  6.516038e-43    0.0    0.0   \n",
      "20  0.000102  0.000225  0.000494  0.001175  ...  8.295687e-43    0.0    0.0   \n",
      "21  0.000110  0.000244  0.000544  0.001237  ...  9.010349e-43    0.0    0.0   \n",
      "22  0.000118  0.000267  0.000604  0.001163  ...  8.295687e-43    0.0    0.0   \n",
      "23  0.000128  0.000293  0.000607  0.001021  ...  7.440895e-43    0.0    0.0   \n",
      "24  0.000140  0.000324  0.000553  0.000854  ...  6.656168e-43    0.0    0.0   \n",
      "25  0.000153  0.000319  0.000471  0.000704  ...  5.955518e-43    0.0    0.0   \n",
      "26  0.000169  0.000284  0.000397  0.000579  ...  5.142765e-43    0.0    0.0   \n",
      "27  0.000175  0.000241  0.000334  0.000475  ...  4.147843e-43    0.0    0.0   \n",
      "28  0.000161  0.000205  0.000281  0.000390  ...  3.349103e-43    0.0    0.0   \n",
      "29  0.000137  0.000174  0.000235  0.000319  ...  2.704506e-43    0.0    0.0   \n",
      "30  0.000117  0.000147  0.000197  0.000261  ...  2.172013e-43    0.0    0.0   \n",
      "31  0.000099  0.000124  0.000164  0.000213  ...  1.751623e-43    0.0    0.0   \n",
      "\n",
      "           290.0         300.0         310.0         320.0         330.0  \\\n",
      "0   0.000000e+00  0.000000e+00  2.802597e-45  4.046109e-41  2.100560e-24   \n",
      "1   0.000000e+00  0.000000e+00  3.923636e-44  5.609188e-40  8.537613e-24   \n",
      "2   0.000000e+00  0.000000e+00  4.638298e-43  6.760265e-39  2.017565e-23   \n",
      "3   0.000000e+00  0.000000e+00  5.491689e-42  8.071521e-38  4.784906e-23   \n",
      "4   0.000000e+00  0.000000e+00  6.426355e-41  9.565165e-37  1.135513e-22   \n",
      "5   0.000000e+00  0.000000e+00  7.455174e-40  1.128016e-35  2.689845e-22   \n",
      "6   0.000000e+00  0.000000e+00  8.598048e-39  1.327879e-34  6.347936e-22   \n",
      "7   0.000000e+00  2.802597e-45  9.887755e-38  1.565414e-33  1.490512e-21   \n",
      "8   0.000000e+00  7.286752e-44  1.138057e-36  1.846719e-32  3.480999e-21   \n",
      "9   0.000000e+00  1.580665e-42  1.316081e-35  2.135573e-31  8.087851e-21   \n",
      "10  0.000000e+00  3.390442e-41  1.531439e-34  2.377530e-30  1.870147e-20   \n",
      "11  0.000000e+00  7.066146e-40  1.767173e-33  2.485000e-29  4.305780e-20   \n",
      "12  1.401298e-45  1.396976e-38  1.972928e-32  2.314784e-28  9.878537e-20   \n",
      "13  1.821688e-44  2.668803e-37  2.137300e-31  1.911459e-27  2.260892e-19   \n",
      "14  3.307064e-43  4.804607e-36  2.224256e-30  1.491064e-26  5.172332e-19   \n",
      "15  5.373980e-42  6.984580e-35  2.044001e-29  1.137833e-25  1.185655e-18   \n",
      "16  4.833779e-41  5.881928e-34  1.481861e-28  7.957910e-25  2.725321e-18   \n",
      "17  2.426488e-40  3.052718e-33  9.082845e-28  5.161131e-24  6.272104e-18   \n",
      "18  1.056306e-39  1.423113e-32  5.481903e-27  3.129498e-23  1.446368e-17   \n",
      "19  4.603557e-39  6.718309e-32  3.390145e-26  1.531181e-22  3.349318e-17   \n",
      "20  1.409187e-38  2.176576e-31  1.368106e-25  4.831273e-22  7.769367e-17   \n",
      "21  2.414056e-38  3.840719e-31  2.837919e-25  9.189558e-22  1.744966e-16   \n",
      "22  2.678554e-38  4.313765e-31  3.525174e-25  1.165681e-21  3.271659e-16   \n",
      "23  2.803118e-38  4.536106e-31  3.716091e-25  1.253731e-21  5.325463e-16   \n",
      "24  2.920806e-38  4.751779e-31  3.904485e-25  1.357425e-21  8.690662e-16   \n",
      "25  3.029478e-38  4.957235e-31  4.087576e-25  1.478859e-21  1.421418e-15   \n",
      "26  2.907772e-38  4.785990e-31  3.964473e-25  1.472916e-21  1.782004e-15   \n",
      "27  2.434855e-38  4.030076e-31  3.358455e-25  1.247014e-21  1.514550e-15   \n",
      "28  2.035558e-38  3.389158e-31  2.842835e-25  1.054938e-21  1.286541e-15   \n",
      "29  1.698701e-38  2.845999e-31  2.404128e-25  8.916274e-22  1.092097e-15   \n",
      "30  1.414614e-38  2.385717e-31  2.030705e-25  7.527232e-22  9.261170e-16   \n",
      "31  1.175260e-38  1.995903e-31  1.712862e-25  6.345834e-22  7.843701e-16   \n",
      "\n",
      "           340.0         350.0  \n",
      "0   2.119840e-21  1.568116e-19  \n",
      "1   8.621279e-21  6.383002e-19  \n",
      "2   2.040017e-20  1.512855e-18  \n",
      "3   4.846419e-20  3.601018e-18  \n",
      "4   1.152536e-19  8.584078e-18  \n",
      "5   2.736787e-19  2.044203e-17  \n",
      "6   6.476639e-19  4.854054e-17  \n",
      "7   1.525685e-18  1.147962e-16  \n",
      "8   3.576530e-18  2.703299e-16  \n",
      "9   8.345322e-18  6.341264e-16  \n",
      "10  1.939147e-17  1.482822e-15  \n",
      "11  4.490196e-17  3.459794e-15  \n",
      "12  1.037084e-16  8.063604e-15  \n",
      "13  2.391904e-16  1.879446e-14  \n",
      "14  5.516666e-16  4.388034e-14  \n",
      "15  1.274187e-15  1.028190e-13  \n",
      "16  2.951656e-15  2.418718e-13  \n",
      "17  6.866729e-15  5.660468e-13  \n",
      "18  1.606884e-14  1.302112e-12  \n",
      "19  3.782051e-14  2.957640e-12  \n",
      "20  8.846819e-14  6.575807e-12  \n",
      "21  1.972831e-13  1.365833e-11  \n",
      "22  3.721556e-13  2.509727e-11  \n",
      "23  6.225161e-13  4.306788e-11  \n",
      "24  1.047460e-12  7.469179e-11  \n",
      "25  1.774484e-12  1.311371e-10  \n",
      "26  2.267510e-12  1.707723e-10  \n",
      "27  1.926787e-12  1.450223e-10  \n",
      "28  1.636340e-12  1.230753e-10  \n",
      "29  1.388672e-12  1.043662e-10  \n",
      "30  1.177285e-12  8.840443e-11  \n",
      "31  9.967939e-13  7.478408e-11  \n",
      "\n",
      "[32 rows x 37 columns]\n"
     ]
    }
   ],
   "source": [
    "# Nice way to display csv file\n",
    "import pandas as pd\n",
    "df1 = pd.read_csv(\"spectrum_27.csv\",delimiter=\";\")\n",
    "print(df1)"
   ]
  }
 ],
 "metadata": {
  "kernelspec": {
   "display_name": "Python 3",
   "language": "python",
   "name": "python3"
  },
  "language_info": {
   "codemirror_mode": {
    "name": "ipython",
    "version": 3
   },
   "file_extension": ".py",
   "mimetype": "text/x-python",
   "name": "python",
   "nbconvert_exporter": "python",
   "pygments_lexer": "ipython3",
   "version": "3.7.13"
  }
 },
 "nbformat": 4,
 "nbformat_minor": 2
}
