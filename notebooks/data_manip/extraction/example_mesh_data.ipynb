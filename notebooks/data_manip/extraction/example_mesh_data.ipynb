{
 "cells": [
  {
   "cell_type": "markdown",
   "metadata": {},
   "source": [
    "# How to recover you mesh data\n",
    "\n",
    "This is an example of how to extract mesh informations (x and y mesh coordinates + connectivity)\n"
   ]
  },
  {
   "cell_type": "code",
   "execution_count": 1,
   "metadata": {
    "execution": {
     "iopub.execute_input": "2022-12-01T13:28:11.059124Z",
     "iopub.status.busy": "2022-12-01T13:28:11.058887Z",
     "iopub.status.idle": "2022-12-01T13:28:11.357921Z",
     "shell.execute_reply": "2022-12-01T13:28:11.357372Z"
    }
   },
   "outputs": [],
   "source": [
    "from os import environ, path\n",
    "from data_manip.extraction.telemac_file import TelemacFile\n",
    "\n",
    "# File we are going to use\n",
    "file_name = path.join(environ['HOMETEL'], \n",
    "                      'examples', \n",
    "                      'telemac2d', \n",
    "                      'gouttedo',\n",
    "                      'geo_gouttedo.slf')\n",
    "\n",
    "# Opening the file with TelemacFile\n",
    "res = TelemacFile(file_name)\n",
    "\n",
    "# Retrieving x, y coordinates\n",
    "coord_x = res.meshx\n",
    "coord_y = res.meshy\n",
    "\n",
    "# Retrieving connectivity\n",
    "ikle = res.ikle2\n",
    "\n",
    "del res"
   ]
  }
 ],
 "metadata": {
  "kernelspec": {
   "display_name": "Python 3",
   "language": "python",
   "name": "python3"
  },
  "language_info": {
   "codemirror_mode": {
    "name": "ipython",
    "version": 3
   },
   "file_extension": ".py",
   "mimetype": "text/x-python",
   "name": "python",
   "nbconvert_exporter": "python",
   "pygments_lexer": "ipython3",
   "version": "3.7.13"
  }
 },
 "nbformat": 4,
 "nbformat_minor": 1
}
