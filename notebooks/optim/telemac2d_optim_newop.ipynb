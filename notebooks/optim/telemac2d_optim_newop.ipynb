{
 "cells": [
  {
   "cell_type": "markdown",
   "metadata": {},
   "source": [
    "<span style=\"float:left;\">Licence CC BY-SA</span><span style=\"float:right;\">Fabrice Zaoui - Cedric Goeury&nbsp;</span><br/>\n",
    "___"
   ]
  },
  {
   "cell_type": "markdown",
   "metadata": {},
   "source": [
    "This tutorial is intended for people who want an example showing how to optimize a Telemac 2D case with the deterministic algorithm based on the SciPy package."
   ]
  },
  {
   "cell_type": "markdown",
   "metadata": {},
   "source": [
    "# Import Optimizer from TelApy"
   ]
  },
  {
   "cell_type": "code",
   "execution_count": 1,
   "metadata": {
    "execution": {
     "iopub.execute_input": "2022-12-01T13:39:43.266548Z",
     "iopub.status.busy": "2022-12-01T13:39:43.266333Z",
     "iopub.status.idle": "2022-12-01T13:39:43.386812Z",
     "shell.execute_reply": "2022-12-01T13:39:43.386270Z"
    }
   },
   "outputs": [],
   "source": [
    "from telapy.tools import newop"
   ]
  },
  {
   "cell_type": "markdown",
   "metadata": {},
   "source": [
    "The module 'newop' is located in the '$HOMETEL/scripts/python3/telapy/tools' directory. If an error occurs while attempting to import, check the value of the environment variable PYTHONPATH.\n"
   ]
  },
  {
   "cell_type": "markdown",
   "metadata": {},
   "source": [
    "'newop' uses the SciPy optimizer named 'minimizer' based on the quasi-Newton deterministic algorithm L-BFGS-B."
   ]
  },
  {
   "cell_type": "code",
   "execution_count": 2,
   "metadata": {
    "execution": {
     "iopub.execute_input": "2022-12-01T13:39:43.389518Z",
     "iopub.status.busy": "2022-12-01T13:39:43.389291Z",
     "iopub.status.idle": "2022-12-01T13:39:43.394097Z",
     "shell.execute_reply": "2022-12-01T13:39:43.393665Z"
    }
   },
   "outputs": [
    {
     "name": "stdout",
     "output_type": "stream",
     "text": [
      "Help on package telapy.tools.newop in telapy.tools:\n",
      "\n",
      "NAME\n",
      "    telapy.tools.newop - NEWOP : a Python (v3) Newton Optimizer\n",
      "\n",
      "DESCRIPTION\n",
      "    Based on the SciPy Minimizer function\n",
      "    \n",
      "    Auteur : Fabrice Zaoui (EDF R&D LNHE)\n",
      "    \n",
      "    Copyright EDF 2017-2018\n",
      "\n",
      "PACKAGE CONTENTS\n",
      "    newop\n",
      "    numval\n",
      "    validate\n",
      "\n",
      "CLASSES\n",
      "    builtins.object\n",
      "        telapy.tools.newop.newop.Newop\n",
      "    \n",
      "    class Newop(builtins.object)\n",
      "     |  Newop(d_x=1e-06, maxfun=2000, verbose=True)\n",
      "     |  \n",
      "     |  The base class for the SciPy Opimization\n",
      "     |  \n",
      "     |  Methods defined here:\n",
      "     |  \n",
      "     |  __init__(self, d_x=1e-06, maxfun=2000, verbose=True)\n",
      "     |      Initialize some algorithmic parameters to default values\n",
      "     |      :return: a new object from Newop\n",
      "     |  \n",
      "     |  initialize(self, func, nvar, bounds, vdx=None)\n",
      "     |      Description of the minimization problem\n",
      "     |      :param 'f': the name of the python function where the cost function\n",
      "     |          is implemented (type: str)\n",
      "     |      :param 'n': the number of optimization variables (type: int)\n",
      "     |      :param 'bounds': a numpy array for the lower and upper bounds of\n",
      "     |          optimization variables (type: int)\n",
      "     |      :param 'vdx': the finite difference steps for each variable\n",
      "     |      :return: error code = 0 if successful (type: int)\n",
      "     |  \n",
      "     |  optimize(self, varx0, niter=100, nproc=1)\n",
      "     |      Do the l-bfgs-b algorithm with 'niter' iterations\n",
      "     |      :param 'varx0': initial guess\n",
      "     |      :param 'niter': the maximal number of iterations\n",
      "     |      :param 'nproc': the number of processes (parallel simulations)\n",
      "     |      :return: a tuple of two elements at the end of the optim process:\n",
      "     |                  - the value of optimal parameters\n",
      "     |                  - the associated cost function\n",
      "     |  \n",
      "     |  ----------------------------------------------------------------------\n",
      "     |  Data descriptors defined here:\n",
      "     |  \n",
      "     |  __dict__\n",
      "     |      dictionary for instance variables (if defined)\n",
      "     |  \n",
      "     |  __weakref__\n",
      "     |      list of weak references to the object (if defined)\n",
      "\n",
      "DATA\n",
      "    __all__ = ['newop', 'numval', 'validate', 'Newop']\n",
      "    __copyright__ = 'Copyright EDF 2017-2018'\n",
      "    __email__ = 'fabrice.zaoui@edf.fr'\n",
      "    __license__ = 'GPL'\n",
      "    __maintainer__ = 'Fabrice Zaoui'\n",
      "    __status__ = 'Implementation'\n",
      "\n",
      "VERSION\n",
      "    0.01\n",
      "\n",
      "AUTHOR\n",
      "    Fabrice Zaoui\n",
      "\n",
      "FILE\n",
      "    /home/d60881/telemac-mascaret/scripts/python3/telapy/tools/newop/__init__.py\n",
      "\n",
      "\n"
     ]
    }
   ],
   "source": [
    "help(newop)"
   ]
  },
  {
   "cell_type": "markdown",
   "metadata": {
    "collapsed": true
   },
   "source": [
    "# The Telemac2d test case"
   ]
  },
  {
   "cell_type": "markdown",
   "metadata": {},
   "source": [
    "A problem is created with the 'estimation' example located in '$HOMETEL/examples/telemac2d/estimation'."
   ]
  },
  {
   "cell_type": "markdown",
   "metadata": {},
   "source": [
    "The test case 'estimation' is dedicated to the automatic calibration problem. This Telemac-2D model is composed of 551 triangular mesh elements. On the upstream of the model, an imposed flow type boundary condition is used. On downstream, a water depth is applied."
   ]
  },
  {
   "cell_type": "markdown",
   "metadata": {},
   "source": [
    "The script 'study_t2d.py' has been written to manage this case with the Telemac API (initialization of the case, run of the case, get some important values on the physical variables)."
   ]
  },
  {
   "cell_type": "code",
   "execution_count": 3,
   "metadata": {
    "execution": {
     "iopub.execute_input": "2022-12-01T13:39:43.396431Z",
     "iopub.status.busy": "2022-12-01T13:39:43.396247Z",
     "iopub.status.idle": "2022-12-01T13:39:44.136699Z",
     "shell.execute_reply": "2022-12-01T13:39:44.133943Z"
    }
   },
   "outputs": [],
   "source": [
    "from telapy.tools.study_t2d import StudyTelemac2D\n",
    "import numpy as np\n",
    "import os"
   ]
  },
  {
   "cell_type": "markdown",
   "metadata": {},
   "source": [
    "# Goal"
   ]
  },
  {
   "cell_type": "markdown",
   "metadata": {
    "collapsed": true
   },
   "source": [
    "The calibration aims at minimizing the error between observations and Telemac computations on the water depths. Six observations are available on the middle of the domain. A norm is used to evaluate the error as follows:"
   ]
  },
  {
   "cell_type": "code",
   "execution_count": 4,
   "metadata": {
    "execution": {
     "iopub.execute_input": "2022-12-01T13:39:44.143688Z",
     "iopub.status.busy": "2022-12-01T13:39:44.143444Z",
     "iopub.status.idle": "2022-12-01T13:39:44.147259Z",
     "shell.execute_reply": "2022-12-01T13:39:44.146843Z"
    }
   },
   "outputs": [],
   "source": [
    "def estimation(CHESTR):\n",
    "    YObs = [5.000000000000000000e-01, 7.517873224063527093e-01, \\\n",
    "            7.517873219825667030e-01, 7.517873219442824384e-01, \\\n",
    "            7.517873221409325790e-01, 7.517873218929342904e-01]\n",
    "    YObs = np.asmatrix(np.ravel(YObs)).T # six observations\n",
    "    Fx = study.h_x(CHESTR[0]) # Telemac computation with new friction coefficient\n",
    "    Res = np.linalg.norm(YObs -Fx) # The norm evaluation\n",
    "    return np.array(Res)"
   ]
  },
  {
   "cell_type": "markdown",
   "metadata": {},
   "source": [
    "# Reading the case"
   ]
  },
  {
   "cell_type": "code",
   "execution_count": 5,
   "metadata": {
    "execution": {
     "iopub.execute_input": "2022-12-01T13:39:44.149235Z",
     "iopub.status.busy": "2022-12-01T13:39:44.149064Z",
     "iopub.status.idle": "2022-12-01T13:39:44.151766Z",
     "shell.execute_reply": "2022-12-01T13:39:44.151321Z"
    }
   },
   "outputs": [],
   "source": [
    "# Changing of directory : 'examples' directory of the Telemac sources\n",
    "HOMETEL = os.environ.get('HOMETEL')\n",
    "os.chdir(HOMETEL + '/examples/telemac2d/estimation')"
   ]
  },
  {
   "cell_type": "code",
   "execution_count": 6,
   "metadata": {
    "execution": {
     "iopub.execute_input": "2022-12-01T13:39:44.153744Z",
     "iopub.status.busy": "2022-12-01T13:39:44.153557Z",
     "iopub.status.idle": "2022-12-01T13:39:44.156440Z",
     "shell.execute_reply": "2022-12-01T13:39:44.155968Z"
    }
   },
   "outputs": [],
   "source": [
    "#  Telemac 2d files\n",
    "studyFiles={'t2d.f'   :'user_fortran',\\\n",
    "            't2d.cas' :'t2d_estimation_basic.cas',\\\n",
    "            'f2d.slf' :'f2d_estimation.slf',\\\n",
    "            't2d.geo' :'geo_estimation.slf' }"
   ]
  },
  {
   "cell_type": "code",
   "execution_count": 7,
   "metadata": {
    "execution": {
     "iopub.execute_input": "2022-12-01T13:39:44.158582Z",
     "iopub.status.busy": "2022-12-01T13:39:44.158369Z",
     "iopub.status.idle": "2022-12-01T13:39:44.161711Z",
     "shell.execute_reply": "2022-12-01T13:39:44.161154Z"
    }
   },
   "outputs": [],
   "source": [
    "# Observation times\n",
    "obs_time = [0.0, 2000.0, 4000.0, 6000.0, 8000.0, 10000.0]\n",
    "# A polygon is defined to get the observation node\n",
    "poly = [(246.114, 57.3554), (261.13, 57.0189), (261.802, 45.018), (245.666, 45.3545)]"
   ]
  },
  {
   "cell_type": "markdown",
   "metadata": {},
   "source": [
    "# Initialization"
   ]
  },
  {
   "cell_type": "code",
   "execution_count": 8,
   "metadata": {
    "execution": {
     "iopub.execute_input": "2022-12-01T13:39:44.163974Z",
     "iopub.status.busy": "2022-12-01T13:39:44.163790Z",
     "iopub.status.idle": "2022-12-01T13:39:44.166538Z",
     "shell.execute_reply": "2022-12-01T13:39:44.165912Z"
    }
   },
   "outputs": [],
   "source": [
    "# Class Instantiation \n",
    "study = StudyTelemac2D(studyFiles, obs_time, poly)"
   ]
  },
  {
   "cell_type": "markdown",
   "metadata": {},
   "source": [
    "# Run the optimization"
   ]
  },
  {
   "cell_type": "code",
   "execution_count": 9,
   "metadata": {
    "execution": {
     "iopub.execute_input": "2022-12-01T13:39:44.168814Z",
     "iopub.status.busy": "2022-12-01T13:39:44.168630Z",
     "iopub.status.idle": "2022-12-01T13:44:51.609505Z",
     "shell.execute_reply": "2022-12-01T13:44:51.608521Z"
    }
   },
   "outputs": [
    {
     "name": "stdout",
     "output_type": "stream",
     "text": [
      "  ~> Checking keyword/rubrique coherence"
     ]
    },
    {
     "name": "stdout",
     "output_type": "stream",
     "text": [
      "\n"
     ]
    },
    {
     "name": "stdout",
     "output_type": "stream",
     "text": [
      "  ~> Checking keyword/rubrique coherence"
     ]
    },
    {
     "name": "stdout",
     "output_type": "stream",
     "text": [
      "\n"
     ]
    },
    {
     "name": "stdout",
     "output_type": "stream",
     "text": [
      "RUNNING THE L-BFGS-B CODE\n",
      "\n",
      "           * * *\n",
      "\n",
      "Machine precision = 2.220D-16\n",
      " N =            1     M =           10\n",
      "\n",
      "At X0         0 variables are exactly at the bounds\n",
      "\n",
      "At iterate    0    f=  1.92486D-01    |proj g|=  9.16087D-03\n"
     ]
    },
    {
     "name": "stdout",
     "output_type": "stream",
     "text": [
      "  ~> Checking keyword/rubrique coherence"
     ]
    },
    {
     "name": "stdout",
     "output_type": "stream",
     "text": [
      "\n"
     ]
    },
    {
     "name": "stdout",
     "output_type": "stream",
     "text": [
      "  ~> Checking keyword/rubrique coherence"
     ]
    },
    {
     "name": "stdout",
     "output_type": "stream",
     "text": [
      "\n"
     ]
    },
    {
     "name": "stdout",
     "output_type": "stream",
     "text": [
      "\n",
      "At iterate    1    f=  1.92401D-01    |proj g|=  8.95755D-03\n"
     ]
    },
    {
     "name": "stdout",
     "output_type": "stream",
     "text": [
      "  ~> Checking keyword/rubrique coherence"
     ]
    },
    {
     "name": "stdout",
     "output_type": "stream",
     "text": [
      "\n"
     ]
    },
    {
     "name": "stdout",
     "output_type": "stream",
     "text": [
      "  ~> Checking keyword/rubrique coherence"
     ]
    },
    {
     "name": "stdout",
     "output_type": "stream",
     "text": [
      "\n"
     ]
    },
    {
     "name": "stdout",
     "output_type": "stream",
     "text": [
      "  ~> Checking keyword/rubrique coherence"
     ]
    },
    {
     "name": "stdout",
     "output_type": "stream",
     "text": [
      "\n"
     ]
    },
    {
     "name": "stdout",
     "output_type": "stream",
     "text": [
      "  ~> Checking keyword/rubrique coherence"
     ]
    },
    {
     "name": "stdout",
     "output_type": "stream",
     "text": [
      "\n"
     ]
    },
    {
     "name": "stdout",
     "output_type": "stream",
     "text": [
      "  ~> Checking keyword/rubrique coherence"
     ]
    },
    {
     "name": "stdout",
     "output_type": "stream",
     "text": [
      "\n"
     ]
    },
    {
     "name": "stdout",
     "output_type": "stream",
     "text": [
      "  ~> Checking keyword/rubrique coherence"
     ]
    },
    {
     "name": "stdout",
     "output_type": "stream",
     "text": [
      "\n"
     ]
    },
    {
     "name": "stdout",
     "output_type": "stream",
     "text": [
      "  ~> Checking keyword/rubrique coherence"
     ]
    },
    {
     "name": "stdout",
     "output_type": "stream",
     "text": [
      "\n"
     ]
    },
    {
     "name": "stdout",
     "output_type": "stream",
     "text": [
      "  ~> Checking keyword/rubrique coherence"
     ]
    },
    {
     "name": "stdout",
     "output_type": "stream",
     "text": [
      "\n"
     ]
    },
    {
     "name": "stdout",
     "output_type": "stream",
     "text": [
      "  ~> Checking keyword/rubrique coherence"
     ]
    },
    {
     "name": "stdout",
     "output_type": "stream",
     "text": [
      "\n"
     ]
    },
    {
     "name": "stdout",
     "output_type": "stream",
     "text": [
      "  ~> Checking keyword/rubrique coherence"
     ]
    },
    {
     "name": "stdout",
     "output_type": "stream",
     "text": [
      "\n"
     ]
    },
    {
     "name": "stdout",
     "output_type": "stream",
     "text": [
      "  ~> Checking keyword/rubrique coherence"
     ]
    },
    {
     "name": "stdout",
     "output_type": "stream",
     "text": [
      "\n"
     ]
    },
    {
     "name": "stdout",
     "output_type": "stream",
     "text": [
      "  ~> Checking keyword/rubrique coherence"
     ]
    },
    {
     "name": "stdout",
     "output_type": "stream",
     "text": [
      "\n"
     ]
    },
    {
     "name": "stdout",
     "output_type": "stream",
     "text": [
      "  ~> Checking keyword/rubrique coherence"
     ]
    },
    {
     "name": "stdout",
     "output_type": "stream",
     "text": [
      "\n"
     ]
    },
    {
     "name": "stdout",
     "output_type": "stream",
     "text": [
      "  ~> Checking keyword/rubrique coherence"
     ]
    },
    {
     "name": "stdout",
     "output_type": "stream",
     "text": [
      "\n"
     ]
    },
    {
     "name": "stdout",
     "output_type": "stream",
     "text": [
      "\n",
      "At iterate    2    f=  4.45237D-03    |proj g|=  1.77028D-02\n",
      "  ys=-1.289E-01  -gs= 1.320E-01 BFGS update SKIPPED\n"
     ]
    },
    {
     "name": "stdout",
     "output_type": "stream",
     "text": [
      "  ~> Checking keyword/rubrique coherence"
     ]
    },
    {
     "name": "stdout",
     "output_type": "stream",
     "text": [
      "\n"
     ]
    },
    {
     "name": "stdout",
     "output_type": "stream",
     "text": [
      "  ~> Checking keyword/rubrique coherence"
     ]
    },
    {
     "name": "stdout",
     "output_type": "stream",
     "text": [
      "\n"
     ]
    },
    {
     "name": "stdout",
     "output_type": "stream",
     "text": [
      "  ~> Checking keyword/rubrique coherence"
     ]
    },
    {
     "name": "stdout",
     "output_type": "stream",
     "text": [
      "\n"
     ]
    },
    {
     "name": "stdout",
     "output_type": "stream",
     "text": [
      "  ~> Checking keyword/rubrique coherence"
     ]
    },
    {
     "name": "stdout",
     "output_type": "stream",
     "text": [
      "\n"
     ]
    },
    {
     "name": "stdout",
     "output_type": "stream",
     "text": [
      "  ~> Checking keyword/rubrique coherence"
     ]
    },
    {
     "name": "stdout",
     "output_type": "stream",
     "text": [
      "\n"
     ]
    },
    {
     "name": "stdout",
     "output_type": "stream",
     "text": [
      "  ~> Checking keyword/rubrique coherence"
     ]
    },
    {
     "name": "stdout",
     "output_type": "stream",
     "text": [
      "\n"
     ]
    },
    {
     "name": "stdout",
     "output_type": "stream",
     "text": [
      "  ~> Checking keyword/rubrique coherence"
     ]
    },
    {
     "name": "stdout",
     "output_type": "stream",
     "text": [
      "\n"
     ]
    },
    {
     "name": "stdout",
     "output_type": "stream",
     "text": [
      "  ~> Checking keyword/rubrique coherence"
     ]
    },
    {
     "name": "stdout",
     "output_type": "stream",
     "text": [
      "\n"
     ]
    },
    {
     "name": "stdout",
     "output_type": "stream",
     "text": [
      "  ~> Checking keyword/rubrique coherence"
     ]
    },
    {
     "name": "stdout",
     "output_type": "stream",
     "text": [
      "\n"
     ]
    },
    {
     "name": "stdout",
     "output_type": "stream",
     "text": [
      "  ~> Checking keyword/rubrique coherence"
     ]
    },
    {
     "name": "stdout",
     "output_type": "stream",
     "text": [
      "\n"
     ]
    },
    {
     "name": "stdout",
     "output_type": "stream",
     "text": [
      "  ~> Checking keyword/rubrique coherence"
     ]
    },
    {
     "name": "stdout",
     "output_type": "stream",
     "text": [
      "\n"
     ]
    },
    {
     "name": "stdout",
     "output_type": "stream",
     "text": [
      "  ~> Checking keyword/rubrique coherence"
     ]
    },
    {
     "name": "stdout",
     "output_type": "stream",
     "text": [
      "\n"
     ]
    },
    {
     "name": "stdout",
     "output_type": "stream",
     "text": [
      "  ~> Checking keyword/rubrique coherence"
     ]
    },
    {
     "name": "stdout",
     "output_type": "stream",
     "text": [
      "\n"
     ]
    },
    {
     "name": "stdout",
     "output_type": "stream",
     "text": [
      "  ~> Checking keyword/rubrique coherence"
     ]
    },
    {
     "name": "stdout",
     "output_type": "stream",
     "text": [
      "\n"
     ]
    },
    {
     "name": "stdout",
     "output_type": "stream",
     "text": [
      "\n",
      "At iterate    3    f=  3.51371D-05    |proj g|=  1.82991D-02\n",
      "  ys=-1.508E-04  -gs= 4.476E-03 BFGS update SKIPPED\n"
     ]
    },
    {
     "name": "stdout",
     "output_type": "stream",
     "text": [
      "  ~> Checking keyword/rubrique coherence"
     ]
    },
    {
     "name": "stdout",
     "output_type": "stream",
     "text": [
      "\n"
     ]
    },
    {
     "name": "stdout",
     "output_type": "stream",
     "text": [
      "  ~> Checking keyword/rubrique coherence"
     ]
    },
    {
     "name": "stdout",
     "output_type": "stream",
     "text": [
      "\n"
     ]
    },
    {
     "name": "stdout",
     "output_type": "stream",
     "text": [
      "  ~> Checking keyword/rubrique coherence"
     ]
    },
    {
     "name": "stdout",
     "output_type": "stream",
     "text": [
      "\n"
     ]
    },
    {
     "name": "stdout",
     "output_type": "stream",
     "text": [
      "  ~> Checking keyword/rubrique coherence"
     ]
    },
    {
     "name": "stdout",
     "output_type": "stream",
     "text": [
      "\n"
     ]
    },
    {
     "name": "stdout",
     "output_type": "stream",
     "text": [
      "  ~> Checking keyword/rubrique coherence"
     ]
    },
    {
     "name": "stdout",
     "output_type": "stream",
     "text": [
      "\n"
     ]
    },
    {
     "name": "stdout",
     "output_type": "stream",
     "text": [
      "  ~> Checking keyword/rubrique coherence"
     ]
    },
    {
     "name": "stdout",
     "output_type": "stream",
     "text": [
      "\n"
     ]
    },
    {
     "name": "stdout",
     "output_type": "stream",
     "text": [
      "  ~> Checking keyword/rubrique coherence"
     ]
    },
    {
     "name": "stdout",
     "output_type": "stream",
     "text": [
      "\n"
     ]
    },
    {
     "name": "stdout",
     "output_type": "stream",
     "text": [
      "  ~> Checking keyword/rubrique coherence"
     ]
    },
    {
     "name": "stdout",
     "output_type": "stream",
     "text": [
      "\n"
     ]
    },
    {
     "name": "stdout",
     "output_type": "stream",
     "text": [
      "  ~> Checking keyword/rubrique coherence"
     ]
    },
    {
     "name": "stdout",
     "output_type": "stream",
     "text": [
      "\n"
     ]
    },
    {
     "name": "stdout",
     "output_type": "stream",
     "text": [
      "  ~> Checking keyword/rubrique coherence"
     ]
    },
    {
     "name": "stdout",
     "output_type": "stream",
     "text": [
      "\n"
     ]
    },
    {
     "name": "stdout",
     "output_type": "stream",
     "text": [
      "  ~> Checking keyword/rubrique coherence"
     ]
    },
    {
     "name": "stdout",
     "output_type": "stream",
     "text": [
      "\n"
     ]
    },
    {
     "name": "stdout",
     "output_type": "stream",
     "text": [
      "  ~> Checking keyword/rubrique coherence"
     ]
    },
    {
     "name": "stdout",
     "output_type": "stream",
     "text": [
      "\n"
     ]
    },
    {
     "name": "stdout",
     "output_type": "stream",
     "text": [
      "  ~> Checking keyword/rubrique coherence"
     ]
    },
    {
     "name": "stdout",
     "output_type": "stream",
     "text": [
      "\n"
     ]
    },
    {
     "name": "stdout",
     "output_type": "stream",
     "text": [
      "  ~> Checking keyword/rubrique coherence"
     ]
    },
    {
     "name": "stdout",
     "output_type": "stream",
     "text": [
      "\n"
     ]
    },
    {
     "name": "stdout",
     "output_type": "stream",
     "text": [
      "  ~> Checking keyword/rubrique coherence"
     ]
    },
    {
     "name": "stdout",
     "output_type": "stream",
     "text": [
      "\n"
     ]
    },
    {
     "name": "stdout",
     "output_type": "stream",
     "text": [
      "  ~> Checking keyword/rubrique coherence"
     ]
    },
    {
     "name": "stdout",
     "output_type": "stream",
     "text": [
      "\n"
     ]
    },
    {
     "name": "stdout",
     "output_type": "stream",
     "text": [
      "  ~> Checking keyword/rubrique coherence"
     ]
    },
    {
     "name": "stdout",
     "output_type": "stream",
     "text": [
      "\n"
     ]
    },
    {
     "name": "stdout",
     "output_type": "stream",
     "text": [
      "  ~> Checking keyword/rubrique coherence"
     ]
    },
    {
     "name": "stdout",
     "output_type": "stream",
     "text": [
      "\n"
     ]
    },
    {
     "name": "stdout",
     "output_type": "stream",
     "text": [
      "\n",
      "At iterate    4    f=  1.41691D-06    |proj g|=  1.74094D-02\n"
     ]
    },
    {
     "name": "stdout",
     "output_type": "stream",
     "text": [
      "  ~> Checking keyword/rubrique coherence"
     ]
    },
    {
     "name": "stdout",
     "output_type": "stream",
     "text": [
      "\n"
     ]
    },
    {
     "name": "stdout",
     "output_type": "stream",
     "text": [
      "  ~> Checking keyword/rubrique coherence"
     ]
    },
    {
     "name": "stdout",
     "output_type": "stream",
     "text": [
      "\n"
     ]
    },
    {
     "name": "stdout",
     "output_type": "stream",
     "text": [
      "  ~> Checking keyword/rubrique coherence"
     ]
    },
    {
     "name": "stdout",
     "output_type": "stream",
     "text": [
      "\n"
     ]
    },
    {
     "name": "stdout",
     "output_type": "stream",
     "text": [
      "  ~> Checking keyword/rubrique coherence"
     ]
    },
    {
     "name": "stdout",
     "output_type": "stream",
     "text": [
      "\n"
     ]
    },
    {
     "name": "stdout",
     "output_type": "stream",
     "text": [
      "  ~> Checking keyword/rubrique coherence"
     ]
    },
    {
     "name": "stdout",
     "output_type": "stream",
     "text": [
      "\n"
     ]
    },
    {
     "name": "stdout",
     "output_type": "stream",
     "text": [
      "  ~> Checking keyword/rubrique coherence"
     ]
    },
    {
     "name": "stdout",
     "output_type": "stream",
     "text": [
      "\n"
     ]
    },
    {
     "name": "stdout",
     "output_type": "stream",
     "text": [
      "  ~> Checking keyword/rubrique coherence"
     ]
    },
    {
     "name": "stdout",
     "output_type": "stream",
     "text": [
      "\n"
     ]
    },
    {
     "name": "stdout",
     "output_type": "stream",
     "text": [
      "  ~> Checking keyword/rubrique coherence"
     ]
    },
    {
     "name": "stdout",
     "output_type": "stream",
     "text": [
      "\n"
     ]
    },
    {
     "name": "stdout",
     "output_type": "stream",
     "text": [
      "  ~> Checking keyword/rubrique coherence"
     ]
    },
    {
     "name": "stdout",
     "output_type": "stream",
     "text": [
      "\n"
     ]
    },
    {
     "name": "stdout",
     "output_type": "stream",
     "text": [
      "  ~> Checking keyword/rubrique coherence"
     ]
    },
    {
     "name": "stdout",
     "output_type": "stream",
     "text": [
      "\n"
     ]
    },
    {
     "name": "stdout",
     "output_type": "stream",
     "text": [
      "  ~> Checking keyword/rubrique coherence"
     ]
    },
    {
     "name": "stdout",
     "output_type": "stream",
     "text": [
      "\n"
     ]
    },
    {
     "name": "stdout",
     "output_type": "stream",
     "text": [
      "  ~> Checking keyword/rubrique coherence"
     ]
    },
    {
     "name": "stdout",
     "output_type": "stream",
     "text": [
      "\n"
     ]
    },
    {
     "name": "stdout",
     "output_type": "stream",
     "text": [
      "  ~> Checking keyword/rubrique coherence"
     ]
    },
    {
     "name": "stdout",
     "output_type": "stream",
     "text": [
      "\n"
     ]
    },
    {
     "name": "stdout",
     "output_type": "stream",
     "text": [
      "  ~> Checking keyword/rubrique coherence"
     ]
    },
    {
     "name": "stdout",
     "output_type": "stream",
     "text": [
      "\n"
     ]
    },
    {
     "name": "stdout",
     "output_type": "stream",
     "text": [
      "  ~> Checking keyword/rubrique coherence"
     ]
    },
    {
     "name": "stdout",
     "output_type": "stream",
     "text": [
      "\n"
     ]
    },
    {
     "name": "stdout",
     "output_type": "stream",
     "text": [
      "  ~> Checking keyword/rubrique coherence"
     ]
    },
    {
     "name": "stdout",
     "output_type": "stream",
     "text": [
      "\n"
     ]
    },
    {
     "name": "stdout",
     "output_type": "stream",
     "text": [
      "  ~> Checking keyword/rubrique coherence"
     ]
    },
    {
     "name": "stdout",
     "output_type": "stream",
     "text": [
      "\n"
     ]
    },
    {
     "name": "stdout",
     "output_type": "stream",
     "text": [
      "  ~> Checking keyword/rubrique coherence"
     ]
    },
    {
     "name": "stdout",
     "output_type": "stream",
     "text": [
      "\n"
     ]
    },
    {
     "name": "stdout",
     "output_type": "stream",
     "text": [
      "\n",
      "At iterate    5    f=  2.43587D-08    |proj g|=  1.75354D-02\n",
      "  ys=-9.980E-09  -gs= 1.379E-06 BFGS update SKIPPED\n"
     ]
    },
    {
     "name": "stdout",
     "output_type": "stream",
     "text": [
      "  ~> Checking keyword/rubrique coherence"
     ]
    },
    {
     "name": "stdout",
     "output_type": "stream",
     "text": [
      "\n"
     ]
    },
    {
     "name": "stdout",
     "output_type": "stream",
     "text": [
      "  ~> Checking keyword/rubrique coherence"
     ]
    },
    {
     "name": "stdout",
     "output_type": "stream",
     "text": [
      "\n"
     ]
    },
    {
     "name": "stdout",
     "output_type": "stream",
     "text": [
      "  ~> Checking keyword/rubrique coherence"
     ]
    },
    {
     "name": "stdout",
     "output_type": "stream",
     "text": [
      "\n"
     ]
    },
    {
     "name": "stdout",
     "output_type": "stream",
     "text": [
      "  ~> Checking keyword/rubrique coherence"
     ]
    },
    {
     "name": "stdout",
     "output_type": "stream",
     "text": [
      "\n"
     ]
    },
    {
     "name": "stdout",
     "output_type": "stream",
     "text": [
      "  ~> Checking keyword/rubrique coherence"
     ]
    },
    {
     "name": "stdout",
     "output_type": "stream",
     "text": [
      "\n"
     ]
    },
    {
     "name": "stdout",
     "output_type": "stream",
     "text": [
      "  ~> Checking keyword/rubrique coherence"
     ]
    },
    {
     "name": "stdout",
     "output_type": "stream",
     "text": [
      "\n"
     ]
    },
    {
     "name": "stdout",
     "output_type": "stream",
     "text": [
      "  ~> Checking keyword/rubrique coherence"
     ]
    },
    {
     "name": "stdout",
     "output_type": "stream",
     "text": [
      "\n"
     ]
    },
    {
     "name": "stdout",
     "output_type": "stream",
     "text": [
      "  ~> Checking keyword/rubrique coherence"
     ]
    },
    {
     "name": "stdout",
     "output_type": "stream",
     "text": [
      "\n"
     ]
    },
    {
     "name": "stdout",
     "output_type": "stream",
     "text": [
      "  ~> Checking keyword/rubrique coherence"
     ]
    },
    {
     "name": "stdout",
     "output_type": "stream",
     "text": [
      "\n"
     ]
    },
    {
     "name": "stdout",
     "output_type": "stream",
     "text": [
      "  ~> Checking keyword/rubrique coherence"
     ]
    },
    {
     "name": "stdout",
     "output_type": "stream",
     "text": [
      "\n"
     ]
    },
    {
     "name": "stdout",
     "output_type": "stream",
     "text": [
      "  ~> Checking keyword/rubrique coherence"
     ]
    },
    {
     "name": "stdout",
     "output_type": "stream",
     "text": [
      "\n"
     ]
    },
    {
     "name": "stdout",
     "output_type": "stream",
     "text": [
      "  ~> Checking keyword/rubrique coherence"
     ]
    },
    {
     "name": "stdout",
     "output_type": "stream",
     "text": [
      "\n"
     ]
    },
    {
     "name": "stdout",
     "output_type": "stream",
     "text": [
      "  ~> Checking keyword/rubrique coherence"
     ]
    },
    {
     "name": "stdout",
     "output_type": "stream",
     "text": [
      "\n"
     ]
    },
    {
     "name": "stdout",
     "output_type": "stream",
     "text": [
      "  ~> Checking keyword/rubrique coherence"
     ]
    },
    {
     "name": "stdout",
     "output_type": "stream",
     "text": [
      "\n"
     ]
    },
    {
     "name": "stdout",
     "output_type": "stream",
     "text": [
      "  ~> Checking keyword/rubrique coherence"
     ]
    },
    {
     "name": "stdout",
     "output_type": "stream",
     "text": [
      "\n"
     ]
    },
    {
     "name": "stdout",
     "output_type": "stream",
     "text": [
      "  ~> Checking keyword/rubrique coherence"
     ]
    },
    {
     "name": "stdout",
     "output_type": "stream",
     "text": [
      "\n"
     ]
    },
    {
     "name": "stdout",
     "output_type": "stream",
     "text": [
      "\n",
      "At iterate    6    f=  7.14372D-09    |proj g|=  2.93146D-03\n"
     ]
    },
    {
     "name": "stdout",
     "output_type": "stream",
     "text": [
      "  ~> Checking keyword/rubrique coherence"
     ]
    },
    {
     "name": "stdout",
     "output_type": "stream",
     "text": [
      "\n"
     ]
    },
    {
     "name": "stdout",
     "output_type": "stream",
     "text": [
      "\n",
      "At iterate    6    f=  7.14372D-09    |proj g|=  2.93146D-03\n",
      "  ~> Checking keyword/rubrique coherence"
     ]
    },
    {
     "name": "stdout",
     "output_type": "stream",
     "text": [
      "\n"
     ]
    },
    {
     "name": "stdout",
     "output_type": "stream",
     "text": [
      "  ~> Checking keyword/rubrique coherence"
     ]
    },
    {
     "name": "stdout",
     "output_type": "stream",
     "text": [
      "\n"
     ]
    },
    {
     "name": "stdout",
     "output_type": "stream",
     "text": [
      "  ~> Checking keyword/rubrique coherence"
     ]
    },
    {
     "name": "stdout",
     "output_type": "stream",
     "text": [
      "\n"
     ]
    },
    {
     "name": "stdout",
     "output_type": "stream",
     "text": [
      "  ~> Checking keyword/rubrique coherence"
     ]
    },
    {
     "name": "stdout",
     "output_type": "stream",
     "text": [
      "\n"
     ]
    },
    {
     "name": "stdout",
     "output_type": "stream",
     "text": [
      "  ~> Checking keyword/rubrique coherence"
     ]
    },
    {
     "name": "stdout",
     "output_type": "stream",
     "text": [
      "\n"
     ]
    },
    {
     "name": "stdout",
     "output_type": "stream",
     "text": [
      "  ~> Checking keyword/rubrique coherence"
     ]
    },
    {
     "name": "stdout",
     "output_type": "stream",
     "text": [
      "\n"
     ]
    },
    {
     "name": "stdout",
     "output_type": "stream",
     "text": [
      "  ~> Checking keyword/rubrique coherence"
     ]
    },
    {
     "name": "stdout",
     "output_type": "stream",
     "text": [
      "\n"
     ]
    },
    {
     "name": "stdout",
     "output_type": "stream",
     "text": [
      "  ~> Checking keyword/rubrique coherence"
     ]
    },
    {
     "name": "stdout",
     "output_type": "stream",
     "text": [
      "\n"
     ]
    },
    {
     "name": "stdout",
     "output_type": "stream",
     "text": [
      "  ~> Checking keyword/rubrique coherence"
     ]
    },
    {
     "name": "stdout",
     "output_type": "stream",
     "text": [
      "\n"
     ]
    },
    {
     "name": "stdout",
     "output_type": "stream",
     "text": [
      "\n",
      "At iterate    7    f=  7.08385D-09    |proj g|=  2.96972D-03\n",
      "\n",
      "           * * *\n",
      "\n",
      "Tit   = total number of iterations\n",
      "Tnf   = total number of function evaluations\n",
      "Tnint = total number of segments explored during Cauchy searches\n",
      "Skip  = number of BFGS updates skipped\n",
      "Nact  = number of active bounds at final generalized Cauchy point\n",
      "Projg = norm of the final projected gradient\n",
      "F     = final function value\n",
      "\n",
      "           * * *\n",
      "\n",
      "   N    Tit     Tnf  Tnint  Skip  Nact     Projg        F\n",
      "    1      7     48      7     3     0   2.970D-03   7.084D-09\n",
      "  F =   7.0838457607930183E-009\n",
      "\n",
      "CONVERGENCE: REL_REDUCTION_OF_F_<=_FACTR*EPSMCH             \n"
     ]
    }
   ],
   "source": [
    "# number of variables\n",
    "nvar = 1\n",
    "# lower and upper bounds\n",
    "vbounds = np.zeros((nvar, 2))\n",
    "for i in range(nvar):\n",
    "    vbounds[i, 0] = 20.\n",
    "    vbounds[i, 1] = 60.\n",
    "# initial guess\n",
    "x0 = np.array([[50.]])\n",
    "# instantiation of the optimizer class\n",
    "mypb = newop.Newop()\n",
    "# initialize the optimizer with : goal function, number of variables and associated bounds\n",
    "error = mypb.initialize(estimation, nvar, vbounds)\n",
    "# launch optimization with initial guess and a maximum number of processors for parallelism\n",
    "val = mypb.optimize(x0, nproc=3)"
   ]
  },
  {
   "cell_type": "code",
   "execution_count": 10,
   "metadata": {
    "execution": {
     "iopub.execute_input": "2022-12-01T13:44:51.612470Z",
     "iopub.status.busy": "2022-12-01T13:44:51.612243Z",
     "iopub.status.idle": "2022-12-01T13:44:51.616273Z",
     "shell.execute_reply": "2022-12-01T13:44:51.615630Z"
    }
   },
   "outputs": [
    {
     "name": "stdout",
     "output_type": "stream",
     "text": [
      "[34.99999956]\n"
     ]
    }
   ],
   "source": [
    "# Print the optimal solution for the friction coefficient\n",
    "print(val[1])"
   ]
  },
  {
   "cell_type": "code",
   "execution_count": 11,
   "metadata": {
    "execution": {
     "iopub.execute_input": "2022-12-01T13:44:51.618959Z",
     "iopub.status.busy": "2022-12-01T13:44:51.618693Z",
     "iopub.status.idle": "2022-12-01T13:44:51.622279Z",
     "shell.execute_reply": "2022-12-01T13:44:51.621620Z"
    }
   },
   "outputs": [
    {
     "name": "stdout",
     "output_type": "stream",
     "text": [
      "7.083845760793018e-09\n"
     ]
    }
   ],
   "source": [
    "# Print the corresponding error (2-norm)\n",
    "print(val[0])"
   ]
  }
 ],
 "metadata": {
  "anaconda-cloud": {},
  "kernelspec": {
   "display_name": "Python 3",
   "language": "python",
   "name": "python3"
  },
  "language_info": {
   "codemirror_mode": {
    "name": "ipython",
    "version": 3
   },
   "file_extension": ".py",
   "mimetype": "text/x-python",
   "name": "python",
   "nbconvert_exporter": "python",
   "pygments_lexer": "ipython3",
   "version": "3.7.13"
  }
 },
 "nbformat": 4,
 "nbformat_minor": 1
}
