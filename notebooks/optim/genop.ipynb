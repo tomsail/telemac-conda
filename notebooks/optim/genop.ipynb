{
 "cells": [
  {
   "cell_type": "markdown",
   "metadata": {},
   "source": [
    "<span style=\"float:left;\">Licence CC BY-SA</span><span style=\"float:right;\">Fabrice Zaoui&nbsp;</span><br/>\n",
    "___"
   ]
  },
  {
   "cell_type": "markdown",
   "metadata": {},
   "source": [
    "This tutorial is intended for people who want to use the Genop optimizer. Genop (**Gen**etic **op**timizer) is a Python package implementing the Genetic Algorithm (GA) for a mono-objective minimization. GA is a derivative-free optimizer.  This metaheuristic mimics the natural evolution with the repeated application of operators (selection, mutation, crossover, etc.) in order to evolve a set of solutions towards the optimality. People interested in this class of algorithms may refer to [Genetic Algorithms](https://en.wikipedia.org/wiki/Genetic_algorithm) or [Genetic Programming](http://geneticprogramming.com/) for more information.\n",
    "\n",
    "Although Genop was primarly designed for the Telemac system, it is user-friendly and open to other fields of applications where derivatives are difficult to assess. Indeed, the software claims to be easy to figure out, efficient to run and supported.\n"
   ]
  },
  {
   "cell_type": "markdown",
   "metadata": {},
   "source": [
    "# Genop as a Python package"
   ]
  },
  {
   "cell_type": "markdown",
   "metadata": {},
   "source": [
    "Genop can be imported as a Python package. It is located with the Telemac distribution in the sub-folder:\n",
    "\n",
    "scripts/python3/telapy/tools"
   ]
  },
  {
   "cell_type": "code",
   "execution_count": 1,
   "metadata": {
    "execution": {
     "iopub.execute_input": "2022-12-01T13:28:59.424891Z",
     "iopub.status.busy": "2022-12-01T13:28:59.424040Z",
     "iopub.status.idle": "2022-12-01T13:28:59.446817Z",
     "shell.execute_reply": "2022-12-01T13:28:59.446188Z"
    }
   },
   "outputs": [],
   "source": [
    "HOMETEL = %env HOMETEL\n",
    "%cd -q {HOMETEL}/scripts/python3/telapy/tools"
   ]
  },
  {
   "cell_type": "markdown",
   "metadata": {},
   "source": [
    "Note: In order to import the package from any other path, one can change the PYTHONPATH environment variable.\n",
    "\n",
    "Once the Genop package is correctly located, it can be imported:"
   ]
  },
  {
   "cell_type": "code",
   "execution_count": 2,
   "metadata": {
    "execution": {
     "iopub.execute_input": "2022-12-01T13:28:59.449219Z",
     "iopub.status.busy": "2022-12-01T13:28:59.449029Z",
     "iopub.status.idle": "2022-12-01T13:28:59.501331Z",
     "shell.execute_reply": "2022-12-01T13:28:59.500772Z"
    }
   },
   "outputs": [],
   "source": [
    "from telapy.tools.genop import genop"
   ]
  },
  {
   "cell_type": "markdown",
   "metadata": {},
   "source": [
    "Some basic information on Genop package can be obtained with:"
   ]
  },
  {
   "cell_type": "code",
   "execution_count": 3,
   "metadata": {
    "execution": {
     "iopub.execute_input": "2022-12-01T13:28:59.503701Z",
     "iopub.status.busy": "2022-12-01T13:28:59.503505Z",
     "iopub.status.idle": "2022-12-01T13:28:59.507394Z",
     "shell.execute_reply": "2022-12-01T13:28:59.506987Z"
    }
   },
   "outputs": [
    {
     "name": "stdout",
     "output_type": "stream",
     "text": [
      "Help on module telapy.tools.genop.genop in telapy.tools.genop:\n",
      "\n",
      "NAME\n",
      "    telapy.tools.genop.genop - A genetic algorithm optimizer (minimizer) in Python\n",
      "\n",
      "DESCRIPTION\n",
      "    Author(s): Fabrice Zaoui\n",
      "    \n",
      "    Copyright EDF 2016-2017\n",
      "    \n",
      "    Comments : adapted from the original algorithm of Scilab module 'optim_ga'\n",
      "\n",
      "CLASSES\n",
      "    builtins.object\n",
      "        Genop\n",
      "    \n",
      "    class Genop(builtins.object)\n",
      "     |  Genop(popsize=25, pbcross=0.7, pbmut=0.1)\n",
      "     |  \n",
      "     |  The base class for the Genetic Opimization\n",
      "     |  \n",
      "     |  Methods defined here:\n",
      "     |  \n",
      "     |  __init__(self, popsize=25, pbcross=0.7, pbmut=0.1)\n",
      "     |      Initialize some algorithmic parameters to default values\n",
      "     |      :return: a new object from Genop\n",
      "     |  \n",
      "     |  initialize(self, func, nvar, bounds)\n",
      "     |      Description of the minimization problem\n",
      "     |      :param 'f': the name of the python function where the cost function\n",
      "     |          is implemented (type: str)\n",
      "     |      :param 'n': the number of optimization variables (type: int)\n",
      "     |      :param 'bounds': a numpy array for the lower and upper bounds of\n",
      "     |          optimization variables (type: int)\n",
      "     |      :return: error code = 0 if successful (type: int)\n",
      "     |  \n",
      "     |  optimize(self, nbgen=10, nproc=1)\n",
      "     |      Do the genetic algorithm with 'niter' generations\n",
      "     |      :param 'nbgen': the maximal number of gnerations (i.e. iterations)\n",
      "     |      :param 'nproc': the number of processes (parallel simulations)\n",
      "     |      :return: a tuple of two elements for all the iterations:\n",
      "     |                  - the best parameters\n",
      "     |                  - the associated optimal cost functions\n",
      "     |  \n",
      "     |  ----------------------------------------------------------------------\n",
      "     |  Data descriptors defined here:\n",
      "     |  \n",
      "     |  __dict__\n",
      "     |      dictionary for instance variables (if defined)\n",
      "     |  \n",
      "     |  __weakref__\n",
      "     |      list of weak references to the object (if defined)\n",
      "\n",
      "FILE\n",
      "    /home/d60881/telemac-mascaret/scripts/python3/telapy/tools/genop/genop.py\n",
      "\n",
      "\n"
     ]
    }
   ],
   "source": [
    "help(genop)"
   ]
  },
  {
   "cell_type": "markdown",
   "metadata": {},
   "source": [
    "and attributes reachable from it with:"
   ]
  },
  {
   "cell_type": "code",
   "execution_count": 4,
   "metadata": {
    "execution": {
     "iopub.execute_input": "2022-12-01T13:28:59.509416Z",
     "iopub.status.busy": "2022-12-01T13:28:59.509233Z",
     "iopub.status.idle": "2022-12-01T13:28:59.516449Z",
     "shell.execute_reply": "2022-12-01T13:28:59.516057Z"
    }
   },
   "outputs": [
    {
     "data": {
      "text/plain": [
       "['Genop',\n",
       " '__builtins__',\n",
       " '__cached__',\n",
       " '__doc__',\n",
       " '__file__',\n",
       " '__loader__',\n",
       " '__name__',\n",
       " '__package__',\n",
       " '__spec__',\n",
       " 'cost',\n",
       " 'crossover',\n",
       " 'elitist',\n",
       " 'genpop',\n",
       " 'mutation',\n",
       " 'np',\n",
       " 'printinfo',\n",
       " 'selection',\n",
       " 'updatecost',\n",
       " 'validate']"
      ]
     },
     "execution_count": 4,
     "metadata": {},
     "output_type": "execute_result"
    }
   ],
   "source": [
    "dir(genop)"
   ]
  },
  {
   "cell_type": "markdown",
   "metadata": {},
   "source": [
    "# Cost function"
   ]
  },
  {
   "cell_type": "markdown",
   "metadata": {},
   "source": [
    "The problem under consideration is formulated as a mathematical optimization seeking to minimize a cost function. With Genop the user has to define the cost function as a Python function taking as argument the (numpy array) vector of variables and returning the corresponding cost function value.\n",
    "\n",
    "For example, in the parent directory of Genop some test functions are defined in the file 'simul.py' "
   ]
  },
  {
   "cell_type": "code",
   "execution_count": 5,
   "metadata": {
    "execution": {
     "iopub.execute_input": "2022-12-01T13:28:59.518521Z",
     "iopub.status.busy": "2022-12-01T13:28:59.518337Z",
     "iopub.status.idle": "2022-12-01T13:28:59.520909Z",
     "shell.execute_reply": "2022-12-01T13:28:59.520512Z"
    }
   },
   "outputs": [],
   "source": [
    "import telapy.tools.simul as simul"
   ]
  },
  {
   "cell_type": "code",
   "execution_count": 6,
   "metadata": {
    "execution": {
     "iopub.execute_input": "2022-12-01T13:28:59.522814Z",
     "iopub.status.busy": "2022-12-01T13:28:59.522634Z",
     "iopub.status.idle": "2022-12-01T13:28:59.528044Z",
     "shell.execute_reply": "2022-12-01T13:28:59.527590Z"
    }
   },
   "outputs": [],
   "source": [
    "%pycat simul.py"
   ]
  },
  {
   "cell_type": "markdown",
   "metadata": {},
   "source": [
    "Six analytical functions are defined in this test file. They can be all optimized with Genop in one shot using the script 'test_genop.py':"
   ]
  },
  {
   "cell_type": "code",
   "execution_count": 7,
   "metadata": {
    "execution": {
     "iopub.execute_input": "2022-12-01T13:28:59.530191Z",
     "iopub.status.busy": "2022-12-01T13:28:59.530011Z",
     "iopub.status.idle": "2022-12-01T13:28:59.645313Z",
     "shell.execute_reply": "2022-12-01T13:28:59.642342Z"
    }
   },
   "outputs": [
    {
     "name": "stdout",
     "output_type": "stream",
     "text": [
      "/bin/bash: test_genop.py : commande introuvable\r\n"
     ]
    }
   ],
   "source": [
    "!test_genop.py"
   ]
  },
  {
   "cell_type": "markdown",
   "metadata": {},
   "source": [
    "# Problem definition with Genop"
   ]
  },
  {
   "cell_type": "markdown",
   "metadata": {},
   "source": [
    "Suppose that the problem concerns the minimization of the [Rosenbrock function](https://en.wikipedia.org/wiki/Rosenbrock_function):"
   ]
  },
  {
   "cell_type": "markdown",
   "metadata": {},
   "source": [
    "$$ F(x_1,x_2) = (1-x_1)^2 + 100 \\times (x_2-x_1^2)^2$$ "
   ]
  },
  {
   "cell_type": "markdown",
   "metadata": {},
   "source": [
    "This functions of two variables has a global optimum at $$(x_1,x_2)=(1,1)$$ where $$F_{opt}(1,1)=0$$"
   ]
  },
  {
   "cell_type": "markdown",
   "metadata": {},
   "source": [
    "As the function is already implemented in 'simul.py' the definition of the Genop problem will be:"
   ]
  },
  {
   "cell_type": "code",
   "execution_count": 8,
   "metadata": {
    "execution": {
     "iopub.execute_input": "2022-12-01T13:28:59.653763Z",
     "iopub.status.busy": "2022-12-01T13:28:59.653594Z",
     "iopub.status.idle": "2022-12-01T13:28:59.657939Z",
     "shell.execute_reply": "2022-12-01T13:28:59.657531Z"
    }
   },
   "outputs": [],
   "source": [
    "import numpy as np\n",
    "\n",
    "# pointer to the function\n",
    "f = simul.rosenbrock\n",
    "# number of variables\n",
    "n = 2\n",
    "# lower and upper bounds for variable (optimizing in the range [-5., 5.])\n",
    "bounds = np.zeros((n, 2))\n",
    "bounds[0, 0] = -5.\n",
    "bounds[0, 1] = 5.\n",
    "bounds[1, 0] = -5.\n",
    "bounds[1, 1] = 5.\n",
    "# instantiation of a Genop problem with default values for parameters\n",
    "mypb = genop.Genop()\n",
    "# initialization of the problem for Genop\n",
    "error = mypb.initialize(f, n, bounds)\n",
    "if error:\n",
    "    raise Exception('Unable to initialize Genop')"
   ]
  },
  {
   "cell_type": "markdown",
   "metadata": {},
   "source": [
    "# Optimizing with Genop"
   ]
  },
  {
   "cell_type": "markdown",
   "metadata": {},
   "source": [
    "The Genop minimization with default valuesis straightforward: "
   ]
  },
  {
   "cell_type": "code",
   "execution_count": 9,
   "metadata": {
    "execution": {
     "iopub.execute_input": "2022-12-01T13:28:59.660131Z",
     "iopub.status.busy": "2022-12-01T13:28:59.659940Z",
     "iopub.status.idle": "2022-12-01T13:28:59.682254Z",
     "shell.execute_reply": "2022-12-01T13:28:59.681782Z"
    }
   },
   "outputs": [
    {
     "name": "stdout",
     "output_type": "stream",
     "text": [
      "-----  genop optimization -----\n",
      "-------------------------------\n",
      "|     iter     |     Cost     |\n",
      "-------------------------------\n",
      "        1       1.297977e+00\n",
      "        2       1.297977e+00\n",
      "        3       3.436151e-01\n",
      "        4       3.436151e-01\n",
      "        5       3.436151e-01\n",
      "        6       3.436151e-01\n",
      "        7       3.221717e-01\n",
      "        8       2.473418e-01\n",
      "        9       1.877444e-02\n",
      "       10       1.877444e-02\n",
      "-------------------------------------\n",
      "\n",
      "--> Maximum number of iterations: 10\n",
      "-------------------------------------\n",
      "\n",
      "--> Number of simulations: 447\n",
      "-------------------------------------\n",
      "\n",
      "--> Best solution found:\n",
      "\t * cost function: 1.877444e-02\n",
      "\t * solution:\t\n",
      "\t\t0: 1.132318662709372\t\t\t1: 1.2857039400719728\n",
      "-------------------------------------\n",
      "\n"
     ]
    }
   ],
   "source": [
    "fcost, xopt = mypb.optimize()"
   ]
  },
  {
   "cell_type": "markdown",
   "metadata": {},
   "source": [
    "Genop returns all the values of optimal cost functions *fcost* and associated variables *xopt* throughout the minimization process."
   ]
  },
  {
   "cell_type": "code",
   "execution_count": 10,
   "metadata": {
    "execution": {
     "iopub.execute_input": "2022-12-01T13:28:59.684532Z",
     "iopub.status.busy": "2022-12-01T13:28:59.684323Z",
     "iopub.status.idle": "2022-12-01T13:29:00.231288Z",
     "shell.execute_reply": "2022-12-01T13:29:00.230782Z"
    }
   },
   "outputs": [
    {
     "data": {
      "image/png": "[encoded data removed]",
      "text/plain": [
       "<Figure size 432x288 with 1 Axes>"
      ]
     },
     "metadata": {
      "needs_background": "light"
     },
     "output_type": "display_data"
    }
   ],
   "source": [
    "import matplotlib.pyplot as plt\n",
    "\n",
    "%matplotlib inline\n",
    "plt.plot(fcost)\n",
    "plt.grid()\n",
    "plt.xlabel('Iteration number')\n",
    "plt.ylabel('Cost function value')\n",
    "plt.title('Rosenborck function minimized with Genop')\n",
    "plt.show()"
   ]
  },
  {
   "cell_type": "code",
   "execution_count": 11,
   "metadata": {
    "execution": {
     "iopub.execute_input": "2022-12-01T13:29:00.233583Z",
     "iopub.status.busy": "2022-12-01T13:29:00.233333Z",
     "iopub.status.idle": "2022-12-01T13:29:00.502494Z",
     "shell.execute_reply": "2022-12-01T13:29:00.501940Z"
    }
   },
   "outputs": [
    {
     "data": {
      "image/png": "[encoded data removed]",
      "text/plain": [
       "<Figure size 432x288 with 1 Axes>"
      ]
     },
     "metadata": {
      "needs_background": "light"
     },
     "output_type": "display_data"
    }
   ],
   "source": [
    "x1, x2 = np.meshgrid(np.linspace(-5.,5.,201),np.linspace(-5.,5.,201))\n",
    "plt.contourf(x1, x2, simul.rosenbrock([x1,x2]), np.linspace(0.,3000.,200))\n",
    "plt.plot(*zip(*xopt), lw=4, color=\"green\", marker=\"o\", markerfacecolor=\"white\")\n",
    "plt.show()"
   ]
  },
  {
   "cell_type": "markdown",
   "metadata": {},
   "source": [
    "## Default optimization parameters"
   ]
  },
  {
   "cell_type": "markdown",
   "metadata": {},
   "source": [
    "Usefull parameters for the optimization process can be changed by the user with the instantiation of a new Genop object:"
   ]
  },
  {
   "cell_type": "markdown",
   "metadata": {},
   "source": [
    "mypb = genop.Genop(popsize=20, pbcross=0.8, pbmut=0.05)"
   ]
  },
  {
   "cell_type": "markdown",
   "metadata": {},
   "source": [
    "where:\n",
    "* popsize is the size of the population\n",
    "* pbcross is the probability crossover\n",
    "* pbmut is the probability mutation"
   ]
  },
  {
   "cell_type": "markdown",
   "metadata": {},
   "source": [
    "It is also possible to change the maximum number of generations with the call to the optimize method:"
   ]
  },
  {
   "cell_type": "markdown",
   "metadata": {},
   "source": [
    "fcost, xopt = mypb.optimize(nbgen=30)"
   ]
  },
  {
   "cell_type": "markdown",
   "metadata": {},
   "source": [
    "## Parallelism"
   ]
  },
  {
   "cell_type": "markdown",
   "metadata": {},
   "source": [
    "Althought GA requires many calls to cost functions assessment, it can be easily parallelised since each call is independant from other.\n",
    "\n",
    "Genop implements the *multiprocessing* Python package for this purpose.\n",
    "\n",
    "The number of processors to be used is indicated when calling the optimize method:"
   ]
  },
  {
   "cell_type": "markdown",
   "metadata": {},
   "source": [
    "fcost, xopt = mypb.optimize(nproc=2)"
   ]
  }
 ],
 "metadata": {
  "anaconda-cloud": {},
  "kernelspec": {
   "display_name": "Python 3",
   "language": "python",
   "name": "python3"
  },
  "language_info": {
   "codemirror_mode": {
    "name": "ipython",
    "version": 3
   },
   "file_extension": ".py",
   "mimetype": "text/x-python",
   "name": "python",
   "nbconvert_exporter": "python",
   "pygments_lexer": "ipython3",
   "version": "3.7.13"
  }
 },
 "nbformat": 4,
 "nbformat_minor": 1
}
