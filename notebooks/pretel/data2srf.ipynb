{
 "cells": [
  {
   "cell_type": "markdown",
   "metadata": {},
   "source": [
    "# Converting data to SERAFIN format\n",
    "\n",
    "We will describe a couple of script that can extract data (wave, bathymetry, velocity...) in a selection of format and write that data into a SERAFIN file.\n",
    "\n",
    "The script we will use is **converter.py** and more specifically the actions:\n",
    "  * [ecmwf2srf](#Extracting-ecmwf-data) \n",
    "  * [gebco2srf](#Extracting-gebco-data)\n",
    "  * [hycom2srf](#Extracting-hycom-data)"
   ]
  },
  {
   "cell_type": "code",
   "execution_count": 1,
   "metadata": {
    "execution": {
     "iopub.execute_input": "2022-12-01T13:51:20.952256Z",
     "iopub.status.busy": "2022-12-01T13:51:20.951408Z",
     "iopub.status.idle": "2022-12-01T13:51:21.462190Z",
     "shell.execute_reply": "2022-12-01T13:51:21.460828Z"
    }
   },
   "outputs": [
    {
     "name": "stdout",
     "output_type": "stream",
     "text": [
      "usage: converter.py [-h] [-c config name] [-f config file] [-r TELEMAC root]\r\n",
      "                    {ecmwf2srf,gebco2srf,hycom2srf,kenue2shp,dat2vtu,generate_atm,generate_bnd,srf2med,srf2vtk,med2srf,med2srfd,refine,sis2gaia,xml2py,extract_ptravers_res_to_geoc,convert_listing_courlis,report2xls,shp2i2s,shp2txt,txt2shp}\r\n",
      "                    ...\r\n",
      "\r\n",
      "positional arguments:\r\n",
      "  {ecmwf2srf,gebco2srf,hycom2srf,kenue2shp,dat2vtu,generate_atm,generate_bnd,srf2med,srf2vtk,med2srf,med2srfd,refine,sis2gaia,xml2py,extract_ptravers_res_to_geoc,convert_listing_courlis,report2xls,shp2i2s,shp2txt,txt2shp}\r\n",
      "                        converter command to do\r\n",
      "    ecmwf2srf           extracting ECMWF data into a serafin-format file\r\n",
      "    gebco2srf           Extracting GEBCO data into a serafin-format file\r\n",
      "    hycom2srf           Extracting HYCOM data into a serafin-format file\r\n",
      "    kenue2shp           Convert a Kenue file into a shapefile\r\n",
      "    dat2vtu             Convert a drogues file (output of telemac) into a VTU\r\n",
      "                        file (Paraview)\r\n",
      "    generate_atm        Map weather type data (varying in space and time)\r\n",
      "                        containedinto a SELAFIN, onto a SELAFIN file of your\r\n",
      "                        choosing(your MESH)\r\n",
      "    generate_bnd        A script to map 2D or 3D outter model results, stored\r\n",
      "                        asSELAFIN files, onto the spatially and time varying\r\n",
      "                        boundary of a spatially contained SELAFIN file of your\r\n",
      "                        choosing (your MESH)\r\n",
      "    srf2med             Conversion from serafin (single or double precision)\r\n",
      "                        to MED\r\n",
      "    srf2vtk             Conversion from serafin (single or double precision)\r\n",
      "                        to ascii VTK\r\n",
      "    med2srf             Conversion from MED to serafin single precision\r\n",
      "    med2srfd            Conversion from MED to serafin double precision\r\n",
      "    refine              Refinment of the mesh using stbtel\r\n",
      "    sis2gaia            Conversion of the steering file from SISYPHE to GAIA\r\n",
      "    xml2py              Convert a xml for validation into a Python for\r\n",
      "                        validation\r\n",
      "    extract_ptravers_res_to_geoc\r\n",
      "                        Extract from ptravers Courlis res file to Courlis\r\n",
      "                        geometryfile at a given record\r\n",
      "    convert_listing_courlis\r\n",
      "                        convert binary listing Courlis file into ASCII Opthyca\r\n",
      "                        file with sediment budget file\r\n",
      "    report2xls          Converting validation report csvinto Xls file\r\n",
      "    shp2i2s             Converting Shape file into i2s (BlueKenue polygon\r\n",
      "                        format)\r\n",
      "    shp2txt             Converting Shape file into txt (Telemac in_poly\r\n",
      "                        format)\r\n",
      "    txt2shp             Converting txt (Telemac in_poly format) into shape\r\n",
      "                        file\r\n",
      "\r\n",
      "optional arguments:\r\n",
      "  -h, --help            show this help message and exit\r\n",
      "  -c config name, --configname config name\r\n",
      "                        specify configuration name, default is randomly found\r\n",
      "                        in the configuration file\r\n",
      "  -f config file, --configfile config file\r\n",
      "                        specify configuration file, default is systel.cfg\r\n",
      "  -r TELEMAC root, --rootdir TELEMAC root\r\n",
      "                        specify the root, default is taken from config file\r\n"
     ]
    }
   ],
   "source": [
    "!converter.py -h"
   ]
  },
  {
   "cell_type": "markdown",
   "metadata": {},
   "source": [
    "## Extracting ecmwf data\n",
    "\n",
    "We will use **converter.py ecmwf2srf**"
   ]
  },
  {
   "cell_type": "code",
   "execution_count": 2,
   "metadata": {
    "execution": {
     "iopub.execute_input": "2022-12-01T13:51:21.469101Z",
     "iopub.status.busy": "2022-12-01T13:51:21.468519Z",
     "iopub.status.idle": "2022-12-01T13:51:21.973618Z",
     "shell.execute_reply": "2022-12-01T13:51:21.971658Z"
    }
   },
   "outputs": [
    {
     "name": "stdout",
     "output_type": "stream",
     "text": [
      "usage: converter.py ecmwf2srf [-h] [-f TFROM] [-s TSTOP] [--bl BLCORNER]\r\n",
      "                              [--tr TRCORNER] [--dataset DATASET]\r\n",
      "                              [--stream {wave,spec,oper}]\r\n",
      "                              root_name\r\n",
      "\r\n",
      "positional arguments:\r\n",
      "  root_name             specify the root name of the resulting SELAFIN file.\r\n",
      "\r\n",
      "optional arguments:\r\n",
      "  -h, --help            show this help message and exit\r\n",
      "  -f TFROM, --from TFROM\r\n",
      "                        specify the first date included. Example: \"1972-13-07\"\r\n",
      "  -s TSTOP, --stop TSTOP\r\n",
      "                        specify the last date included \"1980-12-31\"\r\n",
      "  --bl BLCORNER         specify the bottom left corner. Example: \"(25,-117)\"\r\n",
      "  --tr TRCORNER         specify the top right corner. Example: \"(27,-110)\"\r\n",
      "  --dataset DATASET     type of dataset requested either 'interim', 'era5' or\r\n",
      "                        the name of a grib or netcdf file or dirctory\r\n",
      "                        contaiing grib or netcdf files, depending on periods\r\n",
      "                        and resolution, etc.\r\n",
      "  --stream {wave,spec,oper}\r\n",
      "                        type of stream requested either 'oper' (atmospheric)\r\n",
      "                        or 'wave' (waves), etc.\r\n"
     ]
    }
   ],
   "source": [
    "!converter.py ecmwf2srf -h"
   ]
  },
  {
   "cell_type": "markdown",
   "metadata": {},
   "source": [
    "In the example below we already have download our ecmwf data and are passing directly the file.\n",
    "\n",
    "But by chaning  the --dataset option you directly download your data."
   ]
  },
  {
   "cell_type": "code",
   "execution_count": 3,
   "metadata": {
    "execution": {
     "iopub.execute_input": "2022-12-01T13:51:21.981044Z",
     "iopub.status.busy": "2022-12-01T13:51:21.980856Z",
     "iopub.status.idle": "2022-12-01T13:51:23.142160Z",
     "shell.execute_reply": "2022-12-01T13:51:23.139509Z"
    },
    "scrolled": true
   },
   "outputs": [
    {
     "name": "stdout",
     "output_type": "stream",
     "text": [
      "   +> set the mesh and connectivity\r\n",
      "[                                                                ]   0%  | ---s\r",
      "[\\                                                                 ]   1%  | 1s\r",
      "[\\                                                                 ]   2%  | 1s\r",
      "[\\\\                                                                ]   3%  | 1s\r",
      "[\\\\\\                                                               ]   4%  | 1s\r",
      "[\\\\\\                                                               ]   5%  | 1s\r",
      "[\\\\\\\\                                                              ]   6%  | 1s\r",
      "[\\\\\\\\                                                              ]   7%  | 1s\r",
      "[\\\\\\\\\\                                                             ]   8%  | 1s\r",
      "[\\\\\\\\\\\\                                                            ]   9%  | 1s\r",
      "[\\\\\\\\\\\\                                                            ]  10%  | 1s\r",
      "[\\\\\\\\\\\\\\                                                           ]  11%  | 1s\r",
      "[\\\\\\\\\\\\\\\\                                                          ]  12%  | 1s\r",
      "[\\\\\\\\\\\\\\\\                                                          ]  13%  | 1s\r",
      "[\\\\\\\\\\\\\\\\\\                                                         ]  14%  | 1s\r",
      "[\\\\\\\\\\\\\\\\\\\\                                                        ]  15%  | 1s\r",
      "[\\\\\\\\\\\\\\\\\\\\                                                        ]  16%  | 1s\r",
      "[\\\\\\\\\\\\\\\\\\\\\\                                                       ]  17%  | 1s\r",
      "[\\\\\\\\\\\\\\\\\\\\\\\\                                                      ]  18%  | 1s\r",
      "[\\\\\\\\\\\\\\\\\\\\\\\\                                                      ]  19%  | 1s\r",
      "[\\\\\\\\\\\\\\\\\\\\\\\\\\                                                     ]  20%  | 1s\r",
      "[\\\\\\\\\\\\\\\\\\\\\\\\\\                                                     ]  21%  | 1s\r",
      "[\\\\\\\\\\\\\\\\\\\\\\\\\\\\                                                    ]  22%  | 1s\r",
      "[\\\\\\\\\\\\\\\\\\\\\\\\\\\\\\                                                   ]  23%  | 1s\r",
      "[\\\\\\\\\\\\\\\\\\\\\\\\\\\\\\                                                   ]  24%  | 1s\r",
      "[\\\\\\\\\\\\\\\\\\\\\\\\\\\\\\\\                                                  ]  25%  | 1s\r",
      "[\\\\\\\\\\\\\\\\\\\\\\\\\\\\\\\\\\                                                 ]  26%  | 1s\r",
      "[\\\\\\\\\\\\\\\\\\\\\\\\\\\\\\\\\\\\                                                ]  27%  | 1s\r",
      "[\\\\\\\\\\\\\\\\\\\\\\\\\\\\\\\\\\\\                                                ]  28%  | 1s\r",
      "[\\\\\\\\\\\\\\\\\\\\\\\\\\\\\\\\\\\\\\                                               ]  29%  | 1s\r",
      "[\\\\\\\\\\\\\\\\\\\\\\\\\\\\\\\\\\\\\\\\                                              ]  30%  | 1s\r",
      "[\\\\\\\\\\\\\\\\\\\\\\\\\\\\\\\\\\\\\\\\                                              ]  31%  | 1s\r",
      "[\\\\\\\\\\\\\\\\\\\\\\\\\\\\\\\\\\\\\\\\\\                                             ]  32%  | 1s\r",
      "[\\\\\\\\\\\\\\\\\\\\\\\\\\\\\\\\\\\\\\\\\\\\                                            ]  33%  | 1s\r",
      "[\\\\\\\\\\\\\\\\\\\\\\\\\\\\\\\\\\\\\\\\\\\\                                            ]  34%  | 1s\r",
      "[\\\\\\\\\\\\\\\\\\\\\\\\\\\\\\\\\\\\\\\\\\\\\\                                           ]  35%  | 1s\r",
      "[\\\\\\\\\\\\\\\\\\\\\\\\\\\\\\\\\\\\\\\\\\\\\\\\                                          ]  36%  | 1s\r",
      "[\\\\\\\\\\\\\\\\\\\\\\\\\\\\\\\\\\\\\\\\\\\\\\\\                                          ]  37%  | 1s\r",
      "[\\\\\\\\\\\\\\\\\\\\\\\\\\\\\\\\\\\\\\\\\\\\\\\\\\                                         ]  38%  | 1s\r",
      "[\\\\\\\\\\\\\\\\\\\\\\\\\\\\\\\\\\\\\\\\\\\\\\\\\\                                         ]  39%  | 1s\r",
      "[\\\\\\\\\\\\\\\\\\\\\\\\\\\\\\\\\\\\\\\\\\\\\\\\\\\\                                        ]  40%  | 1s\r",
      "[\\\\\\\\\\\\\\\\\\\\\\\\\\\\\\\\\\\\\\\\\\\\\\\\\\\\\\                                       ]  41%  | 1s\r",
      "[\\\\\\\\\\\\\\\\\\\\\\\\\\\\\\\\\\\\\\\\\\\\\\\\\\\\\\                                       ]  42%  | 1s\r",
      "[\\\\\\\\\\\\\\\\\\\\\\\\\\\\\\\\\\\\\\\\\\\\\\\\\\\\\\\\                                      ]  43%  | 1s\r",
      "[\\\\\\\\\\\\\\\\\\\\\\\\\\\\\\\\\\\\\\\\\\\\\\\\\\\\\\\\\\                                     ]  44%  | 1s\r",
      "[\\\\\\\\\\\\\\\\\\\\\\\\\\\\\\\\\\\\\\\\\\\\\\\\\\\\\\\\\\                                     ]  45%  | 1s\r",
      "[\\\\\\\\\\\\\\\\\\\\\\\\\\\\\\\\\\\\\\\\\\\\\\\\\\\\\\\\\\\\                                    ]  46%  | 1s\r",
      "[\\\\\\\\\\\\\\\\\\\\\\\\\\\\\\\\\\\\\\\\\\\\\\\\\\\\\\\\\\\\\\                                   ]  47%  | 1s\r",
      "[\\\\\\\\\\\\\\\\\\\\\\\\\\\\\\\\\\\\\\\\\\\\\\\\\\\\\\\\\\\\\\                                   ]  48%  | 1s\r",
      "[\\\\\\\\\\\\\\\\\\\\\\\\\\\\\\\\\\\\\\\\\\\\\\\\\\\\\\\\\\\\\\\\                                  ]  49%  | 1s\r",
      "[\\\\\\\\\\\\\\\\\\\\\\\\\\\\\\\\\\\\\\\\\\\\\\\\\\\\\\\\\\\\\\\\\\                                 ]  50%  | 1s\r",
      "[\\\\\\\\\\\\\\\\\\\\\\\\\\\\\\\\\\\\\\\\\\\\\\\\\\\\\\\\\\\\\\\\\\\\                                ]  51%  | 1s\r",
      "[\\\\\\\\\\\\\\\\\\\\\\\\\\\\\\\\\\\\\\\\\\\\\\\\\\\\\\\\\\\\\\\\\\\\                                ]  52%  | 1s\r",
      "[\\\\\\\\\\\\\\\\\\\\\\\\\\\\\\\\\\\\\\\\\\\\\\\\\\\\\\\\\\\\\\\\\\\\\\                               ]  53%  | 1s\r",
      "[\\\\\\\\\\\\\\\\\\\\\\\\\\\\\\\\\\\\\\\\\\\\\\\\\\\\\\\\\\\\\\\\\\\\\\\\                              ]  54%  | 1s\r",
      "[\\\\\\\\\\\\\\\\\\\\\\\\\\\\\\\\\\\\\\\\\\\\\\\\\\\\\\\\\\\\\\\\\\\\\\\\                              ]  55%  | 1s\r",
      "[\\\\\\\\\\\\\\\\\\\\\\\\\\\\\\\\\\\\\\\\\\\\\\\\\\\\\\\\\\\\\\\\\\\\\\\\\\                             ]  56%  | 1s\r",
      "[\\\\\\\\\\\\\\\\\\\\\\\\\\\\\\\\\\\\\\\\\\\\\\\\\\\\\\\\\\\\\\\\\\\\\\\\\\                             ]  57%  | 1s\r",
      "[\\\\\\\\\\\\\\\\\\\\\\\\\\\\\\\\\\\\\\\\\\\\\\\\\\\\\\\\\\\\\\\\\\\\\\\\\\\\                            ]  58%  | 1s\r",
      "[\\\\\\\\\\\\\\\\\\\\\\\\\\\\\\\\\\\\\\\\\\\\\\\\\\\\\\\\\\\\\\\\\\\\\\\\\\\\\\                           ]  59%  | 1s\r",
      "[\\\\\\\\\\\\\\\\\\\\\\\\\\\\\\\\\\\\\\\\\\\\\\\\\\\\\\\\\\\\\\\\\\\\\\\\\\\\\\                           ]  60%  | 1s\r",
      "[\\\\\\\\\\\\\\\\\\\\\\\\\\\\\\\\\\\\\\\\\\\\\\\\\\\\\\\\\\\\\\\\\\\\\\\\\\\\\\\\                          ]  61%  | 1s\r",
      "[\\\\\\\\\\\\\\\\\\\\\\\\\\\\\\\\\\\\\\\\\\\\\\\\\\\\\\\\\\\\\\\\\\\\\\\\\\\\\\\\\\                         ]  62%  | 1s\r",
      "[\\\\\\\\\\\\\\\\\\\\\\\\\\\\\\\\\\\\\\\\\\\\\\\\\\\\\\\\\\\\\\\\\\\\\\\\\\\\\\\\\\                         ]  63%  | 1s\r",
      "[\\\\\\\\\\\\\\\\\\\\\\\\\\\\\\\\\\\\\\\\\\\\\\\\\\\\\\\\\\\\\\\\\\\\\\\\\\\\\\\\\\\\                        ]  64%  | 1s\r",
      "[\\\\\\\\\\\\\\\\\\\\\\\\\\\\\\\\\\\\\\\\\\\\\\\\\\\\\\\\\\\\\\\\\\\\\\\\\\\\\\\\\\\\\\                       ]  65%  | 1s\r",
      "[\\\\\\\\\\\\\\\\\\\\\\\\\\\\\\\\\\\\\\\\\\\\\\\\\\\\\\\\\\\\\\\\\\\\\\\\\\\\\\\\\\\\\\                       ]  66%  | 1s\r",
      "[\\\\\\\\\\\\\\\\\\\\\\\\\\\\\\\\\\\\\\\\\\\\\\\\\\\\\\\\\\\\\\\\\\\\\\\\\\\\\\\\\\\\\\\\                      ]  67%  | 1s\r",
      "[\\\\\\\\\\\\\\\\\\\\\\\\\\\\\\\\\\\\\\\\\\\\\\\\\\\\\\\\\\\\\\\\\\\\\\\\\\\\\\\\\\\\\\\\\\                     ]  68%  | 1s\r",
      "[\\\\\\\\\\\\\\\\\\\\\\\\\\\\\\\\\\\\\\\\\\\\\\\\\\\\\\\\\\\\\\\\\\\\\\\\\\\\\\\\\\\\\\\\\\                     ]  69%  | 1s\r",
      "[\\\\\\\\\\\\\\\\\\\\\\\\\\\\\\\\\\\\\\\\\\\\\\\\\\\\\\\\\\\\\\\\\\\\\\\\\\\\\\\\\\\\\\\\\\\\                    ]  70%  | 1s\r",
      "[\\\\\\\\\\\\\\\\\\\\\\\\\\\\\\\\\\\\\\\\\\\\\\\\\\\\\\\\\\\\\\\\\\\\\\\\\\\\\\\\\\\\\\\\\\\\                    ]  71%  | 1s\r",
      "[\\\\\\\\\\\\\\\\\\\\\\\\\\\\\\\\\\\\\\\\\\\\\\\\\\\\\\\\\\\\\\\\\\\\\\\\\\\\\\\\\\\\\\\\\\\\\\                   ]  72%  | 1s\r",
      "[\\\\\\\\\\\\\\\\\\\\\\\\\\\\\\\\\\\\\\\\\\\\\\\\\\\\\\\\\\\\\\\\\\\\\\\\\\\\\\\\\\\\\\\\\\\\\\\\                  ]  73%  | 1s\r",
      "[\\\\\\\\\\\\\\\\\\\\\\\\\\\\\\\\\\\\\\\\\\\\\\\\\\\\\\\\\\\\\\\\\\\\\\\\\\\\\\\\\\\\\\\\\\\\\\\\                  ]  74%  | 1s\r",
      "[\\\\\\\\\\\\\\\\\\\\\\\\\\\\\\\\\\\\\\\\\\\\\\\\\\\\\\\\\\\\\\\\\\\\\\\\\\\\\\\\\\\\\\\\\\\\\\\\\\                 ]  75%  | 1s\r",
      "[\\\\\\\\\\\\\\\\\\\\\\\\\\\\\\\\\\\\\\\\\\\\\\\\\\\\\\\\\\\\\\\\\\\\\\\\\\\\\\\\\\\\\\\\\\\\\\\\\\\\                ]  76%  | 1s\r",
      "[\\\\\\\\\\\\\\\\\\\\\\\\\\\\\\\\\\\\\\\\\\\\\\\\\\\\\\\\\\\\\\\\\\\\\\\\\\\\\\\\\\\\\\\\\\\\\\\\\\\\\\               ]  77%  | 1s\r",
      "[\\\\\\\\\\\\\\\\\\\\\\\\\\\\\\\\\\\\\\\\\\\\\\\\\\\\\\\\\\\\\\\\\\\\\\\\\\\\\\\\\\\\\\\\\\\\\\\\\\\\\\               ]  78%  | 1s\r",
      "[\\\\\\\\\\\\\\\\\\\\\\\\\\\\\\\\\\\\\\\\\\\\\\\\\\\\\\\\\\\\\\\\\\\\\\\\\\\\\\\\\\\\\\\\\\\\\\\\\\\\\\\\              ]  79%  | 1s\r",
      "[\\\\\\\\\\\\\\\\\\\\\\\\\\\\\\\\\\\\\\\\\\\\\\\\\\\\\\\\\\\\\\\\\\\\\\\\\\\\\\\\\\\\\\\\\\\\\\\\\\\\\\\\\\             ]  80%  | 1s\r",
      "[\\\\\\\\\\\\\\\\\\\\\\\\\\\\\\\\\\\\\\\\\\\\\\\\\\\\\\\\\\\\\\\\\\\\\\\\\\\\\\\\\\\\\\\\\\\\\\\\\\\\\\\\\\             ]  81%  | 1s\r",
      "[\\\\\\\\\\\\\\\\\\\\\\\\\\\\\\\\\\\\\\\\\\\\\\\\\\\\\\\\\\\\\\\\\\\\\\\\\\\\\\\\\\\\\\\\\\\\\\\\\\\\\\\\\\\\            ]  82%  | 1s\r",
      "[\\\\\\\\\\\\\\\\\\\\\\\\\\\\\\\\\\\\\\\\\\\\\\\\\\\\\\\\\\\\\\\\\\\\\\\\\\\\\\\\\\\\\\\\\\\\\\\\\\\\\\\\\\\\\\           ]  83%  | 1s\r",
      "[\\\\\\\\\\\\\\\\\\\\\\\\\\\\\\\\\\\\\\\\\\\\\\\\\\\\\\\\\\\\\\\\\\\\\\\\\\\\\\\\\\\\\\\\\\\\\\\\\\\\\\\\\\\\\\           ]  84%  | 1s\r",
      "[\\\\\\\\\\\\\\\\\\\\\\\\\\\\\\\\\\\\\\\\\\\\\\\\\\\\\\\\\\\\\\\\\\\\\\\\\\\\\\\\\\\\\\\\\\\\\\\\\\\\\\\\\\\\\\\\          ]  85%  | 1s\r",
      "[\\\\\\\\\\\\\\\\\\\\\\\\\\\\\\\\\\\\\\\\\\\\\\\\\\\\\\\\\\\\\\\\\\\\\\\\\\\\\\\\\\\\\\\\\\\\\\\\\\\\\\\\\\\\\\\\\\         ]  86%  | 1s\r",
      "[\\\\\\\\\\\\\\\\\\\\\\\\\\\\\\\\\\\\\\\\\\\\\\\\\\\\\\\\\\\\\\\\\\\\\\\\\\\\\\\\\\\\\\\\\\\\\\\\\\\\\\\\\\\\\\\\\\         ]  87%  | 1s\r",
      "[\\\\\\\\\\\\\\\\\\\\\\\\\\\\\\\\\\\\\\\\\\\\\\\\\\\\\\\\\\\\\\\\\\\\\\\\\\\\\\\\\\\\\\\\\\\\\\\\\\\\\\\\\\\\\\\\\\\\        ]  88%  | 1s\r",
      "[\\\\\\\\\\\\\\\\\\\\\\\\\\\\\\\\\\\\\\\\\\\\\\\\\\\\\\\\\\\\\\\\\\\\\\\\\\\\\\\\\\\\\\\\\\\\\\\\\\\\\\\\\\\\\\\\\\\\        ]  89%  | 1s\r",
      "[\\\\\\\\\\\\\\\\\\\\\\\\\\\\\\\\\\\\\\\\\\\\\\\\\\\\\\\\\\\\\\\\\\\\\\\\\\\\\\\\\\\\\\\\\\\\\\\\\\\\\\\\\\\\\\\\\\\\\\       ]  90%  | 1s\r",
      "[\\\\\\\\\\\\\\\\\\\\\\\\\\\\\\\\\\\\\\\\\\\\\\\\\\\\\\\\\\\\\\\\\\\\\\\\\\\\\\\\\\\\\\\\\\\\\\\\\\\\\\\\\\\\\\\\\\\\\\\\      ]  91%  | 1s\r",
      "[\\\\\\\\\\\\\\\\\\\\\\\\\\\\\\\\\\\\\\\\\\\\\\\\\\\\\\\\\\\\\\\\\\\\\\\\\\\\\\\\\\\\\\\\\\\\\\\\\\\\\\\\\\\\\\\\\\\\\\\\      ]  92%  | 1s\r",
      "[\\\\\\\\\\\\\\\\\\\\\\\\\\\\\\\\\\\\\\\\\\\\\\\\\\\\\\\\\\\\\\\\\\\\\\\\\\\\\\\\\\\\\\\\\\\\\\\\\\\\\\\\\\\\\\\\\\\\\\\\\\     ]  93%  | 1s\r",
      "[\\\\\\\\\\\\\\\\\\\\\\\\\\\\\\\\\\\\\\\\\\\\\\\\\\\\\\\\\\\\\\\\\\\\\\\\\\\\\\\\\\\\\\\\\\\\\\\\\\\\\\\\\\\\\\\\\\\\\\\\\\\\    ]  94%  | 1s\r",
      "[\\\\\\\\\\\\\\\\\\\\\\\\\\\\\\\\\\\\\\\\\\\\\\\\\\\\\\\\\\\\\\\\\\\\\\\\\\\\\\\\\\\\\\\\\\\\\\\\\\\\\\\\\\\\\\\\\\\\\\\\\\\\    ]  95%  | 1s\r",
      "[\\\\\\\\\\\\\\\\\\\\\\\\\\\\\\\\\\\\\\\\\\\\\\\\\\\\\\\\\\\\\\\\\\\\\\\\\\\\\\\\\\\\\\\\\\\\\\\\\\\\\\\\\\\\\\\\\\\\\\\\\\\\\\   ]  96%  | 1s\r",
      "[\\\\\\\\\\\\\\\\\\\\\\\\\\\\\\\\\\\\\\\\\\\\\\\\\\\\\\\\\\\\\\\\\\\\\\\\\\\\\\\\\\\\\\\\\\\\\\\\\\\\\\\\\\\\\\\\\\\\\\\\\\\\\\\\  ]  97%  | 1s\r",
      "[\\\\\\\\\\\\\\\\\\\\\\\\\\\\\\\\\\\\\\\\\\\\\\\\\\\\\\\\\\\\\\\\\\\\\\\\\\\\\\\\\\\\\\\\\\\\\\\\\\\\\\\\\\\\\\\\\\\\\\\\\\\\\\\\  ]  98%  | 1s\r",
      "[\\\\\\\\\\\\\\\\\\\\\\\\\\\\\\\\\\\\\\\\\\\\\\\\\\\\\\\\\\\\\\\\\\\\\\\\\\\\\\\\\\\\\\\\\\\\\\\\\\\\\\\\\\\\\\\\\\\\\\\\\\\\\\\\\\ ]  99%  | 1s\r",
      "                                                                               \r",
      "[                                                                ]   0%  | ---s\r",
      "[\\\\\\                                                               ]   5%  | 1s\r",
      "[\\\\\\\\\\\\\\                                                           ]  11%  | 1s\r",
      "[\\\\\\\\\\\\\\\\\\\\\\                                                       ]  16%  | 1s\r",
      "[\\\\\\\\\\\\\\\\\\\\\\\\\\\\                                                    ]  22%  | 1s\r",
      "[\\\\\\\\\\\\\\\\\\\\\\\\\\\\\\\\\\\\                                                ]  27%  | 1s\r",
      "[\\\\\\\\\\\\\\\\\\\\\\\\\\\\\\\\\\\\\\\\\\\\                                            ]  33%  | 1s\r",
      "[\\\\\\\\\\\\\\\\\\\\\\\\\\\\\\\\\\\\\\\\\\\\\\\\\\                                         ]  38%  | 1s\r",
      "[\\\\\\\\\\\\\\\\\\\\\\\\\\\\\\\\\\\\\\\\\\\\\\\\\\\\\\\\\\                                     ]  44%  | 1s\r",
      "[\\\\\\\\\\\\\\\\\\\\\\\\\\\\\\\\\\\\\\\\\\\\\\\\\\\\\\\\\\\\\\\\\\\\\\\\                              ]  55%  | 1s\r",
      "[\\\\\\\\\\\\\\\\\\\\\\\\\\\\\\\\\\\\\\\\\\\\\\\\\\\\\\\\\\\\\\\\\\\\\\\\\\\\\\\\                          ]  61%  | 1s\r",
      "[\\\\\\\\\\\\\\\\\\\\\\\\\\\\\\\\\\\\\\\\\\\\\\\\\\\\\\\\\\\\\\\\\\\\\\\\\\\\\\\\\\\\\\\\                      ]  66%  | 1s\r",
      "[\\\\\\\\\\\\\\\\\\\\\\\\\\\\\\\\\\\\\\\\\\\\\\\\\\\\\\\\\\\\\\\\\\\\\\\\\\\\\\\\\\\\\\\\\\\\\\                   ]  72%  | 1s\r",
      "[\\\\\\\\\\\\\\\\\\\\\\\\\\\\\\\\\\\\\\\\\\\\\\\\\\\\\\\\\\\\\\\\\\\\\\\\\\\\\\\\\\\\\\\\\\\\\\\\\\\\\\               ]  77%  | 1s\r",
      "[\\\\\\\\\\\\\\\\\\\\\\\\\\\\\\\\\\\\\\\\\\\\\\\\\\\\\\\\\\\\\\\\\\\\\\\\\\\\\\\\\\\\\\\\\\\\\\\\\\\\\\\\\\\\\\           ]  83%  | 1s\r",
      "[\\\\\\\\\\\\\\\\\\\\\\\\\\\\\\\\\\\\\\\\\\\\\\\\\\\\\\\\\\\\\\\\\\\\\\\\\\\\\\\\\\\\\\\\\\\\\\\\\\\\\\\\\\\\\\\\\\\\        ]  88%  | 1s\r",
      "[\\\\\\\\\\\\\\\\\\\\\\\\\\\\\\\\\\\\\\\\\\\\\\\\\\\\\\\\\\\\\\\\\\\\\\\\\\\\\\\\\\\\\\\\\\\\\\\\\\\\\\\\\\\\\\\\\\\\\\\\\\\\    ]  94%  | 1s\r",
      "                                                                               \r",
      "\r\n",
      "\r\n",
      "~~~~~~~~~~~~~~~~~~~~~~~~~~~~~~~~~~~~~~~~~~~~~~~~~~~~~~~~~~~~~~~~~~~~~~~~\r\n",
      "\r\n",
      "\r\n",
      "Converting netcdf file into SELAFIN\r\n",
      "\r\n",
      "     +> Write Selafin header\r\n",
      "     +> Write Selafin core\r\n",
      "[                                                                ]   0%  | ---s\r",
      "[\\\\\\\\\\\\\\\\                                                          ]  12%  | 1s\r",
      "[\\\\\\\\\\\\\\\\\\\\\\\\\\\\\\\\                                                  ]  25%  | 1s\r",
      "[\\\\\\\\\\\\\\\\\\\\\\\\\\\\\\\\\\\\\\\\\\\\\\\\                                          ]  37%  | 1s\r",
      "[\\\\\\\\\\\\\\\\\\\\\\\\\\\\\\\\\\\\\\\\\\\\\\\\\\\\\\\\\\\\\\\\\\                                 ]  50%  | 1s\r",
      "[\\\\\\\\\\\\\\\\\\\\\\\\\\\\\\\\\\\\\\\\\\\\\\\\\\\\\\\\\\\\\\\\\\\\\\\\\\\\\\\\\\                         ]  62%  | 1s\r",
      "[\\\\\\\\\\\\\\\\\\\\\\\\\\\\\\\\\\\\\\\\\\\\\\\\\\\\\\\\\\\\\\\\\\\\\\\\\\\\\\\\\\\\\\\\\\\\\\\\\\                 ]  75%  | 1s\r",
      "[\\\\\\\\\\\\\\\\\\\\\\\\\\\\\\\\\\\\\\\\\\\\\\\\\\\\\\\\\\\\\\\\\\\\\\\\\\\\\\\\\\\\\\\\\\\\\\\\\\\\\\\\\\\\\\\\\\         ]  87%  | 1s\r",
      "                                                                               \r",
      "/home/d60881/opt2/python-3.7.13/arch/S10/gnu-8.3.0/lib/python3.7/site-packages/scipy/io/netcdf.py:312: RuntimeWarning: Cannot close a netcdf_file opened with mmap=True, when netcdf_variables or arrays referring to its data still exist. All data arrays obtained from such files refer directly to data on disk, and must be copied before the file can be cleanly closed. (See netcdf_file docstring for more information on mmap.)\r\n",
      "  ), category=RuntimeWarning)\r\n"
     ]
    },
    {
     "name": "stdout",
     "output_type": "stream",
     "text": [
      "\r\n",
      "\r\n",
      "Interpreting command line options\r\n",
      "~~~~~~~~~~~~~~~~~~~~~~~~~~~~~~~~~~~~~~~~~~~~~~~~~~~~~~~~~~~~~~~~~~~~~~~~\r\n",
      "\r\n"
     ]
    },
    {
     "name": "stdout",
     "output_type": "stream",
     "text": [
      "~> Generic info\r\n",
      "\r\n",
      "  - Title: \r\n",
      "  - Date: 2017-07-31 14:00:00\r\n",
      "  - Format: SERAFIN\r\n",
      "  - Endianess:  BIG_ENDIAN\r\n",
      "  - Precision: Single precision\r\n",
      "\r\n",
      "~> Mesh info\r\n",
      "\r\n",
      "  - Number of dimensions: 2\r\n",
      "  - Element type: triangle\r\n",
      "  - Number of points: 81\r\n",
      "  - Number of elements: 128\r\n",
      "  - Number of points per element: 3\r\n",
      "  - Number of planes: 1\r\n",
      "\r\n",
      "  +> Coordinates\r\n",
      "\r\n",
      "    - X offset, Y offset = 0, 0\r\n",
      "    - X range [-119.0, -118.0]\r\n",
      "    - Y range [20.0, 21.0]\r\n",
      "\r\n",
      "~> Parallel info\r\n",
      "\r\n",
      "  - No parallel information\r\n",
      "\r\n",
      "~> Boundary info\r\n",
      "\r\n",
      "  - No boundary file given\r\n",
      "\r\n",
      "~> Data info\r\n",
      "\r\n",
      "  - Number of records: 8\r\n",
      "  - Time range: [0.0, 151200.0]\r\n",
      "  - Number of variables: 4\r\n",
      "    - Name: SURFACE PRESSURE Unit: UI\r\n",
      "    - Name: WIND VELOCITY U  Unit: M/S\r\n",
      "    - Name: WIND VELOCITY V  Unit: M/S\r\n",
      "    - Name: AIR TEMPERATURE  Unit: DEGREES\r\n",
      "\r\n",
      "  - SURFACE PRESSURE\r\n",
      "    +> Time: 0.0s min, max:  [101337.2421875, 101392.234375]\r\n",
      "    +> Time: 21600.0s min, max:  [101534.5625, 101572.1875]\r\n",
      "    +> Time: 43200.0s min, max:  [101329.546875, 101384.8828125]\r\n",
      "    +> Time: 64800.0s min, max:  [101414.640625, 101466.796875]\r\n",
      "    +> Time: 86400.0s min, max:  [101158.3671875, 101207.1484375]\r\n",
      "    +> Time: 108000.0s min, max:  [101298.015625, 101328.953125]\r\n",
      "    +> Time: 129600.0s min, max:  [101164.7890625, 101195.171875]\r\n",
      "    +> Time: 151200.0s min, max:  [101318.046875, 101348.9765625]\r\n",
      "  - WIND VELOCITY U\r\n",
      "    +> Time: 0.0s min, max:  [-0.20045652985572815, 1.4430832862854004]\r\n",
      "    +> Time: 21600.0s min, max:  [-0.8355398774147034, 1.1535404920578003]\r\n",
      "    +> Time: 43200.0s min, max:  [-0.8348751664161682, 1.6430630683898926]\r\n",
      "    +> Time: 64800.0s min, max:  [0.28740444779396057, 2.0853116512298584]\r\n",
      "    +> Time: 86400.0s min, max:  [1.5819973945617676, 2.0317234992980957]\r\n",
      "    +> Time: 108000.0s min, max:  [-0.017840992659330368, 0.3299427330493927]\r\n",
      "    +> Time: 129600.0s min, max:  [-1.026214361190796, -0.6221837401390076]\r\n",
      "    +> Time: 151200.0s min, max:  [-3.359339714050293, -3.0687999725341797]\r\n",
      "  - WIND VELOCITY V\r\n",
      "    +> Time: 0.0s min, max:  [-4.482602119445801, -4.24226188659668]\r\n",
      "    +> Time: 21600.0s min, max:  [-7.1547675132751465, -6.53374719619751]\r\n",
      "    +> Time: 43200.0s min, max:  [-6.950171947479248, -6.308300971984863]\r\n",
      "    +> Time: 64800.0s min, max:  [-6.0540032386779785, -5.239196300506592]\r\n",
      "    +> Time: 86400.0s min, max:  [-7.427618026733398, -6.504045009613037]\r\n",
      "    +> Time: 108000.0s min, max:  [-6.607874870300293, -5.554940700531006]\r\n",
      "    +> Time: 129600.0s min, max:  [-5.319962024688721, -4.425580978393555]\r\n",
      "    +> Time: 151200.0s min, max:  [-3.009753465652466, -1.850351333618164]\r\n",
      "  - AIR TEMPERATURE\r\n",
      "    +> Time: 0.0s min, max:  [24.686119079589844, 25.202695846557617]\r\n",
      "    +> Time: 21600.0s min, max:  [24.29532814025879, 24.93209457397461]\r\n",
      "    +> Time: 43200.0s min, max:  [23.611549377441406, 24.110248565673828]\r\n",
      "    +> Time: 64800.0s min, max:  [24.891618728637695, 25.294055938720703]\r\n",
      "    +> Time: 86400.0s min, max:  [25.036916732788086, 25.494897842407227]\r\n",
      "    +> Time: 108000.0s min, max:  [24.724477767944336, 25.194679260253906]\r\n",
      "    +> Time: 129600.0s min, max:  [23.972875595092773, 24.475597381591797]\r\n",
      "    +> Time: 151200.0s min, max:  [23.512414932250977, 24.05866813659668]\r\n",
      "\r\n",
      "\r\n",
      "My work is done\r\n",
      "\r\n",
      "\r\n"
     ]
    }
   ],
   "source": [
    "HOMETEL = %env HOMETEL\n",
    "%cd -q {HOMETEL}/examples/python3/data2srf\n",
    "\n",
    "!converter.py ecmwf2srf --from '2017-08-01' --stop '2017-08-02' \\\n",
    "                        --bl '(20, -119)' --tr '(21,-118)' \\\n",
    "                        --dataset ecmwf_20170801_20170802_20-119_21-118.nc \\\n",
    "                        --stream oper ecmwf_20170801_20170802_20-119_21-118.slf\n",
    "                       \n",
    "!run_telfile.py scan --data ecmwf_20170801_20170802_20-119_21-118.slf"
   ]
  },
  {
   "cell_type": "markdown",
   "metadata": {},
   "source": [
    "## Extracting gebco data\n",
    "\n",
    "We will use **converter.py gebco2srf**"
   ]
  },
  {
   "cell_type": "code",
   "execution_count": 4,
   "metadata": {
    "execution": {
     "iopub.execute_input": "2022-12-01T13:51:23.146304Z",
     "iopub.status.busy": "2022-12-01T13:51:23.146115Z",
     "iopub.status.idle": "2022-12-01T13:51:23.654239Z",
     "shell.execute_reply": "2022-12-01T13:51:23.652149Z"
    }
   },
   "outputs": [
    {
     "name": "stdout",
     "output_type": "stream",
     "text": [
      "usage: converter.py gebco2srf [-h] [--above ABVAL] [--below BEVAL]\r\n",
      "                              [--sph2ll SPH2LL] [--ll2sph LL2SPH]\r\n",
      "                              [--ll2utm LL2UTM] [--utm2ll UTM2LL] [--X+? AXP]\r\n",
      "                              gebco_file\r\n",
      "\r\n",
      "positional arguments:\r\n",
      "  gebco_file       Name of the gebco file to extract data from.\r\n",
      "\r\n",
      "optional arguments:\r\n",
      "  -h, --help       show this help message and exit\r\n",
      "  --above ABVAL    select only the values above\r\n",
      "  --below BEVAL    select only the values below\r\n",
      "  --sph2ll SPH2LL  convert from spherical to longitude-latitude\r\n",
      "  --ll2sph LL2SPH  convert from longitude-latitude to spherical\r\n",
      "  --ll2utm LL2UTM  convert from longitude-latitude to UTM\r\n",
      "  --utm2ll UTM2LL  convert from UTM to longitude-latitude\r\n",
      "  --X+? AXP        adds to the meshx\r\n"
     ]
    }
   ],
   "source": [
    "!converter.py gebco2srf -h"
   ]
  },
  {
   "cell_type": "code",
   "execution_count": 5,
   "metadata": {
    "execution": {
     "iopub.execute_input": "2022-12-01T13:51:23.661443Z",
     "iopub.status.busy": "2022-12-01T13:51:23.660969Z",
     "iopub.status.idle": "2022-12-01T13:51:47.418624Z",
     "shell.execute_reply": "2022-12-01T13:51:47.416884Z"
    }
   },
   "outputs": [
    {
     "name": "stdout",
     "output_type": "stream",
     "text": [
      "\r\n",
      "\r\n",
      "~~~~~~~~~~~~~~~~~~~~~~~~~~~~~~~~~~~~~~~~~~~~~~~~~~~~~~~~~~~~~~~~~~~~~~~~\r\n",
      "\r\n",
      "\r\n",
      "Loading the GEBCO file\r\n",
      "\r\n",
      "     +> header\r\n",
      "     +> bathymetry\r\n"
     ]
    },
    {
     "name": "stdout",
     "output_type": "stream",
     "text": [
      "     +> filtered connectivity\r\n"
     ]
    },
    {
     "name": "stdout",
     "output_type": "stream",
     "text": [
      "[                                                                ]   0%  | ---s\r"
     ]
    },
    {
     "name": "stdout",
     "output_type": "stream",
     "text": [
      "[                                                                  ]   1%  | 6s\r"
     ]
    },
    {
     "name": "stdout",
     "output_type": "stream",
     "text": [
      "[\\                                                                 ]   2%  | 5s\r"
     ]
    },
    {
     "name": "stdout",
     "output_type": "stream",
     "text": [
      "[\\                                                                 ]   3%  | 5s\r"
     ]
    },
    {
     "name": "stdout",
     "output_type": "stream",
     "text": [
      "[\\\\                                                                ]   4%  | 5s\r"
     ]
    },
    {
     "name": "stdout",
     "output_type": "stream",
     "text": [
      "[\\\\\\                                                               ]   5%  | 5s\r"
     ]
    },
    {
     "name": "stdout",
     "output_type": "stream",
     "text": [
      "[\\\\\\                                                               ]   6%  | 5s\r"
     ]
    },
    {
     "name": "stdout",
     "output_type": "stream",
     "text": [
      "[\\\\\\\\                                                              ]   7%  | 5s\r"
     ]
    },
    {
     "name": "stdout",
     "output_type": "stream",
     "text": [
      "[\\\\\\\\\\                                                             ]   8%  | 5s\r",
      "[\\\\\\\\\\                                                             ]   9%  | 5s\r"
     ]
    },
    {
     "name": "stdout",
     "output_type": "stream",
     "text": [
      "[\\\\\\\\\\\\                                                            ]  10%  | 5s\r"
     ]
    },
    {
     "name": "stdout",
     "output_type": "stream",
     "text": [
      "[\\\\\\\\\\\\\\                                                           ]  11%  | 5s\r"
     ]
    },
    {
     "name": "stdout",
     "output_type": "stream",
     "text": [
      "[\\\\\\\\\\\\\\                                                           ]  12%  | 5s\r"
     ]
    },
    {
     "name": "stdout",
     "output_type": "stream",
     "text": [
      "[\\\\\\\\\\\\\\\\                                                          ]  13%  | 5s\r"
     ]
    },
    {
     "name": "stdout",
     "output_type": "stream",
     "text": [
      "[\\\\\\\\\\\\\\\\\\                                                         ]  14%  | 5s\r"
     ]
    },
    {
     "name": "stdout",
     "output_type": "stream",
     "text": [
      "[\\\\\\\\\\\\\\\\\\                                                         ]  15%  | 4s\r"
     ]
    },
    {
     "name": "stdout",
     "output_type": "stream",
     "text": [
      "[\\\\\\\\\\\\\\\\\\\\                                                        ]  16%  | 4s\r"
     ]
    },
    {
     "name": "stdout",
     "output_type": "stream",
     "text": [
      "[\\\\\\\\\\\\\\\\\\\\\\                                                       ]  17%  | 4s\r"
     ]
    },
    {
     "name": "stdout",
     "output_type": "stream",
     "text": [
      "[\\\\\\\\\\\\\\\\\\\\\\                                                       ]  18%  | 4s\r"
     ]
    },
    {
     "name": "stdout",
     "output_type": "stream",
     "text": [
      "[\\\\\\\\\\\\\\\\\\\\\\\\                                                      ]  19%  | 4s\r"
     ]
    },
    {
     "name": "stdout",
     "output_type": "stream",
     "text": [
      "[\\\\\\\\\\\\\\\\\\\\\\\\\\                                                     ]  20%  | 4s\r"
     ]
    },
    {
     "name": "stdout",
     "output_type": "stream",
     "text": [
      "[\\\\\\\\\\\\\\\\\\\\\\\\\\                                                     ]  21%  | 4s\r",
      "[\\\\\\\\\\\\\\\\\\\\\\\\\\\\                                                    ]  22%  | 4s\r"
     ]
    },
    {
     "name": "stdout",
     "output_type": "stream",
     "text": [
      "[\\\\\\\\\\\\\\\\\\\\\\\\\\\\\\                                                   ]  23%  | 4s\r"
     ]
    },
    {
     "name": "stdout",
     "output_type": "stream",
     "text": [
      "[\\\\\\\\\\\\\\\\\\\\\\\\\\\\\\                                                   ]  24%  | 4s\r"
     ]
    },
    {
     "name": "stdout",
     "output_type": "stream",
     "text": [
      "[\\\\\\\\\\\\\\\\\\\\\\\\\\\\\\\\                                                  ]  25%  | 4s\r"
     ]
    },
    {
     "name": "stdout",
     "output_type": "stream",
     "text": [
      "[\\\\\\\\\\\\\\\\\\\\\\\\\\\\\\\\\\                                                 ]  26%  | 4s\r"
     ]
    },
    {
     "name": "stdout",
     "output_type": "stream",
     "text": [
      "[\\\\\\\\\\\\\\\\\\\\\\\\\\\\\\\\\\                                                 ]  27%  | 4s\r"
     ]
    },
    {
     "name": "stdout",
     "output_type": "stream",
     "text": [
      "[\\\\\\\\\\\\\\\\\\\\\\\\\\\\\\\\\\\\                                                ]  28%  | 4s\r"
     ]
    },
    {
     "name": "stdout",
     "output_type": "stream",
     "text": [
      "[\\\\\\\\\\\\\\\\\\\\\\\\\\\\\\\\\\\\\\                                               ]  29%  | 4s\r"
     ]
    },
    {
     "name": "stdout",
     "output_type": "stream",
     "text": [
      "[\\\\\\\\\\\\\\\\\\\\\\\\\\\\\\\\\\\\\\                                               ]  30%  | 4s\r"
     ]
    },
    {
     "name": "stdout",
     "output_type": "stream",
     "text": [
      "[\\\\\\\\\\\\\\\\\\\\\\\\\\\\\\\\\\\\\\\\                                              ]  31%  | 4s\r"
     ]
    },
    {
     "name": "stdout",
     "output_type": "stream",
     "text": [
      "[\\\\\\\\\\\\\\\\\\\\\\\\\\\\\\\\\\\\\\\\\\                                             ]  32%  | 4s\r"
     ]
    },
    {
     "name": "stdout",
     "output_type": "stream",
     "text": [
      "[\\\\\\\\\\\\\\\\\\\\\\\\\\\\\\\\\\\\\\\\\\                                             ]  33%  | 4s\r",
      "[\\\\\\\\\\\\\\\\\\\\\\\\\\\\\\\\\\\\\\\\\\\\                                            ]  34%  | 4s\r"
     ]
    },
    {
     "name": "stdout",
     "output_type": "stream",
     "text": [
      "[\\\\\\\\\\\\\\\\\\\\\\\\\\\\\\\\\\\\\\\\\\\\\\                                           ]  35%  | 4s\r"
     ]
    },
    {
     "name": "stdout",
     "output_type": "stream",
     "text": [
      "[\\\\\\\\\\\\\\\\\\\\\\\\\\\\\\\\\\\\\\\\\\\\\\                                           ]  36%  | 3s\r"
     ]
    },
    {
     "name": "stdout",
     "output_type": "stream",
     "text": [
      "[\\\\\\\\\\\\\\\\\\\\\\\\\\\\\\\\\\\\\\\\\\\\\\\\                                          ]  37%  | 3s\r"
     ]
    },
    {
     "name": "stdout",
     "output_type": "stream",
     "text": [
      "[\\\\\\\\\\\\\\\\\\\\\\\\\\\\\\\\\\\\\\\\\\\\\\\\\\                                         ]  38%  | 3s\r"
     ]
    },
    {
     "name": "stdout",
     "output_type": "stream",
     "text": [
      "[\\\\\\\\\\\\\\\\\\\\\\\\\\\\\\\\\\\\\\\\\\\\\\\\\\                                         ]  39%  | 3s\r"
     ]
    },
    {
     "name": "stdout",
     "output_type": "stream",
     "text": [
      "[\\\\\\\\\\\\\\\\\\\\\\\\\\\\\\\\\\\\\\\\\\\\\\\\\\\\                                        ]  40%  | 3s\r"
     ]
    },
    {
     "name": "stdout",
     "output_type": "stream",
     "text": [
      "[\\\\\\\\\\\\\\\\\\\\\\\\\\\\\\\\\\\\\\\\\\\\\\\\\\\\\\                                       ]  41%  | 3s\r"
     ]
    },
    {
     "name": "stdout",
     "output_type": "stream",
     "text": [
      "[\\\\\\\\\\\\\\\\\\\\\\\\\\\\\\\\\\\\\\\\\\\\\\\\\\\\\\                                       ]  42%  | 3s\r"
     ]
    },
    {
     "name": "stdout",
     "output_type": "stream",
     "text": [
      "[\\\\\\\\\\\\\\\\\\\\\\\\\\\\\\\\\\\\\\\\\\\\\\\\\\\\\\\\                                      ]  43%  | 3s\r"
     ]
    },
    {
     "name": "stdout",
     "output_type": "stream",
     "text": [
      "[\\\\\\\\\\\\\\\\\\\\\\\\\\\\\\\\\\\\\\\\\\\\\\\\\\\\\\\\\\                                     ]  44%  | 3s\r",
      "[\\\\\\\\\\\\\\\\\\\\\\\\\\\\\\\\\\\\\\\\\\\\\\\\\\\\\\\\\\                                     ]  45%  | 3s\r"
     ]
    },
    {
     "name": "stdout",
     "output_type": "stream",
     "text": [
      "[\\\\\\\\\\\\\\\\\\\\\\\\\\\\\\\\\\\\\\\\\\\\\\\\\\\\\\\\\\\\                                    ]  46%  | 3s\r"
     ]
    },
    {
     "name": "stdout",
     "output_type": "stream",
     "text": [
      "[\\\\\\\\\\\\\\\\\\\\\\\\\\\\\\\\\\\\\\\\\\\\\\\\\\\\\\\\\\\\\\                                   ]  47%  | 3s\r"
     ]
    },
    {
     "name": "stdout",
     "output_type": "stream",
     "text": [
      "[\\\\\\\\\\\\\\\\\\\\\\\\\\\\\\\\\\\\\\\\\\\\\\\\\\\\\\\\\\\\\\                                   ]  48%  | 3s\r"
     ]
    },
    {
     "name": "stdout",
     "output_type": "stream",
     "text": [
      "[\\\\\\\\\\\\\\\\\\\\\\\\\\\\\\\\\\\\\\\\\\\\\\\\\\\\\\\\\\\\\\\\                                  ]  49%  | 3s\r"
     ]
    },
    {
     "name": "stdout",
     "output_type": "stream",
     "text": [
      "[\\\\\\\\\\\\\\\\\\\\\\\\\\\\\\\\\\\\\\\\\\\\\\\\\\\\\\\\\\\\\\\\\\                                 ]  50%  | 3s\r"
     ]
    },
    {
     "name": "stdout",
     "output_type": "stream",
     "text": [
      "[\\\\\\\\\\\\\\\\\\\\\\\\\\\\\\\\\\\\\\\\\\\\\\\\\\\\\\\\\\\\\\\\\\                                 ]  51%  | 3s\r"
     ]
    },
    {
     "name": "stdout",
     "output_type": "stream",
     "text": [
      "[\\\\\\\\\\\\\\\\\\\\\\\\\\\\\\\\\\\\\\\\\\\\\\\\\\\\\\\\\\\\\\\\\\\\                                ]  52%  | 3s\r"
     ]
    },
    {
     "name": "stdout",
     "output_type": "stream",
     "text": [
      "[\\\\\\\\\\\\\\\\\\\\\\\\\\\\\\\\\\\\\\\\\\\\\\\\\\\\\\\\\\\\\\\\\\\\                                ]  53%  | 3s\r"
     ]
    },
    {
     "name": "stdout",
     "output_type": "stream",
     "text": [
      "[\\\\\\\\\\\\\\\\\\\\\\\\\\\\\\\\\\\\\\\\\\\\\\\\\\\\\\\\\\\\\\\\\\\\\\                               ]  54%  | 3s\r"
     ]
    },
    {
     "name": "stdout",
     "output_type": "stream",
     "text": [
      "[\\\\\\\\\\\\\\\\\\\\\\\\\\\\\\\\\\\\\\\\\\\\\\\\\\\\\\\\\\\\\\\\\\\\\\\\                              ]  55%  | 3s\r",
      "[\\\\\\\\\\\\\\\\\\\\\\\\\\\\\\\\\\\\\\\\\\\\\\\\\\\\\\\\\\\\\\\\\\\\\\\\                              ]  56%  | 3s\r"
     ]
    },
    {
     "name": "stdout",
     "output_type": "stream",
     "text": [
      "[\\\\\\\\\\\\\\\\\\\\\\\\\\\\\\\\\\\\\\\\\\\\\\\\\\\\\\\\\\\\\\\\\\\\\\\\\\                             ]  57%  | 2s\r"
     ]
    },
    {
     "name": "stdout",
     "output_type": "stream",
     "text": [
      "[\\\\\\\\\\\\\\\\\\\\\\\\\\\\\\\\\\\\\\\\\\\\\\\\\\\\\\\\\\\\\\\\\\\\\\\\\\\\                            ]  58%  | 2s\r"
     ]
    },
    {
     "name": "stdout",
     "output_type": "stream",
     "text": [
      "[\\\\\\\\\\\\\\\\\\\\\\\\\\\\\\\\\\\\\\\\\\\\\\\\\\\\\\\\\\\\\\\\\\\\\\\\\\\\                            ]  59%  | 2s\r"
     ]
    },
    {
     "name": "stdout",
     "output_type": "stream",
     "text": [
      "[\\\\\\\\\\\\\\\\\\\\\\\\\\\\\\\\\\\\\\\\\\\\\\\\\\\\\\\\\\\\\\\\\\\\\\\\\\\\\\                           ]  60%  | 2s\r"
     ]
    },
    {
     "name": "stdout",
     "output_type": "stream",
     "text": [
      "[\\\\\\\\\\\\\\\\\\\\\\\\\\\\\\\\\\\\\\\\\\\\\\\\\\\\\\\\\\\\\\\\\\\\\\\\\\\\\\\\                          ]  61%  | 2s\r"
     ]
    },
    {
     "name": "stdout",
     "output_type": "stream",
     "text": [
      "[\\\\\\\\\\\\\\\\\\\\\\\\\\\\\\\\\\\\\\\\\\\\\\\\\\\\\\\\\\\\\\\\\\\\\\\\\\\\\\\\                          ]  62%  | 2s\r"
     ]
    },
    {
     "name": "stdout",
     "output_type": "stream",
     "text": [
      "[\\\\\\\\\\\\\\\\\\\\\\\\\\\\\\\\\\\\\\\\\\\\\\\\\\\\\\\\\\\\\\\\\\\\\\\\\\\\\\\\\\                         ]  63%  | 2s\r"
     ]
    },
    {
     "name": "stdout",
     "output_type": "stream",
     "text": [
      "[\\\\\\\\\\\\\\\\\\\\\\\\\\\\\\\\\\\\\\\\\\\\\\\\\\\\\\\\\\\\\\\\\\\\\\\\\\\\\\\\\\\\                        ]  64%  | 2s\r"
     ]
    },
    {
     "name": "stdout",
     "output_type": "stream",
     "text": [
      "[\\\\\\\\\\\\\\\\\\\\\\\\\\\\\\\\\\\\\\\\\\\\\\\\\\\\\\\\\\\\\\\\\\\\\\\\\\\\\\\\\\\\                        ]  65%  | 2s\r"
     ]
    },
    {
     "name": "stdout",
     "output_type": "stream",
     "text": [
      "[\\\\\\\\\\\\\\\\\\\\\\\\\\\\\\\\\\\\\\\\\\\\\\\\\\\\\\\\\\\\\\\\\\\\\\\\\\\\\\\\\\\\\\                       ]  66%  | 2s\r"
     ]
    },
    {
     "name": "stdout",
     "output_type": "stream",
     "text": [
      "[\\\\\\\\\\\\\\\\\\\\\\\\\\\\\\\\\\\\\\\\\\\\\\\\\\\\\\\\\\\\\\\\\\\\\\\\\\\\\\\\\\\\\\\\                      ]  67%  | 2s\r",
      "[\\\\\\\\\\\\\\\\\\\\\\\\\\\\\\\\\\\\\\\\\\\\\\\\\\\\\\\\\\\\\\\\\\\\\\\\\\\\\\\\\\\\\\\\                      ]  68%  | 2s\r"
     ]
    },
    {
     "name": "stdout",
     "output_type": "stream",
     "text": [
      "[\\\\\\\\\\\\\\\\\\\\\\\\\\\\\\\\\\\\\\\\\\\\\\\\\\\\\\\\\\\\\\\\\\\\\\\\\\\\\\\\\\\\\\\\\\                     ]  69%  | 2s\r"
     ]
    },
    {
     "name": "stdout",
     "output_type": "stream",
     "text": [
      "[\\\\\\\\\\\\\\\\\\\\\\\\\\\\\\\\\\\\\\\\\\\\\\\\\\\\\\\\\\\\\\\\\\\\\\\\\\\\\\\\\\\\\\\\\\\\                    ]  70%  | 2s\r"
     ]
    },
    {
     "name": "stdout",
     "output_type": "stream",
     "text": [
      "[\\\\\\\\\\\\\\\\\\\\\\\\\\\\\\\\\\\\\\\\\\\\\\\\\\\\\\\\\\\\\\\\\\\\\\\\\\\\\\\\\\\\\\\\\\\\                    ]  71%  | 2s\r"
     ]
    },
    {
     "name": "stdout",
     "output_type": "stream",
     "text": [
      "[\\\\\\\\\\\\\\\\\\\\\\\\\\\\\\\\\\\\\\\\\\\\\\\\\\\\\\\\\\\\\\\\\\\\\\\\\\\\\\\\\\\\\\\\\\\\\\                   ]  72%  | 2s\r"
     ]
    },
    {
     "name": "stdout",
     "output_type": "stream",
     "text": [
      "[\\\\\\\\\\\\\\\\\\\\\\\\\\\\\\\\\\\\\\\\\\\\\\\\\\\\\\\\\\\\\\\\\\\\\\\\\\\\\\\\\\\\\\\\\\\\\\\\                  ]  73%  | 2s\r"
     ]
    },
    {
     "name": "stdout",
     "output_type": "stream",
     "text": [
      "[\\\\\\\\\\\\\\\\\\\\\\\\\\\\\\\\\\\\\\\\\\\\\\\\\\\\\\\\\\\\\\\\\\\\\\\\\\\\\\\\\\\\\\\\\\\\\\\\                  ]  74%  | 2s\r"
     ]
    },
    {
     "name": "stdout",
     "output_type": "stream",
     "text": [
      "[\\\\\\\\\\\\\\\\\\\\\\\\\\\\\\\\\\\\\\\\\\\\\\\\\\\\\\\\\\\\\\\\\\\\\\\\\\\\\\\\\\\\\\\\\\\\\\\\\\                 ]  75%  | 2s\r"
     ]
    },
    {
     "name": "stdout",
     "output_type": "stream",
     "text": [
      "[\\\\\\\\\\\\\\\\\\\\\\\\\\\\\\\\\\\\\\\\\\\\\\\\\\\\\\\\\\\\\\\\\\\\\\\\\\\\\\\\\\\\\\\\\\\\\\\\\\\\                ]  76%  | 2s\r"
     ]
    },
    {
     "name": "stdout",
     "output_type": "stream",
     "text": [
      "[\\\\\\\\\\\\\\\\\\\\\\\\\\\\\\\\\\\\\\\\\\\\\\\\\\\\\\\\\\\\\\\\\\\\\\\\\\\\\\\\\\\\\\\\\\\\\\\\\\\\                ]  77%  | 2s\r"
     ]
    },
    {
     "name": "stdout",
     "output_type": "stream",
     "text": [
      "[\\\\\\\\\\\\\\\\\\\\\\\\\\\\\\\\\\\\\\\\\\\\\\\\\\\\\\\\\\\\\\\\\\\\\\\\\\\\\\\\\\\\\\\\\\\\\\\\\\\\\\               ]  78%  | 2s\r"
     ]
    },
    {
     "name": "stdout",
     "output_type": "stream",
     "text": [
      "[\\\\\\\\\\\\\\\\\\\\\\\\\\\\\\\\\\\\\\\\\\\\\\\\\\\\\\\\\\\\\\\\\\\\\\\\\\\\\\\\\\\\\\\\\\\\\\\\\\\\\\\\              ]  79%  | 1s\r",
      "[\\\\\\\\\\\\\\\\\\\\\\\\\\\\\\\\\\\\\\\\\\\\\\\\\\\\\\\\\\\\\\\\\\\\\\\\\\\\\\\\\\\\\\\\\\\\\\\\\\\\\\\\              ]  80%  | 1s\r"
     ]
    },
    {
     "name": "stdout",
     "output_type": "stream",
     "text": [
      "[\\\\\\\\\\\\\\\\\\\\\\\\\\\\\\\\\\\\\\\\\\\\\\\\\\\\\\\\\\\\\\\\\\\\\\\\\\\\\\\\\\\\\\\\\\\\\\\\\\\\\\\\\\             ]  81%  | 1s\r"
     ]
    },
    {
     "name": "stdout",
     "output_type": "stream",
     "text": [
      "[\\\\\\\\\\\\\\\\\\\\\\\\\\\\\\\\\\\\\\\\\\\\\\\\\\\\\\\\\\\\\\\\\\\\\\\\\\\\\\\\\\\\\\\\\\\\\\\\\\\\\\\\\\\\            ]  82%  | 1s\r"
     ]
    },
    {
     "name": "stdout",
     "output_type": "stream",
     "text": [
      "[\\\\\\\\\\\\\\\\\\\\\\\\\\\\\\\\\\\\\\\\\\\\\\\\\\\\\\\\\\\\\\\\\\\\\\\\\\\\\\\\\\\\\\\\\\\\\\\\\\\\\\\\\\\\            ]  83%  | 1s\r"
     ]
    },
    {
     "name": "stdout",
     "output_type": "stream",
     "text": [
      "[\\\\\\\\\\\\\\\\\\\\\\\\\\\\\\\\\\\\\\\\\\\\\\\\\\\\\\\\\\\\\\\\\\\\\\\\\\\\\\\\\\\\\\\\\\\\\\\\\\\\\\\\\\\\\\           ]  84%  | 1s\r"
     ]
    },
    {
     "name": "stdout",
     "output_type": "stream",
     "text": [
      "[\\\\\\\\\\\\\\\\\\\\\\\\\\\\\\\\\\\\\\\\\\\\\\\\\\\\\\\\\\\\\\\\\\\\\\\\\\\\\\\\\\\\\\\\\\\\\\\\\\\\\\\\\\\\\\\\          ]  85%  | 1s\r"
     ]
    },
    {
     "name": "stdout",
     "output_type": "stream",
     "text": [
      "[\\\\\\\\\\\\\\\\\\\\\\\\\\\\\\\\\\\\\\\\\\\\\\\\\\\\\\\\\\\\\\\\\\\\\\\\\\\\\\\\\\\\\\\\\\\\\\\\\\\\\\\\\\\\\\\\          ]  86%  | 1s\r"
     ]
    },
    {
     "name": "stdout",
     "output_type": "stream",
     "text": [
      "[\\\\\\\\\\\\\\\\\\\\\\\\\\\\\\\\\\\\\\\\\\\\\\\\\\\\\\\\\\\\\\\\\\\\\\\\\\\\\\\\\\\\\\\\\\\\\\\\\\\\\\\\\\\\\\\\\\         ]  87%  | 1s\r"
     ]
    },
    {
     "name": "stdout",
     "output_type": "stream",
     "text": [
      "[\\\\\\\\\\\\\\\\\\\\\\\\\\\\\\\\\\\\\\\\\\\\\\\\\\\\\\\\\\\\\\\\\\\\\\\\\\\\\\\\\\\\\\\\\\\\\\\\\\\\\\\\\\\\\\\\\\\\        ]  88%  | 1s\r"
     ]
    },
    {
     "name": "stdout",
     "output_type": "stream",
     "text": [
      "[\\\\\\\\\\\\\\\\\\\\\\\\\\\\\\\\\\\\\\\\\\\\\\\\\\\\\\\\\\\\\\\\\\\\\\\\\\\\\\\\\\\\\\\\\\\\\\\\\\\\\\\\\\\\\\\\\\\\        ]  89%  | 1s\r",
      "[\\\\\\\\\\\\\\\\\\\\\\\\\\\\\\\\\\\\\\\\\\\\\\\\\\\\\\\\\\\\\\\\\\\\\\\\\\\\\\\\\\\\\\\\\\\\\\\\\\\\\\\\\\\\\\\\\\\\\\       ]  90%  | 1s\r"
     ]
    },
    {
     "name": "stdout",
     "output_type": "stream",
     "text": [
      "[\\\\\\\\\\\\\\\\\\\\\\\\\\\\\\\\\\\\\\\\\\\\\\\\\\\\\\\\\\\\\\\\\\\\\\\\\\\\\\\\\\\\\\\\\\\\\\\\\\\\\\\\\\\\\\\\\\\\\\\\      ]  91%  | 1s\r"
     ]
    },
    {
     "name": "stdout",
     "output_type": "stream",
     "text": [
      "[\\\\\\\\\\\\\\\\\\\\\\\\\\\\\\\\\\\\\\\\\\\\\\\\\\\\\\\\\\\\\\\\\\\\\\\\\\\\\\\\\\\\\\\\\\\\\\\\\\\\\\\\\\\\\\\\\\\\\\\\      ]  92%  | 1s\r"
     ]
    },
    {
     "name": "stdout",
     "output_type": "stream",
     "text": [
      "[\\\\\\\\\\\\\\\\\\\\\\\\\\\\\\\\\\\\\\\\\\\\\\\\\\\\\\\\\\\\\\\\\\\\\\\\\\\\\\\\\\\\\\\\\\\\\\\\\\\\\\\\\\\\\\\\\\\\\\\\\\     ]  93%  | 1s\r"
     ]
    },
    {
     "name": "stdout",
     "output_type": "stream",
     "text": [
      "[\\\\\\\\\\\\\\\\\\\\\\\\\\\\\\\\\\\\\\\\\\\\\\\\\\\\\\\\\\\\\\\\\\\\\\\\\\\\\\\\\\\\\\\\\\\\\\\\\\\\\\\\\\\\\\\\\\\\\\\\\\\\    ]  94%  | 1s\r"
     ]
    },
    {
     "name": "stdout",
     "output_type": "stream",
     "text": [
      "[\\\\\\\\\\\\\\\\\\\\\\\\\\\\\\\\\\\\\\\\\\\\\\\\\\\\\\\\\\\\\\\\\\\\\\\\\\\\\\\\\\\\\\\\\\\\\\\\\\\\\\\\\\\\\\\\\\\\\\\\\\\\    ]  95%  | 1s\r"
     ]
    },
    {
     "name": "stdout",
     "output_type": "stream",
     "text": [
      "[\\\\\\\\\\\\\\\\\\\\\\\\\\\\\\\\\\\\\\\\\\\\\\\\\\\\\\\\\\\\\\\\\\\\\\\\\\\\\\\\\\\\\\\\\\\\\\\\\\\\\\\\\\\\\\\\\\\\\\\\\\\\\\   ]  96%  | 1s\r"
     ]
    },
    {
     "name": "stdout",
     "output_type": "stream",
     "text": [
      "[\\\\\\\\\\\\\\\\\\\\\\\\\\\\\\\\\\\\\\\\\\\\\\\\\\\\\\\\\\\\\\\\\\\\\\\\\\\\\\\\\\\\\\\\\\\\\\\\\\\\\\\\\\\\\\\\\\\\\\\\\\\\\\\\  ]  97%  | 1s\r"
     ]
    },
    {
     "name": "stdout",
     "output_type": "stream",
     "text": [
      "[\\\\\\\\\\\\\\\\\\\\\\\\\\\\\\\\\\\\\\\\\\\\\\\\\\\\\\\\\\\\\\\\\\\\\\\\\\\\\\\\\\\\\\\\\\\\\\\\\\\\\\\\\\\\\\\\\\\\\\\\\\\\\\\\  ]  98%  | 1s\r"
     ]
    },
    {
     "name": "stdout",
     "output_type": "stream",
     "text": [
      "[\\\\\\\\\\\\\\\\\\\\\\\\\\\\\\\\\\\\\\\\\\\\\\\\\\\\\\\\\\\\\\\\\\\\\\\\\\\\\\\\\\\\\\\\\\\\\\\\\\\\\\\\\\\\\\\\\\\\\\\\\\\\\\\\\\ ]  99%  | 1s\r"
     ]
    },
    {
     "name": "stdout",
     "output_type": "stream",
     "text": [
      "                                                                               \r",
      "     +> renumbered connectivity\r\n"
     ]
    },
    {
     "name": "stdout",
     "output_type": "stream",
     "text": [
      "[                                                                ]   0%  | ---s\r"
     ]
    },
    {
     "name": "stdout",
     "output_type": "stream",
     "text": [
      "[                                                                  ]   1%  | 5s\r"
     ]
    },
    {
     "name": "stdout",
     "output_type": "stream",
     "text": [
      "[\\                                                                 ]   2%  | 5s\r"
     ]
    },
    {
     "name": "stdout",
     "output_type": "stream",
     "text": [
      "[\\                                                                 ]   3%  | 5s\r"
     ]
    },
    {
     "name": "stdout",
     "output_type": "stream",
     "text": [
      "[\\\\                                                                ]   4%  | 5s\r"
     ]
    },
    {
     "name": "stdout",
     "output_type": "stream",
     "text": [
      "[\\\\\\                                                               ]   5%  | 5s\r"
     ]
    },
    {
     "name": "stdout",
     "output_type": "stream",
     "text": [
      "[\\\\\\                                                               ]   6%  | 5s\r"
     ]
    },
    {
     "name": "stdout",
     "output_type": "stream",
     "text": [
      "[\\\\\\\\                                                              ]   7%  | 5s\r"
     ]
    },
    {
     "name": "stdout",
     "output_type": "stream",
     "text": [
      "[\\\\\\\\\\                                                             ]   8%  | 5s\r"
     ]
    },
    {
     "name": "stdout",
     "output_type": "stream",
     "text": [
      "[\\\\\\\\\\                                                             ]   9%  | 5s\r"
     ]
    },
    {
     "name": "stdout",
     "output_type": "stream",
     "text": [
      "[\\\\\\\\\\\\                                                            ]  10%  | 5s\r"
     ]
    },
    {
     "name": "stdout",
     "output_type": "stream",
     "text": [
      "[\\\\\\\\\\\\\\                                                           ]  11%  | 5s\r",
      "[\\\\\\\\\\\\\\                                                           ]  12%  | 5s\r"
     ]
    },
    {
     "name": "stdout",
     "output_type": "stream",
     "text": [
      "[\\\\\\\\\\\\\\\\                                                          ]  13%  | 5s\r"
     ]
    },
    {
     "name": "stdout",
     "output_type": "stream",
     "text": [
      "[\\\\\\\\\\\\\\\\\\                                                         ]  14%  | 5s\r"
     ]
    },
    {
     "name": "stdout",
     "output_type": "stream",
     "text": [
      "[\\\\\\\\\\\\\\\\\\                                                         ]  15%  | 5s\r"
     ]
    },
    {
     "name": "stdout",
     "output_type": "stream",
     "text": [
      "[\\\\\\\\\\\\\\\\\\\\                                                        ]  16%  | 4s\r"
     ]
    },
    {
     "name": "stdout",
     "output_type": "stream",
     "text": [
      "[\\\\\\\\\\\\\\\\\\\\\\                                                       ]  17%  | 4s\r"
     ]
    },
    {
     "name": "stdout",
     "output_type": "stream",
     "text": [
      "[\\\\\\\\\\\\\\\\\\\\\\                                                       ]  18%  | 4s\r"
     ]
    },
    {
     "name": "stdout",
     "output_type": "stream",
     "text": [
      "[\\\\\\\\\\\\\\\\\\\\\\\\                                                      ]  19%  | 4s\r"
     ]
    },
    {
     "name": "stdout",
     "output_type": "stream",
     "text": [
      "[\\\\\\\\\\\\\\\\\\\\\\\\\\                                                     ]  20%  | 4s\r"
     ]
    },
    {
     "name": "stdout",
     "output_type": "stream",
     "text": [
      "[\\\\\\\\\\\\\\\\\\\\\\\\\\                                                     ]  21%  | 4s\r"
     ]
    },
    {
     "name": "stdout",
     "output_type": "stream",
     "text": [
      "[\\\\\\\\\\\\\\\\\\\\\\\\\\\\                                                    ]  22%  | 4s\r"
     ]
    },
    {
     "name": "stdout",
     "output_type": "stream",
     "text": [
      "[\\\\\\\\\\\\\\\\\\\\\\\\\\\\\\                                                   ]  23%  | 4s\r"
     ]
    },
    {
     "name": "stdout",
     "output_type": "stream",
     "text": [
      "[\\\\\\\\\\\\\\\\\\\\\\\\\\\\\\                                                   ]  24%  | 4s\r"
     ]
    },
    {
     "name": "stdout",
     "output_type": "stream",
     "text": [
      "[\\\\\\\\\\\\\\\\\\\\\\\\\\\\\\\\                                                  ]  25%  | 4s\r"
     ]
    },
    {
     "name": "stdout",
     "output_type": "stream",
     "text": [
      "[\\\\\\\\\\\\\\\\\\\\\\\\\\\\\\\\\\                                                 ]  26%  | 4s\r"
     ]
    },
    {
     "name": "stdout",
     "output_type": "stream",
     "text": [
      "[\\\\\\\\\\\\\\\\\\\\\\\\\\\\\\\\\\                                                 ]  27%  | 4s\r"
     ]
    },
    {
     "name": "stdout",
     "output_type": "stream",
     "text": [
      "[\\\\\\\\\\\\\\\\\\\\\\\\\\\\\\\\\\\\                                                ]  28%  | 4s\r"
     ]
    },
    {
     "name": "stdout",
     "output_type": "stream",
     "text": [
      "[\\\\\\\\\\\\\\\\\\\\\\\\\\\\\\\\\\\\\\                                               ]  29%  | 4s\r"
     ]
    },
    {
     "name": "stdout",
     "output_type": "stream",
     "text": [
      "[\\\\\\\\\\\\\\\\\\\\\\\\\\\\\\\\\\\\\\                                               ]  30%  | 4s\r",
      "[\\\\\\\\\\\\\\\\\\\\\\\\\\\\\\\\\\\\\\\\                                              ]  31%  | 4s\r"
     ]
    },
    {
     "name": "stdout",
     "output_type": "stream",
     "text": [
      "[\\\\\\\\\\\\\\\\\\\\\\\\\\\\\\\\\\\\\\\\\\                                             ]  32%  | 4s\r"
     ]
    },
    {
     "name": "stdout",
     "output_type": "stream",
     "text": [
      "[\\\\\\\\\\\\\\\\\\\\\\\\\\\\\\\\\\\\\\\\\\                                             ]  33%  | 4s\r"
     ]
    },
    {
     "name": "stdout",
     "output_type": "stream",
     "text": [
      "[\\\\\\\\\\\\\\\\\\\\\\\\\\\\\\\\\\\\\\\\\\\\                                            ]  34%  | 4s\r"
     ]
    },
    {
     "name": "stdout",
     "output_type": "stream",
     "text": [
      "[\\\\\\\\\\\\\\\\\\\\\\\\\\\\\\\\\\\\\\\\\\\\\\                                           ]  35%  | 4s\r"
     ]
    },
    {
     "name": "stdout",
     "output_type": "stream",
     "text": [
      "[\\\\\\\\\\\\\\\\\\\\\\\\\\\\\\\\\\\\\\\\\\\\\\                                           ]  36%  | 4s\r"
     ]
    },
    {
     "name": "stdout",
     "output_type": "stream",
     "text": [
      "[\\\\\\\\\\\\\\\\\\\\\\\\\\\\\\\\\\\\\\\\\\\\\\\\                                          ]  37%  | 4s\r"
     ]
    },
    {
     "name": "stdout",
     "output_type": "stream",
     "text": [
      "[\\\\\\\\\\\\\\\\\\\\\\\\\\\\\\\\\\\\\\\\\\\\\\\\\\                                         ]  38%  | 3s\r"
     ]
    },
    {
     "name": "stdout",
     "output_type": "stream",
     "text": [
      "[\\\\\\\\\\\\\\\\\\\\\\\\\\\\\\\\\\\\\\\\\\\\\\\\\\                                         ]  39%  | 3s\r"
     ]
    },
    {
     "name": "stdout",
     "output_type": "stream",
     "text": [
      "[\\\\\\\\\\\\\\\\\\\\\\\\\\\\\\\\\\\\\\\\\\\\\\\\\\\\                                        ]  40%  | 3s\r"
     ]
    },
    {
     "name": "stdout",
     "output_type": "stream",
     "text": [
      "[\\\\\\\\\\\\\\\\\\\\\\\\\\\\\\\\\\\\\\\\\\\\\\\\\\\\\\                                       ]  41%  | 3s\r"
     ]
    },
    {
     "name": "stdout",
     "output_type": "stream",
     "text": [
      "[\\\\\\\\\\\\\\\\\\\\\\\\\\\\\\\\\\\\\\\\\\\\\\\\\\\\\\                                       ]  42%  | 3s\r"
     ]
    },
    {
     "name": "stdout",
     "output_type": "stream",
     "text": [
      "[\\\\\\\\\\\\\\\\\\\\\\\\\\\\\\\\\\\\\\\\\\\\\\\\\\\\\\\\                                      ]  43%  | 3s\r"
     ]
    },
    {
     "name": "stdout",
     "output_type": "stream",
     "text": [
      "[\\\\\\\\\\\\\\\\\\\\\\\\\\\\\\\\\\\\\\\\\\\\\\\\\\\\\\\\\\                                     ]  44%  | 3s\r"
     ]
    },
    {
     "name": "stdout",
     "output_type": "stream",
     "text": [
      "[\\\\\\\\\\\\\\\\\\\\\\\\\\\\\\\\\\\\\\\\\\\\\\\\\\\\\\\\\\                                     ]  45%  | 3s\r"
     ]
    },
    {
     "name": "stdout",
     "output_type": "stream",
     "text": [
      "[\\\\\\\\\\\\\\\\\\\\\\\\\\\\\\\\\\\\\\\\\\\\\\\\\\\\\\\\\\\\                                    ]  46%  | 3s\r"
     ]
    },
    {
     "name": "stdout",
     "output_type": "stream",
     "text": [
      "[\\\\\\\\\\\\\\\\\\\\\\\\\\\\\\\\\\\\\\\\\\\\\\\\\\\\\\\\\\\\\\                                   ]  47%  | 3s\r",
      "[\\\\\\\\\\\\\\\\\\\\\\\\\\\\\\\\\\\\\\\\\\\\\\\\\\\\\\\\\\\\\\                                   ]  48%  | 3s\r"
     ]
    },
    {
     "name": "stdout",
     "output_type": "stream",
     "text": [
      "[\\\\\\\\\\\\\\\\\\\\\\\\\\\\\\\\\\\\\\\\\\\\\\\\\\\\\\\\\\\\\\\\                                  ]  49%  | 3s\r"
     ]
    },
    {
     "name": "stdout",
     "output_type": "stream",
     "text": [
      "[\\\\\\\\\\\\\\\\\\\\\\\\\\\\\\\\\\\\\\\\\\\\\\\\\\\\\\\\\\\\\\\\\\                                 ]  50%  | 3s\r"
     ]
    },
    {
     "name": "stdout",
     "output_type": "stream",
     "text": [
      "[\\\\\\\\\\\\\\\\\\\\\\\\\\\\\\\\\\\\\\\\\\\\\\\\\\\\\\\\\\\\\\\\\\                                 ]  51%  | 3s\r"
     ]
    },
    {
     "name": "stdout",
     "output_type": "stream",
     "text": [
      "[\\\\\\\\\\\\\\\\\\\\\\\\\\\\\\\\\\\\\\\\\\\\\\\\\\\\\\\\\\\\\\\\\\\\                                ]  52%  | 3s\r"
     ]
    },
    {
     "name": "stdout",
     "output_type": "stream",
     "text": [
      "[\\\\\\\\\\\\\\\\\\\\\\\\\\\\\\\\\\\\\\\\\\\\\\\\\\\\\\\\\\\\\\\\\\\\                                ]  53%  | 3s\r"
     ]
    },
    {
     "name": "stdout",
     "output_type": "stream",
     "text": [
      "[\\\\\\\\\\\\\\\\\\\\\\\\\\\\\\\\\\\\\\\\\\\\\\\\\\\\\\\\\\\\\\\\\\\\\\                               ]  54%  | 3s\r"
     ]
    },
    {
     "name": "stdout",
     "output_type": "stream",
     "text": [
      "[\\\\\\\\\\\\\\\\\\\\\\\\\\\\\\\\\\\\\\\\\\\\\\\\\\\\\\\\\\\\\\\\\\\\\\\\                              ]  55%  | 3s\r"
     ]
    },
    {
     "name": "stdout",
     "output_type": "stream",
     "text": [
      "[\\\\\\\\\\\\\\\\\\\\\\\\\\\\\\\\\\\\\\\\\\\\\\\\\\\\\\\\\\\\\\\\\\\\\\\\                              ]  56%  | 3s\r"
     ]
    },
    {
     "name": "stdout",
     "output_type": "stream",
     "text": [
      "[\\\\\\\\\\\\\\\\\\\\\\\\\\\\\\\\\\\\\\\\\\\\\\\\\\\\\\\\\\\\\\\\\\\\\\\\\\                             ]  57%  | 3s\r"
     ]
    },
    {
     "name": "stdout",
     "output_type": "stream",
     "text": [
      "[\\\\\\\\\\\\\\\\\\\\\\\\\\\\\\\\\\\\\\\\\\\\\\\\\\\\\\\\\\\\\\\\\\\\\\\\\\\\                            ]  58%  | 3s\r"
     ]
    },
    {
     "name": "stdout",
     "output_type": "stream",
     "text": [
      "[\\\\\\\\\\\\\\\\\\\\\\\\\\\\\\\\\\\\\\\\\\\\\\\\\\\\\\\\\\\\\\\\\\\\\\\\\\\\                            ]  59%  | 2s\r"
     ]
    },
    {
     "name": "stdout",
     "output_type": "stream",
     "text": [
      "[\\\\\\\\\\\\\\\\\\\\\\\\\\\\\\\\\\\\\\\\\\\\\\\\\\\\\\\\\\\\\\\\\\\\\\\\\\\\\\                           ]  60%  | 2s\r"
     ]
    },
    {
     "name": "stdout",
     "output_type": "stream",
     "text": [
      "[\\\\\\\\\\\\\\\\\\\\\\\\\\\\\\\\\\\\\\\\\\\\\\\\\\\\\\\\\\\\\\\\\\\\\\\\\\\\\\\\                          ]  61%  | 2s\r"
     ]
    },
    {
     "name": "stdout",
     "output_type": "stream",
     "text": [
      "[\\\\\\\\\\\\\\\\\\\\\\\\\\\\\\\\\\\\\\\\\\\\\\\\\\\\\\\\\\\\\\\\\\\\\\\\\\\\\\\\                          ]  62%  | 2s\r"
     ]
    },
    {
     "name": "stdout",
     "output_type": "stream",
     "text": [
      "[\\\\\\\\\\\\\\\\\\\\\\\\\\\\\\\\\\\\\\\\\\\\\\\\\\\\\\\\\\\\\\\\\\\\\\\\\\\\\\\\\\                         ]  63%  | 2s\r",
      "[\\\\\\\\\\\\\\\\\\\\\\\\\\\\\\\\\\\\\\\\\\\\\\\\\\\\\\\\\\\\\\\\\\\\\\\\\\\\\\\\\\\\                        ]  64%  | 2s\r"
     ]
    },
    {
     "name": "stdout",
     "output_type": "stream",
     "text": [
      "[\\\\\\\\\\\\\\\\\\\\\\\\\\\\\\\\\\\\\\\\\\\\\\\\\\\\\\\\\\\\\\\\\\\\\\\\\\\\\\\\\\\\                        ]  65%  | 2s\r"
     ]
    },
    {
     "name": "stdout",
     "output_type": "stream",
     "text": [
      "[\\\\\\\\\\\\\\\\\\\\\\\\\\\\\\\\\\\\\\\\\\\\\\\\\\\\\\\\\\\\\\\\\\\\\\\\\\\\\\\\\\\\\\                       ]  66%  | 2s\r"
     ]
    },
    {
     "name": "stdout",
     "output_type": "stream",
     "text": [
      "[\\\\\\\\\\\\\\\\\\\\\\\\\\\\\\\\\\\\\\\\\\\\\\\\\\\\\\\\\\\\\\\\\\\\\\\\\\\\\\\\\\\\\\\\                      ]  67%  | 2s\r"
     ]
    },
    {
     "name": "stdout",
     "output_type": "stream",
     "text": [
      "[\\\\\\\\\\\\\\\\\\\\\\\\\\\\\\\\\\\\\\\\\\\\\\\\\\\\\\\\\\\\\\\\\\\\\\\\\\\\\\\\\\\\\\\\                      ]  68%  | 2s\r"
     ]
    },
    {
     "name": "stdout",
     "output_type": "stream",
     "text": [
      "[\\\\\\\\\\\\\\\\\\\\\\\\\\\\\\\\\\\\\\\\\\\\\\\\\\\\\\\\\\\\\\\\\\\\\\\\\\\\\\\\\\\\\\\\\\                     ]  69%  | 2s\r"
     ]
    },
    {
     "name": "stdout",
     "output_type": "stream",
     "text": [
      "[\\\\\\\\\\\\\\\\\\\\\\\\\\\\\\\\\\\\\\\\\\\\\\\\\\\\\\\\\\\\\\\\\\\\\\\\\\\\\\\\\\\\\\\\\\\\                    ]  70%  | 2s\r"
     ]
    },
    {
     "name": "stdout",
     "output_type": "stream",
     "text": [
      "[\\\\\\\\\\\\\\\\\\\\\\\\\\\\\\\\\\\\\\\\\\\\\\\\\\\\\\\\\\\\\\\\\\\\\\\\\\\\\\\\\\\\\\\\\\\\                    ]  71%  | 2s\r"
     ]
    },
    {
     "name": "stdout",
     "output_type": "stream",
     "text": [
      "[\\\\\\\\\\\\\\\\\\\\\\\\\\\\\\\\\\\\\\\\\\\\\\\\\\\\\\\\\\\\\\\\\\\\\\\\\\\\\\\\\\\\\\\\\\\\\\                   ]  72%  | 2s\r"
     ]
    },
    {
     "name": "stdout",
     "output_type": "stream",
     "text": [
      "[\\\\\\\\\\\\\\\\\\\\\\\\\\\\\\\\\\\\\\\\\\\\\\\\\\\\\\\\\\\\\\\\\\\\\\\\\\\\\\\\\\\\\\\\\\\\\\\\                  ]  73%  | 2s\r"
     ]
    },
    {
     "name": "stdout",
     "output_type": "stream",
     "text": [
      "[\\\\\\\\\\\\\\\\\\\\\\\\\\\\\\\\\\\\\\\\\\\\\\\\\\\\\\\\\\\\\\\\\\\\\\\\\\\\\\\\\\\\\\\\\\\\\\\\                  ]  74%  | 2s\r"
     ]
    },
    {
     "name": "stdout",
     "output_type": "stream",
     "text": [
      "[\\\\\\\\\\\\\\\\\\\\\\\\\\\\\\\\\\\\\\\\\\\\\\\\\\\\\\\\\\\\\\\\\\\\\\\\\\\\\\\\\\\\\\\\\\\\\\\\\\                 ]  75%  | 2s\r"
     ]
    },
    {
     "name": "stdout",
     "output_type": "stream",
     "text": [
      "[\\\\\\\\\\\\\\\\\\\\\\\\\\\\\\\\\\\\\\\\\\\\\\\\\\\\\\\\\\\\\\\\\\\\\\\\\\\\\\\\\\\\\\\\\\\\\\\\\\\\                ]  76%  | 2s\r"
     ]
    },
    {
     "name": "stdout",
     "output_type": "stream",
     "text": [
      "[\\\\\\\\\\\\\\\\\\\\\\\\\\\\\\\\\\\\\\\\\\\\\\\\\\\\\\\\\\\\\\\\\\\\\\\\\\\\\\\\\\\\\\\\\\\\\\\\\\\\                ]  77%  | 2s\r"
     ]
    },
    {
     "name": "stdout",
     "output_type": "stream",
     "text": [
      "[\\\\\\\\\\\\\\\\\\\\\\\\\\\\\\\\\\\\\\\\\\\\\\\\\\\\\\\\\\\\\\\\\\\\\\\\\\\\\\\\\\\\\\\\\\\\\\\\\\\\\\               ]  78%  | 2s\r"
     ]
    },
    {
     "name": "stdout",
     "output_type": "stream",
     "text": [
      "[\\\\\\\\\\\\\\\\\\\\\\\\\\\\\\\\\\\\\\\\\\\\\\\\\\\\\\\\\\\\\\\\\\\\\\\\\\\\\\\\\\\\\\\\\\\\\\\\\\\\\\\\              ]  79%  | 2s\r"
     ]
    },
    {
     "name": "stdout",
     "output_type": "stream",
     "text": [
      "[\\\\\\\\\\\\\\\\\\\\\\\\\\\\\\\\\\\\\\\\\\\\\\\\\\\\\\\\\\\\\\\\\\\\\\\\\\\\\\\\\\\\\\\\\\\\\\\\\\\\\\\\              ]  80%  | 1s\r"
     ]
    },
    {
     "name": "stdout",
     "output_type": "stream",
     "text": [
      "[\\\\\\\\\\\\\\\\\\\\\\\\\\\\\\\\\\\\\\\\\\\\\\\\\\\\\\\\\\\\\\\\\\\\\\\\\\\\\\\\\\\\\\\\\\\\\\\\\\\\\\\\\\             ]  81%  | 1s\r",
      "[\\\\\\\\\\\\\\\\\\\\\\\\\\\\\\\\\\\\\\\\\\\\\\\\\\\\\\\\\\\\\\\\\\\\\\\\\\\\\\\\\\\\\\\\\\\\\\\\\\\\\\\\\\\\            ]  82%  | 1s\r"
     ]
    },
    {
     "name": "stdout",
     "output_type": "stream",
     "text": [
      "[\\\\\\\\\\\\\\\\\\\\\\\\\\\\\\\\\\\\\\\\\\\\\\\\\\\\\\\\\\\\\\\\\\\\\\\\\\\\\\\\\\\\\\\\\\\\\\\\\\\\\\\\\\\\            ]  83%  | 1s\r"
     ]
    },
    {
     "name": "stdout",
     "output_type": "stream",
     "text": [
      "[\\\\\\\\\\\\\\\\\\\\\\\\\\\\\\\\\\\\\\\\\\\\\\\\\\\\\\\\\\\\\\\\\\\\\\\\\\\\\\\\\\\\\\\\\\\\\\\\\\\\\\\\\\\\\\           ]  84%  | 1s\r"
     ]
    },
    {
     "name": "stdout",
     "output_type": "stream",
     "text": [
      "[\\\\\\\\\\\\\\\\\\\\\\\\\\\\\\\\\\\\\\\\\\\\\\\\\\\\\\\\\\\\\\\\\\\\\\\\\\\\\\\\\\\\\\\\\\\\\\\\\\\\\\\\\\\\\\\\          ]  85%  | 1s\r"
     ]
    },
    {
     "name": "stdout",
     "output_type": "stream",
     "text": [
      "[\\\\\\\\\\\\\\\\\\\\\\\\\\\\\\\\\\\\\\\\\\\\\\\\\\\\\\\\\\\\\\\\\\\\\\\\\\\\\\\\\\\\\\\\\\\\\\\\\\\\\\\\\\\\\\\\          ]  86%  | 1s\r"
     ]
    },
    {
     "name": "stdout",
     "output_type": "stream",
     "text": [
      "[\\\\\\\\\\\\\\\\\\\\\\\\\\\\\\\\\\\\\\\\\\\\\\\\\\\\\\\\\\\\\\\\\\\\\\\\\\\\\\\\\\\\\\\\\\\\\\\\\\\\\\\\\\\\\\\\\\         ]  87%  | 1s\r"
     ]
    },
    {
     "name": "stdout",
     "output_type": "stream",
     "text": [
      "[\\\\\\\\\\\\\\\\\\\\\\\\\\\\\\\\\\\\\\\\\\\\\\\\\\\\\\\\\\\\\\\\\\\\\\\\\\\\\\\\\\\\\\\\\\\\\\\\\\\\\\\\\\\\\\\\\\\\        ]  88%  | 1s\r"
     ]
    },
    {
     "name": "stdout",
     "output_type": "stream",
     "text": [
      "[\\\\\\\\\\\\\\\\\\\\\\\\\\\\\\\\\\\\\\\\\\\\\\\\\\\\\\\\\\\\\\\\\\\\\\\\\\\\\\\\\\\\\\\\\\\\\\\\\\\\\\\\\\\\\\\\\\\\        ]  89%  | 1s\r"
     ]
    },
    {
     "name": "stdout",
     "output_type": "stream",
     "text": [
      "[\\\\\\\\\\\\\\\\\\\\\\\\\\\\\\\\\\\\\\\\\\\\\\\\\\\\\\\\\\\\\\\\\\\\\\\\\\\\\\\\\\\\\\\\\\\\\\\\\\\\\\\\\\\\\\\\\\\\\\       ]  90%  | 1s\r"
     ]
    },
    {
     "name": "stdout",
     "output_type": "stream",
     "text": [
      "[\\\\\\\\\\\\\\\\\\\\\\\\\\\\\\\\\\\\\\\\\\\\\\\\\\\\\\\\\\\\\\\\\\\\\\\\\\\\\\\\\\\\\\\\\\\\\\\\\\\\\\\\\\\\\\\\\\\\\\\\      ]  91%  | 1s\r"
     ]
    },
    {
     "name": "stdout",
     "output_type": "stream",
     "text": [
      "[\\\\\\\\\\\\\\\\\\\\\\\\\\\\\\\\\\\\\\\\\\\\\\\\\\\\\\\\\\\\\\\\\\\\\\\\\\\\\\\\\\\\\\\\\\\\\\\\\\\\\\\\\\\\\\\\\\\\\\\\      ]  92%  | 1s\r"
     ]
    },
    {
     "name": "stdout",
     "output_type": "stream",
     "text": [
      "[\\\\\\\\\\\\\\\\\\\\\\\\\\\\\\\\\\\\\\\\\\\\\\\\\\\\\\\\\\\\\\\\\\\\\\\\\\\\\\\\\\\\\\\\\\\\\\\\\\\\\\\\\\\\\\\\\\\\\\\\\\     ]  93%  | 1s\r"
     ]
    },
    {
     "name": "stdout",
     "output_type": "stream",
     "text": [
      "[\\\\\\\\\\\\\\\\\\\\\\\\\\\\\\\\\\\\\\\\\\\\\\\\\\\\\\\\\\\\\\\\\\\\\\\\\\\\\\\\\\\\\\\\\\\\\\\\\\\\\\\\\\\\\\\\\\\\\\\\\\\\    ]  94%  | 1s\r"
     ]
    },
    {
     "name": "stdout",
     "output_type": "stream",
     "text": [
      "[\\\\\\\\\\\\\\\\\\\\\\\\\\\\\\\\\\\\\\\\\\\\\\\\\\\\\\\\\\\\\\\\\\\\\\\\\\\\\\\\\\\\\\\\\\\\\\\\\\\\\\\\\\\\\\\\\\\\\\\\\\\\    ]  95%  | 1s\r"
     ]
    },
    {
     "name": "stdout",
     "output_type": "stream",
     "text": [
      "[\\\\\\\\\\\\\\\\\\\\\\\\\\\\\\\\\\\\\\\\\\\\\\\\\\\\\\\\\\\\\\\\\\\\\\\\\\\\\\\\\\\\\\\\\\\\\\\\\\\\\\\\\\\\\\\\\\\\\\\\\\\\\\   ]  96%  | 1s\r"
     ]
    },
    {
     "name": "stdout",
     "output_type": "stream",
     "text": [
      "[\\\\\\\\\\\\\\\\\\\\\\\\\\\\\\\\\\\\\\\\\\\\\\\\\\\\\\\\\\\\\\\\\\\\\\\\\\\\\\\\\\\\\\\\\\\\\\\\\\\\\\\\\\\\\\\\\\\\\\\\\\\\\\\\  ]  97%  | 1s\r"
     ]
    },
    {
     "name": "stdout",
     "output_type": "stream",
     "text": [
      "[\\\\\\\\\\\\\\\\\\\\\\\\\\\\\\\\\\\\\\\\\\\\\\\\\\\\\\\\\\\\\\\\\\\\\\\\\\\\\\\\\\\\\\\\\\\\\\\\\\\\\\\\\\\\\\\\\\\\\\\\\\\\\\\\  ]  98%  | 1s\r"
     ]
    },
    {
     "name": "stdout",
     "output_type": "stream",
     "text": [
      "[\\\\\\\\\\\\\\\\\\\\\\\\\\\\\\\\\\\\\\\\\\\\\\\\\\\\\\\\\\\\\\\\\\\\\\\\\\\\\\\\\\\\\\\\\\\\\\\\\\\\\\\\\\\\\\\\\\\\\\\\\\\\\\\\\\ ]  99%  | 1s\r"
     ]
    },
    {
     "name": "stdout",
     "output_type": "stream",
     "text": [
      "                                                                               \r",
      "     +> mesh x,y,z\r\n",
      "     +> sizes\r\n",
      "     +> boundaries\r\n"
     ]
    },
    {
     "name": "stdout",
     "output_type": "stream",
     "text": [
      "        - identify\r\n",
      "[                                                                ]   0%  | ---s\r"
     ]
    },
    {
     "name": "stdout",
     "output_type": "stream",
     "text": [
      "[                                                                 ]   1%  | 11s\r"
     ]
    },
    {
     "name": "stdout",
     "output_type": "stream",
     "text": [
      "[\\                                                                ]   2%  | 11s\r"
     ]
    },
    {
     "name": "stdout",
     "output_type": "stream",
     "text": [
      "[\\                                                                ]   3%  | 11s\r"
     ]
    },
    {
     "name": "stdout",
     "output_type": "stream",
     "text": [
      "[\\\\                                                               ]   4%  | 11s\r"
     ]
    },
    {
     "name": "stdout",
     "output_type": "stream",
     "text": [
      "[\\\\\\                                                              ]   5%  | 11s\r"
     ]
    },
    {
     "name": "stdout",
     "output_type": "stream",
     "text": [
      "[\\\\\\                                                              ]   6%  | 11s\r"
     ]
    },
    {
     "name": "stdout",
     "output_type": "stream",
     "text": [
      "[\\\\\\\\                                                             ]   7%  | 11s\r"
     ]
    },
    {
     "name": "stdout",
     "output_type": "stream",
     "text": [
      "[\\\\\\\\\\                                                            ]   8%  | 11s\r"
     ]
    },
    {
     "name": "stdout",
     "output_type": "stream",
     "text": [
      "[\\\\\\\\\\                                                            ]   9%  | 10s\r"
     ]
    },
    {
     "name": "stdout",
     "output_type": "stream",
     "text": [
      "[\\\\\\\\\\\\                                                           ]  10%  | 10s\r"
     ]
    },
    {
     "name": "stdout",
     "output_type": "stream",
     "text": [
      "[\\\\\\\\\\\\\\                                                          ]  11%  | 10s\r"
     ]
    },
    {
     "name": "stdout",
     "output_type": "stream",
     "text": [
      "[\\\\\\\\\\\\\\                                                          ]  12%  | 10s\r"
     ]
    },
    {
     "name": "stdout",
     "output_type": "stream",
     "text": [
      "[\\\\\\\\\\\\\\\\                                                         ]  13%  | 10s\r"
     ]
    },
    {
     "name": "stdout",
     "output_type": "stream",
     "text": [
      "[\\\\\\\\\\\\\\\\\\                                                        ]  14%  | 10s\r"
     ]
    },
    {
     "name": "stdout",
     "output_type": "stream",
     "text": [
      "[\\\\\\\\\\\\\\\\\\                                                        ]  15%  | 10s\r"
     ]
    },
    {
     "name": "stdout",
     "output_type": "stream",
     "text": [
      "[\\\\\\\\\\\\\\\\\\\\                                                       ]  16%  | 10s\r"
     ]
    },
    {
     "name": "stdout",
     "output_type": "stream",
     "text": [
      "[\\\\\\\\\\\\\\\\\\\\\\                                                      ]  17%  | 10s\r"
     ]
    },
    {
     "name": "stdout",
     "output_type": "stream",
     "text": [
      "[\\\\\\\\\\\\\\\\\\\\\\                                                       ]  18%  | 9s\r"
     ]
    },
    {
     "name": "stdout",
     "output_type": "stream",
     "text": [
      "[\\\\\\\\\\\\\\\\\\\\\\\\                                                      ]  19%  | 9s\r"
     ]
    },
    {
     "name": "stdout",
     "output_type": "stream",
     "text": [
      "[\\\\\\\\\\\\\\\\\\\\\\\\\\                                                     ]  20%  | 9s\r"
     ]
    },
    {
     "name": "stdout",
     "output_type": "stream",
     "text": [
      "[\\\\\\\\\\\\\\\\\\\\\\\\\\                                                     ]  21%  | 9s\r"
     ]
    },
    {
     "name": "stdout",
     "output_type": "stream",
     "text": [
      "[\\\\\\\\\\\\\\\\\\\\\\\\\\\\                                                    ]  22%  | 9s\r"
     ]
    },
    {
     "name": "stdout",
     "output_type": "stream",
     "text": [
      "[\\\\\\\\\\\\\\\\\\\\\\\\\\\\\\                                                   ]  23%  | 9s\r"
     ]
    },
    {
     "name": "stdout",
     "output_type": "stream",
     "text": [
      "[\\\\\\\\\\\\\\\\\\\\\\\\\\\\\\                                                   ]  24%  | 9s\r"
     ]
    },
    {
     "name": "stdout",
     "output_type": "stream",
     "text": [
      "[\\\\\\\\\\\\\\\\\\\\\\\\\\\\\\\\                                                  ]  25%  | 9s\r"
     ]
    },
    {
     "name": "stdout",
     "output_type": "stream",
     "text": [
      "[\\\\\\\\\\\\\\\\\\\\\\\\\\\\\\\\\\                                                 ]  26%  | 9s\r"
     ]
    },
    {
     "name": "stdout",
     "output_type": "stream",
     "text": [
      "[\\\\\\\\\\\\\\\\\\\\\\\\\\\\\\\\\\                                                 ]  27%  | 8s\r"
     ]
    },
    {
     "name": "stdout",
     "output_type": "stream",
     "text": [
      "[\\\\\\\\\\\\\\\\\\\\\\\\\\\\\\\\\\\\                                                ]  28%  | 8s\r"
     ]
    },
    {
     "name": "stdout",
     "output_type": "stream",
     "text": [
      "[\\\\\\\\\\\\\\\\\\\\\\\\\\\\\\\\\\\\\\                                               ]  29%  | 8s\r"
     ]
    },
    {
     "name": "stdout",
     "output_type": "stream",
     "text": [
      "[\\\\\\\\\\\\\\\\\\\\\\\\\\\\\\\\\\\\\\                                               ]  30%  | 8s\r"
     ]
    },
    {
     "name": "stdout",
     "output_type": "stream",
     "text": [
      "[\\\\\\\\\\\\\\\\\\\\\\\\\\\\\\\\\\\\\\\\                                              ]  31%  | 8s\r"
     ]
    },
    {
     "name": "stdout",
     "output_type": "stream",
     "text": [
      "[\\\\\\\\\\\\\\\\\\\\\\\\\\\\\\\\\\\\\\\\\\                                             ]  32%  | 8s\r"
     ]
    },
    {
     "name": "stdout",
     "output_type": "stream",
     "text": [
      "[\\\\\\\\\\\\\\\\\\\\\\\\\\\\\\\\\\\\\\\\\\                                             ]  33%  | 8s\r"
     ]
    },
    {
     "name": "stdout",
     "output_type": "stream",
     "text": [
      "[\\\\\\\\\\\\\\\\\\\\\\\\\\\\\\\\\\\\\\\\\\\\                                            ]  34%  | 8s\r"
     ]
    },
    {
     "name": "stdout",
     "output_type": "stream",
     "text": [
      "[\\\\\\\\\\\\\\\\\\\\\\\\\\\\\\\\\\\\\\\\\\\\\\                                           ]  35%  | 8s\r"
     ]
    },
    {
     "name": "stdout",
     "output_type": "stream",
     "text": [
      "[\\\\\\\\\\\\\\\\\\\\\\\\\\\\\\\\\\\\\\\\\\\\\\                                           ]  36%  | 7s\r"
     ]
    },
    {
     "name": "stdout",
     "output_type": "stream",
     "text": [
      "[\\\\\\\\\\\\\\\\\\\\\\\\\\\\\\\\\\\\\\\\\\\\\\\\                                          ]  37%  | 7s\r"
     ]
    },
    {
     "name": "stdout",
     "output_type": "stream",
     "text": [
      "[\\\\\\\\\\\\\\\\\\\\\\\\\\\\\\\\\\\\\\\\\\\\\\\\\\                                         ]  38%  | 7s\r"
     ]
    },
    {
     "name": "stdout",
     "output_type": "stream",
     "text": [
      "[\\\\\\\\\\\\\\\\\\\\\\\\\\\\\\\\\\\\\\\\\\\\\\\\\\                                         ]  39%  | 7s\r"
     ]
    },
    {
     "name": "stdout",
     "output_type": "stream",
     "text": [
      "[\\\\\\\\\\\\\\\\\\\\\\\\\\\\\\\\\\\\\\\\\\\\\\\\\\\\                                        ]  40%  | 7s\r"
     ]
    },
    {
     "name": "stdout",
     "output_type": "stream",
     "text": [
      "[\\\\\\\\\\\\\\\\\\\\\\\\\\\\\\\\\\\\\\\\\\\\\\\\\\\\\\                                       ]  41%  | 7s\r"
     ]
    },
    {
     "name": "stdout",
     "output_type": "stream",
     "text": [
      "[\\\\\\\\\\\\\\\\\\\\\\\\\\\\\\\\\\\\\\\\\\\\\\\\\\\\\\                                       ]  42%  | 7s\r"
     ]
    },
    {
     "name": "stdout",
     "output_type": "stream",
     "text": [
      "[\\\\\\\\\\\\\\\\\\\\\\\\\\\\\\\\\\\\\\\\\\\\\\\\\\\\\\\\                                      ]  43%  | 7s\r"
     ]
    },
    {
     "name": "stdout",
     "output_type": "stream",
     "text": [
      "[\\\\\\\\\\\\\\\\\\\\\\\\\\\\\\\\\\\\\\\\\\\\\\\\\\\\\\\\\\                                     ]  44%  | 7s\r"
     ]
    },
    {
     "name": "stdout",
     "output_type": "stream",
     "text": [
      "[\\\\\\\\\\\\\\\\\\\\\\\\\\\\\\\\\\\\\\\\\\\\\\\\\\\\\\\\\\                                     ]  45%  | 7s\r"
     ]
    },
    {
     "name": "stdout",
     "output_type": "stream",
     "text": [
      "[\\\\\\\\\\\\\\\\\\\\\\\\\\\\\\\\\\\\\\\\\\\\\\\\\\\\\\\\\\\\                                    ]  46%  | 6s\r"
     ]
    },
    {
     "name": "stdout",
     "output_type": "stream",
     "text": [
      "[\\\\\\\\\\\\\\\\\\\\\\\\\\\\\\\\\\\\\\\\\\\\\\\\\\\\\\\\\\\\\\                                   ]  47%  | 6s\r"
     ]
    },
    {
     "name": "stdout",
     "output_type": "stream",
     "text": [
      "[\\\\\\\\\\\\\\\\\\\\\\\\\\\\\\\\\\\\\\\\\\\\\\\\\\\\\\\\\\\\\\                                   ]  48%  | 6s\r"
     ]
    },
    {
     "name": "stdout",
     "output_type": "stream",
     "text": [
      "[\\\\\\\\\\\\\\\\\\\\\\\\\\\\\\\\\\\\\\\\\\\\\\\\\\\\\\\\\\\\\\\\                                  ]  49%  | 6s\r"
     ]
    },
    {
     "name": "stdout",
     "output_type": "stream",
     "text": [
      "[\\\\\\\\\\\\\\\\\\\\\\\\\\\\\\\\\\\\\\\\\\\\\\\\\\\\\\\\\\\\\\\\\\                                 ]  50%  | 6s\r"
     ]
    },
    {
     "name": "stdout",
     "output_type": "stream",
     "text": [
      "[\\\\\\\\\\\\\\\\\\\\\\\\\\\\\\\\\\\\\\\\\\\\\\\\\\\\\\\\\\\\\\\\\\                                 ]  51%  | 6s\r"
     ]
    },
    {
     "name": "stdout",
     "output_type": "stream",
     "text": [
      "[\\\\\\\\\\\\\\\\\\\\\\\\\\\\\\\\\\\\\\\\\\\\\\\\\\\\\\\\\\\\\\\\\\\\                                ]  52%  | 6s\r"
     ]
    },
    {
     "name": "stdout",
     "output_type": "stream",
     "text": [
      "[\\\\\\\\\\\\\\\\\\\\\\\\\\\\\\\\\\\\\\\\\\\\\\\\\\\\\\\\\\\\\\\\\\\\                                ]  53%  | 6s\r"
     ]
    },
    {
     "name": "stdout",
     "output_type": "stream",
     "text": [
      "[\\\\\\\\\\\\\\\\\\\\\\\\\\\\\\\\\\\\\\\\\\\\\\\\\\\\\\\\\\\\\\\\\\\\\\                               ]  54%  | 6s\r"
     ]
    },
    {
     "name": "stdout",
     "output_type": "stream",
     "text": [
      "[\\\\\\\\\\\\\\\\\\\\\\\\\\\\\\\\\\\\\\\\\\\\\\\\\\\\\\\\\\\\\\\\\\\\\\\\                              ]  55%  | 5s\r"
     ]
    },
    {
     "name": "stdout",
     "output_type": "stream",
     "text": [
      "[\\\\\\\\\\\\\\\\\\\\\\\\\\\\\\\\\\\\\\\\\\\\\\\\\\\\\\\\\\\\\\\\\\\\\\\\                              ]  56%  | 5s\r"
     ]
    },
    {
     "name": "stdout",
     "output_type": "stream",
     "text": [
      "[\\\\\\\\\\\\\\\\\\\\\\\\\\\\\\\\\\\\\\\\\\\\\\\\\\\\\\\\\\\\\\\\\\\\\\\\\\                             ]  57%  | 5s\r"
     ]
    },
    {
     "name": "stdout",
     "output_type": "stream",
     "text": [
      "[\\\\\\\\\\\\\\\\\\\\\\\\\\\\\\\\\\\\\\\\\\\\\\\\\\\\\\\\\\\\\\\\\\\\\\\\\\\\                            ]  58%  | 5s\r"
     ]
    },
    {
     "name": "stdout",
     "output_type": "stream",
     "text": [
      "[\\\\\\\\\\\\\\\\\\\\\\\\\\\\\\\\\\\\\\\\\\\\\\\\\\\\\\\\\\\\\\\\\\\\\\\\\\\\                            ]  59%  | 5s\r"
     ]
    },
    {
     "name": "stdout",
     "output_type": "stream",
     "text": [
      "[\\\\\\\\\\\\\\\\\\\\\\\\\\\\\\\\\\\\\\\\\\\\\\\\\\\\\\\\\\\\\\\\\\\\\\\\\\\\\\                           ]  60%  | 5s\r"
     ]
    },
    {
     "name": "stdout",
     "output_type": "stream",
     "text": [
      "[\\\\\\\\\\\\\\\\\\\\\\\\\\\\\\\\\\\\\\\\\\\\\\\\\\\\\\\\\\\\\\\\\\\\\\\\\\\\\\\\                          ]  61%  | 5s\r"
     ]
    },
    {
     "name": "stdout",
     "output_type": "stream",
     "text": [
      "[\\\\\\\\\\\\\\\\\\\\\\\\\\\\\\\\\\\\\\\\\\\\\\\\\\\\\\\\\\\\\\\\\\\\\\\\\\\\\\\\                          ]  62%  | 5s\r"
     ]
    },
    {
     "name": "stdout",
     "output_type": "stream",
     "text": [
      "[\\\\\\\\\\\\\\\\\\\\\\\\\\\\\\\\\\\\\\\\\\\\\\\\\\\\\\\\\\\\\\\\\\\\\\\\\\\\\\\\\\                         ]  63%  | 5s\r"
     ]
    },
    {
     "name": "stdout",
     "output_type": "stream",
     "text": [
      "[\\\\\\\\\\\\\\\\\\\\\\\\\\\\\\\\\\\\\\\\\\\\\\\\\\\\\\\\\\\\\\\\\\\\\\\\\\\\\\\\\\\\                        ]  64%  | 4s\r"
     ]
    },
    {
     "name": "stdout",
     "output_type": "stream",
     "text": [
      "[\\\\\\\\\\\\\\\\\\\\\\\\\\\\\\\\\\\\\\\\\\\\\\\\\\\\\\\\\\\\\\\\\\\\\\\\\\\\\\\\\\\\                        ]  65%  | 4s\r"
     ]
    },
    {
     "name": "stdout",
     "output_type": "stream",
     "text": [
      "[\\\\\\\\\\\\\\\\\\\\\\\\\\\\\\\\\\\\\\\\\\\\\\\\\\\\\\\\\\\\\\\\\\\\\\\\\\\\\\\\\\\\\\                       ]  66%  | 4s\r"
     ]
    },
    {
     "name": "stdout",
     "output_type": "stream",
     "text": [
      "[\\\\\\\\\\\\\\\\\\\\\\\\\\\\\\\\\\\\\\\\\\\\\\\\\\\\\\\\\\\\\\\\\\\\\\\\\\\\\\\\\\\\\\\\                      ]  67%  | 4s\r"
     ]
    },
    {
     "name": "stdout",
     "output_type": "stream",
     "text": [
      "[\\\\\\\\\\\\\\\\\\\\\\\\\\\\\\\\\\\\\\\\\\\\\\\\\\\\\\\\\\\\\\\\\\\\\\\\\\\\\\\\\\\\\\\\                      ]  68%  | 4s\r"
     ]
    },
    {
     "name": "stdout",
     "output_type": "stream",
     "text": [
      "[\\\\\\\\\\\\\\\\\\\\\\\\\\\\\\\\\\\\\\\\\\\\\\\\\\\\\\\\\\\\\\\\\\\\\\\\\\\\\\\\\\\\\\\\\\                     ]  69%  | 4s\r"
     ]
    },
    {
     "name": "stdout",
     "output_type": "stream",
     "text": [
      "[\\\\\\\\\\\\\\\\\\\\\\\\\\\\\\\\\\\\\\\\\\\\\\\\\\\\\\\\\\\\\\\\\\\\\\\\\\\\\\\\\\\\\\\\\\\\                    ]  70%  | 4s\r"
     ]
    },
    {
     "name": "stdout",
     "output_type": "stream",
     "text": [
      "[\\\\\\\\\\\\\\\\\\\\\\\\\\\\\\\\\\\\\\\\\\\\\\\\\\\\\\\\\\\\\\\\\\\\\\\\\\\\\\\\\\\\\\\\\\\\                    ]  71%  | 4s\r"
     ]
    },
    {
     "name": "stdout",
     "output_type": "stream",
     "text": [
      "[\\\\\\\\\\\\\\\\\\\\\\\\\\\\\\\\\\\\\\\\\\\\\\\\\\\\\\\\\\\\\\\\\\\\\\\\\\\\\\\\\\\\\\\\\\\\\\                   ]  72%  | 4s\r"
     ]
    },
    {
     "name": "stdout",
     "output_type": "stream",
     "text": [
      "[\\\\\\\\\\\\\\\\\\\\\\\\\\\\\\\\\\\\\\\\\\\\\\\\\\\\\\\\\\\\\\\\\\\\\\\\\\\\\\\\\\\\\\\\\\\\\\\\                  ]  73%  | 3s\r"
     ]
    },
    {
     "name": "stdout",
     "output_type": "stream",
     "text": [
      "[\\\\\\\\\\\\\\\\\\\\\\\\\\\\\\\\\\\\\\\\\\\\\\\\\\\\\\\\\\\\\\\\\\\\\\\\\\\\\\\\\\\\\\\\\\\\\\\\                  ]  74%  | 3s\r"
     ]
    },
    {
     "name": "stdout",
     "output_type": "stream",
     "text": [
      "[\\\\\\\\\\\\\\\\\\\\\\\\\\\\\\\\\\\\\\\\\\\\\\\\\\\\\\\\\\\\\\\\\\\\\\\\\\\\\\\\\\\\\\\\\\\\\\\\\\                 ]  75%  | 3s\r"
     ]
    },
    {
     "name": "stdout",
     "output_type": "stream",
     "text": [
      "[\\\\\\\\\\\\\\\\\\\\\\\\\\\\\\\\\\\\\\\\\\\\\\\\\\\\\\\\\\\\\\\\\\\\\\\\\\\\\\\\\\\\\\\\\\\\\\\\\\\\                ]  76%  | 3s\r"
     ]
    },
    {
     "name": "stdout",
     "output_type": "stream",
     "text": [
      "[\\\\\\\\\\\\\\\\\\\\\\\\\\\\\\\\\\\\\\\\\\\\\\\\\\\\\\\\\\\\\\\\\\\\\\\\\\\\\\\\\\\\\\\\\\\\\\\\\\\\                ]  77%  | 3s\r"
     ]
    },
    {
     "name": "stdout",
     "output_type": "stream",
     "text": [
      "[\\\\\\\\\\\\\\\\\\\\\\\\\\\\\\\\\\\\\\\\\\\\\\\\\\\\\\\\\\\\\\\\\\\\\\\\\\\\\\\\\\\\\\\\\\\\\\\\\\\\\\               ]  78%  | 3s\r"
     ]
    },
    {
     "name": "stdout",
     "output_type": "stream",
     "text": [
      "[\\\\\\\\\\\\\\\\\\\\\\\\\\\\\\\\\\\\\\\\\\\\\\\\\\\\\\\\\\\\\\\\\\\\\\\\\\\\\\\\\\\\\\\\\\\\\\\\\\\\\\\\              ]  79%  | 3s\r"
     ]
    },
    {
     "name": "stdout",
     "output_type": "stream",
     "text": [
      "[\\\\\\\\\\\\\\\\\\\\\\\\\\\\\\\\\\\\\\\\\\\\\\\\\\\\\\\\\\\\\\\\\\\\\\\\\\\\\\\\\\\\\\\\\\\\\\\\\\\\\\\\              ]  80%  | 3s\r"
     ]
    },
    {
     "name": "stdout",
     "output_type": "stream",
     "text": [
      "[\\\\\\\\\\\\\\\\\\\\\\\\\\\\\\\\\\\\\\\\\\\\\\\\\\\\\\\\\\\\\\\\\\\\\\\\\\\\\\\\\\\\\\\\\\\\\\\\\\\\\\\\\\             ]  81%  | 3s\r"
     ]
    },
    {
     "name": "stdout",
     "output_type": "stream",
     "text": [
      "[\\\\\\\\\\\\\\\\\\\\\\\\\\\\\\\\\\\\\\\\\\\\\\\\\\\\\\\\\\\\\\\\\\\\\\\\\\\\\\\\\\\\\\\\\\\\\\\\\\\\\\\\\\\\            ]  82%  | 2s\r"
     ]
    },
    {
     "name": "stdout",
     "output_type": "stream",
     "text": [
      "[\\\\\\\\\\\\\\\\\\\\\\\\\\\\\\\\\\\\\\\\\\\\\\\\\\\\\\\\\\\\\\\\\\\\\\\\\\\\\\\\\\\\\\\\\\\\\\\\\\\\\\\\\\\\            ]  83%  | 2s\r"
     ]
    },
    {
     "name": "stdout",
     "output_type": "stream",
     "text": [
      "[\\\\\\\\\\\\\\\\\\\\\\\\\\\\\\\\\\\\\\\\\\\\\\\\\\\\\\\\\\\\\\\\\\\\\\\\\\\\\\\\\\\\\\\\\\\\\\\\\\\\\\\\\\\\\\           ]  84%  | 2s\r"
     ]
    },
    {
     "name": "stdout",
     "output_type": "stream",
     "text": [
      "[\\\\\\\\\\\\\\\\\\\\\\\\\\\\\\\\\\\\\\\\\\\\\\\\\\\\\\\\\\\\\\\\\\\\\\\\\\\\\\\\\\\\\\\\\\\\\\\\\\\\\\\\\\\\\\\\          ]  85%  | 2s\r"
     ]
    },
    {
     "name": "stdout",
     "output_type": "stream",
     "text": [
      "[\\\\\\\\\\\\\\\\\\\\\\\\\\\\\\\\\\\\\\\\\\\\\\\\\\\\\\\\\\\\\\\\\\\\\\\\\\\\\\\\\\\\\\\\\\\\\\\\\\\\\\\\\\\\\\\\          ]  86%  | 2s\r"
     ]
    },
    {
     "name": "stdout",
     "output_type": "stream",
     "text": [
      "[\\\\\\\\\\\\\\\\\\\\\\\\\\\\\\\\\\\\\\\\\\\\\\\\\\\\\\\\\\\\\\\\\\\\\\\\\\\\\\\\\\\\\\\\\\\\\\\\\\\\\\\\\\\\\\\\\\         ]  87%  | 2s\r"
     ]
    },
    {
     "name": "stdout",
     "output_type": "stream",
     "text": [
      "[\\\\\\\\\\\\\\\\\\\\\\\\\\\\\\\\\\\\\\\\\\\\\\\\\\\\\\\\\\\\\\\\\\\\\\\\\\\\\\\\\\\\\\\\\\\\\\\\\\\\\\\\\\\\\\\\\\\\        ]  88%  | 2s\r"
     ]
    },
    {
     "name": "stdout",
     "output_type": "stream",
     "text": [
      "[\\\\\\\\\\\\\\\\\\\\\\\\\\\\\\\\\\\\\\\\\\\\\\\\\\\\\\\\\\\\\\\\\\\\\\\\\\\\\\\\\\\\\\\\\\\\\\\\\\\\\\\\\\\\\\\\\\\\        ]  89%  | 2s\r"
     ]
    },
    {
     "name": "stdout",
     "output_type": "stream",
     "text": [
      "[\\\\\\\\\\\\\\\\\\\\\\\\\\\\\\\\\\\\\\\\\\\\\\\\\\\\\\\\\\\\\\\\\\\\\\\\\\\\\\\\\\\\\\\\\\\\\\\\\\\\\\\\\\\\\\\\\\\\\\       ]  90%  | 2s\r"
     ]
    },
    {
     "name": "stdout",
     "output_type": "stream",
     "text": [
      "[\\\\\\\\\\\\\\\\\\\\\\\\\\\\\\\\\\\\\\\\\\\\\\\\\\\\\\\\\\\\\\\\\\\\\\\\\\\\\\\\\\\\\\\\\\\\\\\\\\\\\\\\\\\\\\\\\\\\\\\\      ]  91%  | 1s\r"
     ]
    },
    {
     "name": "stdout",
     "output_type": "stream",
     "text": [
      "[\\\\\\\\\\\\\\\\\\\\\\\\\\\\\\\\\\\\\\\\\\\\\\\\\\\\\\\\\\\\\\\\\\\\\\\\\\\\\\\\\\\\\\\\\\\\\\\\\\\\\\\\\\\\\\\\\\\\\\\\      ]  92%  | 1s\r"
     ]
    },
    {
     "name": "stdout",
     "output_type": "stream",
     "text": [
      "[\\\\\\\\\\\\\\\\\\\\\\\\\\\\\\\\\\\\\\\\\\\\\\\\\\\\\\\\\\\\\\\\\\\\\\\\\\\\\\\\\\\\\\\\\\\\\\\\\\\\\\\\\\\\\\\\\\\\\\\\\\     ]  93%  | 1s\r"
     ]
    },
    {
     "name": "stdout",
     "output_type": "stream",
     "text": [
      "[\\\\\\\\\\\\\\\\\\\\\\\\\\\\\\\\\\\\\\\\\\\\\\\\\\\\\\\\\\\\\\\\\\\\\\\\\\\\\\\\\\\\\\\\\\\\\\\\\\\\\\\\\\\\\\\\\\\\\\\\\\\\    ]  94%  | 1s\r"
     ]
    },
    {
     "name": "stdout",
     "output_type": "stream",
     "text": [
      "[\\\\\\\\\\\\\\\\\\\\\\\\\\\\\\\\\\\\\\\\\\\\\\\\\\\\\\\\\\\\\\\\\\\\\\\\\\\\\\\\\\\\\\\\\\\\\\\\\\\\\\\\\\\\\\\\\\\\\\\\\\\\    ]  95%  | 1s\r"
     ]
    },
    {
     "name": "stdout",
     "output_type": "stream",
     "text": [
      "[\\\\\\\\\\\\\\\\\\\\\\\\\\\\\\\\\\\\\\\\\\\\\\\\\\\\\\\\\\\\\\\\\\\\\\\\\\\\\\\\\\\\\\\\\\\\\\\\\\\\\\\\\\\\\\\\\\\\\\\\\\\\\\   ]  96%  | 1s\r"
     ]
    },
    {
     "name": "stdout",
     "output_type": "stream",
     "text": [
      "[\\\\\\\\\\\\\\\\\\\\\\\\\\\\\\\\\\\\\\\\\\\\\\\\\\\\\\\\\\\\\\\\\\\\\\\\\\\\\\\\\\\\\\\\\\\\\\\\\\\\\\\\\\\\\\\\\\\\\\\\\\\\\\\\  ]  97%  | 1s\r"
     ]
    },
    {
     "name": "stdout",
     "output_type": "stream",
     "text": [
      "[\\\\\\\\\\\\\\\\\\\\\\\\\\\\\\\\\\\\\\\\\\\\\\\\\\\\\\\\\\\\\\\\\\\\\\\\\\\\\\\\\\\\\\\\\\\\\\\\\\\\\\\\\\\\\\\\\\\\\\\\\\\\\\\\  ]  98%  | 1s\r"
     ]
    },
    {
     "name": "stdout",
     "output_type": "stream",
     "text": [
      "[\\\\\\\\\\\\\\\\\\\\\\\\\\\\\\\\\\\\\\\\\\\\\\\\\\\\\\\\\\\\\\\\\\\\\\\\\\\\\\\\\\\\\\\\\\\\\\\\\\\\\\\\\\\\\\\\\\\\\\\\\\\\\\\\\\ ]  99%  | 1s\r"
     ]
    },
    {
     "name": "stdout",
     "output_type": "stream",
     "text": [
      "                                                                               \r",
      "        - assemble\r\n"
     ]
    },
    {
     "name": "stdout",
     "output_type": "stream",
     "text": [
      "        - set\r\n",
      "\r\n",
      "\r\n",
      "~~~~~~~~~~~~~~~~~~~~~~~~~~~~~~~~~~~~~~~~~~~~~~~~~~~~~~~~~~~~~~~~~~~~~~~~\r\n",
      "\r\n",
      "\r\n",
      "Converting into SELAFIN\r\n",
      "\r\n",
      "     +> Write SELAFIN header\r\n"
     ]
    },
    {
     "name": "stdout",
     "output_type": "stream",
     "text": [
      "     +> Write SELAFIN core\r\n"
     ]
    },
    {
     "name": "stdout",
     "output_type": "stream",
     "text": [
      "\r\n",
      "\r\n",
      "Interpreting command line options\r\n",
      "~~~~~~~~~~~~~~~~~~~~~~~~~~~~~~~~~~~~~~~~~~~~~~~~~~~~~~~~~~~~~~~~~~~~~~~~\r\n",
      "\r\n"
     ]
    },
    {
     "name": "stdout",
     "output_type": "stream",
     "text": [
      "~> Generic info\r\n",
      "\r\n",
      "  - Title: \r\n",
      "  - No date in file\r\n",
      "  - Format: SERAFIN\r\n",
      "  - Endianess:  BIG_ENDIAN\r\n",
      "  - Precision: Single precision\r\n",
      "\r\n",
      "~> Mesh info\r\n",
      "\r\n",
      "  - Number of dimensions: 2\r\n",
      "  - Element type: triangle\r\n",
      "  - Number of points: 1440000\r\n",
      "  - Number of elements: 2875202\r\n",
      "  - Number of points per element: 3\r\n",
      "  - Number of planes: 1\r\n",
      "\r\n",
      "  +> Coordinates\r\n",
      "\r\n",
      "    - X offset, Y offset = 0, 0\r\n",
      "    - X range [-0.004166666883975267, 9.987500190734863]\r\n",
      "    - Y range [0.004166666883975267, 9.995833396911621]\r\n",
      "\r\n",
      "~> Parallel info\r\n",
      "\r\n",
      "  - No parallel information\r\n",
      "\r\n",
      "~> Boundary info\r\n",
      "\r\n",
      "  - No boundary file given\r\n",
      "\r\n",
      "~> Data info\r\n",
      "\r\n",
      "  - Number of records: 1\r\n",
      "  - Time range: [0.0, 0.0]\r\n",
      "  - Number of variables: 1\r\n",
      "    - Name: BOTTOM           Unit: M\r\n",
      "\r\n",
      "  - BOTTOM\r\n",
      "    +> Time: 0.0s min, max:  [-5011.0, 3884.0]\r\n",
      "\r\n",
      "\r\n",
      "My work is done\r\n",
      "\r\n",
      "\r\n"
     ]
    }
   ],
   "source": [
    "!converter.py gebco2srf GEBCO2014_0.0_0.0_10.0_10.0_30Sec_ESRIASCII.asc\n",
    "\n",
    "!run_telfile.py scan --data GEBCO2014_0.0_0.0_10.0_10.0_30Sec_ESRIASCII.slf"
   ]
  },
  {
   "cell_type": "markdown",
   "metadata": {},
   "source": [
    "## Extracting hycom data\n",
    "\n",
    "We will use **converter.py hycom2srf**.\n",
    "\n",
    "WARNING: extracting hycom data requires the package pydap."
   ]
  },
  {
   "cell_type": "code",
   "execution_count": 6,
   "metadata": {
    "execution": {
     "iopub.execute_input": "2022-12-01T13:51:47.425924Z",
     "iopub.status.busy": "2022-12-01T13:51:47.425325Z",
     "iopub.status.idle": "2022-12-01T13:51:47.944356Z",
     "shell.execute_reply": "2022-12-01T13:51:47.941403Z"
    }
   },
   "outputs": [
    {
     "name": "stdout",
     "output_type": "stream",
     "text": [
      "usage: converter.py hycom2srf [-h] -r ROOT_NAME -f TFROM -s TSTOP --bl\r\n",
      "                              BLCORNER --tr TRCORNER [--2d]\r\n",
      "\r\n",
      "optional arguments:\r\n",
      "  -h, --help            show this help message and exit\r\n",
      "  -r ROOT_NAME, --root ROOT_NAME\r\n",
      "                        root name used for the output\r\n",
      "  -f TFROM, --from TFROM\r\n",
      "                        specify the first date included (1972-13-07)\r\n",
      "  -s TSTOP, --stop TSTOP\r\n",
      "                        specify the last date included (1980-12-31)\r\n",
      "  --bl BLCORNER         specify the bottom left corner (25,-117)\r\n",
      "  --tr TRCORNER         specify the top right corner (27,-110)\r\n",
      "  --2d                  if there, produces on the 2D file\r\n"
     ]
    }
   ],
   "source": [
    "!converter.py hycom2srf -h"
   ]
  },
  {
   "cell_type": "code",
   "execution_count": 7,
   "metadata": {
    "execution": {
     "iopub.execute_input": "2022-12-01T13:51:47.952005Z",
     "iopub.status.busy": "2022-12-01T13:51:47.951790Z",
     "iopub.status.idle": "2022-12-01T13:51:49.002447Z",
     "shell.execute_reply": "2022-12-01T13:51:48.999487Z"
    }
   },
   "outputs": [
    {
     "name": "stdout",
     "output_type": "stream",
     "text": [
      "\r\n",
      "\r\n",
      "~~~~~~~~~~~~~~~~~~~~~~~~~~~~~~~~~~~~~~~~~~~~~~~~~~~~~~~~~~~~~~~~~~~~~~~~\r\n",
      "\r\n",
      "\r\n",
      "Processing header (mesh, connectivity, etc.)\r\n",
      "\r\n",
      "... you are in bad luck !\r\n",
      "  ~>  you need to have the pydap library for python 3 installed,\r\n",
      "  ~>  along with its dependencies\r\n"
     ]
    },
    {
     "name": "stdout",
     "output_type": "stream",
     "text": [
      "\r\n",
      "\r\n",
      "Interpreting command line options\r\n",
      "~~~~~~~~~~~~~~~~~~~~~~~~~~~~~~~~~~~~~~~~~~~~~~~~~~~~~~~~~~~~~~~~~~~~~~~~\r\n",
      "\r\n",
      "Traceback (most recent call last):\r\n",
      "  File \"/home/d60881/telemac-mascaret/scripts/python3/run_telfile.py\", line 479, in <module>\r\n",
      "    main()\r\n",
      "  File \"/home/d60881/telemac-mascaret/scripts/python3/run_telfile.py\", line 385, in main\r\n",
      "    scan(options.tel_file, options.bnd_file, options.data)\r\n",
      "  File \"/home/d60881/telemac-mascaret/scripts/python3/pretel/manip_telfile.py\", line 27, in scan\r\n",
      "    res = TelemacFile(tel_file, bnd_file=bnd_file)\r\n",
      "  File \"/home/d60881/telemac-mascaret/scripts/python3/data_manip/extraction/telemac_file.py\", line 60, in __init__\r\n",
      "    log_lvl=log_lvl)\r\n",
      "  File \"/home/d60881/telemac-mascaret/scripts/python3/telapy/api/hermes.py\", line 134, in __init__\r\n",
      "    \"Could not find {}\".format(self.file_name))\r\n",
      "utils.exceptions.TelemacException: Could not find t3d_hycom-2m_2017-08-01_2017-08-02_20_21_-119-118.slf\r\n"
     ]
    }
   ],
   "source": [
    "!converter.py hycom2srf --from 2017-08-01 --stop 2017-08-02 \\\n",
    "                        --bl 20,-119 --tr 21,-118 \\\n",
    "                        -r t3d_hycom-2m_2017-08-01_2017-08-02_20_21_-119-118.slf\n",
    "\n",
    "!run_telfile.py scan --data t3d_hycom-2m_2017-08-01_2017-08-02_20_21_-119-118.slf"
   ]
  }
 ],
 "metadata": {
  "kernelspec": {
   "display_name": "Python 3",
   "language": "python",
   "name": "python3"
  },
  "language_info": {
   "codemirror_mode": {
    "name": "ipython",
    "version": 3
   },
   "file_extension": ".py",
   "mimetype": "text/x-python",
   "name": "python",
   "nbconvert_exporter": "python",
   "pygments_lexer": "ipython3",
   "version": "3.7.13"
  }
 },
 "nbformat": 4,
 "nbformat_minor": 1
}
