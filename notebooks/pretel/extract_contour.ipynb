{
 "cells": [
  {
   "cell_type": "markdown",
   "metadata": {},
   "source": [
    "# Extract Contour of mesh\n",
    "\n",
    "Extraction of contour is generating polygon coordinates of the external boundaries of a mesh with or without boundary condition file\n",
    "\n",
    "It returns a list of list of tuples\n",
    "wich contains coordinates (with the first point repeated at the end) of external contour sorted clockwise and holes in the external contour sorted anticlockwise.\n",
    "\n",
    "The script can generate a GIS file with fiona in several formats (shapefile, geopackage, geojson, etc.).\n",
    "\n",
    "It can handle \"islands\" and separated domains\n",
    "\n",
    "All the examples below can be done using the one line command **run_telfile.py contour**"
   ]
  },
  {
   "cell_type": "code",
   "execution_count": 1,
   "metadata": {
    "execution": {
     "iopub.execute_input": "2022-12-01T13:51:54.879459Z",
     "iopub.status.busy": "2022-12-01T13:51:54.878597Z",
     "iopub.status.idle": "2022-12-01T13:51:55.384529Z",
     "shell.execute_reply": "2022-12-01T13:51:55.383018Z"
    }
   },
   "outputs": [
    {
     "name": "stdout",
     "output_type": "stream",
     "text": [
      "\r\n",
      "\r\n",
      "Interpreting command line options\r\n",
      "~~~~~~~~~~~~~~~~~~~~~~~~~~~~~~~~~~~~~~~~~~~~~~~~~~~~~~~~~~~~~~~~~~~~~~~~\r\n",
      "\r\n",
      "usage: run_telfile.py contour [-h] [-b BND_FILE] Telemac File shp_file\r\n",
      "\r\n",
      "positional arguments:\r\n",
      "  Telemac File          Mesh file\r\n",
      "  shp_file              Shape file\r\n",
      "\r\n",
      "optional arguments:\r\n",
      "  -h, --help            show this help message and exit\r\n",
      "  -b BND_FILE, --bnd-file BND_FILE\r\n",
      "                        Boundary file\r\n"
     ]
    }
   ],
   "source": [
    "!run_telfile.py contour -h"
   ]
  },
  {
   "cell_type": "markdown",
   "metadata": {},
   "source": [
    "## 1. example with islands (pildepon test-case)"
   ]
  },
  {
   "cell_type": "code",
   "execution_count": 2,
   "metadata": {
    "execution": {
     "iopub.execute_input": "2022-12-01T13:51:55.390564Z",
     "iopub.status.busy": "2022-12-01T13:51:55.390095Z",
     "iopub.status.idle": "2022-12-01T13:51:55.800413Z",
     "shell.execute_reply": "2022-12-01T13:51:55.799833Z"
    }
   },
   "outputs": [
    {
     "name": "stdout",
     "output_type": "stream",
     "text": [
      "Number of nodes:  2280\n",
      "0 %\n",
      "10 %\n",
      "20 %\n",
      "30 %\n",
      "40 %\n",
      "50 %\n",
      "60 %\n",
      "70 %\n",
      "80 %\n",
      "90 %\n",
      "Number of boundary nodes:  258\n",
      "Domain 1\n",
      "Islands\n"
     ]
    }
   ],
   "source": [
    "import os\n",
    "from pretel.extract_contour import extract_contour, write_gis_file\n",
    "\n",
    "geo_file_path = os.path.join(os.environ['HOMETEL'], \n",
    "                                        'examples',\n",
    "                                        'telemac2d',\n",
    "                                        'pildepon',\n",
    "                                        'geo_pildepon.slf')\n",
    "\n",
    "shp_file = \"geo_pildepon.shp\"\n",
    "\n",
    "domains_bnd = extract_contour(geo_file_path)\n",
    "\n",
    "write_gis_file(domains_bnd, shp_file)\n"
   ]
  },
  {
   "cell_type": "code",
   "execution_count": 3,
   "metadata": {
    "execution": {
     "iopub.execute_input": "2022-12-01T13:51:55.802777Z",
     "iopub.status.busy": "2022-12-01T13:51:55.802528Z",
     "iopub.status.idle": "2022-12-01T13:51:55.805946Z",
     "shell.execute_reply": "2022-12-01T13:51:55.805527Z"
    }
   },
   "outputs": [
    {
     "name": "stdout",
     "output_type": "stream",
     "text": [
      "geo_pildepon.shp\n"
     ]
    }
   ],
   "source": [
    "for file in os.listdir():\n",
    "    if file == shp_file: print(file)"
   ]
  },
  {
   "cell_type": "markdown",
   "metadata": {},
   "source": [
    "Geopandas can be used to plot the GIS file"
   ]
  },
  {
   "cell_type": "code",
   "execution_count": 4,
   "metadata": {
    "execution": {
     "iopub.execute_input": "2022-12-01T13:51:55.807886Z",
     "iopub.status.busy": "2022-12-01T13:51:55.807710Z",
     "iopub.status.idle": "2022-12-01T13:51:56.308683Z",
     "shell.execute_reply": "2022-12-01T13:51:56.308113Z"
    }
   },
   "outputs": [
    {
     "data": {
      "text/plain": [
       "<AxesSubplot:>"
      ]
     },
     "execution_count": 4,
     "metadata": {},
     "output_type": "execute_result"
    },
    {
     "data": {
      "image/png": "[encoded data removed]",
      "text/plain": [
       "<Figure size 432x288 with 1 Axes>"
      ]
     },
     "metadata": {
      "needs_background": "light"
     },
     "output_type": "display_data"
    }
   ],
   "source": [
    "import geopandas as gp\n",
    "\n",
    "boundaries = gp.read_file(shp_file)\n",
    "boundaries.plot()\n"
   ]
  },
  {
   "cell_type": "markdown",
   "metadata": {},
   "source": [
    "## 2. example with separated domains (weirs test-case)"
   ]
  },
  {
   "cell_type": "code",
   "execution_count": 5,
   "metadata": {
    "execution": {
     "iopub.execute_input": "2022-12-01T13:51:56.310905Z",
     "iopub.status.busy": "2022-12-01T13:51:56.310683Z",
     "iopub.status.idle": "2022-12-01T13:51:56.415222Z",
     "shell.execute_reply": "2022-12-01T13:51:56.414749Z"
    }
   },
   "outputs": [
    {
     "name": "stdout",
     "output_type": "stream",
     "text": [
      "Number of nodes:  519\n",
      "0 %\n",
      "10 %\n",
      "20 %\n",
      "30 %\n",
      "40 %\n",
      "50 %\n",
      "60 %\n",
      "70 %\n",
      "80 %\n",
      "90 %\n",
      "100 %\n",
      "Number of boundary nodes:  160\n",
      "Domain 1\n",
      "No Islands\n",
      "Domain 2\n",
      "No Islands\n",
      "Domain 3\n",
      "No Islands\n",
      "Domain 4\n",
      "No islands\n"
     ]
    },
    {
     "data": {
      "text/plain": [
       "<AxesSubplot:>"
      ]
     },
     "execution_count": 5,
     "metadata": {},
     "output_type": "execute_result"
    },
    {
     "data": {
      "image/png": "[encoded data removed]",
      "text/plain": [
       "<Figure size 432x288 with 1 Axes>"
      ]
     },
     "metadata": {
      "needs_background": "light"
     },
     "output_type": "display_data"
    }
   ],
   "source": [
    "geo_file_path = os.path.join(os.environ['HOMETEL'], \n",
    "                                        'examples',\n",
    "                                        'telemac2d',\n",
    "                                        'weirs',\n",
    "                                        'geo_weirs.slf')\n",
    "\n",
    "shp_file = \"geo_weirs.shp\"\n",
    "\n",
    "domains_bnd = extract_contour(geo_file_path)\n",
    "\n",
    "write_gis_file(domains_bnd, shp_file)\n",
    "\n",
    "boundaries = gp.read_file(shp_file)\n",
    "boundaries.plot()"
   ]
  },
  {
   "cell_type": "markdown",
   "metadata": {},
   "source": [
    "## 3. example to illustrate speed-up with boundary condition file\n",
    "\n",
    "Extract_contour method can use a boundary condition file to speed-up the treatmentboundary\n",
    "\n",
    "first, malpasset geometry without boundary condition file given"
   ]
  },
  {
   "cell_type": "code",
   "execution_count": 6,
   "metadata": {
    "execution": {
     "iopub.execute_input": "2022-12-01T13:51:56.417364Z",
     "iopub.status.busy": "2022-12-01T13:51:56.417166Z",
     "iopub.status.idle": "2022-12-01T13:52:08.265856Z",
     "shell.execute_reply": "2022-12-01T13:52:08.265284Z"
    }
   },
   "outputs": [
    {
     "name": "stdout",
     "output_type": "stream",
     "text": [
      "Number of nodes:  53081\n",
      "0 %\n"
     ]
    },
    {
     "name": "stdout",
     "output_type": "stream",
     "text": [
      "10 %\n"
     ]
    },
    {
     "name": "stdout",
     "output_type": "stream",
     "text": [
      "20 %\n"
     ]
    },
    {
     "name": "stdout",
     "output_type": "stream",
     "text": [
      "30 %\n"
     ]
    },
    {
     "name": "stdout",
     "output_type": "stream",
     "text": [
      "40 %\n"
     ]
    },
    {
     "name": "stdout",
     "output_type": "stream",
     "text": [
      "50 %\n"
     ]
    },
    {
     "name": "stdout",
     "output_type": "stream",
     "text": [
      "60 %\n"
     ]
    },
    {
     "name": "stdout",
     "output_type": "stream",
     "text": [
      "70 %\n"
     ]
    },
    {
     "name": "stdout",
     "output_type": "stream",
     "text": [
      "80 %\n"
     ]
    },
    {
     "name": "stdout",
     "output_type": "stream",
     "text": [
      "90 %\n"
     ]
    },
    {
     "name": "stdout",
     "output_type": "stream",
     "text": [
      "100 %\n",
      "Number of boundary nodes:  2160\n",
      "Domain 1\n",
      "No islands\n"
     ]
    },
    {
     "data": {
      "text/plain": [
       "<AxesSubplot:>"
      ]
     },
     "execution_count": 6,
     "metadata": {},
     "output_type": "execute_result"
    },
    {
     "data": {
      "image/png": "[encoded data removed]",
      "text/plain": [
       "<Figure size 432x288 with 1 Axes>"
      ]
     },
     "metadata": {
      "needs_background": "light"
     },
     "output_type": "display_data"
    }
   ],
   "source": [
    "geo_file_path = os.path.join(os.environ['HOMETEL'], \n",
    "                                        'examples',\n",
    "                                        'telemac2d',\n",
    "                                        'malpasset',\n",
    "                                        'geo_malpasset-large.slf')\n",
    "\n",
    "shp_file = \"geo_malpasset-large.shp\"\n",
    "\n",
    "domains_bnd = extract_contour(geo_file_path)\n",
    "\n",
    "write_gis_file(domains_bnd, shp_file)\n",
    "\n",
    "boundaries = gp.read_file(shp_file)\n",
    "boundaries.plot()"
   ]
  },
  {
   "cell_type": "markdown",
   "metadata": {},
   "source": [
    "Now, the same extraction with the boundary file given"
   ]
  },
  {
   "cell_type": "code",
   "execution_count": 7,
   "metadata": {
    "execution": {
     "iopub.execute_input": "2022-12-01T13:52:08.268041Z",
     "iopub.status.busy": "2022-12-01T13:52:08.267856Z",
     "iopub.status.idle": "2022-12-01T13:52:08.888072Z",
     "shell.execute_reply": "2022-12-01T13:52:08.887470Z"
    }
   },
   "outputs": [
    {
     "name": "stdout",
     "output_type": "stream",
     "text": [
      "Number of nodes:  53081\n",
      "0 %\n",
      "10 %\n"
     ]
    },
    {
     "name": "stdout",
     "output_type": "stream",
     "text": [
      "20 %\n",
      "30 %\n",
      "40 %\n"
     ]
    },
    {
     "name": "stdout",
     "output_type": "stream",
     "text": [
      "50 %\n",
      "60 %\n"
     ]
    },
    {
     "name": "stdout",
     "output_type": "stream",
     "text": [
      "70 %\n",
      "80 %\n",
      "90 %\n"
     ]
    },
    {
     "name": "stdout",
     "output_type": "stream",
     "text": [
      "Number of boundary nodes:  2160\n",
      "Domain 1\n",
      "No islands\n"
     ]
    },
    {
     "data": {
      "text/plain": [
       "<AxesSubplot:>"
      ]
     },
     "execution_count": 7,
     "metadata": {},
     "output_type": "execute_result"
    },
    {
     "data": {
      "image/png": "[encoded data removed]",
      "text/plain": [
       "<Figure size 432x288 with 1 Axes>"
      ]
     },
     "metadata": {
      "needs_background": "light"
     },
     "output_type": "display_data"
    }
   ],
   "source": [
    "bnd_file = os.path.join(os.environ['HOMETEL'], \n",
    "                                        'examples',\n",
    "                                        'telemac2d',\n",
    "                                        'malpasset',\n",
    "                                        'geo_malpasset-large.cli')\n",
    "\n",
    "domains_bnd = extract_contour(geo_file_path, \\\n",
    "                              bnd_file=bnd_file)\n",
    "\n",
    "write_gis_file(domains_bnd, shp_file)\n",
    "\n",
    "boundaries = gp.read_file(shp_file)\n",
    "boundaries.plot()"
   ]
  }
 ],
 "metadata": {
  "kernelspec": {
   "display_name": "Python 3",
   "language": "python",
   "name": "python3"
  },
  "language_info": {
   "codemirror_mode": {
    "name": "ipython",
    "version": 3
   },
   "file_extension": ".py",
   "mimetype": "text/x-python",
   "name": "python",
   "nbconvert_exporter": "python",
   "pygments_lexer": "ipython3",
   "version": "3.7.13"
  }
 },
 "nbformat": 4,
 "nbformat_minor": 2
}
