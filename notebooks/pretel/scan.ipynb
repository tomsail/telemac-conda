{
 "cells": [
  {
   "cell_type": "markdown",
   "metadata": {},
   "source": [
    "# Scanning a Telemac file\n",
    "\n",
    "## Scanning a result/mesh file\n",
    "\n",
    "The following command will write information on your files.\n",
    "Such as :\n",
    "- The number of elements, nodes, boundary points , planes\n",
    "- List of variables \n",
    "- Number of timesteps\n",
    "- Min/Max for each variable at each timestep"
   ]
  },
  {
   "cell_type": "code",
   "execution_count": 1,
   "metadata": {
    "execution": {
     "iopub.execute_input": "2022-12-01T13:52:26.111138Z",
     "iopub.status.busy": "2022-12-01T13:52:26.109351Z",
     "iopub.status.idle": "2022-12-01T13:52:26.622090Z",
     "shell.execute_reply": "2022-12-01T13:52:26.619157Z"
    }
   },
   "outputs": [
    {
     "name": "stdout",
     "output_type": "stream",
     "text": [
      "\r\n",
      "\r\n",
      "Interpreting command line options\r\n",
      "~~~~~~~~~~~~~~~~~~~~~~~~~~~~~~~~~~~~~~~~~~~~~~~~~~~~~~~~~~~~~~~~~~~~~~~~\r\n",
      "\r\n"
     ]
    },
    {
     "name": "stdout",
     "output_type": "stream",
     "text": [
      "usage: run_telfile.py scan [-h] [-b Telemac Boundary File] [--data]\r\n",
      "                           Telemac File\r\n",
      "\r\n",
      "positional arguments:\r\n",
      "  Telemac File          File to scan\r\n",
      "\r\n",
      "optional arguments:\r\n",
      "  -h, --help            show this help message and exit\r\n",
      "  -b Telemac Boundary File, --boundary_file Telemac Boundary File\r\n",
      "                        Boundary file\r\n",
      "  --data                Display data information\r\n"
     ]
    }
   ],
   "source": [
    "!run_telfile.py scan -h"
   ]
  },
  {
   "cell_type": "markdown",
   "metadata": {},
   "source": [
    "### Simple scan with just mesh information\n",
    "\n",
    "The command below will only display mesh information"
   ]
  },
  {
   "cell_type": "code",
   "execution_count": 2,
   "metadata": {
    "execution": {
     "iopub.execute_input": "2022-12-01T13:52:26.629659Z",
     "iopub.status.busy": "2022-12-01T13:52:26.629473Z",
     "iopub.status.idle": "2022-12-01T13:52:27.252326Z",
     "shell.execute_reply": "2022-12-01T13:52:27.249684Z"
    }
   },
   "outputs": [
    {
     "name": "stdout",
     "output_type": "stream",
     "text": [
      "\r\n",
      "\r\n",
      "Interpreting command line options\r\n",
      "~~~~~~~~~~~~~~~~~~~~~~~~~~~~~~~~~~~~~~~~~~~~~~~~~~~~~~~~~~~~~~~~~~~~~~~~\r\n",
      "\r\n",
      "~> Generic info\r\n",
      "\r\n",
      "  - Title: TELEMAC 2D : GOUTTE D'EAU DANS UN BASSIN$\r\n",
      "  - Date: 1997-02-21 10:21:30\r\n",
      "  - Format: SERAFIN\r\n",
      "  - Endianess:  BIG_ENDIAN\r\n",
      "  - Precision: Single precision\r\n",
      "\r\n",
      "~> Mesh info\r\n",
      "\r\n",
      "  - Number of dimensions: 2\r\n",
      "  - Element type: triangle\r\n",
      "  - Number of points: 4624\r\n",
      "  - Number of elements: 8978\r\n",
      "  - Number of points per element: 3\r\n",
      "  - Number of planes: 1\r\n",
      "\r\n",
      "  +> Coordinates\r\n",
      "\r\n",
      "    - X offset, Y offset = 0, 0\r\n",
      "    - X range [0.0, 20.100006103515625]\r\n",
      "    - Y range [0.0, 20.100006103515625]\r\n",
      "\r\n",
      "~> Parallel info\r\n",
      "\r\n",
      "  - No parallel information\r\n",
      "\r\n",
      "~> Boundary info\r\n",
      "\r\n",
      "  - No boundary file given\r\n",
      "\r\n",
      "~> Data info\r\n",
      "\r\n",
      "  - Number of records: 21\r\n",
      "  - Time range: [0.0, 4.0]\r\n",
      "  - Number of variables: 3\r\n",
      "    - Name: VELOCITY U       Unit: M/S\r\n",
      "    - Name: VELOCITY V       Unit: M/S\r\n",
      "    - Name: WATER DEPTH      Unit: M\r\n",
      "\r\n",
      "\r\n",
      "My work is done\r\n",
      "\r\n",
      "\r\n"
     ]
    }
   ],
   "source": [
    "HOMETEL = %env HOMETEL\n",
    "%cd -q {HOMETEL}/examples/telemac2d/gouttedo\n",
    "!run_telfile.py scan f2d_gouttedo.slf"
   ]
  },
  {
   "cell_type": "markdown",
   "metadata": {},
   "source": [
    "### Simple scan with data information\n",
    "\n",
    "The command below will be the same as below but with also the information for each variable for each time step"
   ]
  },
  {
   "cell_type": "code",
   "execution_count": 3,
   "metadata": {
    "execution": {
     "iopub.execute_input": "2022-12-01T13:52:27.259670Z",
     "iopub.status.busy": "2022-12-01T13:52:27.259483Z",
     "iopub.status.idle": "2022-12-01T13:52:27.766650Z",
     "shell.execute_reply": "2022-12-01T13:52:27.765589Z"
    }
   },
   "outputs": [
    {
     "name": "stdout",
     "output_type": "stream",
     "text": [
      "\r\n",
      "\r\n",
      "Interpreting command line options\r\n",
      "~~~~~~~~~~~~~~~~~~~~~~~~~~~~~~~~~~~~~~~~~~~~~~~~~~~~~~~~~~~~~~~~~~~~~~~~\r\n",
      "\r\n",
      "~> Generic info\r\n",
      "\r\n",
      "  - Title: TELEMAC 2D : GOUTTE D'EAU DANS UN BASSIN$\r\n",
      "  - Date: 1997-02-21 10:21:30\r\n",
      "  - Format: SERAFIN\r\n",
      "  - Endianess:  BIG_ENDIAN\r\n",
      "  - Precision: Single precision\r\n",
      "\r\n",
      "~> Mesh info\r\n",
      "\r\n",
      "  - Number of dimensions: 2\r\n",
      "  - Element type: triangle\r\n",
      "  - Number of points: 4624\r\n",
      "  - Number of elements: 8978\r\n",
      "  - Number of points per element: 3\r\n",
      "  - Number of planes: 1\r\n",
      "\r\n",
      "  +> Coordinates\r\n",
      "\r\n",
      "    - X offset, Y offset = 0, 0\r\n",
      "    - X range [0.0, 20.100006103515625]\r\n",
      "    - Y range [0.0, 20.100006103515625]\r\n",
      "\r\n",
      "~> Parallel info\r\n",
      "\r\n",
      "  - No parallel information\r\n",
      "\r\n",
      "~> Boundary info\r\n",
      "\r\n",
      "  - No boundary file given\r\n",
      "\r\n",
      "~> Data info\r\n",
      "\r\n",
      "  - Number of records: 21\r\n",
      "  - Time range: [0.0, 4.0]\r\n",
      "  - Number of variables: 3\r\n",
      "    - Name: VELOCITY U       Unit: M/S\r\n",
      "    - Name: VELOCITY V       Unit: M/S\r\n",
      "    - Name: WATER DEPTH      Unit: M\r\n",
      "\r\n",
      "  - VELOCITY U\r\n",
      "    +> Time: 0.0s min, max:  [0.0, 0.0]\r\n",
      "    +> Time: 0.20000000298023224s min, max:  [-1.3603153228759766, 1.3603150844573975]\r\n",
      "    +> Time: 0.4000000059604645s min, max:  [-1.3288642168045044, 1.3288638591766357]\r\n",
      "    +> Time: 0.6000000238418579s min, max:  [-1.091463565826416, 1.0914629697799683]\r\n",
      "    +> Time: 0.800000011920929s min, max:  [-0.9476847052574158, 0.9476780891418457]\r\n",
      "    +> Time: 1.0s min, max:  [-0.8573594689369202, 0.8573606014251709]\r\n",
      "    +> Time: 1.2000000476837158s min, max:  [-0.7937085032463074, 0.7937091588973999]\r\n",
      "    +> Time: 1.399999976158142s min, max:  [-0.7106326818466187, 0.7106339335441589]\r\n",
      "    +> Time: 1.600000023841858s min, max:  [-0.5860092043876648, 0.5860081315040588]\r\n",
      "    +> Time: 1.7999999523162842s min, max:  [-0.5878528952598572, 0.5878523588180542]\r\n",
      "    +> Time: 2.0s min, max:  [-0.7006538510322571, 0.7006591558456421]\r\n",
      "    +> Time: 2.200000047683716s min, max:  [-0.7898523211479187, 0.7898480892181396]\r\n",
      "    +> Time: 2.4000000953674316s min, max:  [-0.6918440461158752, 0.6918532252311707]\r\n",
      "    +> Time: 2.5999999046325684s min, max:  [-0.5771511793136597, 0.5771542191505432]\r\n",
      "    +> Time: 2.799999952316284s min, max:  [-0.8003125786781311, 0.8003121614456177]\r\n",
      "    +> Time: 3.0s min, max:  [-0.927985668182373, 0.9279863238334656]\r\n",
      "    +> Time: 3.200000047683716s min, max:  [-0.9112935662269592, 0.91129469871521]\r\n",
      "    +> Time: 3.4000000953674316s min, max:  [-0.829599142074585, 0.829594075679779]\r\n",
      "    +> Time: 3.5999999046325684s min, max:  [-0.7955111265182495, 0.7955092191696167]\r\n",
      "    +> Time: 3.799999952316284s min, max:  [-0.6969678997993469, 0.6969714760780334]\r\n",
      "    +> Time: 4.0s min, max:  [-0.4632953405380249, 0.463295578956604]\r\n",
      "  - VELOCITY V\r\n",
      "    +> Time: 0.0s min, max:  [0.0, 0.0]\r\n",
      "    +> Time: 0.20000000298023224s min, max:  [-1.3603153228759766, 1.3603150844573975]\r\n",
      "    +> Time: 0.4000000059604645s min, max:  [-1.3288642168045044, 1.3288638591766357]\r\n",
      "    +> Time: 0.6000000238418579s min, max:  [-1.091463565826416, 1.0914629697799683]\r\n",
      "    +> Time: 0.800000011920929s min, max:  [-0.9476847052574158, 0.9476780891418457]\r\n",
      "    +> Time: 1.0s min, max:  [-0.8573594689369202, 0.8573606014251709]\r\n",
      "    +> Time: 1.2000000476837158s min, max:  [-0.7937085032463074, 0.7937091588973999]\r\n",
      "    +> Time: 1.399999976158142s min, max:  [-0.7106326818466187, 0.7106339335441589]\r\n",
      "    +> Time: 1.600000023841858s min, max:  [-0.5860092043876648, 0.5860081315040588]\r\n",
      "    +> Time: 1.7999999523162842s min, max:  [-0.5878528952598572, 0.5878523588180542]\r\n",
      "    +> Time: 2.0s min, max:  [-0.7006538510322571, 0.7006591558456421]\r\n",
      "    +> Time: 2.200000047683716s min, max:  [-0.7898523211479187, 0.7898480892181396]\r\n",
      "    +> Time: 2.4000000953674316s min, max:  [-0.6918440461158752, 0.6918532252311707]\r\n",
      "    +> Time: 2.5999999046325684s min, max:  [-0.5771511793136597, 0.5771542191505432]\r\n",
      "    +> Time: 2.799999952316284s min, max:  [-0.8003125786781311, 0.8003121614456177]\r\n",
      "    +> Time: 3.0s min, max:  [-0.927985668182373, 0.9279863238334656]\r\n",
      "    +> Time: 3.200000047683716s min, max:  [-0.9112935662269592, 0.91129469871521]\r\n",
      "    +> Time: 3.4000000953674316s min, max:  [-0.829599142074585, 0.829594075679779]\r\n",
      "    +> Time: 3.5999999046325684s min, max:  [-0.7955111265182495, 0.7955092191696167]\r\n",
      "    +> Time: 3.799999952316284s min, max:  [-0.6969678997993469, 0.6969714760780334]\r\n",
      "    +> Time: 4.0s min, max:  [-0.4632953405380249, 0.463295578956604]\r\n",
      "  - WATER DEPTH\r\n",
      "    +> Time: 0.0s min, max:  [2.4000000953674316, 4.773152828216553]\r\n",
      "    +> Time: 0.20000000298023224s min, max:  [2.4000000953674316, 3.478931427001953]\r\n",
      "    +> Time: 0.4000000059604645s min, max:  [2.4000000953674316, 2.9701669216156006]\r\n",
      "    +> Time: 0.6000000238418579s min, max:  [1.9761072397232056, 2.902676820755005]\r\n",
      "    +> Time: 0.800000011920929s min, max:  [1.9082965850830078, 2.857975721359253]\r\n",
      "    +> Time: 1.0s min, max:  [2.053157091140747, 2.8222053050994873]\r\n",
      "    +> Time: 1.2000000476837158s min, max:  [2.144162178039551, 2.7929866313934326]\r\n",
      "    +> Time: 1.399999976158142s min, max:  [2.187784433364868, 2.7817435264587402]\r\n",
      "    +> Time: 1.600000023841858s min, max:  [2.2149596214294434, 3.084775447845459]\r\n",
      "    +> Time: 1.7999999523162842s min, max:  [2.231989622116089, 3.0441198348999023]\r\n",
      "    +> Time: 2.0s min, max:  [2.2369260787963867, 3.004875898361206]\r\n",
      "    +> Time: 2.200000047683716s min, max:  [2.2635385990142822, 3.0536575317382812]\r\n",
      "    +> Time: 2.4000000953674316s min, max:  [2.2835769653320312, 3.4220268726348877]\r\n",
      "    +> Time: 2.5999999046325684s min, max:  [2.2078800201416016, 3.022886037826538]\r\n",
      "    +> Time: 2.799999952316284s min, max:  [2.1811394691467285, 2.8764960765838623]\r\n",
      "    +> Time: 3.0s min, max:  [2.194444417953491, 2.8552663326263428]\r\n",
      "    +> Time: 3.200000047683716s min, max:  [2.261141300201416, 2.840181350708008]\r\n",
      "    +> Time: 3.4000000953674316s min, max:  [2.158856153488159, 3.0794355869293213]\r\n",
      "    +> Time: 3.5999999046325684s min, max:  [2.0860776901245117, 3.0892293453216553]\r\n",
      "    +> Time: 3.799999952316284s min, max:  [2.070768117904663, 2.8595240116119385]\r\n",
      "    +> Time: 4.0s min, max:  [2.129861831665039, 3.1280534267425537]\r\n",
      "\r\n",
      "\r\n",
      "My work is done\r\n",
      "\r\n",
      "\r\n"
     ]
    }
   ],
   "source": [
    "!run_telfile.py scan --data f2d_gouttedo.slf"
   ]
  },
  {
   "cell_type": "markdown",
   "metadata": {},
   "source": [
    "## Simple scan with boundary information\n",
    "You can add the boundary file to get information about boundaries as well"
   ]
  },
  {
   "cell_type": "code",
   "execution_count": 4,
   "metadata": {
    "execution": {
     "iopub.execute_input": "2022-12-01T13:52:27.770611Z",
     "iopub.status.busy": "2022-12-01T13:52:27.770319Z",
     "iopub.status.idle": "2022-12-01T13:52:28.313183Z",
     "shell.execute_reply": "2022-12-01T13:52:28.309972Z"
    }
   },
   "outputs": [
    {
     "name": "stdout",
     "output_type": "stream",
     "text": [
      "\r\n",
      "\r\n",
      "Interpreting command line options\r\n",
      "~~~~~~~~~~~~~~~~~~~~~~~~~~~~~~~~~~~~~~~~~~~~~~~~~~~~~~~~~~~~~~~~~~~~~~~~\r\n",
      "\r\n",
      "~> Generic info\r\n",
      "\r\n",
      "  - Title: TELEMAC 2D : GOUTTE D'EAU DANS UN BASSIN$\r\n",
      "  - Date: 1997-02-21 10:21:30\r\n",
      "  - Format: SERAFIN\r\n",
      "  - Endianess:  BIG_ENDIAN\r\n",
      "  - Precision: Single precision\r\n",
      "\r\n",
      "~> Mesh info\r\n",
      "\r\n",
      "  - Number of dimensions: 2\r\n",
      "  - Element type: triangle\r\n",
      "  - Number of points: 4624\r\n",
      "  - Number of elements: 8978\r\n",
      "  - Number of points per element: 3\r\n",
      "  - Number of planes: 1\r\n",
      "\r\n",
      "  +> Coordinates\r\n",
      "\r\n",
      "    - X offset, Y offset = 0, 0\r\n",
      "    - X range [0.0, 20.100006103515625]\r\n",
      "    - Y range [0.0, 20.100006103515625]\r\n",
      "\r\n",
      "~> Parallel info\r\n",
      "\r\n",
      "  - No parallel information\r\n",
      "\r\n",
      "~> Boundary info\r\n",
      "\r\n",
      "  - Boundary element type: bnd point\r\n",
      "  - Number of bnd points: 268\r\n",
      "  - Number of bnd elements: 268\r\n",
      "\r\n",
      "~> Data info\r\n",
      "\r\n",
      "  - Number of records: 21\r\n",
      "  - Time range: [0.0, 4.0]\r\n",
      "  - Number of variables: 3\r\n",
      "    - Name: VELOCITY U       Unit: M/S\r\n",
      "    - Name: VELOCITY V       Unit: M/S\r\n",
      "    - Name: WATER DEPTH      Unit: M\r\n",
      "\r\n",
      "\r\n",
      "My work is done\r\n",
      "\r\n",
      "\r\n"
     ]
    }
   ],
   "source": [
    "!run_telfile.py scan f2d_gouttedo.slf -b geo_gouttedo.cli"
   ]
  },
  {
   "cell_type": "markdown",
   "metadata": {},
   "source": [
    "## Scanning a Tomawac spectrum file\n",
    "\n",
    "It can also be used to scan a spectrum file"
   ]
  },
  {
   "cell_type": "code",
   "execution_count": 5,
   "metadata": {
    "execution": {
     "iopub.execute_input": "2022-12-01T13:52:28.321437Z",
     "iopub.status.busy": "2022-12-01T13:52:28.321248Z",
     "iopub.status.idle": "2022-12-01T13:52:28.923359Z",
     "shell.execute_reply": "2022-12-01T13:52:28.922197Z"
    }
   },
   "outputs": [
    {
     "name": "stdout",
     "output_type": "stream",
     "text": [
      "\r\n",
      "\r\n",
      "Interpreting command line options\r\n",
      "~~~~~~~~~~~~~~~~~~~~~~~~~~~~~~~~~~~~~~~~~~~~~~~~~~~~~~~~~~~~~~~~~~~~~~~~\r\n",
      "\r\n",
      "~> Generic info\r\n",
      "\r\n",
      "  - Title: CAS TEST DE VENT DE 20 M/S TOURNANT BRUSQUEMENT DE 60 DEG\r\n",
      "  - No date in file\r\n",
      "  - Format: SERAFIN\r\n",
      "  - Endianess:  BIG_ENDIAN\r\n",
      "  - Precision: Single precision\r\n",
      "\r\n",
      "~> Mesh info\r\n",
      "\r\n",
      "  - Number of dimensions: 2\r\n",
      "  - Element type: quadrangle\r\n",
      "  - Number of points: 312\r\n",
      "  - Number of elements: 300\r\n",
      "  - Number of points per element: 4\r\n",
      "  - Number of planes: 1\r\n",
      "\r\n",
      "  +> Coordinates\r\n",
      "\r\n",
      "    - X offset, Y offset = 0, 0\r\n",
      "    - X range [-0.45259255170822144, 0.45259255170822144]\r\n",
      "    - Y range [-0.45259255170822144, 0.45259255170822144]\r\n",
      "\r\n",
      "  +> Spectrum information\r\n",
      "\r\n",
      "    - Number of frequencies: 26\r\n",
      "    - Frequencies range [0.04177248105406761, 0.4525920900828868]\r\n",
      "    - Number of directions : 12 / angle:30.0 \r\n",
      "\r\n",
      "~> Parallel info\r\n",
      "\r\n",
      "  - No parallel information\r\n",
      "\r\n",
      "~> Boundary info\r\n",
      "\r\n",
      "  - No boundary file given\r\n",
      "\r\n",
      "~> Data info\r\n",
      "\r\n",
      "  - Number of records: 129\r\n",
      "  - Time range: [0.0, 115200.0]\r\n",
      "  - Number of variables: 1\r\n",
      "    - Name: F00001PT2D000001 Unit: UNITE SI\r\n",
      "\r\n",
      "\r\n",
      "My work is done\r\n",
      "\r\n",
      "\r\n"
     ]
    }
   ],
   "source": [
    "HOMETEL = %env HOMETEL\n",
    "%cd -q {HOMETEL}/examples/tomawac/turning_wind\n",
    "!run_telfile.py scan spe_ref.slf"
   ]
  }
 ],
 "metadata": {
  "kernelspec": {
   "display_name": "Python 3",
   "language": "python",
   "name": "python3"
  },
  "language_info": {
   "codemirror_mode": {
    "name": "ipython",
    "version": 3
   },
   "file_extension": ".py",
   "mimetype": "text/x-python",
   "name": "python",
   "nbconvert_exporter": "python",
   "pygments_lexer": "ipython3",
   "version": "3.7.13"
  }
 },
 "nbformat": 4,
 "nbformat_minor": 1
}
