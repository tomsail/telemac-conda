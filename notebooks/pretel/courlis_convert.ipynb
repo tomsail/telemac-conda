{
 "cells": [
  {
   "cell_type": "markdown",
   "metadata": {},
   "source": [
    "# Courlis scripts\n",
    "\n",
    "## Convert Listing Courlis\n",
    "\n",
    "The script `converter.py convert_listing_courlis` allows to :\n",
    " - convert a listing courlis file into an opthyca file ;\n",
    " - extract the sediment budget of the simulation to export in a file. Several format are available :\n",
    "   * Ascii file : text file with no separator or csv file ;\n",
    "   * Excel file (Pandas is required).\n"
   ]
  },
  {
   "cell_type": "code",
   "execution_count": 1,
   "metadata": {
    "execution": {
     "iopub.execute_input": "2022-12-01T13:51:17.427630Z",
     "iopub.status.busy": "2022-12-01T13:51:17.426746Z",
     "iopub.status.idle": "2022-12-01T13:51:17.958250Z",
     "shell.execute_reply": "2022-12-01T13:51:17.957156Z"
    }
   },
   "outputs": [
    {
     "name": "stdout",
     "output_type": "stream",
     "text": [
      "usage: converter.py convert_listing_courlis [-h] [-o OUTPUTFILENAME] [-no-opt]\r\n",
      "                                            [-no-b] [-no-csv] [-txt] [-xlsx]\r\n",
      "                                            [-time]\r\n",
      "                                            listing Courlis file\r\n",
      "\r\n",
      "positional arguments:\r\n",
      "  listing Courlis file\r\n",
      "\r\n",
      "optional arguments:\r\n",
      "  -h, --help            show this help message and exit\r\n",
      "  -o OUTPUTFILENAME, --output OUTPUTFILENAME\r\n",
      "                        Option to give a name to the output Opthyca file\r\n",
      "  -no-opt, --no-opthyca\r\n",
      "                        Option to disable writing of Opthyca file\r\n",
      "  -no-b, --no-budget    Option to disable writing of budget file\r\n",
      "  -no-csv, --no-budget_file-csv\r\n",
      "                        Option to export sediment budget as csv file\r\n",
      "                        (sediment_budget.csv)\r\n",
      "  -txt, --budget_file-txt\r\n",
      "                        Option to export sediment budget as txt file\r\n",
      "                        (sediment_budget.txt)\r\n",
      "  -xlsx, --budget_file-xlsx\r\n",
      "                        Option to export sediment budget as xlsx Exclel file\r\n",
      "                        (sediment_budget.xlsx)\r\n",
      "  -time, --time-check   Option to display reading and writing time step\r\n"
     ]
    }
   ],
   "source": [
    "!converter.py convert_listing_courlis -h"
   ]
  },
  {
   "cell_type": "code",
   "execution_count": 2,
   "metadata": {
    "execution": {
     "iopub.execute_input": "2022-12-01T13:51:17.962167Z",
     "iopub.status.busy": "2022-12-01T13:51:17.961889Z",
     "iopub.status.idle": "2022-12-01T13:51:18.548972Z",
     "shell.execute_reply": "2022-12-01T13:51:18.545773Z"
    },
    "scrolled": true
   },
   "outputs": [
    {
     "name": "stdout",
     "output_type": "stream",
     "text": [
      "\r\n",
      "\r\n",
      "Loading Options and Configurations\r\n",
      "~~~~~~~~~~~~~~~~~~~~~~~~~~~~~~~~~~~~~~~~~~~~~~~~~~~~~~~~~~~~~~~~~~~~~~~~\r\n",
      "\r\n",
      "          ___          _  _   \r\n",
      "         / _ \\        | || |  \r\n",
      " __   __| (_) | _ __  | || |_ \r\n",
      " \\ \\ / / > _ < | '_ \\ |__   _|\r\n",
      "  \\ V / | (_) || |_) |   | |  \r\n",
      "   \\_/   \\___/ | .__/    |_|  \r\n",
      "               | |            \r\n",
      "               |_|            \r\n"
     ]
    },
    {
     "name": "stdout",
     "output_type": "stream",
     "text": [
      "\r\n",
      "\r\n",
      "Running your CAS file(s) for:\r\n",
      "~~~~~~~~~~~~~~~~~~~~~~~~~~~~~~~~~~~~~~~~~~~~~~~~~~~~~~~~~~~~~~~~~~~~~~~~\r\n",
      "\r\n",
      "\r\n",
      "\r\n",
      "~~~~~~~~~~~~~~~~~~~~~~~~~~~~~~~~~~~~~~~~~~~~~~~~~~~~~~~~~~~~~~~~~~~~~~~~\r\n",
      "\r\n",
      "S10.gfortran.dyn: \r\n",
      "    \r\n",
      "\r\n",
      "    +> Scibian 10 dynamic build using GFortran 8.3.0 and Open MPI.\r\n",
      "\r\n",
      "    +> root:    /home/d60881/telemac-mascaret\r\n",
      "    +> module: ad / api / artemis / bief\r\n",
      "               damocles  / gaia  / gretel  / hermes\r\n",
      "               identify_liq_bnd  / khione  / mascaret  / nestor\r\n",
      "               parallel  / partel  / postel3d  / sisyphe\r\n",
      "               special  / stbtel  / telemac2d  / telemac3d\r\n",
      "               tomawac / waqtel\r\n",
      "\r\n",
      "\r\n",
      "~~~~~~~~~~~~~~~~~~~~~~~~~~~~~~~~~~~~~~~~~~~~~~~~~~~~~~~~~~~~~~~~~~~~~~~~\r\n",
      "\r\n",
      "\r\n",
      "... processing the steering file\r\n",
      "Traceback (most recent call last):\r\n",
      "  File \"/home/d60881/telemac-mascaret/scripts/python3/mascaret.py\", line 7, in <module>\r\n",
      "    main('mascaret')\r\n",
      "  File \"/home/d60881/telemac-mascaret/scripts/python3/runcode.py\", line 288, in main\r\n",
      "    run_study(cas_file, code_name, options)\r\n",
      "  File \"/home/d60881/telemac-mascaret/scripts/python3/execution/run_cas.py\", line 160, in run_study\r\n",
      "    mascaret_cas=options.mascaret_cas)\r\n",
      "  File \"/home/d60881/telemac-mascaret/scripts/python3/execution/study.py\", line 58, in __init__\r\n",
      "    \"Could not find your steering file :\\n{}\".format(steering_file))\r\n",
      "utils.exceptions.TelemacException: Could not find your steering file :\r\n",
      "sarap.xcas\r\n"
     ]
    }
   ],
   "source": [
    "# Run Soni\n",
    "!mascaret.py sarap.xcas"
   ]
  },
  {
   "cell_type": "markdown",
   "metadata": {},
   "source": [
    "### Convert in Opthyca file\n",
    "\n",
    "Output file (`-o` or `--output` arguments) is optional (an automatic name will be attributed `inputfilename_listingcourlis.opt`)\n",
    "\n",
    "NB: Sediment budget is exported by default. The option `-no-b` (or `--no-budget`) desactivate the export"
   ]
  },
  {
   "cell_type": "code",
   "execution_count": 3,
   "metadata": {
    "execution": {
     "iopub.execute_input": "2022-12-01T13:51:18.556469Z",
     "iopub.status.busy": "2022-12-01T13:51:18.556271Z",
     "iopub.status.idle": "2022-12-01T13:51:19.116782Z",
     "shell.execute_reply": "2022-12-01T13:51:19.114486Z"
    }
   },
   "outputs": [
    {
     "name": "stdout",
     "output_type": "stream",
     "text": [
      "\r\n",
      "Conversion from resu.listingcourlis to resu_listingCourlis.opt\r\n",
      "\r\n",
      "WARNING:data_manip.formats.mascaret_file: Two timesteps, n°0 and n°1, are the                same (often the case for the two first timesteps with sarap), the second has been augmented                                     of +1.e-6s\r\n"
     ]
    }
   ],
   "source": [
    "HOMETEL = %env HOMETEL\n",
    "%cd -q {HOMETEL}/examples/courlis/Soni\n",
    "\n",
    "!converter.py convert_listing_courlis resu.listingcourlis -no-b"
   ]
  },
  {
   "cell_type": "markdown",
   "metadata": {},
   "source": [
    "### Export sediment budget\n",
    "\n",
    "Default export sediment budget file is csv. It can be desactivate with the option `-no-csv` (or `--no_budget_file-csv`)\n",
    "With the option `-xlsx` (or `--budget_file-xlsx`), the export of the budget in Excel file can be activated (Pandas library is required)\n",
    "With the option `-txt` (or `--budget_file-txt`), the export of the budget in text file with no separator can be activated\n",
    "\n",
    "The name of files exported are fixed to `inputfilename_sediment_budget` + extension of the file (`.csv`, `.xlsx` or `.txt`)\n",
    "\n",
    "NB: Opthyca file is exported by default. The option `-no-opt` (or `--no-opthyca`) desactivate the export"
   ]
  },
  {
   "cell_type": "code",
   "execution_count": 4,
   "metadata": {
    "execution": {
     "iopub.execute_input": "2022-12-01T13:51:19.124401Z",
     "iopub.status.busy": "2022-12-01T13:51:19.124190Z",
     "iopub.status.idle": "2022-12-01T13:51:19.884155Z",
     "shell.execute_reply": "2022-12-01T13:51:19.881434Z"
    }
   },
   "outputs": [
    {
     "name": "stdout",
     "output_type": "stream",
     "text": [
      "\r\n",
      "Generating resu_sediment_budget.txt\r\n",
      "\r\n",
      "WARNING:data_manip.formats.mascaret_file: Two timesteps, n°0 and n°1, are the                same (often the case for the two first timesteps with sarap), the second has been augmented                                     of +1.e-6s\r\n",
      "\r\n",
      "Generating resu_sediment_budget.csv\r\n",
      "\r\n",
      "\r\n",
      "Generating resu_sediment_budget.xslx\r\n",
      "\r\n"
     ]
    }
   ],
   "source": [
    "!converter.py convert_listing_courlis resu.listingcourlis -no-opt -xlsx -txt"
   ]
  }
 ],
 "metadata": {
  "kernelspec": {
   "display_name": "Python 3",
   "language": "python",
   "name": "python3"
  },
  "language_info": {
   "codemirror_mode": {
    "name": "ipython",
    "version": 3
   },
   "file_extension": ".py",
   "mimetype": "text/x-python",
   "name": "python",
   "nbconvert_exporter": "python",
   "pygments_lexer": "ipython3",
   "version": "3.7.13"
  }
 },
 "nbformat": 4,
 "nbformat_minor": 1
}
