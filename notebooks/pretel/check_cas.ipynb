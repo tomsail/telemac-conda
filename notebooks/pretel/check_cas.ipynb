{
 "cells": [
  {
   "cell_type": "markdown",
   "metadata": {},
   "source": [
    "# manipulation of steering file\n",
    "\n",
    "The scrip manip_cas.py can do action on a steering file in a one line command:\n",
    "  * Translate the steering file\n",
    "  * Check the content coherence with input files (time, space...)\n",
    "  * Sort the steering file (following the RUBRIQUE order from the dictionary)\n",
    "  \n",
    "## manip_cas.py "
   ]
  },
  {
   "cell_type": "code",
   "execution_count": 1,
   "metadata": {
    "execution": {
     "iopub.execute_input": "2022-12-01T13:50:55.017251Z",
     "iopub.status.busy": "2022-12-01T13:50:55.017038Z",
     "iopub.status.idle": "2022-12-01T13:50:55.534405Z",
     "shell.execute_reply": "2022-12-01T13:50:55.533137Z"
    },
    "scrolled": true
   },
   "outputs": [
    {
     "name": "stdout",
     "output_type": "stream",
     "text": [
      "\r\n",
      "\r\n",
      "Loading Options and Configurations\r\n",
      "~~~~~~~~~~~~~~~~~~~~~~~~~~~~~~~~~~~~~~~~~~~~~~~~~~~~~~~~~~~~~~~~~~~~~~~~\r\n",
      "\r\n",
      "usage: manip_cas.py [-h]\r\n",
      "                    {translate,sort,diff,check,xcas2cas_1d,cas2xcas_1d} ...\r\n",
      "\r\n",
      "Manipulation on steering files\r\n",
      "\r\n",
      "positional arguments:\r\n",
      "  {translate,sort,diff,check,xcas2cas_1d,cas2xcas_1d}\r\n",
      "                        manip_cas commands to do\r\n",
      "    translate           Generate a french and english version of the steering\r\n",
      "                        file (cas_file suffixed with _fr and _gb)\r\n",
      "    sort                Rewrites the steering file using rubriques to sort the\r\n",
      "                        keywords cas_file suffixed with _sorted\r\n",
      "    diff                Diff between all steering files give as argument into\r\n",
      "                        a csv file. By default only the different keyword will\r\n",
      "                        be in the file add option --all to have them all\r\n",
      "    check               Check that content of steering file is valid (files\r\n",
      "                        exist, time are consistent between computation and\r\n",
      "                        input files)\r\n",
      "    xcas2cas_1d         Convert xcas (xml) file in cas file (Damocles). Only\r\n",
      "                        for 1d module\r\n",
      "    cas2xcas_1d         Convert cas (Damocles) file in xcas file (xml). Only\r\n",
      "                        for 1d module\r\n",
      "\r\n",
      "optional arguments:\r\n",
      "  -h, --help            show this help message and exit\r\n"
     ]
    }
   ],
   "source": [
    "!manip_cas.py --help"
   ]
  },
  {
   "cell_type": "markdown",
   "metadata": {},
   "source": [
    "## Checking the coherence\n",
    "\n",
    "This script checks the coherence of the input of the simulation. The following checks are performed:\n",
    "*  Show were values in the .cas file are equal to the default values\n",
    "*  Check that start time of the simulation corresponds to the time of the timestqp used in the previous computation file\n",
    "*  Check that simulation period is within the period in the ATMOSPHERIC DATA FILE (either in binary or ascii format)\n",
    "*  Check that simulation period is within the period in the SOURCES FLE\n",
    "*  Check that simulation period is within the period in the LIQUID BOUNDARIES FILE\n",
    "\n",
    "Those check are module dependant so not available for all."
   ]
  },
  {
   "cell_type": "code",
   "execution_count": 2,
   "metadata": {
    "execution": {
     "iopub.execute_input": "2022-12-01T13:50:55.539381Z",
     "iopub.status.busy": "2022-12-01T13:50:55.538989Z",
     "iopub.status.idle": "2022-12-01T13:50:56.048753Z",
     "shell.execute_reply": "2022-12-01T13:50:56.047388Z"
    }
   },
   "outputs": [
    {
     "name": "stdout",
     "output_type": "stream",
     "text": [
      "\r\n",
      "\r\n",
      "Loading Options and Configurations\r\n",
      "~~~~~~~~~~~~~~~~~~~~~~~~~~~~~~~~~~~~~~~~~~~~~~~~~~~~~~~~~~~~~~~~~~~~~~~~\r\n",
      "\r\n",
      "usage: manip_cas.py check [-h] [-c config name] [-f config file]\r\n",
      "                          [-r TELEMAC root]\r\n",
      "                          {postel3d,telemac2d,telemac3d,tomawac,artemis,sisyphe,gaia,waqtel,khione,stbtel}\r\n",
      "                          cas_file\r\n",
      "\r\n",
      "positional arguments:\r\n",
      "  {postel3d,telemac2d,telemac3d,tomawac,artemis,sisyphe,gaia,waqtel,khione,stbtel}\r\n",
      "                        Name of the module\r\n",
      "  cas_file              Name of the steering file to check\r\n",
      "\r\n",
      "optional arguments:\r\n",
      "  -h, --help            show this help message and exit\r\n",
      "  -c config name, --configname config name\r\n",
      "                        specify configuration name, default is randomly found\r\n",
      "                        in the configuration file\r\n",
      "  -f config file, --configfile config file\r\n",
      "                        specify configuration file, default is systel.cfg\r\n",
      "  -r TELEMAC root, --rootdir TELEMAC root\r\n",
      "                        specify the root, default is taken from config file\r\n"
     ]
    }
   ],
   "source": [
    "!manip_cas.py check -h"
   ]
  },
  {
   "cell_type": "code",
   "execution_count": 3,
   "metadata": {
    "execution": {
     "iopub.execute_input": "2022-12-01T13:50:56.054560Z",
     "iopub.status.busy": "2022-12-01T13:50:56.054081Z",
     "iopub.status.idle": "2022-12-01T13:50:59.354955Z",
     "shell.execute_reply": "2022-12-01T13:50:59.352445Z"
    },
    "scrolled": true
   },
   "outputs": [
    {
     "name": "stdout",
     "output_type": "stream",
     "text": [
      "\r\n",
      "\r\n",
      "Loading Options and Configurations\r\n",
      "~~~~~~~~~~~~~~~~~~~~~~~~~~~~~~~~~~~~~~~~~~~~~~~~~~~~~~~~~~~~~~~~~~~~~~~~\r\n",
      "\r\n"
     ]
    },
    {
     "name": "stdout",
     "output_type": "stream",
     "text": [
      "  ~> Checking keyword/rubrique coherence\r\n",
      "\r\n",
      "  ~>  Checking default values:\r\n",
      "\r\n",
      "ORIGINAL DATE OF TIME set to default value [1900, 1, 1]\r\n",
      "ORIGINAL HOUR OF TIME set to default value [0, 0, 0]\r\n",
      "GRAPHIC PRINTOUT PERIOD set to default value 1\r\n",
      "LISTING PRINTOUT PERIOD set to default value 1\r\n",
      "TURBULENCE MODEL set to default value 1\r\n",
      "  ~> Checking computation continued coherence\r\n",
      "  ~> Displaying simulation date\r\n",
      "Starting date: 1900-01-01 00:08:10\r\n",
      "Ending date:   1900-01-01 00:09:50\r\n",
      "  ~> Checking atmo ascii file time coherence\r\n",
      "Time range of the atmospheric data  1900-01-01 00:00:00 to 1900-01-01 00:16:40\r\n",
      "  ~> OK\r\n",
      "\r\n",
      "\r\n",
      "My work is done\r\n",
      "\r\n",
      "\r\n"
     ]
    }
   ],
   "source": [
    "HOMETEL = %env HOMETEL\n",
    "%cd -q {HOMETEL}/examples/telemac2d/wind\n",
    "\n",
    "!manip_cas.py check telemac2d t2d_wind.cas"
   ]
  },
  {
   "cell_type": "markdown",
   "metadata": {},
   "source": [
    "## Translating the steering file\n",
    "\n",
    "This will generate a french and english version of the steering file"
   ]
  },
  {
   "cell_type": "code",
   "execution_count": 4,
   "metadata": {
    "execution": {
     "iopub.execute_input": "2022-12-01T13:50:59.361675Z",
     "iopub.status.busy": "2022-12-01T13:50:59.361463Z",
     "iopub.status.idle": "2022-12-01T13:50:59.862460Z",
     "shell.execute_reply": "2022-12-01T13:50:59.861054Z"
    }
   },
   "outputs": [
    {
     "name": "stdout",
     "output_type": "stream",
     "text": [
      "\r\n",
      "\r\n",
      "Loading Options and Configurations\r\n",
      "~~~~~~~~~~~~~~~~~~~~~~~~~~~~~~~~~~~~~~~~~~~~~~~~~~~~~~~~~~~~~~~~~~~~~~~~\r\n",
      "\r\n",
      "usage: manip_cas.py translate [-h] [-c config name] [-f config file]\r\n",
      "                              [-r TELEMAC root]\r\n",
      "                              {postel3d,telemac2d,telemac3d,tomawac,artemis,sisyphe,gaia,waqtel,khione,stbtel}\r\n",
      "                              cas_file\r\n",
      "\r\n",
      "positional arguments:\r\n",
      "  {postel3d,telemac2d,telemac3d,tomawac,artemis,sisyphe,gaia,waqtel,khione,stbtel}\r\n",
      "                        Name of the module\r\n",
      "  cas_file              Name of the steering file to translate\r\n",
      "\r\n",
      "optional arguments:\r\n",
      "  -h, --help            show this help message and exit\r\n",
      "  -c config name, --configname config name\r\n",
      "                        specify configuration name, default is randomly found\r\n",
      "                        in the configuration file\r\n",
      "  -f config file, --configfile config file\r\n",
      "                        specify configuration file, default is systel.cfg\r\n",
      "  -r TELEMAC root, --rootdir TELEMAC root\r\n",
      "                        specify the root, default is taken from config file\r\n"
     ]
    }
   ],
   "source": [
    "!manip_cas.py translate -h"
   ]
  },
  {
   "cell_type": "code",
   "execution_count": 5,
   "metadata": {
    "execution": {
     "iopub.execute_input": "2022-12-01T13:50:59.869025Z",
     "iopub.status.busy": "2022-12-01T13:50:59.868428Z",
     "iopub.status.idle": "2022-12-01T13:51:03.159614Z",
     "shell.execute_reply": "2022-12-01T13:51:03.157317Z"
    },
    "scrolled": true
   },
   "outputs": [
    {
     "name": "stdout",
     "output_type": "stream",
     "text": [
      "\r\n",
      "\r\n",
      "Loading Options and Configurations\r\n",
      "~~~~~~~~~~~~~~~~~~~~~~~~~~~~~~~~~~~~~~~~~~~~~~~~~~~~~~~~~~~~~~~~~~~~~~~~\r\n",
      "\r\n"
     ]
    },
    {
     "name": "stdout",
     "output_type": "stream",
     "text": [
      "  ~> Checking keyword/rubrique coherence\r\n",
      "\r\n",
      " ~> Translating t2d_wind.cas\r\n",
      "\r\n",
      "\r\n",
      "My work is done\r\n",
      "\r\n",
      "\r\n"
     ]
    }
   ],
   "source": [
    "!manip_cas.py translate telemac2d t2d_wind.cas"
   ]
  },
  {
   "cell_type": "markdown",
   "metadata": {},
   "source": [
    "French version of the steering file:"
   ]
  },
  {
   "cell_type": "code",
   "execution_count": 6,
   "metadata": {
    "execution": {
     "iopub.execute_input": "2022-12-01T13:51:03.167817Z",
     "iopub.status.busy": "2022-12-01T13:51:03.167210Z",
     "iopub.status.idle": "2022-12-01T13:51:03.173653Z",
     "shell.execute_reply": "2022-12-01T13:51:03.173108Z"
    },
    "scrolled": true
   },
   "outputs": [
    {
     "name": "stdout",
     "output_type": "stream",
     "text": [
      "/\n",
      "/ See Fortran file to have an example of subroutine meteo.\n",
      "/\n",
      "/-------------------------------------------------------------------/\n",
      "/   TELEMAC-2D  -  VALIDATION TEST CASE NUMBER 10 -  12/2001        /\n",
      "/                            WIND SET-UP                            /\n",
      "/-------------------------------------------------------------------/\n",
      "/\n",
      "/ HP C3700 compilateur HP      :  1 s       version 5.7 19/04/2007\n",
      "/ HP C3700 compilateur Nag     :  3 s       version 5.7 19/04/2007\n",
      "/ Dell 2.8 MHz compilateur pgi :  0 s  !!!! version 5.7 19/04/2007\n",
      "/\n",
      "/ HP C3700 compilateur HP      :  1 s       version 5.8 20/12/2007\n",
      "/ HP C3700 compilateur Nag     :  0 s       version 5.8 26/12/2007\n",
      "/ Dell 2.8 MHz compilateur pgi :  ? s  !!!! version 5.8\n",
      "/\n",
      "/ HP C3700 compilateur HP      :  1 s       version 5.9 16/10/2008\n",
      "/ HP C3700 compilateur Nag     :  1 s       version 5.9 17/10/2008\n",
      "/ Dell 2.8 MHz compilateur pgi :  0.15 s  ! version 5.9 16/10/2008\n",
      "/\n",
      "/ HP C3700 compilateur HP        :    1 s    version 6.0 24/11/2009\n",
      "/ HP C3700 compilateur Nag       :    1 s    version 6.0 27/11/2009\n",
      "/ Dell 2.8 MHz compilateur Intel : 0.05 s    version 6.0 27/11/2009\n",
      "/\n",
      "/ Version 6.2\n",
      "/\n",
      "/ HP C3700 compilateur HP        :    1 s    21/05/2012\n",
      "/\n",
      "/----------------------------------------------\n",
      "/  COMPUTER INFORMATIONS\n",
      "/----------------------------------------------\n",
      "/\n",
      "FICHIER FORTRAN                    = 'user_fortran'\n",
      "FICHIER DES CONDITIONS AUX LIMITES        = geo_wind.cli\n",
      "FICHIER DE GEOMETRIE                   = geo_wind.slf\n",
      "FICHIER DES RESULTATS                    = r2d_wind.slf\n",
      "FICHIER DU CALCUL PRECEDENT       = ini_wind.slf\n",
      "FICHIER ASCII DE DONNEES ATMOSPHERIQUES     = fo1_wind\n",
      "DATE DE L'ORIGINE DES TEMPS = 1900;1;1\n",
      "HEURE DE L'ORIGINE DES TEMPS = 0;0;0\n",
      "/\n",
      "/----------------------------------------------\n",
      "/  GENERAL INFORMATIONS - OUTPUTS\n",
      "/----------------------------------------------\n",
      "/\n",
      "CONDITIONS INITIALES : 'PARTICULAR'\n",
      "TITRE                                        = 'WIND SET UP'\n",
      "VARIABLES POUR LES SORTIES GRAPHIQUES              = 'U,V,H,S,X,Y,N'\n",
      "PERIODE POUR LES SORTIES GRAPHIQUES                      = 1\n",
      "PERIODE DE SORTIE LISTING                      = 1\n",
      "PAS DE TEMPS                                    = 10.\n",
      "NOMBRE DE PAS DE TEMPS                         = 10\n",
      "BILAN DE MASSE                                 = YES\n",
      "NOMBRE DE TABLEAUX PRIVES                     = 1\n",
      "NOMS DES VARIABLES PRIVEES = 'EXACT DEPTH    M'\n",
      "/\n",
      "/----------------------------------------------\n",
      "/  INITIAL CONDITIONS\n",
      "/----------------------------------------------\n",
      "/\n",
      "SUITE DE CALCUL                        = YES\n",
      "/\n",
      "/----------------------------------------------\n",
      "/  PHYSICAL PARAMETERS\n",
      "/----------------------------------------------\n",
      "/\n",
      "LOI DE FROTTEMENT SUR LE FOND                       = 0\n",
      "MODELE DE TURBULENCE                             = 1\n",
      "COEFFICIENT DE DIFFUSION DES VITESSES                         = 0.\n",
      "/\n",
      "/----------------------------------------------\n",
      "/  NUMERICAL PARAMETERS\n",
      "/----------------------------------------------\n",
      "/\n",
      "FORME DE LA CONVECTION                            = 1;5\n",
      "PRECISION DU SOLVEUR                              = 1.E-8\n",
      "IMPLICITATION POUR LA HAUTEUR                      = 0.5\n",
      "IMPLICITATION POUR LA VITESSE                   = 0.5\n",
      "ORDRE DU TIR INITIAL POUR H                          = 0\n",
      "/\n",
      "/----------------------------------------------\n",
      "/  WIND\n",
      "/----------------------------------------------\n",
      "/\n",
      "VENT                                         = YES\n",
      "OPTION DU VENT                              = 2\n",
      "COEFFICIENT D'INFLUENCE DU VENT                = 1.2615E-3\n",
      "/WIND VELOCITY ALONG X                        = 5.\n",
      "/WIND VELOCITY ALONG Y                        = 0.\n",
      "/\n",
      "/ DEFAULT VALUE UNTIL V8P1 KEPT FOR NON REGRESSION\n",
      "COEFFICIENT D'INFLUENCE DU VENT DEPENDANT DE LA VITESSE DU VENT = NO\n",
      "TRAITEMENT DU SYSTEME LINEAIRE               = 1\n"
     ]
    }
   ],
   "source": [
    "with open('t2d_wind_fr.cas', 'r') as f:\n",
    "    print(f.read())"
   ]
  },
  {
   "cell_type": "markdown",
   "metadata": {},
   "source": [
    "English version of the steering file:"
   ]
  },
  {
   "cell_type": "code",
   "execution_count": 7,
   "metadata": {
    "execution": {
     "iopub.execute_input": "2022-12-01T13:51:03.175733Z",
     "iopub.status.busy": "2022-12-01T13:51:03.175544Z",
     "iopub.status.idle": "2022-12-01T13:51:03.178854Z",
     "shell.execute_reply": "2022-12-01T13:51:03.178244Z"
    },
    "scrolled": true
   },
   "outputs": [
    {
     "name": "stdout",
     "output_type": "stream",
     "text": [
      "/\n",
      "/ See Fortran file to have an example of subroutine meteo.\n",
      "/\n",
      "/-------------------------------------------------------------------/\n",
      "/   TELEMAC-2D  -  VALIDATION TEST CASE NUMBER 10 -  12/2001        /\n",
      "/                            WIND SET-UP                            /\n",
      "/-------------------------------------------------------------------/\n",
      "/\n",
      "/ HP C3700 compilateur HP      :  1 s       version 5.7 19/04/2007\n",
      "/ HP C3700 compilateur Nag     :  3 s       version 5.7 19/04/2007\n",
      "/ Dell 2.8 MHz compilateur pgi :  0 s  !!!! version 5.7 19/04/2007\n",
      "/\n",
      "/ HP C3700 compilateur HP      :  1 s       version 5.8 20/12/2007\n",
      "/ HP C3700 compilateur Nag     :  0 s       version 5.8 26/12/2007\n",
      "/ Dell 2.8 MHz compilateur pgi :  ? s  !!!! version 5.8\n",
      "/\n",
      "/ HP C3700 compilateur HP      :  1 s       version 5.9 16/10/2008\n",
      "/ HP C3700 compilateur Nag     :  1 s       version 5.9 17/10/2008\n",
      "/ Dell 2.8 MHz compilateur pgi :  0.15 s  ! version 5.9 16/10/2008\n",
      "/\n",
      "/ HP C3700 compilateur HP        :    1 s    version 6.0 24/11/2009\n",
      "/ HP C3700 compilateur Nag       :    1 s    version 6.0 27/11/2009\n",
      "/ Dell 2.8 MHz compilateur Intel : 0.05 s    version 6.0 27/11/2009\n",
      "/\n",
      "/ Version 6.2\n",
      "/\n",
      "/ HP C3700 compilateur HP        :    1 s    21/05/2012\n",
      "/\n",
      "/----------------------------------------------\n",
      "/  COMPUTER INFORMATIONS\n",
      "/----------------------------------------------\n",
      "/\n",
      "FORTRAN FILE                    = 'user_fortran'\n",
      "BOUNDARY CONDITIONS FILE        = geo_wind.cli\n",
      "GEOMETRY FILE                   = geo_wind.slf\n",
      "RESULTS FILE                    = r2d_wind.slf\n",
      "PREVIOUS COMPUTATION FILE       = ini_wind.slf\n",
      "ASCII ATMOSPHERIC DATA FILE     = fo1_wind\n",
      "ORIGINAL DATE OF TIME = 1900;1;1\n",
      "ORIGINAL HOUR OF TIME = 0;0;0\n",
      "/\n",
      "/----------------------------------------------\n",
      "/  GENERAL INFORMATIONS - OUTPUTS\n",
      "/----------------------------------------------\n",
      "/\n",
      "INITIAL CONDITIONS : 'PARTICULAR'\n",
      "TITLE                                        = 'WIND SET UP'\n",
      "VARIABLES FOR GRAPHIC PRINTOUTS              = 'U,V,H,S,X,Y,N'\n",
      "GRAPHIC PRINTOUT PERIOD                      = 1\n",
      "LISTING PRINTOUT PERIOD                      = 1\n",
      "TIME STEP                                    = 10.\n",
      "NUMBER OF TIME STEPS                         = 10\n",
      "MASS-BALANCE                                 = YES\n",
      "NUMBER OF PRIVATE ARRAYS                     = 1\n",
      "NAMES OF PRIVATE VARIABLES = 'EXACT DEPTH    M'\n",
      "/\n",
      "/----------------------------------------------\n",
      "/  INITIAL CONDITIONS\n",
      "/----------------------------------------------\n",
      "/\n",
      "COMPUTATION CONTINUED                        = YES\n",
      "/\n",
      "/----------------------------------------------\n",
      "/  PHYSICAL PARAMETERS\n",
      "/----------------------------------------------\n",
      "/\n",
      "LAW OF BOTTOM FRICTION                       = 0\n",
      "TURBULENCE MODEL                             = 1\n",
      "VELOCITY DIFFUSIVITY                         = 0.\n",
      "/\n",
      "/----------------------------------------------\n",
      "/  NUMERICAL PARAMETERS\n",
      "/----------------------------------------------\n",
      "/\n",
      "TYPE OF ADVECTION                            = 1;5\n",
      "SOLVER ACCURACY                              = 1.E-8\n",
      "IMPLICITATION FOR DEPTH                      = 0.5\n",
      "IMPLICITATION FOR VELOCITY                   = 0.5\n",
      "INITIAL GUESS FOR H                          = 0\n",
      "/\n",
      "/----------------------------------------------\n",
      "/  WIND\n",
      "/----------------------------------------------\n",
      "/\n",
      "WIND                                         = YES\n",
      "OPTION FOR WIND                              = 2\n",
      "COEFFICIENT OF WIND INFLUENCE                = 1.2615E-3\n",
      "/WIND VELOCITY ALONG X                        = 5.\n",
      "/WIND VELOCITY ALONG Y                        = 0.\n",
      "/\n",
      "/ DEFAULT VALUE UNTIL V8P1 KEPT FOR NON REGRESSION\n",
      "COEFFICIENT OF WIND INFLUENCE VARYING WITH WIND SPEED = NO\n",
      "TREATMENT OF THE LINEAR SYSTEM               = 1\n"
     ]
    }
   ],
   "source": [
    "with open('t2d_wind_en.cas', 'r') as f:\n",
    "    print(f.read())"
   ]
  },
  {
   "cell_type": "markdown",
   "metadata": {},
   "source": [
    "## Sorting the steering file\n",
    "\n",
    "This will reorder the steering files keywors in a structure based on the RUBRIQUE in the dictionary."
   ]
  },
  {
   "cell_type": "code",
   "execution_count": 8,
   "metadata": {
    "execution": {
     "iopub.execute_input": "2022-12-01T13:51:03.181207Z",
     "iopub.status.busy": "2022-12-01T13:51:03.181032Z",
     "iopub.status.idle": "2022-12-01T13:51:03.690451Z",
     "shell.execute_reply": "2022-12-01T13:51:03.689515Z"
    }
   },
   "outputs": [
    {
     "name": "stdout",
     "output_type": "stream",
     "text": [
      "\r\n",
      "\r\n",
      "Loading Options and Configurations\r\n",
      "~~~~~~~~~~~~~~~~~~~~~~~~~~~~~~~~~~~~~~~~~~~~~~~~~~~~~~~~~~~~~~~~~~~~~~~~\r\n",
      "\r\n",
      "usage: manip_cas.py sort [-h] [-c config name] [-f config file]\r\n",
      "                         [-r TELEMAC root] [--keep-comments]\r\n",
      "                         {postel3d,telemac2d,telemac3d,tomawac,artemis,sisyphe,gaia,waqtel,khione,stbtel}\r\n",
      "                         cas_file\r\n",
      "\r\n",
      "positional arguments:\r\n",
      "  {postel3d,telemac2d,telemac3d,tomawac,artemis,sisyphe,gaia,waqtel,khione,stbtel}\r\n",
      "                        Name of the module\r\n",
      "  cas_file              Name of the steering file to sort\r\n",
      "\r\n",
      "optional arguments:\r\n",
      "  -h, --help            show this help message and exit\r\n",
      "  -c config name, --configname config name\r\n",
      "                        specify configuration name, default is randomly found\r\n",
      "                        in the configuration file\r\n",
      "  -f config file, --configfile config file\r\n",
      "                        specify configuration file, default is systel.cfg\r\n",
      "  -r TELEMAC root, --rootdir TELEMAC root\r\n",
      "                        specify the root, default is taken from config file\r\n",
      "  --keep-comments       When sorting will append all original comments at the\r\n",
      "                        end of the file\r\n"
     ]
    }
   ],
   "source": [
    "!manip_cas.py sort -h"
   ]
  },
  {
   "cell_type": "code",
   "execution_count": 9,
   "metadata": {
    "execution": {
     "iopub.execute_input": "2022-12-01T13:51:03.693912Z",
     "iopub.status.busy": "2022-12-01T13:51:03.693659Z",
     "iopub.status.idle": "2022-12-01T13:51:07.013819Z",
     "shell.execute_reply": "2022-12-01T13:51:07.011252Z"
    },
    "scrolled": true
   },
   "outputs": [
    {
     "name": "stdout",
     "output_type": "stream",
     "text": [
      "\r\n",
      "\r\n",
      "Loading Options and Configurations\r\n",
      "~~~~~~~~~~~~~~~~~~~~~~~~~~~~~~~~~~~~~~~~~~~~~~~~~~~~~~~~~~~~~~~~~~~~~~~~\r\n",
      "\r\n"
     ]
    },
    {
     "name": "stdout",
     "output_type": "stream",
     "text": [
      "  ~> Checking keyword/rubrique coherence\r\n",
      "\r\n",
      " ~> Sorting t2d_wind.cas\r\n",
      "\r\n",
      "\r\n",
      "My work is done\r\n",
      "\r\n",
      "\r\n"
     ]
    }
   ],
   "source": [
    "!manip_cas.py sort telemac2d t2d_wind.cas"
   ]
  },
  {
   "cell_type": "code",
   "execution_count": 10,
   "metadata": {
    "execution": {
     "iopub.execute_input": "2022-12-01T13:51:07.021161Z",
     "iopub.status.busy": "2022-12-01T13:51:07.020959Z",
     "iopub.status.idle": "2022-12-01T13:51:07.024566Z",
     "shell.execute_reply": "2022-12-01T13:51:07.024110Z"
    },
    "scrolled": true
   },
   "outputs": [
    {
     "name": "stdout",
     "output_type": "stream",
     "text": [
      "////////////////////////////////////////////////////////////////////////\n",
      "/// 1-computation environment\n",
      "/// 1.1-initialization\n",
      "TITLE = 'WIND SET UP'\n",
      "INITIAL CONDITIONS = 'PARTICULAR'\n",
      "/// 1.1.1-input files\n",
      "GEOMETRY FILE = 'geo_wind.slf'\n",
      "FORTRAN FILE = 'user_fortran'\n",
      "BOUNDARY CONDITIONS FILE = 'geo_wind.cli'\n",
      "/// 1.2-restart\n",
      "COMPUTATION CONTINUED = True\n",
      "PREVIOUS COMPUTATION FILE = 'ini_wind.slf'\n",
      "/// 1.3-output files\n",
      "/// 1.3.1-results files\n",
      "GRAPHIC PRINTOUT PERIOD = 1\n",
      "VARIABLES FOR GRAPHIC PRINTOUTS = 'U,V,H,S,X,Y,N'\n",
      "NUMBER OF PRIVATE ARRAYS = 1\n",
      "NAMES OF PRIVATE VARIABLES = 'EXACT DEPTH    M'\n",
      "RESULTS FILE = 'r2d_wind.slf'\n",
      "/// 1.3.2-listing\n",
      "LISTING PRINTOUT PERIOD = 1\n",
      "MASS-BALANCE = True\n",
      "////////////////////////////////////////////////////////////////////////\n",
      "/// 2-hydro\n",
      "/// 2.1-physical parameters hydro\n",
      "/// 2.1.1-friction\n",
      "LAW OF BOTTOM FRICTION = 0\n",
      "/// 2.1.2-meteorology\n",
      "WIND = True\n",
      "OPTION FOR WIND = 2\n",
      "COEFFICIENT OF WIND INFLUENCE = 0.0012615\n",
      "COEFFICIENT OF WIND INFLUENCE VARYING WITH WIND SPEED = False\n",
      "ASCII ATMOSPHERIC DATA FILE = 'fo1_wind'\n",
      "/// 2.2-numerical parameters hydro\n",
      "TREATMENT OF THE LINEAR SYSTEM = 1\n",
      "////////////////////////////////////////////////////////////////////////\n",
      "/// 3-general parameters\n",
      "/// 3.1-time\n",
      "TIME STEP = 10.0\n",
      "NUMBER OF TIME STEPS = 10\n",
      "ORIGINAL DATE OF TIME = 1900;1;1\n",
      "ORIGINAL HOUR OF TIME = 0;0;0\n",
      "////////////////////////////////////////////////////////////////////////\n",
      "/// 4-numerical parameters\n",
      "/// 4.1-solver info\n",
      "SOLVER ACCURACY = 1e-08\n",
      "/// 4.2-discretisations implicitation\n",
      "IMPLICITATION FOR DEPTH = 0.5\n",
      "IMPLICITATION FOR VELOCITY = 0.5\n",
      "/// 4.3-propagation info\n",
      "INITIAL GUESS FOR H = 0\n",
      "/// 4.4-advection info\n",
      "TYPE OF ADVECTION = 1;5\n",
      "////////////////////////////////////////////////////////////////////////\n",
      "/// 5-turbulence\n",
      "VELOCITY DIFFUSIVITY = 0.0\n",
      "TURBULENCE MODEL = 1\n",
      "\n"
     ]
    }
   ],
   "source": [
    "with open('t2d_wind_sorted.cas', 'r') as f:\n",
    "    print(f.read())"
   ]
  }
 ],
 "metadata": {
  "kernelspec": {
   "display_name": "Python 3",
   "language": "python",
   "name": "python3"
  },
  "language_info": {
   "codemirror_mode": {
    "name": "ipython",
    "version": 3
   },
   "file_extension": ".py",
   "mimetype": "text/x-python",
   "name": "python",
   "nbconvert_exporter": "python",
   "pygments_lexer": "ipython3",
   "version": "3.7.13"
  }
 },
 "nbformat": 4,
 "nbformat_minor": 4
}
