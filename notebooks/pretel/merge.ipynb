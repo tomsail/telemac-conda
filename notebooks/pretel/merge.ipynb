{
 "cells": [
  {
   "cell_type": "markdown",
   "metadata": {},
   "source": [
    "# Merging files\n",
    "\n",
    "The following script will allow you to merge files containing multiple time steps into one.\n",
    "\n",
    "They must have the same mesh and the same variables."
   ]
  },
  {
   "cell_type": "code",
   "execution_count": 1,
   "metadata": {
    "execution": {
     "iopub.execute_input": "2022-12-01T13:52:17.615549Z",
     "iopub.status.busy": "2022-12-01T13:52:17.614661Z",
     "iopub.status.idle": "2022-12-01T13:52:18.129807Z",
     "shell.execute_reply": "2022-12-01T13:52:18.128514Z"
    }
   },
   "outputs": [
    {
     "name": "stdout",
     "output_type": "stream",
     "text": [
      "\r\n",
      "\r\n",
      "Interpreting command line options\r\n",
      "~~~~~~~~~~~~~~~~~~~~~~~~~~~~~~~~~~~~~~~~~~~~~~~~~~~~~~~~~~~~~~~~~~~~~~~~\r\n",
      "\r\n"
     ]
    },
    {
     "name": "stdout",
     "output_type": "stream",
     "text": [
      "usage: run_telfile.py merge [-h] [-k {time,var}] [-b BND_FILE] [--force]\r\n",
      "                            input_files [input_files ...] output_file\r\n",
      "\r\n",
      "positional arguments:\r\n",
      "  input_files           Files to merge\r\n",
      "  output_file           Merged file\r\n",
      "\r\n",
      "optional arguments:\r\n",
      "  -h, --help            show this help message and exit\r\n",
      "  -k {time,var}, --kind {time,var}\r\n",
      "                        Type of merge: ['time', 'var']\r\n",
      "  -b BND_FILE           Boundary_file\r\n",
      "  --force               Remove output file if it exists\r\n"
     ]
    }
   ],
   "source": [
    "!run_telfile.py merge -h"
   ]
  },
  {
   "cell_type": "markdown",
   "metadata": {},
   "source": [
    "The code below will merge the 2 file:\n",
    "  * **r2d_gouttedo_part1.slf** that contains results from time 0.0s to 1.8s.\n",
    "  *  **r2d_gouttedo_part2.slf** which contains results from time 2.0s to 4.0s. \n",
    "  \n",
    "And the result will be the file **r2d_gouttedo_full.slf** which contains the whole range from 0.0s to 2.0s"
   ]
  },
  {
   "cell_type": "code",
   "execution_count": 2,
   "metadata": {
    "execution": {
     "iopub.execute_input": "2022-12-01T13:52:18.135006Z",
     "iopub.status.busy": "2022-12-01T13:52:18.134630Z",
     "iopub.status.idle": "2022-12-01T13:52:20.304736Z",
     "shell.execute_reply": "2022-12-01T13:52:20.304146Z"
    }
   },
   "outputs": [
    {
     "name": "stdout",
     "output_type": "stream",
     "text": [
      "\r\n",
      "\r\n",
      "Interpreting command line options\r\n",
      "~~~~~~~~~~~~~~~~~~~~~~~~~~~~~~~~~~~~~~~~~~~~~~~~~~~~~~~~~~~~~~~~~~~~~~~~\r\n",
      "\r\n",
      "  ~> Merging r2d_gouttedo_part1.slf, r2d_gouttedo_part2.slf into r2d_gouttedo_full.slf kind=time\r\n"
     ]
    },
    {
     "name": "stdout",
     "output_type": "stream",
     "text": [
      "\r\n",
      "\r\n",
      "My work is done\r\n",
      "\r\n",
      "\r\n"
     ]
    },
    {
     "name": "stdout",
     "output_type": "stream",
     "text": [
      "---\n",
      "+++\n",
      "@@ -728,2 +728,2 @@\n",
      "-1\n",
      "-0\n",
      "+2\n",
      "+1\n",
      "@@ -753 +753 @@\n",
      "-1\n",
      "+4\n",
      "@@ -755,16 +755 @@\n",
      "-7\n",
      "-9\n",
      "-9\n",
      "-9\n",
      "-9\n",
      "-9\n",
      "-9\n",
      "-5\n",
      "-2\n",
      "-3\n",
      "-1\n",
      "-6\n",
      "-2\n",
      "-8\n",
      "-4\n",
      "-2\n",
      "+0\n",
      "---\n",
      "+++\n",
      "@@ -728 +728 @@\n",
      "-1\n",
      "+2\n",
      "@@ -748 +748 @@\n",
      "-2\n",
      "+0\n"
     ]
    }
   ],
   "source": [
    "HOMETEL = %env HOMETEL\n",
    "%cd -q {HOMETEL}/examples/python3/pretel\n",
    "\n",
    "!run_telfile.py scan r2d_gouttedo_part1.slf > init1.log\n",
    "!run_telfile.py scan r2d_gouttedo_part2.slf > init2.log\n",
    "\n",
    "!run_telfile.py merge r2d_gouttedo_part1.slf r2d_gouttedo_part2.slf r2d_gouttedo_full.slf --force\n",
    "\n",
    "!run_telfile.py scan r2d_gouttedo_full.slf > merge.log\n",
    "\n",
    "import difflib\n",
    "from pathlib import Path\n",
    "\n",
    "init1_log = Path('init1.log').read_text()\n",
    "merge_log = Path('merge.log').read_text()\n",
    "for delta in difflib.unified_diff(init1_log, merge_log, n=0):\n",
    "    print(delta.strip())\n",
    "\n",
    "init2_log = Path('init2.log').read_text()\n",
    "for delta in difflib.unified_diff(init2_log, merge_log, n=0):\n",
    "    print(delta.strip())"
   ]
  }
 ],
 "metadata": {
  "kernelspec": {
   "display_name": "Python 3",
   "language": "python",
   "name": "python3"
  },
  "language_info": {
   "codemirror_mode": {
    "name": "ipython",
    "version": 3
   },
   "file_extension": ".py",
   "mimetype": "text/x-python",
   "name": "python",
   "nbconvert_exporter": "python",
   "pygments_lexer": "ipython3",
   "version": "3.7.13"
  }
 },
 "nbformat": 4,
 "nbformat_minor": 1
}
