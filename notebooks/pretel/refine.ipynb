{
 "cells": [
  {
   "cell_type": "markdown",
   "metadata": {},
   "source": [
    "# Refining a mesh\n",
    "\n",
    "The following script will refine a mesh and its boundary file by dividing each triangle in 4.\n",
    "It is using the module stbtel."
   ]
  },
  {
   "cell_type": "code",
   "execution_count": 1,
   "metadata": {
    "execution": {
     "iopub.execute_input": "2022-12-01T13:52:21.259540Z",
     "iopub.status.busy": "2022-12-01T13:52:21.257457Z",
     "iopub.status.idle": "2022-12-01T13:52:21.788521Z",
     "shell.execute_reply": "2022-12-01T13:52:21.787073Z"
    }
   },
   "outputs": [
    {
     "name": "stdout",
     "output_type": "stream",
     "text": [
      "usage: converter.py refine [-h] [-b BND_FILE] [-zg ZONE_GIS_FILE]\r\n",
      "                           [-r ROOT_DIR]\r\n",
      "                           input_file output_file\r\n",
      "\r\n",
      "positional arguments:\r\n",
      "  input_file            name of the input file also defines the input format\r\n",
      "  output_file           name of the output file also defines the output format\r\n",
      "\r\n",
      "optional arguments:\r\n",
      "  -h, --help            show this help message and exit\r\n",
      "  -b BND_FILE, --boundary-file BND_FILE\r\n",
      "                        name of the boundary file\r\n",
      "  -zg ZONE_GIS_FILE, --zone-gis-file ZONE_GIS_FILE\r\n",
      "                        name of the GIS containing one polygon delimiting a\r\n",
      "                        local refinement zone\r\n",
      "  -r ROOT_DIR, --root-dir ROOT_DIR\r\n",
      "                        specify the root, default is taken from config file\r\n"
     ]
    }
   ],
   "source": [
    "!converter.py refine -h"
   ]
  },
  {
   "cell_type": "code",
   "execution_count": 2,
   "metadata": {
    "execution": {
     "iopub.execute_input": "2022-12-01T13:52:21.794328Z",
     "iopub.status.busy": "2022-12-01T13:52:21.793877Z",
     "iopub.status.idle": "2022-12-01T13:52:24.011213Z",
     "shell.execute_reply": "2022-12-01T13:52:24.008507Z"
    }
   },
   "outputs": [
    {
     "name": "stdout",
     "output_type": "stream",
     "text": [
      "  ~> Checking keyword/rubrique coherence\r\n",
      "Calling: /home/d60881/telemac-mascaret/scripts/python3/stbtel.py stb.cas --mpi -r /home/d60881/telemac-mascaret\r\n"
     ]
    },
    {
     "name": "stdout",
     "output_type": "stream",
     "text": [
      "\r\n",
      "\r\n",
      "Loading Options and Configurations\r\n",
      "~~~~~~~~~~~~~~~~~~~~~~~~~~~~~~~~~~~~~~~~~~~~~~~~~~~~~~~~~~~~~~~~~~~~~~~~\r\n",
      "\r\n",
      "          ___          _  _   \r\n",
      "         / _ \\        | || |  \r\n",
      " __   __| (_) | _ __  | || |_ \r\n",
      " \\ \\ / / > _ < | '_ \\ |__   _|\r\n",
      "  \\ V / | (_) || |_) |   | |  \r\n",
      "   \\_/   \\___/ | .__/    |_|  \r\n",
      "               | |            \r\n",
      "               |_|            \r\n"
     ]
    },
    {
     "name": "stdout",
     "output_type": "stream",
     "text": [
      "\r\n",
      "\r\n",
      "Running your CAS file(s) for:\r\n",
      "~~~~~~~~~~~~~~~~~~~~~~~~~~~~~~~~~~~~~~~~~~~~~~~~~~~~~~~~~~~~~~~~~~~~~~~~\r\n",
      "\r\n",
      "\r\n",
      "\r\n",
      "~~~~~~~~~~~~~~~~~~~~~~~~~~~~~~~~~~~~~~~~~~~~~~~~~~~~~~~~~~~~~~~~~~~~~~~~\r\n",
      "\r\n",
      "S10.gfortran.dyn: \r\n",
      "    \r\n",
      "\r\n",
      "    +> Scibian 10 dynamic build using GFortran 8.3.0 and Open MPI.\r\n",
      "\r\n",
      "    +> root:    /home/d60881/telemac-mascaret\r\n",
      "    +> module: ad / api / artemis / bief\r\n",
      "               damocles  / gaia  / gretel  / hermes\r\n",
      "               identify_liq_bnd  / khione  / mascaret  / nestor\r\n",
      "               parallel  / partel  / postel3d  / sisyphe\r\n",
      "               special  / stbtel  / telemac2d  / telemac3d\r\n",
      "               tomawac / waqtel\r\n",
      "\r\n",
      "\r\n",
      "~~~~~~~~~~~~~~~~~~~~~~~~~~~~~~~~~~~~~~~~~~~~~~~~~~~~~~~~~~~~~~~~~~~~~~~~\r\n",
      "\r\n",
      "\r\n",
      "... processing the steering file\r\n"
     ]
    },
    {
     "name": "stdout",
     "output_type": "stream",
     "text": [
      "  ~> Checking keyword/rubrique coherence\r\n",
      "\r\n",
      "... checking parallelisation\r\n",
      "\r\n",
      "... handling temporary directories\r\n",
      "         copying: stb.cas -> <root>/examples/python3/converter/stb.cas_2022-12-01-14h52min22s/STBCAS\r\n",
      "         copying: stbtel.dico -> <root>/examples/python3/converter/stb.cas_2022-12-01-14h52min22s/STBDICO\r\n",
      "         copying: mesh.slf -> <root>/examples/python3/converter/stb.cas_2022-12-01-14h52min22s/STBGEO\r\n",
      "         copying: mesh.cli -> <root>/examples/python3/converter/stb.cas_2022-12-01-14h52min22s/STBND2\r\n",
      "[                                                                ]   0%  | ---s\r",
      "[\\\\\\\\\\\\\\\\\\\\\\\\\\\\\\\\\\\\\\\\\\\\                                            ]  33%  | 1s\r",
      "                                                                               \r",
      "[                                                                ]   0%  | ---s\r",
      "                                                                               \r",
      "[                                                                ]   0%  | ---s\r",
      "[\\\\\\\\\\\\\\\\\\\\\\\\\\\\\\\\                                                  ]  25%  | 1s\r",
      "[\\\\\\\\\\\\\\\\\\\\\\\\\\\\\\\\\\\\\\\\\\\\\\\\\\\\\\\\\\\\\\\\\\                                 ]  50%  | 1s\r",
      "                                                                               \r",
      "\r\n",
      "... checking the executable\r\n",
      "\r\n",
      "\r\n",
      "Running your simulation(s) :\r\n",
      "~~~~~~~~~~~~~~~~~~~~~~~~~~~~~~~~~~~~~~~~~~~~~~~~~~~~~~~~~~~~~~~~~~~~~~~~\r\n",
      "\r\n",
      "\r\n",
      "\r\n",
      "In /home/d60881/telemac-mascaret/examples/python3/converter/stb.cas_2022-12-01-14h52min22s:\r\n",
      "mpirun -np 1 /home/d60881/telemac-mascaret/examples/python3/converter/stb.cas_2022-12-01-14h52min22s/out_stbtel\r\n",
      "\r\n",
      "\r\n"
     ]
    },
    {
     "name": "stdout",
     "output_type": "stream",
     "text": [
      " MASTER PROCESSOR NUMBER            0  OF THE GROUP OF            1\r\n",
      " EXECUTABLE FILE: /home/d60881/telemac-mascaret/examples/python3/converter/stb.cas_2022-12-01-14h52min22s/A.EXE\r\n"
     ]
    },
    {
     "name": "stdout",
     "output_type": "stream",
     "text": [
      " LISTING OF STBTEL------------------------------------------------------------------------------\r\n",
      "\r\n",
      "                 SSSSS  TTTTT  BBBB   TTTTT  EEEEE  L\r\n",
      "                 S        T    B   B    T    E      L\r\n",
      "                 SSSSS    T    BBBB     T    EEEE   L\r\n",
      "                     S    T    B   B    T    E      L\r\n",
      "                 SSSSS    T    BBBB     T    EEEEE  LLLLL\r\n",
      "\r\n",
      "                       VERSION V8P4   FORTRAN 2003\r\n",
      "\r\n",
      "                  *     *    *     /\\__/\\  *    ---    *\r\n",
      "                     *            /      \\    /     \\\r\n",
      "                          *   *  |  -  -  |  |       |*\r\n",
      "                   *   __________| \\     /|  |       |\r\n",
      "                     /              \\ T / |   \\     /\r\n",
      "                   /                      |  *  ---\r\n",
      "                  |  ||     |    |       /             *\r\n",
      "                  |  ||    /______\\     / |*     *\r\n",
      "                  |  | \\  |  /     \\   /  |\r\n",
      "                   \\/   | |\\ \\      | | \\ \\\r\n",
      "                        | | \\ \\     | |  \\ \\\r\n",
      "                        | |  \\ \\    | |   \\ \\\r\n",
      "                        '''   '''   '''    '''\r\n",
      "\r\n"
     ]
    },
    {
     "name": "stdout",
     "output_type": "stream",
     "text": [
      " NPTFR FROM LECSEL         1080\r\n",
      " NPTFR FROM LECSELLIM         1080\r\n",
      "\r\n",
      " MESH GENERATOR : SELAFIN\r\n",
      " --------------\r\n",
      "\r\n",
      " DATAS READ IN THE UNIVERSAL FILE\r\n",
      " ---------------------------------\r\n",
      "\r\n",
      " TITLE OF THE MESH                 : TELEMAC 2D : RUPTURE DE BARRAGE SUR FOND SEC$\r\n",
      " REAL NUMBER OF POINTS             :       13541\r\n",
      " MAX. NUMBER GIVEN BY THE MESH GENERATOR:       13541\r\n",
      " TOTAL NUMBER OF ELEMENTS           :       26000\r\n",
      " TYPE OF ELEMENTS                   :      TRIANGLES\r\n",
      "\r\n",
      " CUTTING ELEMENTS BY 4\r\n",
      " ---------------------\r\n",
      "\r\n",
      " NEW NUMBER OF POINTS   :     53081\r\n",
      " NEW NUMBER OF ELEMENTS :    104000\r\n",
      " NUMBER OF BOUNDARY POINTS      :  2160\r\n",
      " NUMBER OF ISLANDS              :     0\r\n",
      "\r\n",
      " ELIMINATION OK BACKWARDS DEPENDENCIES\r\n",
      " ------------------------------------\r\n",
      "\r\n",
      " BACKWARD DEPENDENCIES ARE CANCELLED AFTER  0 ATTEMPTS\r\n",
      "\r\n",
      " GENERATING GEOMETRY FILE\r\n",
      " ------------------------\r\n",
      "\r\n",
      " TREATMENT OF BOUNDARY CONDITIONS\r\n",
      " --------------------------------\r\n",
      "\r\n",
      " CORRECT END OF RUN\r\n",
      "\r\n",
      " COMPUTER TIME:            0  SECONDS\r\n",
      "\r\n",
      " EXITING MPI\r\n",
      "\r\n"
     ]
    },
    {
     "name": "stdout",
     "output_type": "stream",
     "text": [
      "STOP 0\r\n",
      "... merging separated result files\r\n",
      "\r\n",
      "... handling result files\r\n",
      "\r\n",
      "        moving: meshx4.slf\r\n",
      "        moving: meshx4.cli\r\n",
      "... deleting working dir\r\n",
      "\r\n",
      "\r\n",
      "\r\n",
      "My work is done\r\n",
      "\r\n",
      "\r\n"
     ]
    }
   ],
   "source": [
    "HOMETEL = %env HOMETEL\n",
    "%cd -q {HOMETEL}/examples/python3/converter\n",
    "\n",
    "# Running the global refinement\n",
    "!converter.py refine mesh.slf -b mesh.cli meshx4.slf"
   ]
  },
  {
   "cell_type": "markdown",
   "metadata": {},
   "source": [
    "We will now make a diff between the scan of the two files"
   ]
  },
  {
   "cell_type": "code",
   "execution_count": 3,
   "metadata": {
    "execution": {
     "iopub.execute_input": "2022-12-01T13:52:24.021379Z",
     "iopub.status.busy": "2022-12-01T13:52:24.020615Z",
     "iopub.status.idle": "2022-12-01T13:52:25.030447Z",
     "shell.execute_reply": "2022-12-01T13:52:25.029921Z"
    }
   },
   "outputs": [
    {
     "name": "stdout",
     "output_type": "stream",
     "text": [
      "---\n",
      "+++\n",
      "@@ -375,0 +376,4 @@\n",
      "+5\n",
      "+3\n",
      "+0\n",
      "+8\n",
      "@@ -377,2 +381,27 @@\n",
      "-3\n",
      "-5\n",
      "+\n",
      "+\n",
      "+\n",
      "+-\n",
      "+\n",
      "+N\n",
      "+u\n",
      "+m\n",
      "+b\n",
      "+e\n",
      "+r\n",
      "+\n",
      "+o\n",
      "+f\n",
      "+\n",
      "+e\n",
      "+l\n",
      "+e\n",
      "+m\n",
      "+e\n",
      "+n\n",
      "+t\n",
      "+s\n",
      "+:\n",
      "+\n",
      "+1\n",
      "+0\n",
      "@@ -380,28 +408,0 @@\n",
      "-1\n",
      "-\n",
      "-\n",
      "-\n",
      "--\n",
      "-\n",
      "-N\n",
      "-u\n",
      "-m\n",
      "-b\n",
      "-e\n",
      "-r\n",
      "-\n",
      "-o\n",
      "-f\n",
      "-\n",
      "-e\n",
      "-l\n",
      "-e\n",
      "-m\n",
      "-e\n",
      "-n\n",
      "-t\n",
      "-s\n",
      "-:\n",
      "-\n",
      "-2\n",
      "-6\n"
     ]
    }
   ],
   "source": [
    "!run_telfile.py scan mesh.slf > init.log\n",
    "!run_telfile.py scan meshx4.slf > modif.log\n",
    "\n",
    "import difflib\n",
    "from pathlib import Path\n",
    "\n",
    "init_log = Path('init.log').read_text()\n",
    "modif_log = Path('modif.log').read_text()\n",
    "for delta in difflib.unified_diff(init_log, modif_log, n=0):\n",
    "    print(delta.strip())"
   ]
  }
 ],
 "metadata": {
  "kernelspec": {
   "display_name": "Python 3",
   "language": "python",
   "name": "python3"
  },
  "language_info": {
   "codemirror_mode": {
    "name": "ipython",
    "version": 3
   },
   "file_extension": ".py",
   "mimetype": "text/x-python",
   "name": "python",
   "nbconvert_exporter": "python",
   "pygments_lexer": "ipython3",
   "version": "3.7.13"
  }
 },
 "nbformat": 4,
 "nbformat_minor": 1
}
